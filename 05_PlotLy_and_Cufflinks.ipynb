{
 "cells": [
  {
   "cell_type": "markdown",
   "metadata": {},
   "source": [
    "# Plotly and Cufflinks"
   ]
  },
  {
   "cell_type": "code",
   "execution_count": 2,
   "metadata": {},
   "outputs": [],
   "source": [
    "import chart_studio.plotly as py"
   ]
  },
  {
   "cell_type": "markdown",
   "metadata": {},
   "source": [
    "## Plotly and Cufflinks"
   ]
  },
  {
   "cell_type": "code",
   "execution_count": 4,
   "metadata": {},
   "outputs": [],
   "source": [
    "import pandas as pd\n",
    "import numpy as np"
   ]
  },
  {
   "cell_type": "code",
   "execution_count": 5,
   "metadata": {},
   "outputs": [],
   "source": [
    "from plotly import __version__"
   ]
  },
  {
   "cell_type": "code",
   "execution_count": 6,
   "metadata": {},
   "outputs": [
    {
     "name": "stdout",
     "output_type": "stream",
     "text": [
      "4.14.3\n"
     ]
    }
   ],
   "source": [
    "print(__version__)"
   ]
  },
  {
   "cell_type": "code",
   "execution_count": 7,
   "metadata": {},
   "outputs": [],
   "source": [
    "import cufflinks as cf"
   ]
  },
  {
   "cell_type": "code",
   "execution_count": 10,
   "metadata": {},
   "outputs": [],
   "source": [
    "from plotly.offline import download_plotlyjs, init_notebook_mode, plot, iplot"
   ]
  },
  {
   "cell_type": "code",
   "execution_count": 11,
   "metadata": {},
   "outputs": [
    {
     "data": {
      "text/html": [
       "        <script type=\"text/javascript\">\n",
       "        window.PlotlyConfig = {MathJaxConfig: 'local'};\n",
       "        if (window.MathJax) {MathJax.Hub.Config({SVG: {font: \"STIX-Web\"}});}\n",
       "        if (typeof require !== 'undefined') {\n",
       "        require.undef(\"plotly\");\n",
       "        requirejs.config({\n",
       "            paths: {\n",
       "                'plotly': ['https://cdn.plot.ly/plotly-latest.min']\n",
       "            }\n",
       "        });\n",
       "        require(['plotly'], function(Plotly) {\n",
       "            window._Plotly = Plotly;\n",
       "        });\n",
       "        }\n",
       "        </script>\n",
       "        "
      ]
     },
     "metadata": {},
     "output_type": "display_data"
    }
   ],
   "source": [
    "init_notebook_mode(connected=True)    "
   ]
  },
  {
   "cell_type": "code",
   "execution_count": 12,
   "metadata": {},
   "outputs": [
    {
     "data": {
      "text/html": [
       "        <script type=\"text/javascript\">\n",
       "        window.PlotlyConfig = {MathJaxConfig: 'local'};\n",
       "        if (window.MathJax) {MathJax.Hub.Config({SVG: {font: \"STIX-Web\"}});}\n",
       "        if (typeof require !== 'undefined') {\n",
       "        require.undef(\"plotly\");\n",
       "        requirejs.config({\n",
       "            paths: {\n",
       "                'plotly': ['https://cdn.plot.ly/plotly-latest.min']\n",
       "            }\n",
       "        });\n",
       "        require(['plotly'], function(Plotly) {\n",
       "            window._Plotly = Plotly;\n",
       "        });\n",
       "        }\n",
       "        </script>\n",
       "        "
      ]
     },
     "metadata": {},
     "output_type": "display_data"
    }
   ],
   "source": [
    "cf.go_offline()"
   ]
  },
  {
   "cell_type": "code",
   "execution_count": 17,
   "metadata": {},
   "outputs": [],
   "source": [
    "%matplotlib inline"
   ]
  },
  {
   "cell_type": "code",
   "execution_count": 14,
   "metadata": {},
   "outputs": [],
   "source": [
    "# Data\n",
    "df=pd.DataFrame(np.random.randn(100,4), columns='A B C D'.split())"
   ]
  },
  {
   "cell_type": "code",
   "execution_count": 15,
   "metadata": {},
   "outputs": [],
   "source": [
    "df2=pd.DataFrame({'Category':['A', 'B', 'C'], 'Values':[32,43,50]})"
   ]
  },
  {
   "cell_type": "code",
   "execution_count": 16,
   "metadata": {},
   "outputs": [
    {
     "data": {
      "text/html": [
       "<div>\n",
       "<style scoped>\n",
       "    .dataframe tbody tr th:only-of-type {\n",
       "        vertical-align: middle;\n",
       "    }\n",
       "\n",
       "    .dataframe tbody tr th {\n",
       "        vertical-align: top;\n",
       "    }\n",
       "\n",
       "    .dataframe thead th {\n",
       "        text-align: right;\n",
       "    }\n",
       "</style>\n",
       "<table border=\"1\" class=\"dataframe\">\n",
       "  <thead>\n",
       "    <tr style=\"text-align: right;\">\n",
       "      <th></th>\n",
       "      <th>A</th>\n",
       "      <th>B</th>\n",
       "      <th>C</th>\n",
       "      <th>D</th>\n",
       "    </tr>\n",
       "  </thead>\n",
       "  <tbody>\n",
       "    <tr>\n",
       "      <th>0</th>\n",
       "      <td>-0.145035</td>\n",
       "      <td>-0.953240</td>\n",
       "      <td>1.498386</td>\n",
       "      <td>-1.531950</td>\n",
       "    </tr>\n",
       "    <tr>\n",
       "      <th>1</th>\n",
       "      <td>-3.016596</td>\n",
       "      <td>-0.586848</td>\n",
       "      <td>-0.068397</td>\n",
       "      <td>-0.782314</td>\n",
       "    </tr>\n",
       "    <tr>\n",
       "      <th>2</th>\n",
       "      <td>0.243923</td>\n",
       "      <td>-0.532202</td>\n",
       "      <td>-0.533789</td>\n",
       "      <td>-1.209336</td>\n",
       "    </tr>\n",
       "    <tr>\n",
       "      <th>3</th>\n",
       "      <td>0.201150</td>\n",
       "      <td>-0.067966</td>\n",
       "      <td>0.441544</td>\n",
       "      <td>0.779792</td>\n",
       "    </tr>\n",
       "    <tr>\n",
       "      <th>4</th>\n",
       "      <td>-1.954378</td>\n",
       "      <td>0.948645</td>\n",
       "      <td>-1.231815</td>\n",
       "      <td>0.339832</td>\n",
       "    </tr>\n",
       "    <tr>\n",
       "      <th>...</th>\n",
       "      <td>...</td>\n",
       "      <td>...</td>\n",
       "      <td>...</td>\n",
       "      <td>...</td>\n",
       "    </tr>\n",
       "    <tr>\n",
       "      <th>95</th>\n",
       "      <td>1.051690</td>\n",
       "      <td>-0.070364</td>\n",
       "      <td>1.680058</td>\n",
       "      <td>-2.689852</td>\n",
       "    </tr>\n",
       "    <tr>\n",
       "      <th>96</th>\n",
       "      <td>-0.650539</td>\n",
       "      <td>-0.736285</td>\n",
       "      <td>-0.389149</td>\n",
       "      <td>-1.299762</td>\n",
       "    </tr>\n",
       "    <tr>\n",
       "      <th>97</th>\n",
       "      <td>0.169820</td>\n",
       "      <td>-0.479547</td>\n",
       "      <td>1.345522</td>\n",
       "      <td>-0.014491</td>\n",
       "    </tr>\n",
       "    <tr>\n",
       "      <th>98</th>\n",
       "      <td>0.845491</td>\n",
       "      <td>1.600397</td>\n",
       "      <td>1.272968</td>\n",
       "      <td>-0.753176</td>\n",
       "    </tr>\n",
       "    <tr>\n",
       "      <th>99</th>\n",
       "      <td>-0.302596</td>\n",
       "      <td>-0.348121</td>\n",
       "      <td>3.326504</td>\n",
       "      <td>0.051973</td>\n",
       "    </tr>\n",
       "  </tbody>\n",
       "</table>\n",
       "<p>100 rows × 4 columns</p>\n",
       "</div>"
      ],
      "text/plain": [
       "           A         B         C         D\n",
       "0  -0.145035 -0.953240  1.498386 -1.531950\n",
       "1  -3.016596 -0.586848 -0.068397 -0.782314\n",
       "2   0.243923 -0.532202 -0.533789 -1.209336\n",
       "3   0.201150 -0.067966  0.441544  0.779792\n",
       "4  -1.954378  0.948645 -1.231815  0.339832\n",
       "..       ...       ...       ...       ...\n",
       "95  1.051690 -0.070364  1.680058 -2.689852\n",
       "96 -0.650539 -0.736285 -0.389149 -1.299762\n",
       "97  0.169820 -0.479547  1.345522 -0.014491\n",
       "98  0.845491  1.600397  1.272968 -0.753176\n",
       "99 -0.302596 -0.348121  3.326504  0.051973\n",
       "\n",
       "[100 rows x 4 columns]"
      ]
     },
     "execution_count": 16,
     "metadata": {},
     "output_type": "execute_result"
    }
   ],
   "source": [
    "df"
   ]
  },
  {
   "cell_type": "code",
   "execution_count": 18,
   "metadata": {},
   "outputs": [
    {
     "data": {
      "text/plain": [
       "<AxesSubplot:>"
      ]
     },
     "execution_count": 18,
     "metadata": {},
     "output_type": "execute_result"
    },
    {
     "data": {
      "image/png": "[encoded data removed]",
      "text/plain": [
       "<Figure size 432x288 with 1 Axes>"
      ]
     },
     "metadata": {
      "needs_background": "light"
     },
     "output_type": "display_data"
    }
   ],
   "source": [
    "df.plot()"
   ]
  },
  {
   "cell_type": "code",
   "execution_count": 19,
   "metadata": {},
   "outputs": [
    {
     "data": {
      "application/vnd.plotly.v1+json": {
       "config": {
        "linkText": "Export to plot.ly",
        "plotlyServerURL": "https://plot.ly",
        "showLink": true
       },
       "data": [
        {
         "line": {
          "color": "rgba(255, 153, 51, 1.0)",
          "dash": "solid",
          "shape": "linear",
          "width": 1.3
         },
         "mode": "lines",
         "name": "A",
         "text": "",
         "type": "scatter",
         "x": [
          0,
          1,
          2,
          3,
          4,
          5,
          6,
          7,
          8,
          9,
          10,
          11,
          12,
          13,
          14,
          15,
          16,
          17,
          18,
          19,
          20,
          21,
          22,
          23,
          24,
          25,
          26,
          27,
          28,
          29,
          30,
          31,
          32,
          33,
          34,
          35,
          36,
          37,
          38,
          39,
          40,
          41,
          42,
          43,
          44,
          45,
          46,
          47,
          48,
          49,
          50,
          51,
          52,
          53,
          54,
          55,
          56,
          57,
          58,
          59,
          60,
          61,
          62,
          63,
          64,
          65,
          66,
          67,
          68,
          69,
          70,
          71,
          72,
          73,
          74,
          75,
          76,
          77,
          78,
          79,
          80,
          81,
          82,
          83,
          84,
          85,
          86,
          87,
          88,
          89,
          90,
          91,
          92,
          93,
          94,
          95,
          96,
          97,
          98,
          99
         ],
         "y": [
          -0.14503484795852725,
          -3.0165964743780136,
          0.24392315292249664,
          0.2011504284420982,
          -1.954377685047049,
          0.018622857603898417,
          0.8617756539234976,
          -1.1789175288139595,
          0.09453158593071533,
          -0.8190086004558853,
          -0.5111915119844852,
          -0.37019437878534933,
          0.49406010167759457,
          0.7318957798065484,
          -0.6245807673201975,
          0.3860474439383816,
          0.4682472943605631,
          0.1627222638546957,
          -0.8365295450105019,
          -0.1484272992826551,
          -0.14699585388358868,
          -0.8989769017012104,
          3.375644491066588,
          0.8636351957100722,
          0.9764706586185982,
          1.8839025583510707,
          0.49039805334819536,
          1.1798805121748803,
          -0.08293830705260241,
          0.020189132289008475,
          -1.212888981610273,
          -0.9540852579325413,
          0.03227530808262174,
          -0.8518559637939185,
          0.9654680591995582,
          -1.0356822197978657,
          -0.8665007063675878,
          1.1028588348458925,
          -1.0335879734720794,
          -0.8709376829504009,
          1.6229341507509705,
          -0.0960647329416155,
          0.558693955982772,
          -0.47009300020518974,
          -0.098392235514167,
          1.184576665806727,
          0.01243576370376068,
          -0.10444812302065885,
          0.16465566602612397,
          -0.47601592047505115,
          -0.3524503064476507,
          -1.1142072718294294,
          -0.24775154136288996,
          0.6454080597490083,
          0.06799428384607312,
          -2.3458667879361808,
          0.0750307959732018,
          -0.02338014024049768,
          0.408278691353931,
          -1.3197647537174,
          -0.08369974574571107,
          0.028103212057242984,
          0.24146463374541377,
          -0.1314784283188998,
          -0.35399171541630814,
          0.9047121766469459,
          0.577691629229222,
          -0.9041627507100116,
          0.6679213458174991,
          0.21340226976686694,
          0.5187350887843667,
          1.0291096353357165,
          -0.31331510697347104,
          -0.569615681897244,
          -0.08158041488700205,
          0.4024168949117813,
          -0.37676734107072724,
          0.02441103137705158,
          0.4372970535384335,
          0.6141820169439471,
          1.190905549407557,
          0.5607483976603372,
          -2.33021436137407,
          0.5234829274135729,
          -0.6133704977202653,
          0.6259858344588582,
          -0.03941965499720579,
          -0.3826539928719661,
          -1.1626848852541085,
          -0.13538449249010662,
          -0.44734498015120816,
          -0.675527294767186,
          -0.27764693163851684,
          2.0007679905946723,
          -0.023422696390421664,
          1.0516904951894257,
          -0.6505394429961281,
          0.16981956995748015,
          0.8454912342091417,
          -0.3025957383637378
         ]
        },
        {
         "line": {
          "color": "rgba(55, 128, 191, 1.0)",
          "dash": "solid",
          "shape": "linear",
          "width": 1.3
         },
         "mode": "lines",
         "name": "B",
         "text": "",
         "type": "scatter",
         "x": [
          0,
          1,
          2,
          3,
          4,
          5,
          6,
          7,
          8,
          9,
          10,
          11,
          12,
          13,
          14,
          15,
          16,
          17,
          18,
          19,
          20,
          21,
          22,
          23,
          24,
          25,
          26,
          27,
          28,
          29,
          30,
          31,
          32,
          33,
          34,
          35,
          36,
          37,
          38,
          39,
          40,
          41,
          42,
          43,
          44,
          45,
          46,
          47,
          48,
          49,
          50,
          51,
          52,
          53,
          54,
          55,
          56,
          57,
          58,
          59,
          60,
          61,
          62,
          63,
          64,
          65,
          66,
          67,
          68,
          69,
          70,
          71,
          72,
          73,
          74,
          75,
          76,
          77,
          78,
          79,
          80,
          81,
          82,
          83,
          84,
          85,
          86,
          87,
          88,
          89,
          90,
          91,
          92,
          93,
          94,
          95,
          96,
          97,
          98,
          99
         ],
         "y": [
          -0.9532399160561278,
          -0.5868484365358092,
          -0.5322015045622156,
          -0.067966143001875,
          0.9486452867643311,
          -0.6629183797257413,
          -0.5337786235952177,
          -1.374005116607833,
          0.9538955464602282,
          0.9831229684062017,
          -0.7218794529268818,
          -1.738462406660161,
          0.8390413925664644,
          0.4716881828898347,
          1.840314344187763,
          0.7829064814901634,
          -0.29559972424111564,
          -0.4543075695792023,
          -0.24134848173579576,
          1.0620942076543174,
          0.8126293598752975,
          0.12771413630928588,
          0.6479158525379064,
          -1.3221014076081543,
          -0.6104132558623014,
          1.6009003090453902,
          0.9269141114311796,
          -0.09885623938144297,
          0.8712506984556516,
          -1.8373391727315502,
          -0.8095199640075892,
          0.5647221507466086,
          -0.33873776587617926,
          1.2770174534384262,
          -0.401058722431807,
          -0.3991026372035775,
          0.6954802542981,
          0.4657361921256589,
          -0.6115763656174145,
          -0.76790041556677,
          -0.8760445121497197,
          0.9385120394049317,
          0.12548592918841428,
          0.12853157804446833,
          -0.9198386416256834,
          -0.16736007077296486,
          -0.273108590084941,
          -1.038593836786086,
          -1.789678683700114,
          -0.08672543648003408,
          0.1791283495405397,
          0.19740149687421615,
          -1.8532304045831987,
          0.09418603272153049,
          -0.05406171658396121,
          1.1613967379069392,
          0.2908581391725514,
          0.9334829806606881,
          0.8759062521948778,
          0.01544050596120699,
          -2.1433853948711863,
          -0.6550694134265117,
          0.9450328060012705,
          -0.7318511174804488,
          -0.2760665477991691,
          1.832042341227804,
          0.7153981071725797,
          0.3097267840306819,
          0.5458716771237517,
          -0.27788252174846967,
          -2.56791567288503,
          1.0733981182897139,
          0.5539305528644727,
          -0.8875864930235106,
          -0.9215489395600035,
          -0.48052999506367167,
          0.734067673662595,
          0.7410495064840434,
          -0.4455153474458417,
          0.47171647604105243,
          2.2033238446375445,
          -0.13287462890628282,
          1.57108408511727,
          -0.2832152183269851,
          0.6604718888161459,
          -0.8097018520506656,
          -0.8998025213320278,
          2.2744708006020584,
          -1.2989964534559673,
          1.2567628834902713,
          0.9586268624499967,
          1.0292763836765124,
          0.23642372515301469,
          -0.6456930750549342,
          1.4959836369417008,
          -0.07036421252807842,
          -0.7362854978086856,
          -0.4795472607190941,
          1.6003974543998063,
          -0.3481208183712817
         ]
        },
        {
         "line": {
          "color": "rgba(50, 171, 96, 1.0)",
          "dash": "solid",
          "shape": "linear",
          "width": 1.3
         },
         "mode": "lines",
         "name": "C",
         "text": "",
         "type": "scatter",
         "x": [
          0,
          1,
          2,
          3,
          4,
          5,
          6,
          7,
          8,
          9,
          10,
          11,
          12,
          13,
          14,
          15,
          16,
          17,
          18,
          19,
          20,
          21,
          22,
          23,
          24,
          25,
          26,
          27,
          28,
          29,
          30,
          31,
          32,
          33,
          34,
          35,
          36,
          37,
          38,
          39,
          40,
          41,
          42,
          43,
          44,
          45,
          46,
          47,
          48,
          49,
          50,
          51,
          52,
          53,
          54,
          55,
          56,
          57,
          58,
          59,
          60,
          61,
          62,
          63,
          64,
          65,
          66,
          67,
          68,
          69,
          70,
          71,
          72,
          73,
          74,
          75,
          76,
          77,
          78,
          79,
          80,
          81,
          82,
          83,
          84,
          85,
          86,
          87,
          88,
          89,
          90,
          91,
          92,
          93,
          94,
          95,
          96,
          97,
          98,
          99
         ],
         "y": [
          1.4983864779909448,
          -0.0683974342124604,
          -0.5337891463858248,
          0.44154354919874567,
          -1.2318152574431034,
          1.2985630040366611,
          -2.218451919669104,
          0.9332677474881452,
          0.48887768670488263,
          0.7100565211778788,
          -1.180211018759006,
          0.40357787691680996,
          -0.18176450555296522,
          -0.19923388484756513,
          2.2707936648476434,
          0.7134211445041823,
          -0.20914473971566427,
          0.6731272521506116,
          -0.1712162713391917,
          -0.32409938623671136,
          0.3231132918011072,
          -1.5336155761055157,
          0.5025780232508699,
          -0.29693856159868626,
          0.23987661690729795,
          0.44290559204476504,
          -0.529833328173643,
          -0.029194069017488885,
          1.2034809706627385,
          0.4920550863252347,
          1.3118142713736591,
          -0.012957419236584167,
          0.9926476583889912,
          1.2718468624411214,
          2.0622297852705547,
          1.9746120568742223,
          0.7116292523754622,
          -0.4737056251190207,
          -0.5474136556886244,
          0.6820687853788049,
          0.1752813698701687,
          0.03369271598512779,
          0.534436508849568,
          -0.43959501846003035,
          -0.5781181336082649,
          1.9012412703468982,
          -0.03727290144563984,
          0.5574680225499314,
          0.9559932227587079,
          -0.32636063943397453,
          -0.33839420843768,
          0.33923148177384843,
          -0.017272371086671515,
          -0.7399021484764235,
          -1.165467022871023,
          -1.292106893654066,
          -1.784099308455661,
          -0.9785305487491726,
          0.4780020587967749,
          -0.5248854157902065,
          -0.6125375405316861,
          0.6759309903954257,
          0.6041448312385654,
          -0.33039041832431093,
          -0.17339863721071497,
          -0.009843440355222733,
          0.7997753502200071,
          -1.107214785996133,
          0.498447288776335,
          0.6794945513401383,
          -0.1382266500550088,
          1.2781507015495341,
          0.6254176748292696,
          0.7886826509605261,
          -0.8181677561777155,
          -0.6384163425676622,
          -1.0479872434449466,
          -1.2177317666516922,
          -1.5111568383490466,
          0.9615221253744407,
          0.9680307972915704,
          0.7370807455860703,
          0.08595259442313354,
          -0.3819517739097434,
          0.5814733207998918,
          -0.9305531186290832,
          0.09422451520604969,
          1.81821824919206,
          0.06749656036457062,
          -0.6269712132943323,
          0.28732203080938473,
          -0.34598621688533177,
          -0.04863017192128949,
          -0.3539736054969189,
          -1.2972990448743276,
          1.6800575190759655,
          -0.3891493008112305,
          1.345521828588874,
          1.272967956040553,
          3.3265035585717997
         ]
        },
        {
         "line": {
          "color": "rgba(128, 0, 128, 1.0)",
          "dash": "solid",
          "shape": "linear",
          "width": 1.3
         },
         "mode": "lines",
         "name": "D",
         "text": "",
         "type": "scatter",
         "x": [
          0,
          1,
          2,
          3,
          4,
          5,
          6,
          7,
          8,
          9,
          10,
          11,
          12,
          13,
          14,
          15,
          16,
          17,
          18,
          19,
          20,
          21,
          22,
          23,
          24,
          25,
          26,
          27,
          28,
          29,
          30,
          31,
          32,
          33,
          34,
          35,
          36,
          37,
          38,
          39,
          40,
          41,
          42,
          43,
          44,
          45,
          46,
          47,
          48,
          49,
          50,
          51,
          52,
          53,
          54,
          55,
          56,
          57,
          58,
          59,
          60,
          61,
          62,
          63,
          64,
          65,
          66,
          67,
          68,
          69,
          70,
          71,
          72,
          73,
          74,
          75,
          76,
          77,
          78,
          79,
          80,
          81,
          82,
          83,
          84,
          85,
          86,
          87,
          88,
          89,
          90,
          91,
          92,
          93,
          94,
          95,
          96,
          97,
          98,
          99
         ],
         "y": [
          -1.5319495460763377,
          -0.7823135218083629,
          -1.2093363017654826,
          0.7797917356745605,
          0.33983173967364444,
          -0.6668906877377361,
          -0.9240185127971479,
          -1.401096364281915,
          -0.2048781567578501,
          1.1948511507781823,
          1.9378710428122337,
          -0.19788163111016083,
          -0.9621305666501678,
          0.5138660890036052,
          -1.143865652539835,
          -1.1982136890776176,
          0.8292787619731817,
          0.3295035520497889,
          0.8222470222792261,
          -0.5121999795691015,
          -1.237290642027615,
          0.11446894929464378,
          -1.505822965665104,
          -1.2565156539734794,
          -0.9237007926029537,
          -0.20485623833171945,
          -1.242963400226735,
          0.46065343842511053,
          0.8627455440540776,
          0.37885281652310104,
          -0.404771823670305,
          1.9530589976655945,
          -1.5658095281175592,
          -0.9899786783745753,
          -0.4138508787543901,
          2.0771413723760905,
          0.08921008719746723,
          -1.3556168492151528,
          -0.7678695095182647,
          -1.1128032731182662,
          -2.048881608126047,
          -0.26848514807393614,
          1.229562428489407,
          -0.7531155606516615,
          -1.0141352555130447,
          -0.3574010751276007,
          1.193569139394085,
          -0.1713953689270901,
          0.5419494728333556,
          -0.5194810685746506,
          -0.16357195310254669,
          0.7467042929422325,
          0.383803866327178,
          -0.002594563791913918,
          -0.3032870044789301,
          0.16558660457653496,
          -0.9419723485650384,
          -0.8099143888303659,
          1.2205839875266769,
          -1.7007322354324552,
          -0.5497960766879818,
          -1.4017578932924981,
          -2.2045320929247545,
          0.3986718611011956,
          -0.09064289146691248,
          0.85543610620957,
          1.1551676178843544,
          -0.41020533331384035,
          -0.8446806004273089,
          -0.47554568454257223,
          -0.06593091310501963,
          0.29154657424817887,
          1.8014650512475308,
          -0.42036587587693824,
          0.5939056868343671,
          0.12396213447308421,
          0.5742018423253487,
          0.6007861599895614,
          0.6722461239448084,
          0.4174574720090517,
          -0.9287455608677232,
          -0.040409801326219574,
          -0.5772027988901258,
          -0.6366786617000452,
          -1.474079529032982,
          0.5301472217828153,
          -0.5618726312931238,
          0.5743351632740945,
          -0.20108858944342017,
          0.4951290430399495,
          -0.3437933242276682,
          0.21337031294925046,
          -0.30421319297951926,
          0.6185743763842435,
          1.3426061469006845,
          -2.6898523405519335,
          -1.2997624793502054,
          -0.014491457910390242,
          -0.7531758443186563,
          0.051972534063198135
         ]
        }
       ],
       "layout": {
        "legend": {
         "bgcolor": "#F5F6F9",
         "font": {
          "color": "#4D5663"
         }
        },
        "paper_bgcolor": "#F5F6F9",
        "plot_bgcolor": "#F5F6F9",
        "template": {
         "data": {
          "bar": [
           {
            "error_x": {
             "color": "#2a3f5f"
            },
            "error_y": {
             "color": "#2a3f5f"
            },
            "marker": {
             "line": {
              "color": "#E5ECF6",
              "width": 0.5
             }
            },
            "type": "bar"
           }
          ],
          "barpolar": [
           {
            "marker": {
             "line": {
              "color": "#E5ECF6",
              "width": 0.5
             }
            },
            "type": "barpolar"
           }
          ],
          "carpet": [
           {
            "aaxis": {
             "endlinecolor": "#2a3f5f",
             "gridcolor": "white",
             "linecolor": "white",
             "minorgridcolor": "white",
             "startlinecolor": "#2a3f5f"
            },
            "baxis": {
             "endlinecolor": "#2a3f5f",
             "gridcolor": "white",
             "linecolor": "white",
             "minorgridcolor": "white",
             "startlinecolor": "#2a3f5f"
            },
            "type": "carpet"
           }
          ],
          "choropleth": [
           {
            "colorbar": {
             "outlinewidth": 0,
             "ticks": ""
            },
            "type": "choropleth"
           }
          ],
          "contour": [
           {
            "colorbar": {
             "outlinewidth": 0,
             "ticks": ""
            },
            "colorscale": [
             [
              0,
              "#0d0887"
             ],
             [
              0.1111111111111111,
              "#46039f"
             ],
             [
              0.2222222222222222,
              "#7201a8"
             ],
             [
              0.3333333333333333,
              "#9c179e"
             ],
             [
              0.4444444444444444,
              "#bd3786"
             ],
             [
              0.5555555555555556,
              "#d8576b"
             ],
             [
              0.6666666666666666,
              "#ed7953"
             ],
             [
              0.7777777777777778,
              "#fb9f3a"
             ],
             [
              0.8888888888888888,
              "#fdca26"
             ],
             [
              1,
              "#f0f921"
             ]
            ],
            "type": "contour"
           }
          ],
          "contourcarpet": [
           {
            "colorbar": {
             "outlinewidth": 0,
             "ticks": ""
            },
            "type": "contourcarpet"
           }
          ],
          "heatmap": [
           {
            "colorbar": {
             "outlinewidth": 0,
             "ticks": ""
            },
            "colorscale": [
             [
              0,
              "#0d0887"
             ],
             [
              0.1111111111111111,
              "#46039f"
             ],
             [
              0.2222222222222222,
              "#7201a8"
             ],
             [
              0.3333333333333333,
              "#9c179e"
             ],
             [
              0.4444444444444444,
              "#bd3786"
             ],
             [
              0.5555555555555556,
              "#d8576b"
             ],
             [
              0.6666666666666666,
              "#ed7953"
             ],
             [
              0.7777777777777778,
              "#fb9f3a"
             ],
             [
              0.8888888888888888,
              "#fdca26"
             ],
             [
              1,
              "#f0f921"
             ]
            ],
            "type": "heatmap"
           }
          ],
          "heatmapgl": [
           {
            "colorbar": {
             "outlinewidth": 0,
             "ticks": ""
            },
            "colorscale": [
             [
              0,
              "#0d0887"
             ],
             [
              0.1111111111111111,
              "#46039f"
             ],
             [
              0.2222222222222222,
              "#7201a8"
             ],
             [
              0.3333333333333333,
              "#9c179e"
             ],
             [
              0.4444444444444444,
              "#bd3786"
             ],
             [
              0.5555555555555556,
              "#d8576b"
             ],
             [
              0.6666666666666666,
              "#ed7953"
             ],
             [
              0.7777777777777778,
              "#fb9f3a"
             ],
             [
              0.8888888888888888,
              "#fdca26"
             ],
             [
              1,
              "#f0f921"
             ]
            ],
            "type": "heatmapgl"
           }
          ],
          "histogram": [
           {
            "marker": {
             "colorbar": {
              "outlinewidth": 0,
              "ticks": ""
             }
            },
            "type": "histogram"
           }
          ],
          "histogram2d": [
           {
            "colorbar": {
             "outlinewidth": 0,
             "ticks": ""
            },
            "colorscale": [
             [
              0,
              "#0d0887"
             ],
             [
              0.1111111111111111,
              "#46039f"
             ],
             [
              0.2222222222222222,
              "#7201a8"
             ],
             [
              0.3333333333333333,
              "#9c179e"
             ],
             [
              0.4444444444444444,
              "#bd3786"
             ],
             [
              0.5555555555555556,
              "#d8576b"
             ],
             [
              0.6666666666666666,
              "#ed7953"
             ],
             [
              0.7777777777777778,
              "#fb9f3a"
             ],
             [
              0.8888888888888888,
              "#fdca26"
             ],
             [
              1,
              "#f0f921"
             ]
            ],
            "type": "histogram2d"
           }
          ],
          "histogram2dcontour": [
           {
            "colorbar": {
             "outlinewidth": 0,
             "ticks": ""
            },
            "colorscale": [
             [
              0,
              "#0d0887"
             ],
             [
              0.1111111111111111,
              "#46039f"
             ],
             [
              0.2222222222222222,
              "#7201a8"
             ],
             [
              0.3333333333333333,
              "#9c179e"
             ],
             [
              0.4444444444444444,
              "#bd3786"
             ],
             [
              0.5555555555555556,
              "#d8576b"
             ],
             [
              0.6666666666666666,
              "#ed7953"
             ],
             [
              0.7777777777777778,
              "#fb9f3a"
             ],
             [
              0.8888888888888888,
              "#fdca26"
             ],
             [
              1,
              "#f0f921"
             ]
            ],
            "type": "histogram2dcontour"
           }
          ],
          "mesh3d": [
           {
            "colorbar": {
             "outlinewidth": 0,
             "ticks": ""
            },
            "type": "mesh3d"
           }
          ],
          "parcoords": [
           {
            "line": {
             "colorbar": {
              "outlinewidth": 0,
              "ticks": ""
             }
            },
            "type": "parcoords"
           }
          ],
          "pie": [
           {
            "automargin": true,
            "type": "pie"
           }
          ],
          "scatter": [
           {
            "marker": {
             "colorbar": {
              "outlinewidth": 0,
              "ticks": ""
             }
            },
            "type": "scatter"
           }
          ],
          "scatter3d": [
           {
            "line": {
             "colorbar": {
              "outlinewidth": 0,
              "ticks": ""
             }
            },
            "marker": {
             "colorbar": {
              "outlinewidth": 0,
              "ticks": ""
             }
            },
            "type": "scatter3d"
           }
          ],
          "scattercarpet": [
           {
            "marker": {
             "colorbar": {
              "outlinewidth": 0,
              "ticks": ""
             }
            },
            "type": "scattercarpet"
           }
          ],
          "scattergeo": [
           {
            "marker": {
             "colorbar": {
              "outlinewidth": 0,
              "ticks": ""
             }
            },
            "type": "scattergeo"
           }
          ],
          "scattergl": [
           {
            "marker": {
             "colorbar": {
              "outlinewidth": 0,
              "ticks": ""
             }
            },
            "type": "scattergl"
           }
          ],
          "scattermapbox": [
           {
            "marker": {
             "colorbar": {
              "outlinewidth": 0,
              "ticks": ""
             }
            },
            "type": "scattermapbox"
           }
          ],
          "scatterpolar": [
           {
            "marker": {
             "colorbar": {
              "outlinewidth": 0,
              "ticks": ""
             }
            },
            "type": "scatterpolar"
           }
          ],
          "scatterpolargl": [
           {
            "marker": {
             "colorbar": {
              "outlinewidth": 0,
              "ticks": ""
             }
            },
            "type": "scatterpolargl"
           }
          ],
          "scatterternary": [
           {
            "marker": {
             "colorbar": {
              "outlinewidth": 0,
              "ticks": ""
             }
            },
            "type": "scatterternary"
           }
          ],
          "surface": [
           {
            "colorbar": {
             "outlinewidth": 0,
             "ticks": ""
            },
            "colorscale": [
             [
              0,
              "#0d0887"
             ],
             [
              0.1111111111111111,
              "#46039f"
             ],
             [
              0.2222222222222222,
              "#7201a8"
             ],
             [
              0.3333333333333333,
              "#9c179e"
             ],
             [
              0.4444444444444444,
              "#bd3786"
             ],
             [
              0.5555555555555556,
              "#d8576b"
             ],
             [
              0.6666666666666666,
              "#ed7953"
             ],
             [
              0.7777777777777778,
              "#fb9f3a"
             ],
             [
              0.8888888888888888,
              "#fdca26"
             ],
             [
              1,
              "#f0f921"
             ]
            ],
            "type": "surface"
           }
          ],
          "table": [
           {
            "cells": {
             "fill": {
              "color": "#EBF0F8"
             },
             "line": {
              "color": "white"
             }
            },
            "header": {
             "fill": {
              "color": "#C8D4E3"
             },
             "line": {
              "color": "white"
             }
            },
            "type": "table"
           }
          ]
         },
         "layout": {
          "annotationdefaults": {
           "arrowcolor": "#2a3f5f",
           "arrowhead": 0,
           "arrowwidth": 1
          },
          "autotypenumbers": "strict",
          "coloraxis": {
           "colorbar": {
            "outlinewidth": 0,
            "ticks": ""
           }
          },
          "colorscale": {
           "diverging": [
            [
             0,
             "#8e0152"
            ],
            [
             0.1,
             "#c51b7d"
            ],
            [
             0.2,
             "#de77ae"
            ],
            [
             0.3,
             "#f1b6da"
            ],
            [
             0.4,
             "#fde0ef"
            ],
            [
             0.5,
             "#f7f7f7"
            ],
            [
             0.6,
             "#e6f5d0"
            ],
            [
             0.7,
             "#b8e186"
            ],
            [
             0.8,
             "#7fbc41"
            ],
            [
             0.9,
             "#4d9221"
            ],
            [
             1,
             "#276419"
            ]
           ],
           "sequential": [
            [
             0,
             "#0d0887"
            ],
            [
             0.1111111111111111,
             "#46039f"
            ],
            [
             0.2222222222222222,
             "#7201a8"
            ],
            [
             0.3333333333333333,
             "#9c179e"
            ],
            [
             0.4444444444444444,
             "#bd3786"
            ],
            [
             0.5555555555555556,
             "#d8576b"
            ],
            [
             0.6666666666666666,
             "#ed7953"
            ],
            [
             0.7777777777777778,
             "#fb9f3a"
            ],
            [
             0.8888888888888888,
             "#fdca26"
            ],
            [
             1,
             "#f0f921"
            ]
           ],
           "sequentialminus": [
            [
             0,
             "#0d0887"
            ],
            [
             0.1111111111111111,
             "#46039f"
            ],
            [
             0.2222222222222222,
             "#7201a8"
            ],
            [
             0.3333333333333333,
             "#9c179e"
            ],
            [
             0.4444444444444444,
             "#bd3786"
            ],
            [
             0.5555555555555556,
             "#d8576b"
            ],
            [
             0.6666666666666666,
             "#ed7953"
            ],
            [
             0.7777777777777778,
             "#fb9f3a"
            ],
            [
             0.8888888888888888,
             "#fdca26"
            ],
            [
             1,
             "#f0f921"
            ]
           ]
          },
          "colorway": [
           "#636efa",
           "#EF553B",
           "#00cc96",
           "#ab63fa",
           "#FFA15A",
           "#19d3f3",
           "#FF6692",
           "#B6E880",
           "#FF97FF",
           "#FECB52"
          ],
          "font": {
           "color": "#2a3f5f"
          },
          "geo": {
           "bgcolor": "white",
           "lakecolor": "white",
           "landcolor": "#E5ECF6",
           "showlakes": true,
           "showland": true,
           "subunitcolor": "white"
          },
          "hoverlabel": {
           "align": "left"
          },
          "hovermode": "closest",
          "mapbox": {
           "style": "light"
          },
          "paper_bgcolor": "white",
          "plot_bgcolor": "#E5ECF6",
          "polar": {
           "angularaxis": {
            "gridcolor": "white",
            "linecolor": "white",
            "ticks": ""
           },
           "bgcolor": "#E5ECF6",
           "radialaxis": {
            "gridcolor": "white",
            "linecolor": "white",
            "ticks": ""
           }
          },
          "scene": {
           "xaxis": {
            "backgroundcolor": "#E5ECF6",
            "gridcolor": "white",
            "gridwidth": 2,
            "linecolor": "white",
            "showbackground": true,
            "ticks": "",
            "zerolinecolor": "white"
           },
           "yaxis": {
            "backgroundcolor": "#E5ECF6",
            "gridcolor": "white",
            "gridwidth": 2,
            "linecolor": "white",
            "showbackground": true,
            "ticks": "",
            "zerolinecolor": "white"
           },
           "zaxis": {
            "backgroundcolor": "#E5ECF6",
            "gridcolor": "white",
            "gridwidth": 2,
            "linecolor": "white",
            "showbackground": true,
            "ticks": "",
            "zerolinecolor": "white"
           }
          },
          "shapedefaults": {
           "line": {
            "color": "#2a3f5f"
           }
          },
          "ternary": {
           "aaxis": {
            "gridcolor": "white",
            "linecolor": "white",
            "ticks": ""
           },
           "baxis": {
            "gridcolor": "white",
            "linecolor": "white",
            "ticks": ""
           },
           "bgcolor": "#E5ECF6",
           "caxis": {
            "gridcolor": "white",
            "linecolor": "white",
            "ticks": ""
           }
          },
          "title": {
           "x": 0.05
          },
          "xaxis": {
           "automargin": true,
           "gridcolor": "white",
           "linecolor": "white",
           "ticks": "",
           "title": {
            "standoff": 15
           },
           "zerolinecolor": "white",
           "zerolinewidth": 2
          },
          "yaxis": {
           "automargin": true,
           "gridcolor": "white",
           "linecolor": "white",
           "ticks": "",
           "title": {
            "standoff": 15
           },
           "zerolinecolor": "white",
           "zerolinewidth": 2
          }
         }
        },
        "title": {
         "font": {
          "color": "#4D5663"
         }
        },
        "xaxis": {
         "gridcolor": "#E1E5ED",
         "showgrid": true,
         "tickfont": {
          "color": "#4D5663"
         },
         "title": {
          "font": {
           "color": "#4D5663"
          },
          "text": ""
         },
         "zerolinecolor": "#E1E5ED"
        },
        "yaxis": {
         "gridcolor": "#E1E5ED",
         "showgrid": true,
         "tickfont": {
          "color": "#4D5663"
         },
         "title": {
          "font": {
           "color": "#4D5663"
          },
          "text": ""
         },
         "zerolinecolor": "#E1E5ED"
        }
       }
      },
      "text/html": [
       "<div>                            <div id=\"571c9e55-db7c-4b3c-a632-587c8681215d\" class=\"plotly-graph-div\" style=\"height:525px; width:100%;\"></div>            <script type=\"text/javascript\">                require([\"plotly\"], function(Plotly) {                    window.PLOTLYENV=window.PLOTLYENV || {};\n",
       "                    window.PLOTLYENV.BASE_URL='https://plot.ly';                                    if (document.getElementById(\"571c9e55-db7c-4b3c-a632-587c8681215d\")) {                    Plotly.newPlot(                        \"571c9e55-db7c-4b3c-a632-587c8681215d\",                        [{\"line\": {\"color\": \"rgba(255, 153, 51, 1.0)\", \"dash\": \"solid\", \"shape\": \"linear\", \"width\": 1.3}, \"mode\": \"lines\", \"name\": \"A\", \"text\": \"\", \"type\": \"scatter\", \"x\": [0, 1, 2, 3, 4, 5, 6, 7, 8, 9, 10, 11, 12, 13, 14, 15, 16, 17, 18, 19, 20, 21, 22, 23, 24, 25, 26, 27, 28, 29, 30, 31, 32, 33, 34, 35, 36, 37, 38, 39, 40, 41, 42, 43, 44, 45, 46, 47, 48, 49, 50, 51, 52, 53, 54, 55, 56, 57, 58, 59, 60, 61, 62, 63, 64, 65, 66, 67, 68, 69, 70, 71, 72, 73, 74, 75, 76, 77, 78, 79, 80, 81, 82, 83, 84, 85, 86, 87, 88, 89, 90, 91, 92, 93, 94, 95, 96, 97, 98, 99], \"y\": [-0.14503484795852725, -3.0165964743780136, 0.24392315292249664, 0.2011504284420982, -1.954377685047049, 0.018622857603898417, 0.8617756539234976, -1.1789175288139595, 0.09453158593071533, -0.8190086004558853, -0.5111915119844852, -0.37019437878534933, 0.49406010167759457, 0.7318957798065484, -0.6245807673201975, 0.3860474439383816, 0.4682472943605631, 0.1627222638546957, -0.8365295450105019, -0.1484272992826551, -0.14699585388358868, -0.8989769017012104, 3.375644491066588, 0.8636351957100722, 0.9764706586185982, 1.8839025583510707, 0.49039805334819536, 1.1798805121748803, -0.08293830705260241, 0.020189132289008475, -1.212888981610273, -0.9540852579325413, 0.03227530808262174, -0.8518559637939185, 0.9654680591995582, -1.0356822197978657, -0.8665007063675878, 1.1028588348458925, -1.0335879734720794, -0.8709376829504009, 1.6229341507509705, -0.0960647329416155, 0.558693955982772, -0.47009300020518974, -0.098392235514167, 1.184576665806727, 0.01243576370376068, -0.10444812302065885, 0.16465566602612397, -0.47601592047505115, -0.3524503064476507, -1.1142072718294294, -0.24775154136288996, 0.6454080597490083, 0.06799428384607312, -2.3458667879361808, 0.0750307959732018, -0.02338014024049768, 0.408278691353931, -1.3197647537174, -0.08369974574571107, 0.028103212057242984, 0.24146463374541377, -0.1314784283188998, -0.35399171541630814, 0.9047121766469459, 0.577691629229222, -0.9041627507100116, 0.6679213458174991, 0.21340226976686694, 0.5187350887843667, 1.0291096353357165, -0.31331510697347104, -0.569615681897244, -0.08158041488700205, 0.4024168949117813, -0.37676734107072724, 0.02441103137705158, 0.4372970535384335, 0.6141820169439471, 1.190905549407557, 0.5607483976603372, -2.33021436137407, 0.5234829274135729, -0.6133704977202653, 0.6259858344588582, -0.03941965499720579, -0.3826539928719661, -1.1626848852541085, -0.13538449249010662, -0.44734498015120816, -0.675527294767186, -0.27764693163851684, 2.0007679905946723, -0.023422696390421664, 1.0516904951894257, -0.6505394429961281, 0.16981956995748015, 0.8454912342091417, -0.3025957383637378]}, {\"line\": {\"color\": \"rgba(55, 128, 191, 1.0)\", \"dash\": \"solid\", \"shape\": \"linear\", \"width\": 1.3}, \"mode\": \"lines\", \"name\": \"B\", \"text\": \"\", \"type\": \"scatter\", \"x\": [0, 1, 2, 3, 4, 5, 6, 7, 8, 9, 10, 11, 12, 13, 14, 15, 16, 17, 18, 19, 20, 21, 22, 23, 24, 25, 26, 27, 28, 29, 30, 31, 32, 33, 34, 35, 36, 37, 38, 39, 40, 41, 42, 43, 44, 45, 46, 47, 48, 49, 50, 51, 52, 53, 54, 55, 56, 57, 58, 59, 60, 61, 62, 63, 64, 65, 66, 67, 68, 69, 70, 71, 72, 73, 74, 75, 76, 77, 78, 79, 80, 81, 82, 83, 84, 85, 86, 87, 88, 89, 90, 91, 92, 93, 94, 95, 96, 97, 98, 99], \"y\": [-0.9532399160561278, -0.5868484365358092, -0.5322015045622156, -0.067966143001875, 0.9486452867643311, -0.6629183797257413, -0.5337786235952177, -1.374005116607833, 0.9538955464602282, 0.9831229684062017, -0.7218794529268818, -1.738462406660161, 0.8390413925664644, 0.4716881828898347, 1.840314344187763, 0.7829064814901634, -0.29559972424111564, -0.4543075695792023, -0.24134848173579576, 1.0620942076543174, 0.8126293598752975, 0.12771413630928588, 0.6479158525379064, -1.3221014076081543, -0.6104132558623014, 1.6009003090453902, 0.9269141114311796, -0.09885623938144297, 0.8712506984556516, -1.8373391727315502, -0.8095199640075892, 0.5647221507466086, -0.33873776587617926, 1.2770174534384262, -0.401058722431807, -0.3991026372035775, 0.6954802542981, 0.4657361921256589, -0.6115763656174145, -0.76790041556677, -0.8760445121497197, 0.9385120394049317, 0.12548592918841428, 0.12853157804446833, -0.9198386416256834, -0.16736007077296486, -0.273108590084941, -1.038593836786086, -1.789678683700114, -0.08672543648003408, 0.1791283495405397, 0.19740149687421615, -1.8532304045831987, 0.09418603272153049, -0.05406171658396121, 1.1613967379069392, 0.2908581391725514, 0.9334829806606881, 0.8759062521948778, 0.01544050596120699, -2.1433853948711863, -0.6550694134265117, 0.9450328060012705, -0.7318511174804488, -0.2760665477991691, 1.832042341227804, 0.7153981071725797, 0.3097267840306819, 0.5458716771237517, -0.27788252174846967, -2.56791567288503, 1.0733981182897139, 0.5539305528644727, -0.8875864930235106, -0.9215489395600035, -0.48052999506367167, 0.734067673662595, 0.7410495064840434, -0.4455153474458417, 0.47171647604105243, 2.2033238446375445, -0.13287462890628282, 1.57108408511727, -0.2832152183269851, 0.6604718888161459, -0.8097018520506656, -0.8998025213320278, 2.2744708006020584, -1.2989964534559673, 1.2567628834902713, 0.9586268624499967, 1.0292763836765124, 0.23642372515301469, -0.6456930750549342, 1.4959836369417008, -0.07036421252807842, -0.7362854978086856, -0.4795472607190941, 1.6003974543998063, -0.3481208183712817]}, {\"line\": {\"color\": \"rgba(50, 171, 96, 1.0)\", \"dash\": \"solid\", \"shape\": \"linear\", \"width\": 1.3}, \"mode\": \"lines\", \"name\": \"C\", \"text\": \"\", \"type\": \"scatter\", \"x\": [0, 1, 2, 3, 4, 5, 6, 7, 8, 9, 10, 11, 12, 13, 14, 15, 16, 17, 18, 19, 20, 21, 22, 23, 24, 25, 26, 27, 28, 29, 30, 31, 32, 33, 34, 35, 36, 37, 38, 39, 40, 41, 42, 43, 44, 45, 46, 47, 48, 49, 50, 51, 52, 53, 54, 55, 56, 57, 58, 59, 60, 61, 62, 63, 64, 65, 66, 67, 68, 69, 70, 71, 72, 73, 74, 75, 76, 77, 78, 79, 80, 81, 82, 83, 84, 85, 86, 87, 88, 89, 90, 91, 92, 93, 94, 95, 96, 97, 98, 99], \"y\": [1.4983864779909448, -0.0683974342124604, -0.5337891463858248, 0.44154354919874567, -1.2318152574431034, 1.2985630040366611, -2.218451919669104, 0.9332677474881452, 0.48887768670488263, 0.7100565211778788, -1.180211018759006, 0.40357787691680996, -0.18176450555296522, -0.19923388484756513, 2.2707936648476434, 0.7134211445041823, -0.20914473971566427, 0.6731272521506116, -0.1712162713391917, -0.32409938623671136, 0.3231132918011072, -1.5336155761055157, 0.5025780232508699, -0.29693856159868626, 0.23987661690729795, 0.44290559204476504, -0.529833328173643, -0.029194069017488885, 1.2034809706627385, 0.4920550863252347, 1.3118142713736591, -0.012957419236584167, 0.9926476583889912, 1.2718468624411214, 2.0622297852705547, 1.9746120568742223, 0.7116292523754622, -0.4737056251190207, -0.5474136556886244, 0.6820687853788049, 0.1752813698701687, 0.03369271598512779, 0.534436508849568, -0.43959501846003035, -0.5781181336082649, 1.9012412703468982, -0.03727290144563984, 0.5574680225499314, 0.9559932227587079, -0.32636063943397453, -0.33839420843768, 0.33923148177384843, -0.017272371086671515, -0.7399021484764235, -1.165467022871023, -1.292106893654066, -1.784099308455661, -0.9785305487491726, 0.4780020587967749, -0.5248854157902065, -0.6125375405316861, 0.6759309903954257, 0.6041448312385654, -0.33039041832431093, -0.17339863721071497, -0.009843440355222733, 0.7997753502200071, -1.107214785996133, 0.498447288776335, 0.6794945513401383, -0.1382266500550088, 1.2781507015495341, 0.6254176748292696, 0.7886826509605261, -0.8181677561777155, -0.6384163425676622, -1.0479872434449466, -1.2177317666516922, -1.5111568383490466, 0.9615221253744407, 0.9680307972915704, 0.7370807455860703, 0.08595259442313354, -0.3819517739097434, 0.5814733207998918, -0.9305531186290832, 0.09422451520604969, 1.81821824919206, 0.06749656036457062, -0.6269712132943323, 0.28732203080938473, -0.34598621688533177, -0.04863017192128949, -0.3539736054969189, -1.2972990448743276, 1.6800575190759655, -0.3891493008112305, 1.345521828588874, 1.272967956040553, 3.3265035585717997]}, {\"line\": {\"color\": \"rgba(128, 0, 128, 1.0)\", \"dash\": \"solid\", \"shape\": \"linear\", \"width\": 1.3}, \"mode\": \"lines\", \"name\": \"D\", \"text\": \"\", \"type\": \"scatter\", \"x\": [0, 1, 2, 3, 4, 5, 6, 7, 8, 9, 10, 11, 12, 13, 14, 15, 16, 17, 18, 19, 20, 21, 22, 23, 24, 25, 26, 27, 28, 29, 30, 31, 32, 33, 34, 35, 36, 37, 38, 39, 40, 41, 42, 43, 44, 45, 46, 47, 48, 49, 50, 51, 52, 53, 54, 55, 56, 57, 58, 59, 60, 61, 62, 63, 64, 65, 66, 67, 68, 69, 70, 71, 72, 73, 74, 75, 76, 77, 78, 79, 80, 81, 82, 83, 84, 85, 86, 87, 88, 89, 90, 91, 92, 93, 94, 95, 96, 97, 98, 99], \"y\": [-1.5319495460763377, -0.7823135218083629, -1.2093363017654826, 0.7797917356745605, 0.33983173967364444, -0.6668906877377361, -0.9240185127971479, -1.401096364281915, -0.2048781567578501, 1.1948511507781823, 1.9378710428122337, -0.19788163111016083, -0.9621305666501678, 0.5138660890036052, -1.143865652539835, -1.1982136890776176, 0.8292787619731817, 0.3295035520497889, 0.8222470222792261, -0.5121999795691015, -1.237290642027615, 0.11446894929464378, -1.505822965665104, -1.2565156539734794, -0.9237007926029537, -0.20485623833171945, -1.242963400226735, 0.46065343842511053, 0.8627455440540776, 0.37885281652310104, -0.404771823670305, 1.9530589976655945, -1.5658095281175592, -0.9899786783745753, -0.4138508787543901, 2.0771413723760905, 0.08921008719746723, -1.3556168492151528, -0.7678695095182647, -1.1128032731182662, -2.048881608126047, -0.26848514807393614, 1.229562428489407, -0.7531155606516615, -1.0141352555130447, -0.3574010751276007, 1.193569139394085, -0.1713953689270901, 0.5419494728333556, -0.5194810685746506, -0.16357195310254669, 0.7467042929422325, 0.383803866327178, -0.002594563791913918, -0.3032870044789301, 0.16558660457653496, -0.9419723485650384, -0.8099143888303659, 1.2205839875266769, -1.7007322354324552, -0.5497960766879818, -1.4017578932924981, -2.2045320929247545, 0.3986718611011956, -0.09064289146691248, 0.85543610620957, 1.1551676178843544, -0.41020533331384035, -0.8446806004273089, -0.47554568454257223, -0.06593091310501963, 0.29154657424817887, 1.8014650512475308, -0.42036587587693824, 0.5939056868343671, 0.12396213447308421, 0.5742018423253487, 0.6007861599895614, 0.6722461239448084, 0.4174574720090517, -0.9287455608677232, -0.040409801326219574, -0.5772027988901258, -0.6366786617000452, -1.474079529032982, 0.5301472217828153, -0.5618726312931238, 0.5743351632740945, -0.20108858944342017, 0.4951290430399495, -0.3437933242276682, 0.21337031294925046, -0.30421319297951926, 0.6185743763842435, 1.3426061469006845, -2.6898523405519335, -1.2997624793502054, -0.014491457910390242, -0.7531758443186563, 0.051972534063198135]}],                        {\"legend\": {\"bgcolor\": \"#F5F6F9\", \"font\": {\"color\": \"#4D5663\"}}, \"paper_bgcolor\": \"#F5F6F9\", \"plot_bgcolor\": \"#F5F6F9\", \"template\": {\"data\": {\"bar\": [{\"error_x\": {\"color\": \"#2a3f5f\"}, \"error_y\": {\"color\": \"#2a3f5f\"}, \"marker\": {\"line\": {\"color\": \"#E5ECF6\", \"width\": 0.5}}, \"type\": \"bar\"}], \"barpolar\": [{\"marker\": {\"line\": {\"color\": \"#E5ECF6\", \"width\": 0.5}}, \"type\": \"barpolar\"}], \"carpet\": [{\"aaxis\": {\"endlinecolor\": \"#2a3f5f\", \"gridcolor\": \"white\", \"linecolor\": \"white\", \"minorgridcolor\": \"white\", \"startlinecolor\": \"#2a3f5f\"}, \"baxis\": {\"endlinecolor\": \"#2a3f5f\", \"gridcolor\": \"white\", \"linecolor\": \"white\", \"minorgridcolor\": \"white\", \"startlinecolor\": \"#2a3f5f\"}, \"type\": \"carpet\"}], \"choropleth\": [{\"colorbar\": {\"outlinewidth\": 0, \"ticks\": \"\"}, \"type\": \"choropleth\"}], \"contour\": [{\"colorbar\": {\"outlinewidth\": 0, \"ticks\": \"\"}, \"colorscale\": [[0.0, \"#0d0887\"], [0.1111111111111111, \"#46039f\"], [0.2222222222222222, \"#7201a8\"], [0.3333333333333333, \"#9c179e\"], [0.4444444444444444, \"#bd3786\"], [0.5555555555555556, \"#d8576b\"], [0.6666666666666666, \"#ed7953\"], [0.7777777777777778, \"#fb9f3a\"], [0.8888888888888888, \"#fdca26\"], [1.0, \"#f0f921\"]], \"type\": \"contour\"}], \"contourcarpet\": [{\"colorbar\": {\"outlinewidth\": 0, \"ticks\": \"\"}, \"type\": \"contourcarpet\"}], \"heatmap\": [{\"colorbar\": {\"outlinewidth\": 0, \"ticks\": \"\"}, \"colorscale\": [[0.0, \"#0d0887\"], [0.1111111111111111, \"#46039f\"], [0.2222222222222222, \"#7201a8\"], [0.3333333333333333, \"#9c179e\"], [0.4444444444444444, \"#bd3786\"], [0.5555555555555556, \"#d8576b\"], [0.6666666666666666, \"#ed7953\"], [0.7777777777777778, \"#fb9f3a\"], [0.8888888888888888, \"#fdca26\"], [1.0, \"#f0f921\"]], \"type\": \"heatmap\"}], \"heatmapgl\": [{\"colorbar\": {\"outlinewidth\": 0, \"ticks\": \"\"}, \"colorscale\": [[0.0, \"#0d0887\"], [0.1111111111111111, \"#46039f\"], [0.2222222222222222, \"#7201a8\"], [0.3333333333333333, \"#9c179e\"], [0.4444444444444444, \"#bd3786\"], [0.5555555555555556, \"#d8576b\"], [0.6666666666666666, \"#ed7953\"], [0.7777777777777778, \"#fb9f3a\"], [0.8888888888888888, \"#fdca26\"], [1.0, \"#f0f921\"]], \"type\": \"heatmapgl\"}], \"histogram\": [{\"marker\": {\"colorbar\": {\"outlinewidth\": 0, \"ticks\": \"\"}}, \"type\": \"histogram\"}], \"histogram2d\": [{\"colorbar\": {\"outlinewidth\": 0, \"ticks\": \"\"}, \"colorscale\": [[0.0, \"#0d0887\"], [0.1111111111111111, \"#46039f\"], [0.2222222222222222, \"#7201a8\"], [0.3333333333333333, \"#9c179e\"], [0.4444444444444444, \"#bd3786\"], [0.5555555555555556, \"#d8576b\"], [0.6666666666666666, \"#ed7953\"], [0.7777777777777778, \"#fb9f3a\"], [0.8888888888888888, \"#fdca26\"], [1.0, \"#f0f921\"]], \"type\": \"histogram2d\"}], \"histogram2dcontour\": [{\"colorbar\": {\"outlinewidth\": 0, \"ticks\": \"\"}, \"colorscale\": [[0.0, \"#0d0887\"], [0.1111111111111111, \"#46039f\"], [0.2222222222222222, \"#7201a8\"], [0.3333333333333333, \"#9c179e\"], [0.4444444444444444, \"#bd3786\"], [0.5555555555555556, \"#d8576b\"], [0.6666666666666666, \"#ed7953\"], [0.7777777777777778, \"#fb9f3a\"], [0.8888888888888888, \"#fdca26\"], [1.0, \"#f0f921\"]], \"type\": \"histogram2dcontour\"}], \"mesh3d\": [{\"colorbar\": {\"outlinewidth\": 0, \"ticks\": \"\"}, \"type\": \"mesh3d\"}], \"parcoords\": [{\"line\": {\"colorbar\": {\"outlinewidth\": 0, \"ticks\": \"\"}}, \"type\": \"parcoords\"}], \"pie\": [{\"automargin\": true, \"type\": \"pie\"}], \"scatter\": [{\"marker\": {\"colorbar\": {\"outlinewidth\": 0, \"ticks\": \"\"}}, \"type\": \"scatter\"}], \"scatter3d\": [{\"line\": {\"colorbar\": {\"outlinewidth\": 0, \"ticks\": \"\"}}, \"marker\": {\"colorbar\": {\"outlinewidth\": 0, \"ticks\": \"\"}}, \"type\": \"scatter3d\"}], \"scattercarpet\": [{\"marker\": {\"colorbar\": {\"outlinewidth\": 0, \"ticks\": \"\"}}, \"type\": \"scattercarpet\"}], \"scattergeo\": [{\"marker\": {\"colorbar\": {\"outlinewidth\": 0, \"ticks\": \"\"}}, \"type\": \"scattergeo\"}], \"scattergl\": [{\"marker\": {\"colorbar\": {\"outlinewidth\": 0, \"ticks\": \"\"}}, \"type\": \"scattergl\"}], \"scattermapbox\": [{\"marker\": {\"colorbar\": {\"outlinewidth\": 0, \"ticks\": \"\"}}, \"type\": \"scattermapbox\"}], \"scatterpolar\": [{\"marker\": {\"colorbar\": {\"outlinewidth\": 0, \"ticks\": \"\"}}, \"type\": \"scatterpolar\"}], \"scatterpolargl\": [{\"marker\": {\"colorbar\": {\"outlinewidth\": 0, \"ticks\": \"\"}}, \"type\": \"scatterpolargl\"}], \"scatterternary\": [{\"marker\": {\"colorbar\": {\"outlinewidth\": 0, \"ticks\": \"\"}}, \"type\": \"scatterternary\"}], \"surface\": [{\"colorbar\": {\"outlinewidth\": 0, \"ticks\": \"\"}, \"colorscale\": [[0.0, \"#0d0887\"], [0.1111111111111111, \"#46039f\"], [0.2222222222222222, \"#7201a8\"], [0.3333333333333333, \"#9c179e\"], [0.4444444444444444, \"#bd3786\"], [0.5555555555555556, \"#d8576b\"], [0.6666666666666666, \"#ed7953\"], [0.7777777777777778, \"#fb9f3a\"], [0.8888888888888888, \"#fdca26\"], [1.0, \"#f0f921\"]], \"type\": \"surface\"}], \"table\": [{\"cells\": {\"fill\": {\"color\": \"#EBF0F8\"}, \"line\": {\"color\": \"white\"}}, \"header\": {\"fill\": {\"color\": \"#C8D4E3\"}, \"line\": {\"color\": \"white\"}}, \"type\": \"table\"}]}, \"layout\": {\"annotationdefaults\": {\"arrowcolor\": \"#2a3f5f\", \"arrowhead\": 0, \"arrowwidth\": 1}, \"autotypenumbers\": \"strict\", \"coloraxis\": {\"colorbar\": {\"outlinewidth\": 0, \"ticks\": \"\"}}, \"colorscale\": {\"diverging\": [[0, \"#8e0152\"], [0.1, \"#c51b7d\"], [0.2, \"#de77ae\"], [0.3, \"#f1b6da\"], [0.4, \"#fde0ef\"], [0.5, \"#f7f7f7\"], [0.6, \"#e6f5d0\"], [0.7, \"#b8e186\"], [0.8, \"#7fbc41\"], [0.9, \"#4d9221\"], [1, \"#276419\"]], \"sequential\": [[0.0, \"#0d0887\"], [0.1111111111111111, \"#46039f\"], [0.2222222222222222, \"#7201a8\"], [0.3333333333333333, \"#9c179e\"], [0.4444444444444444, \"#bd3786\"], [0.5555555555555556, \"#d8576b\"], [0.6666666666666666, \"#ed7953\"], [0.7777777777777778, \"#fb9f3a\"], [0.8888888888888888, \"#fdca26\"], [1.0, \"#f0f921\"]], \"sequentialminus\": [[0.0, \"#0d0887\"], [0.1111111111111111, \"#46039f\"], [0.2222222222222222, \"#7201a8\"], [0.3333333333333333, \"#9c179e\"], [0.4444444444444444, \"#bd3786\"], [0.5555555555555556, \"#d8576b\"], [0.6666666666666666, \"#ed7953\"], [0.7777777777777778, \"#fb9f3a\"], [0.8888888888888888, \"#fdca26\"], [1.0, \"#f0f921\"]]}, \"colorway\": [\"#636efa\", \"#EF553B\", \"#00cc96\", \"#ab63fa\", \"#FFA15A\", \"#19d3f3\", \"#FF6692\", \"#B6E880\", \"#FF97FF\", \"#FECB52\"], \"font\": {\"color\": \"#2a3f5f\"}, \"geo\": {\"bgcolor\": \"white\", \"lakecolor\": \"white\", \"landcolor\": \"#E5ECF6\", \"showlakes\": true, \"showland\": true, \"subunitcolor\": \"white\"}, \"hoverlabel\": {\"align\": \"left\"}, \"hovermode\": \"closest\", \"mapbox\": {\"style\": \"light\"}, \"paper_bgcolor\": \"white\", \"plot_bgcolor\": \"#E5ECF6\", \"polar\": {\"angularaxis\": {\"gridcolor\": \"white\", \"linecolor\": \"white\", \"ticks\": \"\"}, \"bgcolor\": \"#E5ECF6\", \"radialaxis\": {\"gridcolor\": \"white\", \"linecolor\": \"white\", \"ticks\": \"\"}}, \"scene\": {\"xaxis\": {\"backgroundcolor\": \"#E5ECF6\", \"gridcolor\": \"white\", \"gridwidth\": 2, \"linecolor\": \"white\", \"showbackground\": true, \"ticks\": \"\", \"zerolinecolor\": \"white\"}, \"yaxis\": {\"backgroundcolor\": \"#E5ECF6\", \"gridcolor\": \"white\", \"gridwidth\": 2, \"linecolor\": \"white\", \"showbackground\": true, \"ticks\": \"\", \"zerolinecolor\": \"white\"}, \"zaxis\": {\"backgroundcolor\": \"#E5ECF6\", \"gridcolor\": \"white\", \"gridwidth\": 2, \"linecolor\": \"white\", \"showbackground\": true, \"ticks\": \"\", \"zerolinecolor\": \"white\"}}, \"shapedefaults\": {\"line\": {\"color\": \"#2a3f5f\"}}, \"ternary\": {\"aaxis\": {\"gridcolor\": \"white\", \"linecolor\": \"white\", \"ticks\": \"\"}, \"baxis\": {\"gridcolor\": \"white\", \"linecolor\": \"white\", \"ticks\": \"\"}, \"bgcolor\": \"#E5ECF6\", \"caxis\": {\"gridcolor\": \"white\", \"linecolor\": \"white\", \"ticks\": \"\"}}, \"title\": {\"x\": 0.05}, \"xaxis\": {\"automargin\": true, \"gridcolor\": \"white\", \"linecolor\": \"white\", \"ticks\": \"\", \"title\": {\"standoff\": 15}, \"zerolinecolor\": \"white\", \"zerolinewidth\": 2}, \"yaxis\": {\"automargin\": true, \"gridcolor\": \"white\", \"linecolor\": \"white\", \"ticks\": \"\", \"title\": {\"standoff\": 15}, \"zerolinecolor\": \"white\", \"zerolinewidth\": 2}}}, \"title\": {\"font\": {\"color\": \"#4D5663\"}}, \"xaxis\": {\"gridcolor\": \"#E1E5ED\", \"showgrid\": true, \"tickfont\": {\"color\": \"#4D5663\"}, \"title\": {\"font\": {\"color\": \"#4D5663\"}, \"text\": \"\"}, \"zerolinecolor\": \"#E1E5ED\"}, \"yaxis\": {\"gridcolor\": \"#E1E5ED\", \"showgrid\": true, \"tickfont\": {\"color\": \"#4D5663\"}, \"title\": {\"font\": {\"color\": \"#4D5663\"}, \"text\": \"\"}, \"zerolinecolor\": \"#E1E5ED\"}},                        {\"showLink\": true, \"linkText\": \"Export to plot.ly\", \"plotlyServerURL\": \"https://plot.ly\", \"responsive\": true}                    ).then(function(){\n",
       "                            \n",
       "var gd = document.getElementById('571c9e55-db7c-4b3c-a632-587c8681215d');\n",
       "var x = new MutationObserver(function (mutations, observer) {{\n",
       "        var display = window.getComputedStyle(gd).display;\n",
       "        if (!display || display === 'none') {{\n",
       "            console.log([gd, 'removed!']);\n",
       "            Plotly.purge(gd);\n",
       "            observer.disconnect();\n",
       "        }}\n",
       "}});\n",
       "\n",
       "// Listen for the removal of the full notebook cells\n",
       "var notebookContainer = gd.closest('#notebook-container');\n",
       "if (notebookContainer) {{\n",
       "    x.observe(notebookContainer, {childList: true});\n",
       "}}\n",
       "\n",
       "// Listen for the clearing of the current output cell\n",
       "var outputEl = gd.closest('.output');\n",
       "if (outputEl) {{\n",
       "    x.observe(outputEl, {childList: true});\n",
       "}}\n",
       "\n",
       "                        })                };                });            </script>        </div>"
      ]
     },
     "metadata": {},
     "output_type": "display_data"
    }
   ],
   "source": [
    "df.iplot()"
   ]
  },
  {
   "cell_type": "code",
   "execution_count": 26,
   "metadata": {},
   "outputs": [
    {
     "data": {
      "application/vnd.plotly.v1+json": {
       "config": {
        "linkText": "Export to plot.ly",
        "plotlyServerURL": "https://plot.ly",
        "showLink": true
       },
       "data": [
        {
         "line": {
          "color": "rgba(255, 153, 51, 1.0)",
          "dash": "solid",
          "shape": "linear",
          "width": 1.3
         },
         "marker": {
          "size": 20,
          "symbol": "circle"
         },
         "mode": "markers",
         "name": "B",
         "text": "",
         "type": "scatter",
         "x": [
          -0.14503484795852725,
          -3.0165964743780136,
          0.24392315292249664,
          0.2011504284420982,
          -1.954377685047049,
          0.018622857603898417,
          0.8617756539234976,
          -1.1789175288139595,
          0.09453158593071533,
          -0.8190086004558853,
          -0.5111915119844852,
          -0.37019437878534933,
          0.49406010167759457,
          0.7318957798065484,
          -0.6245807673201975,
          0.3860474439383816,
          0.4682472943605631,
          0.1627222638546957,
          -0.8365295450105019,
          -0.1484272992826551,
          -0.14699585388358868,
          -0.8989769017012104,
          3.375644491066588,
          0.8636351957100722,
          0.9764706586185982,
          1.8839025583510707,
          0.49039805334819536,
          1.1798805121748803,
          -0.08293830705260241,
          0.020189132289008475,
          -1.212888981610273,
          -0.9540852579325413,
          0.03227530808262174,
          -0.8518559637939185,
          0.9654680591995582,
          -1.0356822197978657,
          -0.8665007063675878,
          1.1028588348458925,
          -1.0335879734720794,
          -0.8709376829504009,
          1.6229341507509705,
          -0.0960647329416155,
          0.558693955982772,
          -0.47009300020518974,
          -0.098392235514167,
          1.184576665806727,
          0.01243576370376068,
          -0.10444812302065885,
          0.16465566602612397,
          -0.47601592047505115,
          -0.3524503064476507,
          -1.1142072718294294,
          -0.24775154136288996,
          0.6454080597490083,
          0.06799428384607312,
          -2.3458667879361808,
          0.0750307959732018,
          -0.02338014024049768,
          0.408278691353931,
          -1.3197647537174,
          -0.08369974574571107,
          0.028103212057242984,
          0.24146463374541377,
          -0.1314784283188998,
          -0.35399171541630814,
          0.9047121766469459,
          0.577691629229222,
          -0.9041627507100116,
          0.6679213458174991,
          0.21340226976686694,
          0.5187350887843667,
          1.0291096353357165,
          -0.31331510697347104,
          -0.569615681897244,
          -0.08158041488700205,
          0.4024168949117813,
          -0.37676734107072724,
          0.02441103137705158,
          0.4372970535384335,
          0.6141820169439471,
          1.190905549407557,
          0.5607483976603372,
          -2.33021436137407,
          0.5234829274135729,
          -0.6133704977202653,
          0.6259858344588582,
          -0.03941965499720579,
          -0.3826539928719661,
          -1.1626848852541085,
          -0.13538449249010662,
          -0.44734498015120816,
          -0.675527294767186,
          -0.27764693163851684,
          2.0007679905946723,
          -0.023422696390421664,
          1.0516904951894257,
          -0.6505394429961281,
          0.16981956995748015,
          0.8454912342091417,
          -0.3025957383637378
         ],
         "y": [
          -0.9532399160561278,
          -0.5868484365358092,
          -0.5322015045622156,
          -0.067966143001875,
          0.9486452867643311,
          -0.6629183797257413,
          -0.5337786235952177,
          -1.374005116607833,
          0.9538955464602282,
          0.9831229684062017,
          -0.7218794529268818,
          -1.738462406660161,
          0.8390413925664644,
          0.4716881828898347,
          1.840314344187763,
          0.7829064814901634,
          -0.29559972424111564,
          -0.4543075695792023,
          -0.24134848173579576,
          1.0620942076543174,
          0.8126293598752975,
          0.12771413630928588,
          0.6479158525379064,
          -1.3221014076081543,
          -0.6104132558623014,
          1.6009003090453902,
          0.9269141114311796,
          -0.09885623938144297,
          0.8712506984556516,
          -1.8373391727315502,
          -0.8095199640075892,
          0.5647221507466086,
          -0.33873776587617926,
          1.2770174534384262,
          -0.401058722431807,
          -0.3991026372035775,
          0.6954802542981,
          0.4657361921256589,
          -0.6115763656174145,
          -0.76790041556677,
          -0.8760445121497197,
          0.9385120394049317,
          0.12548592918841428,
          0.12853157804446833,
          -0.9198386416256834,
          -0.16736007077296486,
          -0.273108590084941,
          -1.038593836786086,
          -1.789678683700114,
          -0.08672543648003408,
          0.1791283495405397,
          0.19740149687421615,
          -1.8532304045831987,
          0.09418603272153049,
          -0.05406171658396121,
          1.1613967379069392,
          0.2908581391725514,
          0.9334829806606881,
          0.8759062521948778,
          0.01544050596120699,
          -2.1433853948711863,
          -0.6550694134265117,
          0.9450328060012705,
          -0.7318511174804488,
          -0.2760665477991691,
          1.832042341227804,
          0.7153981071725797,
          0.3097267840306819,
          0.5458716771237517,
          -0.27788252174846967,
          -2.56791567288503,
          1.0733981182897139,
          0.5539305528644727,
          -0.8875864930235106,
          -0.9215489395600035,
          -0.48052999506367167,
          0.734067673662595,
          0.7410495064840434,
          -0.4455153474458417,
          0.47171647604105243,
          2.2033238446375445,
          -0.13287462890628282,
          1.57108408511727,
          -0.2832152183269851,
          0.6604718888161459,
          -0.8097018520506656,
          -0.8998025213320278,
          2.2744708006020584,
          -1.2989964534559673,
          1.2567628834902713,
          0.9586268624499967,
          1.0292763836765124,
          0.23642372515301469,
          -0.6456930750549342,
          1.4959836369417008,
          -0.07036421252807842,
          -0.7362854978086856,
          -0.4795472607190941,
          1.6003974543998063,
          -0.3481208183712817
         ]
        }
       ],
       "layout": {
        "legend": {
         "bgcolor": "#F5F6F9",
         "font": {
          "color": "#4D5663"
         }
        },
        "paper_bgcolor": "#F5F6F9",
        "plot_bgcolor": "#F5F6F9",
        "template": {
         "data": {
          "bar": [
           {
            "error_x": {
             "color": "#2a3f5f"
            },
            "error_y": {
             "color": "#2a3f5f"
            },
            "marker": {
             "line": {
              "color": "#E5ECF6",
              "width": 0.5
             }
            },
            "type": "bar"
           }
          ],
          "barpolar": [
           {
            "marker": {
             "line": {
              "color": "#E5ECF6",
              "width": 0.5
             }
            },
            "type": "barpolar"
           }
          ],
          "carpet": [
           {
            "aaxis": {
             "endlinecolor": "#2a3f5f",
             "gridcolor": "white",
             "linecolor": "white",
             "minorgridcolor": "white",
             "startlinecolor": "#2a3f5f"
            },
            "baxis": {
             "endlinecolor": "#2a3f5f",
             "gridcolor": "white",
             "linecolor": "white",
             "minorgridcolor": "white",
             "startlinecolor": "#2a3f5f"
            },
            "type": "carpet"
           }
          ],
          "choropleth": [
           {
            "colorbar": {
             "outlinewidth": 0,
             "ticks": ""
            },
            "type": "choropleth"
           }
          ],
          "contour": [
           {
            "colorbar": {
             "outlinewidth": 0,
             "ticks": ""
            },
            "colorscale": [
             [
              0,
              "#0d0887"
             ],
             [
              0.1111111111111111,
              "#46039f"
             ],
             [
              0.2222222222222222,
              "#7201a8"
             ],
             [
              0.3333333333333333,
              "#9c179e"
             ],
             [
              0.4444444444444444,
              "#bd3786"
             ],
             [
              0.5555555555555556,
              "#d8576b"
             ],
             [
              0.6666666666666666,
              "#ed7953"
             ],
             [
              0.7777777777777778,
              "#fb9f3a"
             ],
             [
              0.8888888888888888,
              "#fdca26"
             ],
             [
              1,
              "#f0f921"
             ]
            ],
            "type": "contour"
           }
          ],
          "contourcarpet": [
           {
            "colorbar": {
             "outlinewidth": 0,
             "ticks": ""
            },
            "type": "contourcarpet"
           }
          ],
          "heatmap": [
           {
            "colorbar": {
             "outlinewidth": 0,
             "ticks": ""
            },
            "colorscale": [
             [
              0,
              "#0d0887"
             ],
             [
              0.1111111111111111,
              "#46039f"
             ],
             [
              0.2222222222222222,
              "#7201a8"
             ],
             [
              0.3333333333333333,
              "#9c179e"
             ],
             [
              0.4444444444444444,
              "#bd3786"
             ],
             [
              0.5555555555555556,
              "#d8576b"
             ],
             [
              0.6666666666666666,
              "#ed7953"
             ],
             [
              0.7777777777777778,
              "#fb9f3a"
             ],
             [
              0.8888888888888888,
              "#fdca26"
             ],
             [
              1,
              "#f0f921"
             ]
            ],
            "type": "heatmap"
           }
          ],
          "heatmapgl": [
           {
            "colorbar": {
             "outlinewidth": 0,
             "ticks": ""
            },
            "colorscale": [
             [
              0,
              "#0d0887"
             ],
             [
              0.1111111111111111,
              "#46039f"
             ],
             [
              0.2222222222222222,
              "#7201a8"
             ],
             [
              0.3333333333333333,
              "#9c179e"
             ],
             [
              0.4444444444444444,
              "#bd3786"
             ],
             [
              0.5555555555555556,
              "#d8576b"
             ],
             [
              0.6666666666666666,
              "#ed7953"
             ],
             [
              0.7777777777777778,
              "#fb9f3a"
             ],
             [
              0.8888888888888888,
              "#fdca26"
             ],
             [
              1,
              "#f0f921"
             ]
            ],
            "type": "heatmapgl"
           }
          ],
          "histogram": [
           {
            "marker": {
             "colorbar": {
              "outlinewidth": 0,
              "ticks": ""
             }
            },
            "type": "histogram"
           }
          ],
          "histogram2d": [
           {
            "colorbar": {
             "outlinewidth": 0,
             "ticks": ""
            },
            "colorscale": [
             [
              0,
              "#0d0887"
             ],
             [
              0.1111111111111111,
              "#46039f"
             ],
             [
              0.2222222222222222,
              "#7201a8"
             ],
             [
              0.3333333333333333,
              "#9c179e"
             ],
             [
              0.4444444444444444,
              "#bd3786"
             ],
             [
              0.5555555555555556,
              "#d8576b"
             ],
             [
              0.6666666666666666,
              "#ed7953"
             ],
             [
              0.7777777777777778,
              "#fb9f3a"
             ],
             [
              0.8888888888888888,
              "#fdca26"
             ],
             [
              1,
              "#f0f921"
             ]
            ],
            "type": "histogram2d"
           }
          ],
          "histogram2dcontour": [
           {
            "colorbar": {
             "outlinewidth": 0,
             "ticks": ""
            },
            "colorscale": [
             [
              0,
              "#0d0887"
             ],
             [
              0.1111111111111111,
              "#46039f"
             ],
             [
              0.2222222222222222,
              "#7201a8"
             ],
             [
              0.3333333333333333,
              "#9c179e"
             ],
             [
              0.4444444444444444,
              "#bd3786"
             ],
             [
              0.5555555555555556,
              "#d8576b"
             ],
             [
              0.6666666666666666,
              "#ed7953"
             ],
             [
              0.7777777777777778,
              "#fb9f3a"
             ],
             [
              0.8888888888888888,
              "#fdca26"
             ],
             [
              1,
              "#f0f921"
             ]
            ],
            "type": "histogram2dcontour"
           }
          ],
          "mesh3d": [
           {
            "colorbar": {
             "outlinewidth": 0,
             "ticks": ""
            },
            "type": "mesh3d"
           }
          ],
          "parcoords": [
           {
            "line": {
             "colorbar": {
              "outlinewidth": 0,
              "ticks": ""
             }
            },
            "type": "parcoords"
           }
          ],
          "pie": [
           {
            "automargin": true,
            "type": "pie"
           }
          ],
          "scatter": [
           {
            "marker": {
             "colorbar": {
              "outlinewidth": 0,
              "ticks": ""
             }
            },
            "type": "scatter"
           }
          ],
          "scatter3d": [
           {
            "line": {
             "colorbar": {
              "outlinewidth": 0,
              "ticks": ""
             }
            },
            "marker": {
             "colorbar": {
              "outlinewidth": 0,
              "ticks": ""
             }
            },
            "type": "scatter3d"
           }
          ],
          "scattercarpet": [
           {
            "marker": {
             "colorbar": {
              "outlinewidth": 0,
              "ticks": ""
             }
            },
            "type": "scattercarpet"
           }
          ],
          "scattergeo": [
           {
            "marker": {
             "colorbar": {
              "outlinewidth": 0,
              "ticks": ""
             }
            },
            "type": "scattergeo"
           }
          ],
          "scattergl": [
           {
            "marker": {
             "colorbar": {
              "outlinewidth": 0,
              "ticks": ""
             }
            },
            "type": "scattergl"
           }
          ],
          "scattermapbox": [
           {
            "marker": {
             "colorbar": {
              "outlinewidth": 0,
              "ticks": ""
             }
            },
            "type": "scattermapbox"
           }
          ],
          "scatterpolar": [
           {
            "marker": {
             "colorbar": {
              "outlinewidth": 0,
              "ticks": ""
             }
            },
            "type": "scatterpolar"
           }
          ],
          "scatterpolargl": [
           {
            "marker": {
             "colorbar": {
              "outlinewidth": 0,
              "ticks": ""
             }
            },
            "type": "scatterpolargl"
           }
          ],
          "scatterternary": [
           {
            "marker": {
             "colorbar": {
              "outlinewidth": 0,
              "ticks": ""
             }
            },
            "type": "scatterternary"
           }
          ],
          "surface": [
           {
            "colorbar": {
             "outlinewidth": 0,
             "ticks": ""
            },
            "colorscale": [
             [
              0,
              "#0d0887"
             ],
             [
              0.1111111111111111,
              "#46039f"
             ],
             [
              0.2222222222222222,
              "#7201a8"
             ],
             [
              0.3333333333333333,
              "#9c179e"
             ],
             [
              0.4444444444444444,
              "#bd3786"
             ],
             [
              0.5555555555555556,
              "#d8576b"
             ],
             [
              0.6666666666666666,
              "#ed7953"
             ],
             [
              0.7777777777777778,
              "#fb9f3a"
             ],
             [
              0.8888888888888888,
              "#fdca26"
             ],
             [
              1,
              "#f0f921"
             ]
            ],
            "type": "surface"
           }
          ],
          "table": [
           {
            "cells": {
             "fill": {
              "color": "#EBF0F8"
             },
             "line": {
              "color": "white"
             }
            },
            "header": {
             "fill": {
              "color": "#C8D4E3"
             },
             "line": {
              "color": "white"
             }
            },
            "type": "table"
           }
          ]
         },
         "layout": {
          "annotationdefaults": {
           "arrowcolor": "#2a3f5f",
           "arrowhead": 0,
           "arrowwidth": 1
          },
          "autotypenumbers": "strict",
          "coloraxis": {
           "colorbar": {
            "outlinewidth": 0,
            "ticks": ""
           }
          },
          "colorscale": {
           "diverging": [
            [
             0,
             "#8e0152"
            ],
            [
             0.1,
             "#c51b7d"
            ],
            [
             0.2,
             "#de77ae"
            ],
            [
             0.3,
             "#f1b6da"
            ],
            [
             0.4,
             "#fde0ef"
            ],
            [
             0.5,
             "#f7f7f7"
            ],
            [
             0.6,
             "#e6f5d0"
            ],
            [
             0.7,
             "#b8e186"
            ],
            [
             0.8,
             "#7fbc41"
            ],
            [
             0.9,
             "#4d9221"
            ],
            [
             1,
             "#276419"
            ]
           ],
           "sequential": [
            [
             0,
             "#0d0887"
            ],
            [
             0.1111111111111111,
             "#46039f"
            ],
            [
             0.2222222222222222,
             "#7201a8"
            ],
            [
             0.3333333333333333,
             "#9c179e"
            ],
            [
             0.4444444444444444,
             "#bd3786"
            ],
            [
             0.5555555555555556,
             "#d8576b"
            ],
            [
             0.6666666666666666,
             "#ed7953"
            ],
            [
             0.7777777777777778,
             "#fb9f3a"
            ],
            [
             0.8888888888888888,
             "#fdca26"
            ],
            [
             1,
             "#f0f921"
            ]
           ],
           "sequentialminus": [
            [
             0,
             "#0d0887"
            ],
            [
             0.1111111111111111,
             "#46039f"
            ],
            [
             0.2222222222222222,
             "#7201a8"
            ],
            [
             0.3333333333333333,
             "#9c179e"
            ],
            [
             0.4444444444444444,
             "#bd3786"
            ],
            [
             0.5555555555555556,
             "#d8576b"
            ],
            [
             0.6666666666666666,
             "#ed7953"
            ],
            [
             0.7777777777777778,
             "#fb9f3a"
            ],
            [
             0.8888888888888888,
             "#fdca26"
            ],
            [
             1,
             "#f0f921"
            ]
           ]
          },
          "colorway": [
           "#636efa",
           "#EF553B",
           "#00cc96",
           "#ab63fa",
           "#FFA15A",
           "#19d3f3",
           "#FF6692",
           "#B6E880",
           "#FF97FF",
           "#FECB52"
          ],
          "font": {
           "color": "#2a3f5f"
          },
          "geo": {
           "bgcolor": "white",
           "lakecolor": "white",
           "landcolor": "#E5ECF6",
           "showlakes": true,
           "showland": true,
           "subunitcolor": "white"
          },
          "hoverlabel": {
           "align": "left"
          },
          "hovermode": "closest",
          "mapbox": {
           "style": "light"
          },
          "paper_bgcolor": "white",
          "plot_bgcolor": "#E5ECF6",
          "polar": {
           "angularaxis": {
            "gridcolor": "white",
            "linecolor": "white",
            "ticks": ""
           },
           "bgcolor": "#E5ECF6",
           "radialaxis": {
            "gridcolor": "white",
            "linecolor": "white",
            "ticks": ""
           }
          },
          "scene": {
           "xaxis": {
            "backgroundcolor": "#E5ECF6",
            "gridcolor": "white",
            "gridwidth": 2,
            "linecolor": "white",
            "showbackground": true,
            "ticks": "",
            "zerolinecolor": "white"
           },
           "yaxis": {
            "backgroundcolor": "#E5ECF6",
            "gridcolor": "white",
            "gridwidth": 2,
            "linecolor": "white",
            "showbackground": true,
            "ticks": "",
            "zerolinecolor": "white"
           },
           "zaxis": {
            "backgroundcolor": "#E5ECF6",
            "gridcolor": "white",
            "gridwidth": 2,
            "linecolor": "white",
            "showbackground": true,
            "ticks": "",
            "zerolinecolor": "white"
           }
          },
          "shapedefaults": {
           "line": {
            "color": "#2a3f5f"
           }
          },
          "ternary": {
           "aaxis": {
            "gridcolor": "white",
            "linecolor": "white",
            "ticks": ""
           },
           "baxis": {
            "gridcolor": "white",
            "linecolor": "white",
            "ticks": ""
           },
           "bgcolor": "#E5ECF6",
           "caxis": {
            "gridcolor": "white",
            "linecolor": "white",
            "ticks": ""
           }
          },
          "title": {
           "x": 0.05
          },
          "xaxis": {
           "automargin": true,
           "gridcolor": "white",
           "linecolor": "white",
           "ticks": "",
           "title": {
            "standoff": 15
           },
           "zerolinecolor": "white",
           "zerolinewidth": 2
          },
          "yaxis": {
           "automargin": true,
           "gridcolor": "white",
           "linecolor": "white",
           "ticks": "",
           "title": {
            "standoff": 15
           },
           "zerolinecolor": "white",
           "zerolinewidth": 2
          }
         }
        },
        "title": {
         "font": {
          "color": "#4D5663"
         }
        },
        "xaxis": {
         "gridcolor": "#E1E5ED",
         "showgrid": true,
         "tickfont": {
          "color": "#4D5663"
         },
         "title": {
          "font": {
           "color": "#4D5663"
          },
          "text": ""
         },
         "zerolinecolor": "#E1E5ED"
        },
        "yaxis": {
         "gridcolor": "#E1E5ED",
         "showgrid": true,
         "tickfont": {
          "color": "#4D5663"
         },
         "title": {
          "font": {
           "color": "#4D5663"
          },
          "text": ""
         },
         "zerolinecolor": "#E1E5ED"
        }
       }
      },
      "text/html": [
       "<div>                            <div id=\"d23553df-af43-4d06-9b03-c90fb4ff5e0e\" class=\"plotly-graph-div\" style=\"height:525px; width:100%;\"></div>            <script type=\"text/javascript\">                require([\"plotly\"], function(Plotly) {                    window.PLOTLYENV=window.PLOTLYENV || {};\n",
       "                    window.PLOTLYENV.BASE_URL='https://plot.ly';                                    if (document.getElementById(\"d23553df-af43-4d06-9b03-c90fb4ff5e0e\")) {                    Plotly.newPlot(                        \"d23553df-af43-4d06-9b03-c90fb4ff5e0e\",                        [{\"line\": {\"color\": \"rgba(255, 153, 51, 1.0)\", \"dash\": \"solid\", \"shape\": \"linear\", \"width\": 1.3}, \"marker\": {\"size\": 20, \"symbol\": \"circle\"}, \"mode\": \"markers\", \"name\": \"B\", \"text\": \"\", \"type\": \"scatter\", \"x\": [-0.14503484795852725, -3.0165964743780136, 0.24392315292249664, 0.2011504284420982, -1.954377685047049, 0.018622857603898417, 0.8617756539234976, -1.1789175288139595, 0.09453158593071533, -0.8190086004558853, -0.5111915119844852, -0.37019437878534933, 0.49406010167759457, 0.7318957798065484, -0.6245807673201975, 0.3860474439383816, 0.4682472943605631, 0.1627222638546957, -0.8365295450105019, -0.1484272992826551, -0.14699585388358868, -0.8989769017012104, 3.375644491066588, 0.8636351957100722, 0.9764706586185982, 1.8839025583510707, 0.49039805334819536, 1.1798805121748803, -0.08293830705260241, 0.020189132289008475, -1.212888981610273, -0.9540852579325413, 0.03227530808262174, -0.8518559637939185, 0.9654680591995582, -1.0356822197978657, -0.8665007063675878, 1.1028588348458925, -1.0335879734720794, -0.8709376829504009, 1.6229341507509705, -0.0960647329416155, 0.558693955982772, -0.47009300020518974, -0.098392235514167, 1.184576665806727, 0.01243576370376068, -0.10444812302065885, 0.16465566602612397, -0.47601592047505115, -0.3524503064476507, -1.1142072718294294, -0.24775154136288996, 0.6454080597490083, 0.06799428384607312, -2.3458667879361808, 0.0750307959732018, -0.02338014024049768, 0.408278691353931, -1.3197647537174, -0.08369974574571107, 0.028103212057242984, 0.24146463374541377, -0.1314784283188998, -0.35399171541630814, 0.9047121766469459, 0.577691629229222, -0.9041627507100116, 0.6679213458174991, 0.21340226976686694, 0.5187350887843667, 1.0291096353357165, -0.31331510697347104, -0.569615681897244, -0.08158041488700205, 0.4024168949117813, -0.37676734107072724, 0.02441103137705158, 0.4372970535384335, 0.6141820169439471, 1.190905549407557, 0.5607483976603372, -2.33021436137407, 0.5234829274135729, -0.6133704977202653, 0.6259858344588582, -0.03941965499720579, -0.3826539928719661, -1.1626848852541085, -0.13538449249010662, -0.44734498015120816, -0.675527294767186, -0.27764693163851684, 2.0007679905946723, -0.023422696390421664, 1.0516904951894257, -0.6505394429961281, 0.16981956995748015, 0.8454912342091417, -0.3025957383637378], \"y\": [-0.9532399160561278, -0.5868484365358092, -0.5322015045622156, -0.067966143001875, 0.9486452867643311, -0.6629183797257413, -0.5337786235952177, -1.374005116607833, 0.9538955464602282, 0.9831229684062017, -0.7218794529268818, -1.738462406660161, 0.8390413925664644, 0.4716881828898347, 1.840314344187763, 0.7829064814901634, -0.29559972424111564, -0.4543075695792023, -0.24134848173579576, 1.0620942076543174, 0.8126293598752975, 0.12771413630928588, 0.6479158525379064, -1.3221014076081543, -0.6104132558623014, 1.6009003090453902, 0.9269141114311796, -0.09885623938144297, 0.8712506984556516, -1.8373391727315502, -0.8095199640075892, 0.5647221507466086, -0.33873776587617926, 1.2770174534384262, -0.401058722431807, -0.3991026372035775, 0.6954802542981, 0.4657361921256589, -0.6115763656174145, -0.76790041556677, -0.8760445121497197, 0.9385120394049317, 0.12548592918841428, 0.12853157804446833, -0.9198386416256834, -0.16736007077296486, -0.273108590084941, -1.038593836786086, -1.789678683700114, -0.08672543648003408, 0.1791283495405397, 0.19740149687421615, -1.8532304045831987, 0.09418603272153049, -0.05406171658396121, 1.1613967379069392, 0.2908581391725514, 0.9334829806606881, 0.8759062521948778, 0.01544050596120699, -2.1433853948711863, -0.6550694134265117, 0.9450328060012705, -0.7318511174804488, -0.2760665477991691, 1.832042341227804, 0.7153981071725797, 0.3097267840306819, 0.5458716771237517, -0.27788252174846967, -2.56791567288503, 1.0733981182897139, 0.5539305528644727, -0.8875864930235106, -0.9215489395600035, -0.48052999506367167, 0.734067673662595, 0.7410495064840434, -0.4455153474458417, 0.47171647604105243, 2.2033238446375445, -0.13287462890628282, 1.57108408511727, -0.2832152183269851, 0.6604718888161459, -0.8097018520506656, -0.8998025213320278, 2.2744708006020584, -1.2989964534559673, 1.2567628834902713, 0.9586268624499967, 1.0292763836765124, 0.23642372515301469, -0.6456930750549342, 1.4959836369417008, -0.07036421252807842, -0.7362854978086856, -0.4795472607190941, 1.6003974543998063, -0.3481208183712817]}],                        {\"legend\": {\"bgcolor\": \"#F5F6F9\", \"font\": {\"color\": \"#4D5663\"}}, \"paper_bgcolor\": \"#F5F6F9\", \"plot_bgcolor\": \"#F5F6F9\", \"template\": {\"data\": {\"bar\": [{\"error_x\": {\"color\": \"#2a3f5f\"}, \"error_y\": {\"color\": \"#2a3f5f\"}, \"marker\": {\"line\": {\"color\": \"#E5ECF6\", \"width\": 0.5}}, \"type\": \"bar\"}], \"barpolar\": [{\"marker\": {\"line\": {\"color\": \"#E5ECF6\", \"width\": 0.5}}, \"type\": \"barpolar\"}], \"carpet\": [{\"aaxis\": {\"endlinecolor\": \"#2a3f5f\", \"gridcolor\": \"white\", \"linecolor\": \"white\", \"minorgridcolor\": \"white\", \"startlinecolor\": \"#2a3f5f\"}, \"baxis\": {\"endlinecolor\": \"#2a3f5f\", \"gridcolor\": \"white\", \"linecolor\": \"white\", \"minorgridcolor\": \"white\", \"startlinecolor\": \"#2a3f5f\"}, \"type\": \"carpet\"}], \"choropleth\": [{\"colorbar\": {\"outlinewidth\": 0, \"ticks\": \"\"}, \"type\": \"choropleth\"}], \"contour\": [{\"colorbar\": {\"outlinewidth\": 0, \"ticks\": \"\"}, \"colorscale\": [[0.0, \"#0d0887\"], [0.1111111111111111, \"#46039f\"], [0.2222222222222222, \"#7201a8\"], [0.3333333333333333, \"#9c179e\"], [0.4444444444444444, \"#bd3786\"], [0.5555555555555556, \"#d8576b\"], [0.6666666666666666, \"#ed7953\"], [0.7777777777777778, \"#fb9f3a\"], [0.8888888888888888, \"#fdca26\"], [1.0, \"#f0f921\"]], \"type\": \"contour\"}], \"contourcarpet\": [{\"colorbar\": {\"outlinewidth\": 0, \"ticks\": \"\"}, \"type\": \"contourcarpet\"}], \"heatmap\": [{\"colorbar\": {\"outlinewidth\": 0, \"ticks\": \"\"}, \"colorscale\": [[0.0, \"#0d0887\"], [0.1111111111111111, \"#46039f\"], [0.2222222222222222, \"#7201a8\"], [0.3333333333333333, \"#9c179e\"], [0.4444444444444444, \"#bd3786\"], [0.5555555555555556, \"#d8576b\"], [0.6666666666666666, \"#ed7953\"], [0.7777777777777778, \"#fb9f3a\"], [0.8888888888888888, \"#fdca26\"], [1.0, \"#f0f921\"]], \"type\": \"heatmap\"}], \"heatmapgl\": [{\"colorbar\": {\"outlinewidth\": 0, \"ticks\": \"\"}, \"colorscale\": [[0.0, \"#0d0887\"], [0.1111111111111111, \"#46039f\"], [0.2222222222222222, \"#7201a8\"], [0.3333333333333333, \"#9c179e\"], [0.4444444444444444, \"#bd3786\"], [0.5555555555555556, \"#d8576b\"], [0.6666666666666666, \"#ed7953\"], [0.7777777777777778, \"#fb9f3a\"], [0.8888888888888888, \"#fdca26\"], [1.0, \"#f0f921\"]], \"type\": \"heatmapgl\"}], \"histogram\": [{\"marker\": {\"colorbar\": {\"outlinewidth\": 0, \"ticks\": \"\"}}, \"type\": \"histogram\"}], \"histogram2d\": [{\"colorbar\": {\"outlinewidth\": 0, \"ticks\": \"\"}, \"colorscale\": [[0.0, \"#0d0887\"], [0.1111111111111111, \"#46039f\"], [0.2222222222222222, \"#7201a8\"], [0.3333333333333333, \"#9c179e\"], [0.4444444444444444, \"#bd3786\"], [0.5555555555555556, \"#d8576b\"], [0.6666666666666666, \"#ed7953\"], [0.7777777777777778, \"#fb9f3a\"], [0.8888888888888888, \"#fdca26\"], [1.0, \"#f0f921\"]], \"type\": \"histogram2d\"}], \"histogram2dcontour\": [{\"colorbar\": {\"outlinewidth\": 0, \"ticks\": \"\"}, \"colorscale\": [[0.0, \"#0d0887\"], [0.1111111111111111, \"#46039f\"], [0.2222222222222222, \"#7201a8\"], [0.3333333333333333, \"#9c179e\"], [0.4444444444444444, \"#bd3786\"], [0.5555555555555556, \"#d8576b\"], [0.6666666666666666, \"#ed7953\"], [0.7777777777777778, \"#fb9f3a\"], [0.8888888888888888, \"#fdca26\"], [1.0, \"#f0f921\"]], \"type\": \"histogram2dcontour\"}], \"mesh3d\": [{\"colorbar\": {\"outlinewidth\": 0, \"ticks\": \"\"}, \"type\": \"mesh3d\"}], \"parcoords\": [{\"line\": {\"colorbar\": {\"outlinewidth\": 0, \"ticks\": \"\"}}, \"type\": \"parcoords\"}], \"pie\": [{\"automargin\": true, \"type\": \"pie\"}], \"scatter\": [{\"marker\": {\"colorbar\": {\"outlinewidth\": 0, \"ticks\": \"\"}}, \"type\": \"scatter\"}], \"scatter3d\": [{\"line\": {\"colorbar\": {\"outlinewidth\": 0, \"ticks\": \"\"}}, \"marker\": {\"colorbar\": {\"outlinewidth\": 0, \"ticks\": \"\"}}, \"type\": \"scatter3d\"}], \"scattercarpet\": [{\"marker\": {\"colorbar\": {\"outlinewidth\": 0, \"ticks\": \"\"}}, \"type\": \"scattercarpet\"}], \"scattergeo\": [{\"marker\": {\"colorbar\": {\"outlinewidth\": 0, \"ticks\": \"\"}}, \"type\": \"scattergeo\"}], \"scattergl\": [{\"marker\": {\"colorbar\": {\"outlinewidth\": 0, \"ticks\": \"\"}}, \"type\": \"scattergl\"}], \"scattermapbox\": [{\"marker\": {\"colorbar\": {\"outlinewidth\": 0, \"ticks\": \"\"}}, \"type\": \"scattermapbox\"}], \"scatterpolar\": [{\"marker\": {\"colorbar\": {\"outlinewidth\": 0, \"ticks\": \"\"}}, \"type\": \"scatterpolar\"}], \"scatterpolargl\": [{\"marker\": {\"colorbar\": {\"outlinewidth\": 0, \"ticks\": \"\"}}, \"type\": \"scatterpolargl\"}], \"scatterternary\": [{\"marker\": {\"colorbar\": {\"outlinewidth\": 0, \"ticks\": \"\"}}, \"type\": \"scatterternary\"}], \"surface\": [{\"colorbar\": {\"outlinewidth\": 0, \"ticks\": \"\"}, \"colorscale\": [[0.0, \"#0d0887\"], [0.1111111111111111, \"#46039f\"], [0.2222222222222222, \"#7201a8\"], [0.3333333333333333, \"#9c179e\"], [0.4444444444444444, \"#bd3786\"], [0.5555555555555556, \"#d8576b\"], [0.6666666666666666, \"#ed7953\"], [0.7777777777777778, \"#fb9f3a\"], [0.8888888888888888, \"#fdca26\"], [1.0, \"#f0f921\"]], \"type\": \"surface\"}], \"table\": [{\"cells\": {\"fill\": {\"color\": \"#EBF0F8\"}, \"line\": {\"color\": \"white\"}}, \"header\": {\"fill\": {\"color\": \"#C8D4E3\"}, \"line\": {\"color\": \"white\"}}, \"type\": \"table\"}]}, \"layout\": {\"annotationdefaults\": {\"arrowcolor\": \"#2a3f5f\", \"arrowhead\": 0, \"arrowwidth\": 1}, \"autotypenumbers\": \"strict\", \"coloraxis\": {\"colorbar\": {\"outlinewidth\": 0, \"ticks\": \"\"}}, \"colorscale\": {\"diverging\": [[0, \"#8e0152\"], [0.1, \"#c51b7d\"], [0.2, \"#de77ae\"], [0.3, \"#f1b6da\"], [0.4, \"#fde0ef\"], [0.5, \"#f7f7f7\"], [0.6, \"#e6f5d0\"], [0.7, \"#b8e186\"], [0.8, \"#7fbc41\"], [0.9, \"#4d9221\"], [1, \"#276419\"]], \"sequential\": [[0.0, \"#0d0887\"], [0.1111111111111111, \"#46039f\"], [0.2222222222222222, \"#7201a8\"], [0.3333333333333333, \"#9c179e\"], [0.4444444444444444, \"#bd3786\"], [0.5555555555555556, \"#d8576b\"], [0.6666666666666666, \"#ed7953\"], [0.7777777777777778, \"#fb9f3a\"], [0.8888888888888888, \"#fdca26\"], [1.0, \"#f0f921\"]], \"sequentialminus\": [[0.0, \"#0d0887\"], [0.1111111111111111, \"#46039f\"], [0.2222222222222222, \"#7201a8\"], [0.3333333333333333, \"#9c179e\"], [0.4444444444444444, \"#bd3786\"], [0.5555555555555556, \"#d8576b\"], [0.6666666666666666, \"#ed7953\"], [0.7777777777777778, \"#fb9f3a\"], [0.8888888888888888, \"#fdca26\"], [1.0, \"#f0f921\"]]}, \"colorway\": [\"#636efa\", \"#EF553B\", \"#00cc96\", \"#ab63fa\", \"#FFA15A\", \"#19d3f3\", \"#FF6692\", \"#B6E880\", \"#FF97FF\", \"#FECB52\"], \"font\": {\"color\": \"#2a3f5f\"}, \"geo\": {\"bgcolor\": \"white\", \"lakecolor\": \"white\", \"landcolor\": \"#E5ECF6\", \"showlakes\": true, \"showland\": true, \"subunitcolor\": \"white\"}, \"hoverlabel\": {\"align\": \"left\"}, \"hovermode\": \"closest\", \"mapbox\": {\"style\": \"light\"}, \"paper_bgcolor\": \"white\", \"plot_bgcolor\": \"#E5ECF6\", \"polar\": {\"angularaxis\": {\"gridcolor\": \"white\", \"linecolor\": \"white\", \"ticks\": \"\"}, \"bgcolor\": \"#E5ECF6\", \"radialaxis\": {\"gridcolor\": \"white\", \"linecolor\": \"white\", \"ticks\": \"\"}}, \"scene\": {\"xaxis\": {\"backgroundcolor\": \"#E5ECF6\", \"gridcolor\": \"white\", \"gridwidth\": 2, \"linecolor\": \"white\", \"showbackground\": true, \"ticks\": \"\", \"zerolinecolor\": \"white\"}, \"yaxis\": {\"backgroundcolor\": \"#E5ECF6\", \"gridcolor\": \"white\", \"gridwidth\": 2, \"linecolor\": \"white\", \"showbackground\": true, \"ticks\": \"\", \"zerolinecolor\": \"white\"}, \"zaxis\": {\"backgroundcolor\": \"#E5ECF6\", \"gridcolor\": \"white\", \"gridwidth\": 2, \"linecolor\": \"white\", \"showbackground\": true, \"ticks\": \"\", \"zerolinecolor\": \"white\"}}, \"shapedefaults\": {\"line\": {\"color\": \"#2a3f5f\"}}, \"ternary\": {\"aaxis\": {\"gridcolor\": \"white\", \"linecolor\": \"white\", \"ticks\": \"\"}, \"baxis\": {\"gridcolor\": \"white\", \"linecolor\": \"white\", \"ticks\": \"\"}, \"bgcolor\": \"#E5ECF6\", \"caxis\": {\"gridcolor\": \"white\", \"linecolor\": \"white\", \"ticks\": \"\"}}, \"title\": {\"x\": 0.05}, \"xaxis\": {\"automargin\": true, \"gridcolor\": \"white\", \"linecolor\": \"white\", \"ticks\": \"\", \"title\": {\"standoff\": 15}, \"zerolinecolor\": \"white\", \"zerolinewidth\": 2}, \"yaxis\": {\"automargin\": true, \"gridcolor\": \"white\", \"linecolor\": \"white\", \"ticks\": \"\", \"title\": {\"standoff\": 15}, \"zerolinecolor\": \"white\", \"zerolinewidth\": 2}}}, \"title\": {\"font\": {\"color\": \"#4D5663\"}}, \"xaxis\": {\"gridcolor\": \"#E1E5ED\", \"showgrid\": true, \"tickfont\": {\"color\": \"#4D5663\"}, \"title\": {\"font\": {\"color\": \"#4D5663\"}, \"text\": \"\"}, \"zerolinecolor\": \"#E1E5ED\"}, \"yaxis\": {\"gridcolor\": \"#E1E5ED\", \"showgrid\": true, \"tickfont\": {\"color\": \"#4D5663\"}, \"title\": {\"font\": {\"color\": \"#4D5663\"}, \"text\": \"\"}, \"zerolinecolor\": \"#E1E5ED\"}},                        {\"showLink\": true, \"linkText\": \"Export to plot.ly\", \"plotlyServerURL\": \"https://plot.ly\", \"responsive\": true}                    ).then(function(){\n",
       "                            \n",
       "var gd = document.getElementById('d23553df-af43-4d06-9b03-c90fb4ff5e0e');\n",
       "var x = new MutationObserver(function (mutations, observer) {{\n",
       "        var display = window.getComputedStyle(gd).display;\n",
       "        if (!display || display === 'none') {{\n",
       "            console.log([gd, 'removed!']);\n",
       "            Plotly.purge(gd);\n",
       "            observer.disconnect();\n",
       "        }}\n",
       "}});\n",
       "\n",
       "// Listen for the removal of the full notebook cells\n",
       "var notebookContainer = gd.closest('#notebook-container');\n",
       "if (notebookContainer) {{\n",
       "    x.observe(notebookContainer, {childList: true});\n",
       "}}\n",
       "\n",
       "// Listen for the clearing of the current output cell\n",
       "var outputEl = gd.closest('.output');\n",
       "if (outputEl) {{\n",
       "    x.observe(outputEl, {childList: true});\n",
       "}}\n",
       "\n",
       "                        })                };                });            </script>        </div>"
      ]
     },
     "metadata": {},
     "output_type": "display_data"
    }
   ],
   "source": [
    "df.iplot(kind='scatter', x='A', y='B', mode='markers', size=20)"
   ]
  },
  {
   "cell_type": "code",
   "execution_count": 28,
   "metadata": {},
   "outputs": [
    {
     "data": {
      "application/vnd.plotly.v1+json": {
       "config": {
        "linkText": "Export to plot.ly",
        "plotlyServerURL": "https://plot.ly",
        "showLink": true
       },
       "data": [
        {
         "marker": {
          "color": "rgba(255, 153, 51, 0.6)",
          "line": {
           "color": "rgba(255, 153, 51, 1.0)",
           "width": 1
          }
         },
         "name": "Values",
         "orientation": "v",
         "text": "",
         "type": "bar",
         "x": [
          "A",
          "B",
          "C"
         ],
         "y": [
          32,
          43,
          50
         ]
        }
       ],
       "layout": {
        "legend": {
         "bgcolor": "#F5F6F9",
         "font": {
          "color": "#4D5663"
         }
        },
        "paper_bgcolor": "#F5F6F9",
        "plot_bgcolor": "#F5F6F9",
        "template": {
         "data": {
          "bar": [
           {
            "error_x": {
             "color": "#2a3f5f"
            },
            "error_y": {
             "color": "#2a3f5f"
            },
            "marker": {
             "line": {
              "color": "#E5ECF6",
              "width": 0.5
             }
            },
            "type": "bar"
           }
          ],
          "barpolar": [
           {
            "marker": {
             "line": {
              "color": "#E5ECF6",
              "width": 0.5
             }
            },
            "type": "barpolar"
           }
          ],
          "carpet": [
           {
            "aaxis": {
             "endlinecolor": "#2a3f5f",
             "gridcolor": "white",
             "linecolor": "white",
             "minorgridcolor": "white",
             "startlinecolor": "#2a3f5f"
            },
            "baxis": {
             "endlinecolor": "#2a3f5f",
             "gridcolor": "white",
             "linecolor": "white",
             "minorgridcolor": "white",
             "startlinecolor": "#2a3f5f"
            },
            "type": "carpet"
           }
          ],
          "choropleth": [
           {
            "colorbar": {
             "outlinewidth": 0,
             "ticks": ""
            },
            "type": "choropleth"
           }
          ],
          "contour": [
           {
            "colorbar": {
             "outlinewidth": 0,
             "ticks": ""
            },
            "colorscale": [
             [
              0,
              "#0d0887"
             ],
             [
              0.1111111111111111,
              "#46039f"
             ],
             [
              0.2222222222222222,
              "#7201a8"
             ],
             [
              0.3333333333333333,
              "#9c179e"
             ],
             [
              0.4444444444444444,
              "#bd3786"
             ],
             [
              0.5555555555555556,
              "#d8576b"
             ],
             [
              0.6666666666666666,
              "#ed7953"
             ],
             [
              0.7777777777777778,
              "#fb9f3a"
             ],
             [
              0.8888888888888888,
              "#fdca26"
             ],
             [
              1,
              "#f0f921"
             ]
            ],
            "type": "contour"
           }
          ],
          "contourcarpet": [
           {
            "colorbar": {
             "outlinewidth": 0,
             "ticks": ""
            },
            "type": "contourcarpet"
           }
          ],
          "heatmap": [
           {
            "colorbar": {
             "outlinewidth": 0,
             "ticks": ""
            },
            "colorscale": [
             [
              0,
              "#0d0887"
             ],
             [
              0.1111111111111111,
              "#46039f"
             ],
             [
              0.2222222222222222,
              "#7201a8"
             ],
             [
              0.3333333333333333,
              "#9c179e"
             ],
             [
              0.4444444444444444,
              "#bd3786"
             ],
             [
              0.5555555555555556,
              "#d8576b"
             ],
             [
              0.6666666666666666,
              "#ed7953"
             ],
             [
              0.7777777777777778,
              "#fb9f3a"
             ],
             [
              0.8888888888888888,
              "#fdca26"
             ],
             [
              1,
              "#f0f921"
             ]
            ],
            "type": "heatmap"
           }
          ],
          "heatmapgl": [
           {
            "colorbar": {
             "outlinewidth": 0,
             "ticks": ""
            },
            "colorscale": [
             [
              0,
              "#0d0887"
             ],
             [
              0.1111111111111111,
              "#46039f"
             ],
             [
              0.2222222222222222,
              "#7201a8"
             ],
             [
              0.3333333333333333,
              "#9c179e"
             ],
             [
              0.4444444444444444,
              "#bd3786"
             ],
             [
              0.5555555555555556,
              "#d8576b"
             ],
             [
              0.6666666666666666,
              "#ed7953"
             ],
             [
              0.7777777777777778,
              "#fb9f3a"
             ],
             [
              0.8888888888888888,
              "#fdca26"
             ],
             [
              1,
              "#f0f921"
             ]
            ],
            "type": "heatmapgl"
           }
          ],
          "histogram": [
           {
            "marker": {
             "colorbar": {
              "outlinewidth": 0,
              "ticks": ""
             }
            },
            "type": "histogram"
           }
          ],
          "histogram2d": [
           {
            "colorbar": {
             "outlinewidth": 0,
             "ticks": ""
            },
            "colorscale": [
             [
              0,
              "#0d0887"
             ],
             [
              0.1111111111111111,
              "#46039f"
             ],
             [
              0.2222222222222222,
              "#7201a8"
             ],
             [
              0.3333333333333333,
              "#9c179e"
             ],
             [
              0.4444444444444444,
              "#bd3786"
             ],
             [
              0.5555555555555556,
              "#d8576b"
             ],
             [
              0.6666666666666666,
              "#ed7953"
             ],
             [
              0.7777777777777778,
              "#fb9f3a"
             ],
             [
              0.8888888888888888,
              "#fdca26"
             ],
             [
              1,
              "#f0f921"
             ]
            ],
            "type": "histogram2d"
           }
          ],
          "histogram2dcontour": [
           {
            "colorbar": {
             "outlinewidth": 0,
             "ticks": ""
            },
            "colorscale": [
             [
              0,
              "#0d0887"
             ],
             [
              0.1111111111111111,
              "#46039f"
             ],
             [
              0.2222222222222222,
              "#7201a8"
             ],
             [
              0.3333333333333333,
              "#9c179e"
             ],
             [
              0.4444444444444444,
              "#bd3786"
             ],
             [
              0.5555555555555556,
              "#d8576b"
             ],
             [
              0.6666666666666666,
              "#ed7953"
             ],
             [
              0.7777777777777778,
              "#fb9f3a"
             ],
             [
              0.8888888888888888,
              "#fdca26"
             ],
             [
              1,
              "#f0f921"
             ]
            ],
            "type": "histogram2dcontour"
           }
          ],
          "mesh3d": [
           {
            "colorbar": {
             "outlinewidth": 0,
             "ticks": ""
            },
            "type": "mesh3d"
           }
          ],
          "parcoords": [
           {
            "line": {
             "colorbar": {
              "outlinewidth": 0,
              "ticks": ""
             }
            },
            "type": "parcoords"
           }
          ],
          "pie": [
           {
            "automargin": true,
            "type": "pie"
           }
          ],
          "scatter": [
           {
            "marker": {
             "colorbar": {
              "outlinewidth": 0,
              "ticks": ""
             }
            },
            "type": "scatter"
           }
          ],
          "scatter3d": [
           {
            "line": {
             "colorbar": {
              "outlinewidth": 0,
              "ticks": ""
             }
            },
            "marker": {
             "colorbar": {
              "outlinewidth": 0,
              "ticks": ""
             }
            },
            "type": "scatter3d"
           }
          ],
          "scattercarpet": [
           {
            "marker": {
             "colorbar": {
              "outlinewidth": 0,
              "ticks": ""
             }
            },
            "type": "scattercarpet"
           }
          ],
          "scattergeo": [
           {
            "marker": {
             "colorbar": {
              "outlinewidth": 0,
              "ticks": ""
             }
            },
            "type": "scattergeo"
           }
          ],
          "scattergl": [
           {
            "marker": {
             "colorbar": {
              "outlinewidth": 0,
              "ticks": ""
             }
            },
            "type": "scattergl"
           }
          ],
          "scattermapbox": [
           {
            "marker": {
             "colorbar": {
              "outlinewidth": 0,
              "ticks": ""
             }
            },
            "type": "scattermapbox"
           }
          ],
          "scatterpolar": [
           {
            "marker": {
             "colorbar": {
              "outlinewidth": 0,
              "ticks": ""
             }
            },
            "type": "scatterpolar"
           }
          ],
          "scatterpolargl": [
           {
            "marker": {
             "colorbar": {
              "outlinewidth": 0,
              "ticks": ""
             }
            },
            "type": "scatterpolargl"
           }
          ],
          "scatterternary": [
           {
            "marker": {
             "colorbar": {
              "outlinewidth": 0,
              "ticks": ""
             }
            },
            "type": "scatterternary"
           }
          ],
          "surface": [
           {
            "colorbar": {
             "outlinewidth": 0,
             "ticks": ""
            },
            "colorscale": [
             [
              0,
              "#0d0887"
             ],
             [
              0.1111111111111111,
              "#46039f"
             ],
             [
              0.2222222222222222,
              "#7201a8"
             ],
             [
              0.3333333333333333,
              "#9c179e"
             ],
             [
              0.4444444444444444,
              "#bd3786"
             ],
             [
              0.5555555555555556,
              "#d8576b"
             ],
             [
              0.6666666666666666,
              "#ed7953"
             ],
             [
              0.7777777777777778,
              "#fb9f3a"
             ],
             [
              0.8888888888888888,
              "#fdca26"
             ],
             [
              1,
              "#f0f921"
             ]
            ],
            "type": "surface"
           }
          ],
          "table": [
           {
            "cells": {
             "fill": {
              "color": "#EBF0F8"
             },
             "line": {
              "color": "white"
             }
            },
            "header": {
             "fill": {
              "color": "#C8D4E3"
             },
             "line": {
              "color": "white"
             }
            },
            "type": "table"
           }
          ]
         },
         "layout": {
          "annotationdefaults": {
           "arrowcolor": "#2a3f5f",
           "arrowhead": 0,
           "arrowwidth": 1
          },
          "autotypenumbers": "strict",
          "coloraxis": {
           "colorbar": {
            "outlinewidth": 0,
            "ticks": ""
           }
          },
          "colorscale": {
           "diverging": [
            [
             0,
             "#8e0152"
            ],
            [
             0.1,
             "#c51b7d"
            ],
            [
             0.2,
             "#de77ae"
            ],
            [
             0.3,
             "#f1b6da"
            ],
            [
             0.4,
             "#fde0ef"
            ],
            [
             0.5,
             "#f7f7f7"
            ],
            [
             0.6,
             "#e6f5d0"
            ],
            [
             0.7,
             "#b8e186"
            ],
            [
             0.8,
             "#7fbc41"
            ],
            [
             0.9,
             "#4d9221"
            ],
            [
             1,
             "#276419"
            ]
           ],
           "sequential": [
            [
             0,
             "#0d0887"
            ],
            [
             0.1111111111111111,
             "#46039f"
            ],
            [
             0.2222222222222222,
             "#7201a8"
            ],
            [
             0.3333333333333333,
             "#9c179e"
            ],
            [
             0.4444444444444444,
             "#bd3786"
            ],
            [
             0.5555555555555556,
             "#d8576b"
            ],
            [
             0.6666666666666666,
             "#ed7953"
            ],
            [
             0.7777777777777778,
             "#fb9f3a"
            ],
            [
             0.8888888888888888,
             "#fdca26"
            ],
            [
             1,
             "#f0f921"
            ]
           ],
           "sequentialminus": [
            [
             0,
             "#0d0887"
            ],
            [
             0.1111111111111111,
             "#46039f"
            ],
            [
             0.2222222222222222,
             "#7201a8"
            ],
            [
             0.3333333333333333,
             "#9c179e"
            ],
            [
             0.4444444444444444,
             "#bd3786"
            ],
            [
             0.5555555555555556,
             "#d8576b"
            ],
            [
             0.6666666666666666,
             "#ed7953"
            ],
            [
             0.7777777777777778,
             "#fb9f3a"
            ],
            [
             0.8888888888888888,
             "#fdca26"
            ],
            [
             1,
             "#f0f921"
            ]
           ]
          },
          "colorway": [
           "#636efa",
           "#EF553B",
           "#00cc96",
           "#ab63fa",
           "#FFA15A",
           "#19d3f3",
           "#FF6692",
           "#B6E880",
           "#FF97FF",
           "#FECB52"
          ],
          "font": {
           "color": "#2a3f5f"
          },
          "geo": {
           "bgcolor": "white",
           "lakecolor": "white",
           "landcolor": "#E5ECF6",
           "showlakes": true,
           "showland": true,
           "subunitcolor": "white"
          },
          "hoverlabel": {
           "align": "left"
          },
          "hovermode": "closest",
          "mapbox": {
           "style": "light"
          },
          "paper_bgcolor": "white",
          "plot_bgcolor": "#E5ECF6",
          "polar": {
           "angularaxis": {
            "gridcolor": "white",
            "linecolor": "white",
            "ticks": ""
           },
           "bgcolor": "#E5ECF6",
           "radialaxis": {
            "gridcolor": "white",
            "linecolor": "white",
            "ticks": ""
           }
          },
          "scene": {
           "xaxis": {
            "backgroundcolor": "#E5ECF6",
            "gridcolor": "white",
            "gridwidth": 2,
            "linecolor": "white",
            "showbackground": true,
            "ticks": "",
            "zerolinecolor": "white"
           },
           "yaxis": {
            "backgroundcolor": "#E5ECF6",
            "gridcolor": "white",
            "gridwidth": 2,
            "linecolor": "white",
            "showbackground": true,
            "ticks": "",
            "zerolinecolor": "white"
           },
           "zaxis": {
            "backgroundcolor": "#E5ECF6",
            "gridcolor": "white",
            "gridwidth": 2,
            "linecolor": "white",
            "showbackground": true,
            "ticks": "",
            "zerolinecolor": "white"
           }
          },
          "shapedefaults": {
           "line": {
            "color": "#2a3f5f"
           }
          },
          "ternary": {
           "aaxis": {
            "gridcolor": "white",
            "linecolor": "white",
            "ticks": ""
           },
           "baxis": {
            "gridcolor": "white",
            "linecolor": "white",
            "ticks": ""
           },
           "bgcolor": "#E5ECF6",
           "caxis": {
            "gridcolor": "white",
            "linecolor": "white",
            "ticks": ""
           }
          },
          "title": {
           "x": 0.05
          },
          "xaxis": {
           "automargin": true,
           "gridcolor": "white",
           "linecolor": "white",
           "ticks": "",
           "title": {
            "standoff": 15
           },
           "zerolinecolor": "white",
           "zerolinewidth": 2
          },
          "yaxis": {
           "automargin": true,
           "gridcolor": "white",
           "linecolor": "white",
           "ticks": "",
           "title": {
            "standoff": 15
           },
           "zerolinecolor": "white",
           "zerolinewidth": 2
          }
         }
        },
        "title": {
         "font": {
          "color": "#4D5663"
         }
        },
        "xaxis": {
         "gridcolor": "#E1E5ED",
         "showgrid": true,
         "tickfont": {
          "color": "#4D5663"
         },
         "title": {
          "font": {
           "color": "#4D5663"
          },
          "text": ""
         },
         "zerolinecolor": "#E1E5ED"
        },
        "yaxis": {
         "gridcolor": "#E1E5ED",
         "showgrid": true,
         "tickfont": {
          "color": "#4D5663"
         },
         "title": {
          "font": {
           "color": "#4D5663"
          },
          "text": ""
         },
         "zerolinecolor": "#E1E5ED"
        }
       }
      },
      "text/html": [
       "<div>                            <div id=\"4b75afa4-92f9-453c-aaad-ef0f223002e5\" class=\"plotly-graph-div\" style=\"height:525px; width:100%;\"></div>            <script type=\"text/javascript\">                require([\"plotly\"], function(Plotly) {                    window.PLOTLYENV=window.PLOTLYENV || {};\n",
       "                    window.PLOTLYENV.BASE_URL='https://plot.ly';                                    if (document.getElementById(\"4b75afa4-92f9-453c-aaad-ef0f223002e5\")) {                    Plotly.newPlot(                        \"4b75afa4-92f9-453c-aaad-ef0f223002e5\",                        [{\"marker\": {\"color\": \"rgba(255, 153, 51, 0.6)\", \"line\": {\"color\": \"rgba(255, 153, 51, 1.0)\", \"width\": 1}}, \"name\": \"Values\", \"orientation\": \"v\", \"text\": \"\", \"type\": \"bar\", \"x\": [\"A\", \"B\", \"C\"], \"y\": [32, 43, 50]}],                        {\"legend\": {\"bgcolor\": \"#F5F6F9\", \"font\": {\"color\": \"#4D5663\"}}, \"paper_bgcolor\": \"#F5F6F9\", \"plot_bgcolor\": \"#F5F6F9\", \"template\": {\"data\": {\"bar\": [{\"error_x\": {\"color\": \"#2a3f5f\"}, \"error_y\": {\"color\": \"#2a3f5f\"}, \"marker\": {\"line\": {\"color\": \"#E5ECF6\", \"width\": 0.5}}, \"type\": \"bar\"}], \"barpolar\": [{\"marker\": {\"line\": {\"color\": \"#E5ECF6\", \"width\": 0.5}}, \"type\": \"barpolar\"}], \"carpet\": [{\"aaxis\": {\"endlinecolor\": \"#2a3f5f\", \"gridcolor\": \"white\", \"linecolor\": \"white\", \"minorgridcolor\": \"white\", \"startlinecolor\": \"#2a3f5f\"}, \"baxis\": {\"endlinecolor\": \"#2a3f5f\", \"gridcolor\": \"white\", \"linecolor\": \"white\", \"minorgridcolor\": \"white\", \"startlinecolor\": \"#2a3f5f\"}, \"type\": \"carpet\"}], \"choropleth\": [{\"colorbar\": {\"outlinewidth\": 0, \"ticks\": \"\"}, \"type\": \"choropleth\"}], \"contour\": [{\"colorbar\": {\"outlinewidth\": 0, \"ticks\": \"\"}, \"colorscale\": [[0.0, \"#0d0887\"], [0.1111111111111111, \"#46039f\"], [0.2222222222222222, \"#7201a8\"], [0.3333333333333333, \"#9c179e\"], [0.4444444444444444, \"#bd3786\"], [0.5555555555555556, \"#d8576b\"], [0.6666666666666666, \"#ed7953\"], [0.7777777777777778, \"#fb9f3a\"], [0.8888888888888888, \"#fdca26\"], [1.0, \"#f0f921\"]], \"type\": \"contour\"}], \"contourcarpet\": [{\"colorbar\": {\"outlinewidth\": 0, \"ticks\": \"\"}, \"type\": \"contourcarpet\"}], \"heatmap\": [{\"colorbar\": {\"outlinewidth\": 0, \"ticks\": \"\"}, \"colorscale\": [[0.0, \"#0d0887\"], [0.1111111111111111, \"#46039f\"], [0.2222222222222222, \"#7201a8\"], [0.3333333333333333, \"#9c179e\"], [0.4444444444444444, \"#bd3786\"], [0.5555555555555556, \"#d8576b\"], [0.6666666666666666, \"#ed7953\"], [0.7777777777777778, \"#fb9f3a\"], [0.8888888888888888, \"#fdca26\"], [1.0, \"#f0f921\"]], \"type\": \"heatmap\"}], \"heatmapgl\": [{\"colorbar\": {\"outlinewidth\": 0, \"ticks\": \"\"}, \"colorscale\": [[0.0, \"#0d0887\"], [0.1111111111111111, \"#46039f\"], [0.2222222222222222, \"#7201a8\"], [0.3333333333333333, \"#9c179e\"], [0.4444444444444444, \"#bd3786\"], [0.5555555555555556, \"#d8576b\"], [0.6666666666666666, \"#ed7953\"], [0.7777777777777778, \"#fb9f3a\"], [0.8888888888888888, \"#fdca26\"], [1.0, \"#f0f921\"]], \"type\": \"heatmapgl\"}], \"histogram\": [{\"marker\": {\"colorbar\": {\"outlinewidth\": 0, \"ticks\": \"\"}}, \"type\": \"histogram\"}], \"histogram2d\": [{\"colorbar\": {\"outlinewidth\": 0, \"ticks\": \"\"}, \"colorscale\": [[0.0, \"#0d0887\"], [0.1111111111111111, \"#46039f\"], [0.2222222222222222, \"#7201a8\"], [0.3333333333333333, \"#9c179e\"], [0.4444444444444444, \"#bd3786\"], [0.5555555555555556, \"#d8576b\"], [0.6666666666666666, \"#ed7953\"], [0.7777777777777778, \"#fb9f3a\"], [0.8888888888888888, \"#fdca26\"], [1.0, \"#f0f921\"]], \"type\": \"histogram2d\"}], \"histogram2dcontour\": [{\"colorbar\": {\"outlinewidth\": 0, \"ticks\": \"\"}, \"colorscale\": [[0.0, \"#0d0887\"], [0.1111111111111111, \"#46039f\"], [0.2222222222222222, \"#7201a8\"], [0.3333333333333333, \"#9c179e\"], [0.4444444444444444, \"#bd3786\"], [0.5555555555555556, \"#d8576b\"], [0.6666666666666666, \"#ed7953\"], [0.7777777777777778, \"#fb9f3a\"], [0.8888888888888888, \"#fdca26\"], [1.0, \"#f0f921\"]], \"type\": \"histogram2dcontour\"}], \"mesh3d\": [{\"colorbar\": {\"outlinewidth\": 0, \"ticks\": \"\"}, \"type\": \"mesh3d\"}], \"parcoords\": [{\"line\": {\"colorbar\": {\"outlinewidth\": 0, \"ticks\": \"\"}}, \"type\": \"parcoords\"}], \"pie\": [{\"automargin\": true, \"type\": \"pie\"}], \"scatter\": [{\"marker\": {\"colorbar\": {\"outlinewidth\": 0, \"ticks\": \"\"}}, \"type\": \"scatter\"}], \"scatter3d\": [{\"line\": {\"colorbar\": {\"outlinewidth\": 0, \"ticks\": \"\"}}, \"marker\": {\"colorbar\": {\"outlinewidth\": 0, \"ticks\": \"\"}}, \"type\": \"scatter3d\"}], \"scattercarpet\": [{\"marker\": {\"colorbar\": {\"outlinewidth\": 0, \"ticks\": \"\"}}, \"type\": \"scattercarpet\"}], \"scattergeo\": [{\"marker\": {\"colorbar\": {\"outlinewidth\": 0, \"ticks\": \"\"}}, \"type\": \"scattergeo\"}], \"scattergl\": [{\"marker\": {\"colorbar\": {\"outlinewidth\": 0, \"ticks\": \"\"}}, \"type\": \"scattergl\"}], \"scattermapbox\": [{\"marker\": {\"colorbar\": {\"outlinewidth\": 0, \"ticks\": \"\"}}, \"type\": \"scattermapbox\"}], \"scatterpolar\": [{\"marker\": {\"colorbar\": {\"outlinewidth\": 0, \"ticks\": \"\"}}, \"type\": \"scatterpolar\"}], \"scatterpolargl\": [{\"marker\": {\"colorbar\": {\"outlinewidth\": 0, \"ticks\": \"\"}}, \"type\": \"scatterpolargl\"}], \"scatterternary\": [{\"marker\": {\"colorbar\": {\"outlinewidth\": 0, \"ticks\": \"\"}}, \"type\": \"scatterternary\"}], \"surface\": [{\"colorbar\": {\"outlinewidth\": 0, \"ticks\": \"\"}, \"colorscale\": [[0.0, \"#0d0887\"], [0.1111111111111111, \"#46039f\"], [0.2222222222222222, \"#7201a8\"], [0.3333333333333333, \"#9c179e\"], [0.4444444444444444, \"#bd3786\"], [0.5555555555555556, \"#d8576b\"], [0.6666666666666666, \"#ed7953\"], [0.7777777777777778, \"#fb9f3a\"], [0.8888888888888888, \"#fdca26\"], [1.0, \"#f0f921\"]], \"type\": \"surface\"}], \"table\": [{\"cells\": {\"fill\": {\"color\": \"#EBF0F8\"}, \"line\": {\"color\": \"white\"}}, \"header\": {\"fill\": {\"color\": \"#C8D4E3\"}, \"line\": {\"color\": \"white\"}}, \"type\": \"table\"}]}, \"layout\": {\"annotationdefaults\": {\"arrowcolor\": \"#2a3f5f\", \"arrowhead\": 0, \"arrowwidth\": 1}, \"autotypenumbers\": \"strict\", \"coloraxis\": {\"colorbar\": {\"outlinewidth\": 0, \"ticks\": \"\"}}, \"colorscale\": {\"diverging\": [[0, \"#8e0152\"], [0.1, \"#c51b7d\"], [0.2, \"#de77ae\"], [0.3, \"#f1b6da\"], [0.4, \"#fde0ef\"], [0.5, \"#f7f7f7\"], [0.6, \"#e6f5d0\"], [0.7, \"#b8e186\"], [0.8, \"#7fbc41\"], [0.9, \"#4d9221\"], [1, \"#276419\"]], \"sequential\": [[0.0, \"#0d0887\"], [0.1111111111111111, \"#46039f\"], [0.2222222222222222, \"#7201a8\"], [0.3333333333333333, \"#9c179e\"], [0.4444444444444444, \"#bd3786\"], [0.5555555555555556, \"#d8576b\"], [0.6666666666666666, \"#ed7953\"], [0.7777777777777778, \"#fb9f3a\"], [0.8888888888888888, \"#fdca26\"], [1.0, \"#f0f921\"]], \"sequentialminus\": [[0.0, \"#0d0887\"], [0.1111111111111111, \"#46039f\"], [0.2222222222222222, \"#7201a8\"], [0.3333333333333333, \"#9c179e\"], [0.4444444444444444, \"#bd3786\"], [0.5555555555555556, \"#d8576b\"], [0.6666666666666666, \"#ed7953\"], [0.7777777777777778, \"#fb9f3a\"], [0.8888888888888888, \"#fdca26\"], [1.0, \"#f0f921\"]]}, \"colorway\": [\"#636efa\", \"#EF553B\", \"#00cc96\", \"#ab63fa\", \"#FFA15A\", \"#19d3f3\", \"#FF6692\", \"#B6E880\", \"#FF97FF\", \"#FECB52\"], \"font\": {\"color\": \"#2a3f5f\"}, \"geo\": {\"bgcolor\": \"white\", \"lakecolor\": \"white\", \"landcolor\": \"#E5ECF6\", \"showlakes\": true, \"showland\": true, \"subunitcolor\": \"white\"}, \"hoverlabel\": {\"align\": \"left\"}, \"hovermode\": \"closest\", \"mapbox\": {\"style\": \"light\"}, \"paper_bgcolor\": \"white\", \"plot_bgcolor\": \"#E5ECF6\", \"polar\": {\"angularaxis\": {\"gridcolor\": \"white\", \"linecolor\": \"white\", \"ticks\": \"\"}, \"bgcolor\": \"#E5ECF6\", \"radialaxis\": {\"gridcolor\": \"white\", \"linecolor\": \"white\", \"ticks\": \"\"}}, \"scene\": {\"xaxis\": {\"backgroundcolor\": \"#E5ECF6\", \"gridcolor\": \"white\", \"gridwidth\": 2, \"linecolor\": \"white\", \"showbackground\": true, \"ticks\": \"\", \"zerolinecolor\": \"white\"}, \"yaxis\": {\"backgroundcolor\": \"#E5ECF6\", \"gridcolor\": \"white\", \"gridwidth\": 2, \"linecolor\": \"white\", \"showbackground\": true, \"ticks\": \"\", \"zerolinecolor\": \"white\"}, \"zaxis\": {\"backgroundcolor\": \"#E5ECF6\", \"gridcolor\": \"white\", \"gridwidth\": 2, \"linecolor\": \"white\", \"showbackground\": true, \"ticks\": \"\", \"zerolinecolor\": \"white\"}}, \"shapedefaults\": {\"line\": {\"color\": \"#2a3f5f\"}}, \"ternary\": {\"aaxis\": {\"gridcolor\": \"white\", \"linecolor\": \"white\", \"ticks\": \"\"}, \"baxis\": {\"gridcolor\": \"white\", \"linecolor\": \"white\", \"ticks\": \"\"}, \"bgcolor\": \"#E5ECF6\", \"caxis\": {\"gridcolor\": \"white\", \"linecolor\": \"white\", \"ticks\": \"\"}}, \"title\": {\"x\": 0.05}, \"xaxis\": {\"automargin\": true, \"gridcolor\": \"white\", \"linecolor\": \"white\", \"ticks\": \"\", \"title\": {\"standoff\": 15}, \"zerolinecolor\": \"white\", \"zerolinewidth\": 2}, \"yaxis\": {\"automargin\": true, \"gridcolor\": \"white\", \"linecolor\": \"white\", \"ticks\": \"\", \"title\": {\"standoff\": 15}, \"zerolinecolor\": \"white\", \"zerolinewidth\": 2}}}, \"title\": {\"font\": {\"color\": \"#4D5663\"}}, \"xaxis\": {\"gridcolor\": \"#E1E5ED\", \"showgrid\": true, \"tickfont\": {\"color\": \"#4D5663\"}, \"title\": {\"font\": {\"color\": \"#4D5663\"}, \"text\": \"\"}, \"zerolinecolor\": \"#E1E5ED\"}, \"yaxis\": {\"gridcolor\": \"#E1E5ED\", \"showgrid\": true, \"tickfont\": {\"color\": \"#4D5663\"}, \"title\": {\"font\": {\"color\": \"#4D5663\"}, \"text\": \"\"}, \"zerolinecolor\": \"#E1E5ED\"}},                        {\"showLink\": true, \"linkText\": \"Export to plot.ly\", \"plotlyServerURL\": \"https://plot.ly\", \"responsive\": true}                    ).then(function(){\n",
       "                            \n",
       "var gd = document.getElementById('4b75afa4-92f9-453c-aaad-ef0f223002e5');\n",
       "var x = new MutationObserver(function (mutations, observer) {{\n",
       "        var display = window.getComputedStyle(gd).display;\n",
       "        if (!display || display === 'none') {{\n",
       "            console.log([gd, 'removed!']);\n",
       "            Plotly.purge(gd);\n",
       "            observer.disconnect();\n",
       "        }}\n",
       "}});\n",
       "\n",
       "// Listen for the removal of the full notebook cells\n",
       "var notebookContainer = gd.closest('#notebook-container');\n",
       "if (notebookContainer) {{\n",
       "    x.observe(notebookContainer, {childList: true});\n",
       "}}\n",
       "\n",
       "// Listen for the clearing of the current output cell\n",
       "var outputEl = gd.closest('.output');\n",
       "if (outputEl) {{\n",
       "    x.observe(outputEl, {childList: true});\n",
       "}}\n",
       "\n",
       "                        })                };                });            </script>        </div>"
      ]
     },
     "metadata": {},
     "output_type": "display_data"
    }
   ],
   "source": [
    "df2.iplot(kind='bar', x='Category', y=\"Values\")"
   ]
  },
  {
   "cell_type": "code",
   "execution_count": 29,
   "metadata": {},
   "outputs": [
    {
     "data": {
      "application/vnd.plotly.v1+json": {
       "config": {
        "linkText": "Export to plot.ly",
        "plotlyServerURL": "https://plot.ly",
        "showLink": true
       },
       "data": [
        {
         "marker": {
          "color": "rgba(255, 153, 51, 0.6)",
          "line": {
           "color": "rgba(255, 153, 51, 1.0)",
           "width": 1
          }
         },
         "name": "None",
         "orientation": "v",
         "text": "",
         "type": "bar",
         "x": [
          "A",
          "B",
          "C",
          "D"
         ],
         "y": [
          -0.021411130689386396,
          0.04511618002396149,
          0.15850863394620154,
          -0.19584302475961693
         ]
        }
       ],
       "layout": {
        "legend": {
         "bgcolor": "#F5F6F9",
         "font": {
          "color": "#4D5663"
         }
        },
        "paper_bgcolor": "#F5F6F9",
        "plot_bgcolor": "#F5F6F9",
        "template": {
         "data": {
          "bar": [
           {
            "error_x": {
             "color": "#2a3f5f"
            },
            "error_y": {
             "color": "#2a3f5f"
            },
            "marker": {
             "line": {
              "color": "#E5ECF6",
              "width": 0.5
             }
            },
            "type": "bar"
           }
          ],
          "barpolar": [
           {
            "marker": {
             "line": {
              "color": "#E5ECF6",
              "width": 0.5
             }
            },
            "type": "barpolar"
           }
          ],
          "carpet": [
           {
            "aaxis": {
             "endlinecolor": "#2a3f5f",
             "gridcolor": "white",
             "linecolor": "white",
             "minorgridcolor": "white",
             "startlinecolor": "#2a3f5f"
            },
            "baxis": {
             "endlinecolor": "#2a3f5f",
             "gridcolor": "white",
             "linecolor": "white",
             "minorgridcolor": "white",
             "startlinecolor": "#2a3f5f"
            },
            "type": "carpet"
           }
          ],
          "choropleth": [
           {
            "colorbar": {
             "outlinewidth": 0,
             "ticks": ""
            },
            "type": "choropleth"
           }
          ],
          "contour": [
           {
            "colorbar": {
             "outlinewidth": 0,
             "ticks": ""
            },
            "colorscale": [
             [
              0,
              "#0d0887"
             ],
             [
              0.1111111111111111,
              "#46039f"
             ],
             [
              0.2222222222222222,
              "#7201a8"
             ],
             [
              0.3333333333333333,
              "#9c179e"
             ],
             [
              0.4444444444444444,
              "#bd3786"
             ],
             [
              0.5555555555555556,
              "#d8576b"
             ],
             [
              0.6666666666666666,
              "#ed7953"
             ],
             [
              0.7777777777777778,
              "#fb9f3a"
             ],
             [
              0.8888888888888888,
              "#fdca26"
             ],
             [
              1,
              "#f0f921"
             ]
            ],
            "type": "contour"
           }
          ],
          "contourcarpet": [
           {
            "colorbar": {
             "outlinewidth": 0,
             "ticks": ""
            },
            "type": "contourcarpet"
           }
          ],
          "heatmap": [
           {
            "colorbar": {
             "outlinewidth": 0,
             "ticks": ""
            },
            "colorscale": [
             [
              0,
              "#0d0887"
             ],
             [
              0.1111111111111111,
              "#46039f"
             ],
             [
              0.2222222222222222,
              "#7201a8"
             ],
             [
              0.3333333333333333,
              "#9c179e"
             ],
             [
              0.4444444444444444,
              "#bd3786"
             ],
             [
              0.5555555555555556,
              "#d8576b"
             ],
             [
              0.6666666666666666,
              "#ed7953"
             ],
             [
              0.7777777777777778,
              "#fb9f3a"
             ],
             [
              0.8888888888888888,
              "#fdca26"
             ],
             [
              1,
              "#f0f921"
             ]
            ],
            "type": "heatmap"
           }
          ],
          "heatmapgl": [
           {
            "colorbar": {
             "outlinewidth": 0,
             "ticks": ""
            },
            "colorscale": [
             [
              0,
              "#0d0887"
             ],
             [
              0.1111111111111111,
              "#46039f"
             ],
             [
              0.2222222222222222,
              "#7201a8"
             ],
             [
              0.3333333333333333,
              "#9c179e"
             ],
             [
              0.4444444444444444,
              "#bd3786"
             ],
             [
              0.5555555555555556,
              "#d8576b"
             ],
             [
              0.6666666666666666,
              "#ed7953"
             ],
             [
              0.7777777777777778,
              "#fb9f3a"
             ],
             [
              0.8888888888888888,
              "#fdca26"
             ],
             [
              1,
              "#f0f921"
             ]
            ],
            "type": "heatmapgl"
           }
          ],
          "histogram": [
           {
            "marker": {
             "colorbar": {
              "outlinewidth": 0,
              "ticks": ""
             }
            },
            "type": "histogram"
           }
          ],
          "histogram2d": [
           {
            "colorbar": {
             "outlinewidth": 0,
             "ticks": ""
            },
            "colorscale": [
             [
              0,
              "#0d0887"
             ],
             [
              0.1111111111111111,
              "#46039f"
             ],
             [
              0.2222222222222222,
              "#7201a8"
             ],
             [
              0.3333333333333333,
              "#9c179e"
             ],
             [
              0.4444444444444444,
              "#bd3786"
             ],
             [
              0.5555555555555556,
              "#d8576b"
             ],
             [
              0.6666666666666666,
              "#ed7953"
             ],
             [
              0.7777777777777778,
              "#fb9f3a"
             ],
             [
              0.8888888888888888,
              "#fdca26"
             ],
             [
              1,
              "#f0f921"
             ]
            ],
            "type": "histogram2d"
           }
          ],
          "histogram2dcontour": [
           {
            "colorbar": {
             "outlinewidth": 0,
             "ticks": ""
            },
            "colorscale": [
             [
              0,
              "#0d0887"
             ],
             [
              0.1111111111111111,
              "#46039f"
             ],
             [
              0.2222222222222222,
              "#7201a8"
             ],
             [
              0.3333333333333333,
              "#9c179e"
             ],
             [
              0.4444444444444444,
              "#bd3786"
             ],
             [
              0.5555555555555556,
              "#d8576b"
             ],
             [
              0.6666666666666666,
              "#ed7953"
             ],
             [
              0.7777777777777778,
              "#fb9f3a"
             ],
             [
              0.8888888888888888,
              "#fdca26"
             ],
             [
              1,
              "#f0f921"
             ]
            ],
            "type": "histogram2dcontour"
           }
          ],
          "mesh3d": [
           {
            "colorbar": {
             "outlinewidth": 0,
             "ticks": ""
            },
            "type": "mesh3d"
           }
          ],
          "parcoords": [
           {
            "line": {
             "colorbar": {
              "outlinewidth": 0,
              "ticks": ""
             }
            },
            "type": "parcoords"
           }
          ],
          "pie": [
           {
            "automargin": true,
            "type": "pie"
           }
          ],
          "scatter": [
           {
            "marker": {
             "colorbar": {
              "outlinewidth": 0,
              "ticks": ""
             }
            },
            "type": "scatter"
           }
          ],
          "scatter3d": [
           {
            "line": {
             "colorbar": {
              "outlinewidth": 0,
              "ticks": ""
             }
            },
            "marker": {
             "colorbar": {
              "outlinewidth": 0,
              "ticks": ""
             }
            },
            "type": "scatter3d"
           }
          ],
          "scattercarpet": [
           {
            "marker": {
             "colorbar": {
              "outlinewidth": 0,
              "ticks": ""
             }
            },
            "type": "scattercarpet"
           }
          ],
          "scattergeo": [
           {
            "marker": {
             "colorbar": {
              "outlinewidth": 0,
              "ticks": ""
             }
            },
            "type": "scattergeo"
           }
          ],
          "scattergl": [
           {
            "marker": {
             "colorbar": {
              "outlinewidth": 0,
              "ticks": ""
             }
            },
            "type": "scattergl"
           }
          ],
          "scattermapbox": [
           {
            "marker": {
             "colorbar": {
              "outlinewidth": 0,
              "ticks": ""
             }
            },
            "type": "scattermapbox"
           }
          ],
          "scatterpolar": [
           {
            "marker": {
             "colorbar": {
              "outlinewidth": 0,
              "ticks": ""
             }
            },
            "type": "scatterpolar"
           }
          ],
          "scatterpolargl": [
           {
            "marker": {
             "colorbar": {
              "outlinewidth": 0,
              "ticks": ""
             }
            },
            "type": "scatterpolargl"
           }
          ],
          "scatterternary": [
           {
            "marker": {
             "colorbar": {
              "outlinewidth": 0,
              "ticks": ""
             }
            },
            "type": "scatterternary"
           }
          ],
          "surface": [
           {
            "colorbar": {
             "outlinewidth": 0,
             "ticks": ""
            },
            "colorscale": [
             [
              0,
              "#0d0887"
             ],
             [
              0.1111111111111111,
              "#46039f"
             ],
             [
              0.2222222222222222,
              "#7201a8"
             ],
             [
              0.3333333333333333,
              "#9c179e"
             ],
             [
              0.4444444444444444,
              "#bd3786"
             ],
             [
              0.5555555555555556,
              "#d8576b"
             ],
             [
              0.6666666666666666,
              "#ed7953"
             ],
             [
              0.7777777777777778,
              "#fb9f3a"
             ],
             [
              0.8888888888888888,
              "#fdca26"
             ],
             [
              1,
              "#f0f921"
             ]
            ],
            "type": "surface"
           }
          ],
          "table": [
           {
            "cells": {
             "fill": {
              "color": "#EBF0F8"
             },
             "line": {
              "color": "white"
             }
            },
            "header": {
             "fill": {
              "color": "#C8D4E3"
             },
             "line": {
              "color": "white"
             }
            },
            "type": "table"
           }
          ]
         },
         "layout": {
          "annotationdefaults": {
           "arrowcolor": "#2a3f5f",
           "arrowhead": 0,
           "arrowwidth": 1
          },
          "autotypenumbers": "strict",
          "coloraxis": {
           "colorbar": {
            "outlinewidth": 0,
            "ticks": ""
           }
          },
          "colorscale": {
           "diverging": [
            [
             0,
             "#8e0152"
            ],
            [
             0.1,
             "#c51b7d"
            ],
            [
             0.2,
             "#de77ae"
            ],
            [
             0.3,
             "#f1b6da"
            ],
            [
             0.4,
             "#fde0ef"
            ],
            [
             0.5,
             "#f7f7f7"
            ],
            [
             0.6,
             "#e6f5d0"
            ],
            [
             0.7,
             "#b8e186"
            ],
            [
             0.8,
             "#7fbc41"
            ],
            [
             0.9,
             "#4d9221"
            ],
            [
             1,
             "#276419"
            ]
           ],
           "sequential": [
            [
             0,
             "#0d0887"
            ],
            [
             0.1111111111111111,
             "#46039f"
            ],
            [
             0.2222222222222222,
             "#7201a8"
            ],
            [
             0.3333333333333333,
             "#9c179e"
            ],
            [
             0.4444444444444444,
             "#bd3786"
            ],
            [
             0.5555555555555556,
             "#d8576b"
            ],
            [
             0.6666666666666666,
             "#ed7953"
            ],
            [
             0.7777777777777778,
             "#fb9f3a"
            ],
            [
             0.8888888888888888,
             "#fdca26"
            ],
            [
             1,
             "#f0f921"
            ]
           ],
           "sequentialminus": [
            [
             0,
             "#0d0887"
            ],
            [
             0.1111111111111111,
             "#46039f"
            ],
            [
             0.2222222222222222,
             "#7201a8"
            ],
            [
             0.3333333333333333,
             "#9c179e"
            ],
            [
             0.4444444444444444,
             "#bd3786"
            ],
            [
             0.5555555555555556,
             "#d8576b"
            ],
            [
             0.6666666666666666,
             "#ed7953"
            ],
            [
             0.7777777777777778,
             "#fb9f3a"
            ],
            [
             0.8888888888888888,
             "#fdca26"
            ],
            [
             1,
             "#f0f921"
            ]
           ]
          },
          "colorway": [
           "#636efa",
           "#EF553B",
           "#00cc96",
           "#ab63fa",
           "#FFA15A",
           "#19d3f3",
           "#FF6692",
           "#B6E880",
           "#FF97FF",
           "#FECB52"
          ],
          "font": {
           "color": "#2a3f5f"
          },
          "geo": {
           "bgcolor": "white",
           "lakecolor": "white",
           "landcolor": "#E5ECF6",
           "showlakes": true,
           "showland": true,
           "subunitcolor": "white"
          },
          "hoverlabel": {
           "align": "left"
          },
          "hovermode": "closest",
          "mapbox": {
           "style": "light"
          },
          "paper_bgcolor": "white",
          "plot_bgcolor": "#E5ECF6",
          "polar": {
           "angularaxis": {
            "gridcolor": "white",
            "linecolor": "white",
            "ticks": ""
           },
           "bgcolor": "#E5ECF6",
           "radialaxis": {
            "gridcolor": "white",
            "linecolor": "white",
            "ticks": ""
           }
          },
          "scene": {
           "xaxis": {
            "backgroundcolor": "#E5ECF6",
            "gridcolor": "white",
            "gridwidth": 2,
            "linecolor": "white",
            "showbackground": true,
            "ticks": "",
            "zerolinecolor": "white"
           },
           "yaxis": {
            "backgroundcolor": "#E5ECF6",
            "gridcolor": "white",
            "gridwidth": 2,
            "linecolor": "white",
            "showbackground": true,
            "ticks": "",
            "zerolinecolor": "white"
           },
           "zaxis": {
            "backgroundcolor": "#E5ECF6",
            "gridcolor": "white",
            "gridwidth": 2,
            "linecolor": "white",
            "showbackground": true,
            "ticks": "",
            "zerolinecolor": "white"
           }
          },
          "shapedefaults": {
           "line": {
            "color": "#2a3f5f"
           }
          },
          "ternary": {
           "aaxis": {
            "gridcolor": "white",
            "linecolor": "white",
            "ticks": ""
           },
           "baxis": {
            "gridcolor": "white",
            "linecolor": "white",
            "ticks": ""
           },
           "bgcolor": "#E5ECF6",
           "caxis": {
            "gridcolor": "white",
            "linecolor": "white",
            "ticks": ""
           }
          },
          "title": {
           "x": 0.05
          },
          "xaxis": {
           "automargin": true,
           "gridcolor": "white",
           "linecolor": "white",
           "ticks": "",
           "title": {
            "standoff": 15
           },
           "zerolinecolor": "white",
           "zerolinewidth": 2
          },
          "yaxis": {
           "automargin": true,
           "gridcolor": "white",
           "linecolor": "white",
           "ticks": "",
           "title": {
            "standoff": 15
           },
           "zerolinecolor": "white",
           "zerolinewidth": 2
          }
         }
        },
        "title": {
         "font": {
          "color": "#4D5663"
         }
        },
        "xaxis": {
         "gridcolor": "#E1E5ED",
         "showgrid": true,
         "tickfont": {
          "color": "#4D5663"
         },
         "title": {
          "font": {
           "color": "#4D5663"
          },
          "text": ""
         },
         "zerolinecolor": "#E1E5ED"
        },
        "yaxis": {
         "gridcolor": "#E1E5ED",
         "showgrid": true,
         "tickfont": {
          "color": "#4D5663"
         },
         "title": {
          "font": {
           "color": "#4D5663"
          },
          "text": ""
         },
         "zerolinecolor": "#E1E5ED"
        }
       }
      },
      "text/html": [
       "<div>                            <div id=\"87bf8111-f375-41f7-b370-b5b151b7b77a\" class=\"plotly-graph-div\" style=\"height:525px; width:100%;\"></div>            <script type=\"text/javascript\">                require([\"plotly\"], function(Plotly) {                    window.PLOTLYENV=window.PLOTLYENV || {};\n",
       "                    window.PLOTLYENV.BASE_URL='https://plot.ly';                                    if (document.getElementById(\"87bf8111-f375-41f7-b370-b5b151b7b77a\")) {                    Plotly.newPlot(                        \"87bf8111-f375-41f7-b370-b5b151b7b77a\",                        [{\"marker\": {\"color\": \"rgba(255, 153, 51, 0.6)\", \"line\": {\"color\": \"rgba(255, 153, 51, 1.0)\", \"width\": 1}}, \"name\": \"None\", \"orientation\": \"v\", \"text\": \"\", \"type\": \"bar\", \"x\": [\"A\", \"B\", \"C\", \"D\"], \"y\": [-0.021411130689386396, 0.04511618002396149, 0.15850863394620154, -0.19584302475961693]}],                        {\"legend\": {\"bgcolor\": \"#F5F6F9\", \"font\": {\"color\": \"#4D5663\"}}, \"paper_bgcolor\": \"#F5F6F9\", \"plot_bgcolor\": \"#F5F6F9\", \"template\": {\"data\": {\"bar\": [{\"error_x\": {\"color\": \"#2a3f5f\"}, \"error_y\": {\"color\": \"#2a3f5f\"}, \"marker\": {\"line\": {\"color\": \"#E5ECF6\", \"width\": 0.5}}, \"type\": \"bar\"}], \"barpolar\": [{\"marker\": {\"line\": {\"color\": \"#E5ECF6\", \"width\": 0.5}}, \"type\": \"barpolar\"}], \"carpet\": [{\"aaxis\": {\"endlinecolor\": \"#2a3f5f\", \"gridcolor\": \"white\", \"linecolor\": \"white\", \"minorgridcolor\": \"white\", \"startlinecolor\": \"#2a3f5f\"}, \"baxis\": {\"endlinecolor\": \"#2a3f5f\", \"gridcolor\": \"white\", \"linecolor\": \"white\", \"minorgridcolor\": \"white\", \"startlinecolor\": \"#2a3f5f\"}, \"type\": \"carpet\"}], \"choropleth\": [{\"colorbar\": {\"outlinewidth\": 0, \"ticks\": \"\"}, \"type\": \"choropleth\"}], \"contour\": [{\"colorbar\": {\"outlinewidth\": 0, \"ticks\": \"\"}, \"colorscale\": [[0.0, \"#0d0887\"], [0.1111111111111111, \"#46039f\"], [0.2222222222222222, \"#7201a8\"], [0.3333333333333333, \"#9c179e\"], [0.4444444444444444, \"#bd3786\"], [0.5555555555555556, \"#d8576b\"], [0.6666666666666666, \"#ed7953\"], [0.7777777777777778, \"#fb9f3a\"], [0.8888888888888888, \"#fdca26\"], [1.0, \"#f0f921\"]], \"type\": \"contour\"}], \"contourcarpet\": [{\"colorbar\": {\"outlinewidth\": 0, \"ticks\": \"\"}, \"type\": \"contourcarpet\"}], \"heatmap\": [{\"colorbar\": {\"outlinewidth\": 0, \"ticks\": \"\"}, \"colorscale\": [[0.0, \"#0d0887\"], [0.1111111111111111, \"#46039f\"], [0.2222222222222222, \"#7201a8\"], [0.3333333333333333, \"#9c179e\"], [0.4444444444444444, \"#bd3786\"], [0.5555555555555556, \"#d8576b\"], [0.6666666666666666, \"#ed7953\"], [0.7777777777777778, \"#fb9f3a\"], [0.8888888888888888, \"#fdca26\"], [1.0, \"#f0f921\"]], \"type\": \"heatmap\"}], \"heatmapgl\": [{\"colorbar\": {\"outlinewidth\": 0, \"ticks\": \"\"}, \"colorscale\": [[0.0, \"#0d0887\"], [0.1111111111111111, \"#46039f\"], [0.2222222222222222, \"#7201a8\"], [0.3333333333333333, \"#9c179e\"], [0.4444444444444444, \"#bd3786\"], [0.5555555555555556, \"#d8576b\"], [0.6666666666666666, \"#ed7953\"], [0.7777777777777778, \"#fb9f3a\"], [0.8888888888888888, \"#fdca26\"], [1.0, \"#f0f921\"]], \"type\": \"heatmapgl\"}], \"histogram\": [{\"marker\": {\"colorbar\": {\"outlinewidth\": 0, \"ticks\": \"\"}}, \"type\": \"histogram\"}], \"histogram2d\": [{\"colorbar\": {\"outlinewidth\": 0, \"ticks\": \"\"}, \"colorscale\": [[0.0, \"#0d0887\"], [0.1111111111111111, \"#46039f\"], [0.2222222222222222, \"#7201a8\"], [0.3333333333333333, \"#9c179e\"], [0.4444444444444444, \"#bd3786\"], [0.5555555555555556, \"#d8576b\"], [0.6666666666666666, \"#ed7953\"], [0.7777777777777778, \"#fb9f3a\"], [0.8888888888888888, \"#fdca26\"], [1.0, \"#f0f921\"]], \"type\": \"histogram2d\"}], \"histogram2dcontour\": [{\"colorbar\": {\"outlinewidth\": 0, \"ticks\": \"\"}, \"colorscale\": [[0.0, \"#0d0887\"], [0.1111111111111111, \"#46039f\"], [0.2222222222222222, \"#7201a8\"], [0.3333333333333333, \"#9c179e\"], [0.4444444444444444, \"#bd3786\"], [0.5555555555555556, \"#d8576b\"], [0.6666666666666666, \"#ed7953\"], [0.7777777777777778, \"#fb9f3a\"], [0.8888888888888888, \"#fdca26\"], [1.0, \"#f0f921\"]], \"type\": \"histogram2dcontour\"}], \"mesh3d\": [{\"colorbar\": {\"outlinewidth\": 0, \"ticks\": \"\"}, \"type\": \"mesh3d\"}], \"parcoords\": [{\"line\": {\"colorbar\": {\"outlinewidth\": 0, \"ticks\": \"\"}}, \"type\": \"parcoords\"}], \"pie\": [{\"automargin\": true, \"type\": \"pie\"}], \"scatter\": [{\"marker\": {\"colorbar\": {\"outlinewidth\": 0, \"ticks\": \"\"}}, \"type\": \"scatter\"}], \"scatter3d\": [{\"line\": {\"colorbar\": {\"outlinewidth\": 0, \"ticks\": \"\"}}, \"marker\": {\"colorbar\": {\"outlinewidth\": 0, \"ticks\": \"\"}}, \"type\": \"scatter3d\"}], \"scattercarpet\": [{\"marker\": {\"colorbar\": {\"outlinewidth\": 0, \"ticks\": \"\"}}, \"type\": \"scattercarpet\"}], \"scattergeo\": [{\"marker\": {\"colorbar\": {\"outlinewidth\": 0, \"ticks\": \"\"}}, \"type\": \"scattergeo\"}], \"scattergl\": [{\"marker\": {\"colorbar\": {\"outlinewidth\": 0, \"ticks\": \"\"}}, \"type\": \"scattergl\"}], \"scattermapbox\": [{\"marker\": {\"colorbar\": {\"outlinewidth\": 0, \"ticks\": \"\"}}, \"type\": \"scattermapbox\"}], \"scatterpolar\": [{\"marker\": {\"colorbar\": {\"outlinewidth\": 0, \"ticks\": \"\"}}, \"type\": \"scatterpolar\"}], \"scatterpolargl\": [{\"marker\": {\"colorbar\": {\"outlinewidth\": 0, \"ticks\": \"\"}}, \"type\": \"scatterpolargl\"}], \"scatterternary\": [{\"marker\": {\"colorbar\": {\"outlinewidth\": 0, \"ticks\": \"\"}}, \"type\": \"scatterternary\"}], \"surface\": [{\"colorbar\": {\"outlinewidth\": 0, \"ticks\": \"\"}, \"colorscale\": [[0.0, \"#0d0887\"], [0.1111111111111111, \"#46039f\"], [0.2222222222222222, \"#7201a8\"], [0.3333333333333333, \"#9c179e\"], [0.4444444444444444, \"#bd3786\"], [0.5555555555555556, \"#d8576b\"], [0.6666666666666666, \"#ed7953\"], [0.7777777777777778, \"#fb9f3a\"], [0.8888888888888888, \"#fdca26\"], [1.0, \"#f0f921\"]], \"type\": \"surface\"}], \"table\": [{\"cells\": {\"fill\": {\"color\": \"#EBF0F8\"}, \"line\": {\"color\": \"white\"}}, \"header\": {\"fill\": {\"color\": \"#C8D4E3\"}, \"line\": {\"color\": \"white\"}}, \"type\": \"table\"}]}, \"layout\": {\"annotationdefaults\": {\"arrowcolor\": \"#2a3f5f\", \"arrowhead\": 0, \"arrowwidth\": 1}, \"autotypenumbers\": \"strict\", \"coloraxis\": {\"colorbar\": {\"outlinewidth\": 0, \"ticks\": \"\"}}, \"colorscale\": {\"diverging\": [[0, \"#8e0152\"], [0.1, \"#c51b7d\"], [0.2, \"#de77ae\"], [0.3, \"#f1b6da\"], [0.4, \"#fde0ef\"], [0.5, \"#f7f7f7\"], [0.6, \"#e6f5d0\"], [0.7, \"#b8e186\"], [0.8, \"#7fbc41\"], [0.9, \"#4d9221\"], [1, \"#276419\"]], \"sequential\": [[0.0, \"#0d0887\"], [0.1111111111111111, \"#46039f\"], [0.2222222222222222, \"#7201a8\"], [0.3333333333333333, \"#9c179e\"], [0.4444444444444444, \"#bd3786\"], [0.5555555555555556, \"#d8576b\"], [0.6666666666666666, \"#ed7953\"], [0.7777777777777778, \"#fb9f3a\"], [0.8888888888888888, \"#fdca26\"], [1.0, \"#f0f921\"]], \"sequentialminus\": [[0.0, \"#0d0887\"], [0.1111111111111111, \"#46039f\"], [0.2222222222222222, \"#7201a8\"], [0.3333333333333333, \"#9c179e\"], [0.4444444444444444, \"#bd3786\"], [0.5555555555555556, \"#d8576b\"], [0.6666666666666666, \"#ed7953\"], [0.7777777777777778, \"#fb9f3a\"], [0.8888888888888888, \"#fdca26\"], [1.0, \"#f0f921\"]]}, \"colorway\": [\"#636efa\", \"#EF553B\", \"#00cc96\", \"#ab63fa\", \"#FFA15A\", \"#19d3f3\", \"#FF6692\", \"#B6E880\", \"#FF97FF\", \"#FECB52\"], \"font\": {\"color\": \"#2a3f5f\"}, \"geo\": {\"bgcolor\": \"white\", \"lakecolor\": \"white\", \"landcolor\": \"#E5ECF6\", \"showlakes\": true, \"showland\": true, \"subunitcolor\": \"white\"}, \"hoverlabel\": {\"align\": \"left\"}, \"hovermode\": \"closest\", \"mapbox\": {\"style\": \"light\"}, \"paper_bgcolor\": \"white\", \"plot_bgcolor\": \"#E5ECF6\", \"polar\": {\"angularaxis\": {\"gridcolor\": \"white\", \"linecolor\": \"white\", \"ticks\": \"\"}, \"bgcolor\": \"#E5ECF6\", \"radialaxis\": {\"gridcolor\": \"white\", \"linecolor\": \"white\", \"ticks\": \"\"}}, \"scene\": {\"xaxis\": {\"backgroundcolor\": \"#E5ECF6\", \"gridcolor\": \"white\", \"gridwidth\": 2, \"linecolor\": \"white\", \"showbackground\": true, \"ticks\": \"\", \"zerolinecolor\": \"white\"}, \"yaxis\": {\"backgroundcolor\": \"#E5ECF6\", \"gridcolor\": \"white\", \"gridwidth\": 2, \"linecolor\": \"white\", \"showbackground\": true, \"ticks\": \"\", \"zerolinecolor\": \"white\"}, \"zaxis\": {\"backgroundcolor\": \"#E5ECF6\", \"gridcolor\": \"white\", \"gridwidth\": 2, \"linecolor\": \"white\", \"showbackground\": true, \"ticks\": \"\", \"zerolinecolor\": \"white\"}}, \"shapedefaults\": {\"line\": {\"color\": \"#2a3f5f\"}}, \"ternary\": {\"aaxis\": {\"gridcolor\": \"white\", \"linecolor\": \"white\", \"ticks\": \"\"}, \"baxis\": {\"gridcolor\": \"white\", \"linecolor\": \"white\", \"ticks\": \"\"}, \"bgcolor\": \"#E5ECF6\", \"caxis\": {\"gridcolor\": \"white\", \"linecolor\": \"white\", \"ticks\": \"\"}}, \"title\": {\"x\": 0.05}, \"xaxis\": {\"automargin\": true, \"gridcolor\": \"white\", \"linecolor\": \"white\", \"ticks\": \"\", \"title\": {\"standoff\": 15}, \"zerolinecolor\": \"white\", \"zerolinewidth\": 2}, \"yaxis\": {\"automargin\": true, \"gridcolor\": \"white\", \"linecolor\": \"white\", \"ticks\": \"\", \"title\": {\"standoff\": 15}, \"zerolinecolor\": \"white\", \"zerolinewidth\": 2}}}, \"title\": {\"font\": {\"color\": \"#4D5663\"}}, \"xaxis\": {\"gridcolor\": \"#E1E5ED\", \"showgrid\": true, \"tickfont\": {\"color\": \"#4D5663\"}, \"title\": {\"font\": {\"color\": \"#4D5663\"}, \"text\": \"\"}, \"zerolinecolor\": \"#E1E5ED\"}, \"yaxis\": {\"gridcolor\": \"#E1E5ED\", \"showgrid\": true, \"tickfont\": {\"color\": \"#4D5663\"}, \"title\": {\"font\": {\"color\": \"#4D5663\"}, \"text\": \"\"}, \"zerolinecolor\": \"#E1E5ED\"}},                        {\"showLink\": true, \"linkText\": \"Export to plot.ly\", \"plotlyServerURL\": \"https://plot.ly\", \"responsive\": true}                    ).then(function(){\n",
       "                            \n",
       "var gd = document.getElementById('87bf8111-f375-41f7-b370-b5b151b7b77a');\n",
       "var x = new MutationObserver(function (mutations, observer) {{\n",
       "        var display = window.getComputedStyle(gd).display;\n",
       "        if (!display || display === 'none') {{\n",
       "            console.log([gd, 'removed!']);\n",
       "            Plotly.purge(gd);\n",
       "            observer.disconnect();\n",
       "        }}\n",
       "}});\n",
       "\n",
       "// Listen for the removal of the full notebook cells\n",
       "var notebookContainer = gd.closest('#notebook-container');\n",
       "if (notebookContainer) {{\n",
       "    x.observe(notebookContainer, {childList: true});\n",
       "}}\n",
       "\n",
       "// Listen for the clearing of the current output cell\n",
       "var outputEl = gd.closest('.output');\n",
       "if (outputEl) {{\n",
       "    x.observe(outputEl, {childList: true});\n",
       "}}\n",
       "\n",
       "                        })                };                });            </script>        </div>"
      ]
     },
     "metadata": {},
     "output_type": "display_data"
    }
   ],
   "source": [
    "df.mean().iplot(kind='bar')"
   ]
  },
  {
   "cell_type": "code",
   "execution_count": 30,
   "metadata": {},
   "outputs": [
    {
     "data": {
      "application/vnd.plotly.v1+json": {
       "config": {
        "linkText": "Export to plot.ly",
        "plotlyServerURL": "https://plot.ly",
        "showLink": true
       },
       "data": [
        {
         "boxpoints": false,
         "line": {
          "width": 1.3
         },
         "marker": {
          "color": "rgba(255, 153, 51, 1.0)"
         },
         "name": "A",
         "orientation": "v",
         "type": "box",
         "y": [
          -0.14503484795852725,
          -3.0165964743780136,
          0.24392315292249664,
          0.2011504284420982,
          -1.954377685047049,
          0.018622857603898417,
          0.8617756539234976,
          -1.1789175288139595,
          0.09453158593071533,
          -0.8190086004558853,
          -0.5111915119844852,
          -0.37019437878534933,
          0.49406010167759457,
          0.7318957798065484,
          -0.6245807673201975,
          0.3860474439383816,
          0.4682472943605631,
          0.1627222638546957,
          -0.8365295450105019,
          -0.1484272992826551,
          -0.14699585388358868,
          -0.8989769017012104,
          3.375644491066588,
          0.8636351957100722,
          0.9764706586185982,
          1.8839025583510707,
          0.49039805334819536,
          1.1798805121748803,
          -0.08293830705260241,
          0.020189132289008475,
          -1.212888981610273,
          -0.9540852579325413,
          0.03227530808262174,
          -0.8518559637939185,
          0.9654680591995582,
          -1.0356822197978657,
          -0.8665007063675878,
          1.1028588348458925,
          -1.0335879734720794,
          -0.8709376829504009,
          1.6229341507509705,
          -0.0960647329416155,
          0.558693955982772,
          -0.47009300020518974,
          -0.098392235514167,
          1.184576665806727,
          0.01243576370376068,
          -0.10444812302065885,
          0.16465566602612397,
          -0.47601592047505115,
          -0.3524503064476507,
          -1.1142072718294294,
          -0.24775154136288996,
          0.6454080597490083,
          0.06799428384607312,
          -2.3458667879361808,
          0.0750307959732018,
          -0.02338014024049768,
          0.408278691353931,
          -1.3197647537174,
          -0.08369974574571107,
          0.028103212057242984,
          0.24146463374541377,
          -0.1314784283188998,
          -0.35399171541630814,
          0.9047121766469459,
          0.577691629229222,
          -0.9041627507100116,
          0.6679213458174991,
          0.21340226976686694,
          0.5187350887843667,
          1.0291096353357165,
          -0.31331510697347104,
          -0.569615681897244,
          -0.08158041488700205,
          0.4024168949117813,
          -0.37676734107072724,
          0.02441103137705158,
          0.4372970535384335,
          0.6141820169439471,
          1.190905549407557,
          0.5607483976603372,
          -2.33021436137407,
          0.5234829274135729,
          -0.6133704977202653,
          0.6259858344588582,
          -0.03941965499720579,
          -0.3826539928719661,
          -1.1626848852541085,
          -0.13538449249010662,
          -0.44734498015120816,
          -0.675527294767186,
          -0.27764693163851684,
          2.0007679905946723,
          -0.023422696390421664,
          1.0516904951894257,
          -0.6505394429961281,
          0.16981956995748015,
          0.8454912342091417,
          -0.3025957383637378
         ]
        },
        {
         "boxpoints": false,
         "line": {
          "width": 1.3
         },
         "marker": {
          "color": "rgba(55, 128, 191, 1.0)"
         },
         "name": "B",
         "orientation": "v",
         "type": "box",
         "y": [
          -0.9532399160561278,
          -0.5868484365358092,
          -0.5322015045622156,
          -0.067966143001875,
          0.9486452867643311,
          -0.6629183797257413,
          -0.5337786235952177,
          -1.374005116607833,
          0.9538955464602282,
          0.9831229684062017,
          -0.7218794529268818,
          -1.738462406660161,
          0.8390413925664644,
          0.4716881828898347,
          1.840314344187763,
          0.7829064814901634,
          -0.29559972424111564,
          -0.4543075695792023,
          -0.24134848173579576,
          1.0620942076543174,
          0.8126293598752975,
          0.12771413630928588,
          0.6479158525379064,
          -1.3221014076081543,
          -0.6104132558623014,
          1.6009003090453902,
          0.9269141114311796,
          -0.09885623938144297,
          0.8712506984556516,
          -1.8373391727315502,
          -0.8095199640075892,
          0.5647221507466086,
          -0.33873776587617926,
          1.2770174534384262,
          -0.401058722431807,
          -0.3991026372035775,
          0.6954802542981,
          0.4657361921256589,
          -0.6115763656174145,
          -0.76790041556677,
          -0.8760445121497197,
          0.9385120394049317,
          0.12548592918841428,
          0.12853157804446833,
          -0.9198386416256834,
          -0.16736007077296486,
          -0.273108590084941,
          -1.038593836786086,
          -1.789678683700114,
          -0.08672543648003408,
          0.1791283495405397,
          0.19740149687421615,
          -1.8532304045831987,
          0.09418603272153049,
          -0.05406171658396121,
          1.1613967379069392,
          0.2908581391725514,
          0.9334829806606881,
          0.8759062521948778,
          0.01544050596120699,
          -2.1433853948711863,
          -0.6550694134265117,
          0.9450328060012705,
          -0.7318511174804488,
          -0.2760665477991691,
          1.832042341227804,
          0.7153981071725797,
          0.3097267840306819,
          0.5458716771237517,
          -0.27788252174846967,
          -2.56791567288503,
          1.0733981182897139,
          0.5539305528644727,
          -0.8875864930235106,
          -0.9215489395600035,
          -0.48052999506367167,
          0.734067673662595,
          0.7410495064840434,
          -0.4455153474458417,
          0.47171647604105243,
          2.2033238446375445,
          -0.13287462890628282,
          1.57108408511727,
          -0.2832152183269851,
          0.6604718888161459,
          -0.8097018520506656,
          -0.8998025213320278,
          2.2744708006020584,
          -1.2989964534559673,
          1.2567628834902713,
          0.9586268624499967,
          1.0292763836765124,
          0.23642372515301469,
          -0.6456930750549342,
          1.4959836369417008,
          -0.07036421252807842,
          -0.7362854978086856,
          -0.4795472607190941,
          1.6003974543998063,
          -0.3481208183712817
         ]
        },
        {
         "boxpoints": false,
         "line": {
          "width": 1.3
         },
         "marker": {
          "color": "rgba(50, 171, 96, 1.0)"
         },
         "name": "C",
         "orientation": "v",
         "type": "box",
         "y": [
          1.4983864779909448,
          -0.0683974342124604,
          -0.5337891463858248,
          0.44154354919874567,
          -1.2318152574431034,
          1.2985630040366611,
          -2.218451919669104,
          0.9332677474881452,
          0.48887768670488263,
          0.7100565211778788,
          -1.180211018759006,
          0.40357787691680996,
          -0.18176450555296522,
          -0.19923388484756513,
          2.2707936648476434,
          0.7134211445041823,
          -0.20914473971566427,
          0.6731272521506116,
          -0.1712162713391917,
          -0.32409938623671136,
          0.3231132918011072,
          -1.5336155761055157,
          0.5025780232508699,
          -0.29693856159868626,
          0.23987661690729795,
          0.44290559204476504,
          -0.529833328173643,
          -0.029194069017488885,
          1.2034809706627385,
          0.4920550863252347,
          1.3118142713736591,
          -0.012957419236584167,
          0.9926476583889912,
          1.2718468624411214,
          2.0622297852705547,
          1.9746120568742223,
          0.7116292523754622,
          -0.4737056251190207,
          -0.5474136556886244,
          0.6820687853788049,
          0.1752813698701687,
          0.03369271598512779,
          0.534436508849568,
          -0.43959501846003035,
          -0.5781181336082649,
          1.9012412703468982,
          -0.03727290144563984,
          0.5574680225499314,
          0.9559932227587079,
          -0.32636063943397453,
          -0.33839420843768,
          0.33923148177384843,
          -0.017272371086671515,
          -0.7399021484764235,
          -1.165467022871023,
          -1.292106893654066,
          -1.784099308455661,
          -0.9785305487491726,
          0.4780020587967749,
          -0.5248854157902065,
          -0.6125375405316861,
          0.6759309903954257,
          0.6041448312385654,
          -0.33039041832431093,
          -0.17339863721071497,
          -0.009843440355222733,
          0.7997753502200071,
          -1.107214785996133,
          0.498447288776335,
          0.6794945513401383,
          -0.1382266500550088,
          1.2781507015495341,
          0.6254176748292696,
          0.7886826509605261,
          -0.8181677561777155,
          -0.6384163425676622,
          -1.0479872434449466,
          -1.2177317666516922,
          -1.5111568383490466,
          0.9615221253744407,
          0.9680307972915704,
          0.7370807455860703,
          0.08595259442313354,
          -0.3819517739097434,
          0.5814733207998918,
          -0.9305531186290832,
          0.09422451520604969,
          1.81821824919206,
          0.06749656036457062,
          -0.6269712132943323,
          0.28732203080938473,
          -0.34598621688533177,
          -0.04863017192128949,
          -0.3539736054969189,
          -1.2972990448743276,
          1.6800575190759655,
          -0.3891493008112305,
          1.345521828588874,
          1.272967956040553,
          3.3265035585717997
         ]
        },
        {
         "boxpoints": false,
         "line": {
          "width": 1.3
         },
         "marker": {
          "color": "rgba(128, 0, 128, 1.0)"
         },
         "name": "D",
         "orientation": "v",
         "type": "box",
         "y": [
          -1.5319495460763377,
          -0.7823135218083629,
          -1.2093363017654826,
          0.7797917356745605,
          0.33983173967364444,
          -0.6668906877377361,
          -0.9240185127971479,
          -1.401096364281915,
          -0.2048781567578501,
          1.1948511507781823,
          1.9378710428122337,
          -0.19788163111016083,
          -0.9621305666501678,
          0.5138660890036052,
          -1.143865652539835,
          -1.1982136890776176,
          0.8292787619731817,
          0.3295035520497889,
          0.8222470222792261,
          -0.5121999795691015,
          -1.237290642027615,
          0.11446894929464378,
          -1.505822965665104,
          -1.2565156539734794,
          -0.9237007926029537,
          -0.20485623833171945,
          -1.242963400226735,
          0.46065343842511053,
          0.8627455440540776,
          0.37885281652310104,
          -0.404771823670305,
          1.9530589976655945,
          -1.5658095281175592,
          -0.9899786783745753,
          -0.4138508787543901,
          2.0771413723760905,
          0.08921008719746723,
          -1.3556168492151528,
          -0.7678695095182647,
          -1.1128032731182662,
          -2.048881608126047,
          -0.26848514807393614,
          1.229562428489407,
          -0.7531155606516615,
          -1.0141352555130447,
          -0.3574010751276007,
          1.193569139394085,
          -0.1713953689270901,
          0.5419494728333556,
          -0.5194810685746506,
          -0.16357195310254669,
          0.7467042929422325,
          0.383803866327178,
          -0.002594563791913918,
          -0.3032870044789301,
          0.16558660457653496,
          -0.9419723485650384,
          -0.8099143888303659,
          1.2205839875266769,
          -1.7007322354324552,
          -0.5497960766879818,
          -1.4017578932924981,
          -2.2045320929247545,
          0.3986718611011956,
          -0.09064289146691248,
          0.85543610620957,
          1.1551676178843544,
          -0.41020533331384035,
          -0.8446806004273089,
          -0.47554568454257223,
          -0.06593091310501963,
          0.29154657424817887,
          1.8014650512475308,
          -0.42036587587693824,
          0.5939056868343671,
          0.12396213447308421,
          0.5742018423253487,
          0.6007861599895614,
          0.6722461239448084,
          0.4174574720090517,
          -0.9287455608677232,
          -0.040409801326219574,
          -0.5772027988901258,
          -0.6366786617000452,
          -1.474079529032982,
          0.5301472217828153,
          -0.5618726312931238,
          0.5743351632740945,
          -0.20108858944342017,
          0.4951290430399495,
          -0.3437933242276682,
          0.21337031294925046,
          -0.30421319297951926,
          0.6185743763842435,
          1.3426061469006845,
          -2.6898523405519335,
          -1.2997624793502054,
          -0.014491457910390242,
          -0.7531758443186563,
          0.051972534063198135
         ]
        }
       ],
       "layout": {
        "legend": {
         "bgcolor": "#F5F6F9",
         "font": {
          "color": "#4D5663"
         }
        },
        "paper_bgcolor": "#F5F6F9",
        "plot_bgcolor": "#F5F6F9",
        "template": {
         "data": {
          "bar": [
           {
            "error_x": {
             "color": "#2a3f5f"
            },
            "error_y": {
             "color": "#2a3f5f"
            },
            "marker": {
             "line": {
              "color": "#E5ECF6",
              "width": 0.5
             }
            },
            "type": "bar"
           }
          ],
          "barpolar": [
           {
            "marker": {
             "line": {
              "color": "#E5ECF6",
              "width": 0.5
             }
            },
            "type": "barpolar"
           }
          ],
          "carpet": [
           {
            "aaxis": {
             "endlinecolor": "#2a3f5f",
             "gridcolor": "white",
             "linecolor": "white",
             "minorgridcolor": "white",
             "startlinecolor": "#2a3f5f"
            },
            "baxis": {
             "endlinecolor": "#2a3f5f",
             "gridcolor": "white",
             "linecolor": "white",
             "minorgridcolor": "white",
             "startlinecolor": "#2a3f5f"
            },
            "type": "carpet"
           }
          ],
          "choropleth": [
           {
            "colorbar": {
             "outlinewidth": 0,
             "ticks": ""
            },
            "type": "choropleth"
           }
          ],
          "contour": [
           {
            "colorbar": {
             "outlinewidth": 0,
             "ticks": ""
            },
            "colorscale": [
             [
              0,
              "#0d0887"
             ],
             [
              0.1111111111111111,
              "#46039f"
             ],
             [
              0.2222222222222222,
              "#7201a8"
             ],
             [
              0.3333333333333333,
              "#9c179e"
             ],
             [
              0.4444444444444444,
              "#bd3786"
             ],
             [
              0.5555555555555556,
              "#d8576b"
             ],
             [
              0.6666666666666666,
              "#ed7953"
             ],
             [
              0.7777777777777778,
              "#fb9f3a"
             ],
             [
              0.8888888888888888,
              "#fdca26"
             ],
             [
              1,
              "#f0f921"
             ]
            ],
            "type": "contour"
           }
          ],
          "contourcarpet": [
           {
            "colorbar": {
             "outlinewidth": 0,
             "ticks": ""
            },
            "type": "contourcarpet"
           }
          ],
          "heatmap": [
           {
            "colorbar": {
             "outlinewidth": 0,
             "ticks": ""
            },
            "colorscale": [
             [
              0,
              "#0d0887"
             ],
             [
              0.1111111111111111,
              "#46039f"
             ],
             [
              0.2222222222222222,
              "#7201a8"
             ],
             [
              0.3333333333333333,
              "#9c179e"
             ],
             [
              0.4444444444444444,
              "#bd3786"
             ],
             [
              0.5555555555555556,
              "#d8576b"
             ],
             [
              0.6666666666666666,
              "#ed7953"
             ],
             [
              0.7777777777777778,
              "#fb9f3a"
             ],
             [
              0.8888888888888888,
              "#fdca26"
             ],
             [
              1,
              "#f0f921"
             ]
            ],
            "type": "heatmap"
           }
          ],
          "heatmapgl": [
           {
            "colorbar": {
             "outlinewidth": 0,
             "ticks": ""
            },
            "colorscale": [
             [
              0,
              "#0d0887"
             ],
             [
              0.1111111111111111,
              "#46039f"
             ],
             [
              0.2222222222222222,
              "#7201a8"
             ],
             [
              0.3333333333333333,
              "#9c179e"
             ],
             [
              0.4444444444444444,
              "#bd3786"
             ],
             [
              0.5555555555555556,
              "#d8576b"
             ],
             [
              0.6666666666666666,
              "#ed7953"
             ],
             [
              0.7777777777777778,
              "#fb9f3a"
             ],
             [
              0.8888888888888888,
              "#fdca26"
             ],
             [
              1,
              "#f0f921"
             ]
            ],
            "type": "heatmapgl"
           }
          ],
          "histogram": [
           {
            "marker": {
             "colorbar": {
              "outlinewidth": 0,
              "ticks": ""
             }
            },
            "type": "histogram"
           }
          ],
          "histogram2d": [
           {
            "colorbar": {
             "outlinewidth": 0,
             "ticks": ""
            },
            "colorscale": [
             [
              0,
              "#0d0887"
             ],
             [
              0.1111111111111111,
              "#46039f"
             ],
             [
              0.2222222222222222,
              "#7201a8"
             ],
             [
              0.3333333333333333,
              "#9c179e"
             ],
             [
              0.4444444444444444,
              "#bd3786"
             ],
             [
              0.5555555555555556,
              "#d8576b"
             ],
             [
              0.6666666666666666,
              "#ed7953"
             ],
             [
              0.7777777777777778,
              "#fb9f3a"
             ],
             [
              0.8888888888888888,
              "#fdca26"
             ],
             [
              1,
              "#f0f921"
             ]
            ],
            "type": "histogram2d"
           }
          ],
          "histogram2dcontour": [
           {
            "colorbar": {
             "outlinewidth": 0,
             "ticks": ""
            },
            "colorscale": [
             [
              0,
              "#0d0887"
             ],
             [
              0.1111111111111111,
              "#46039f"
             ],
             [
              0.2222222222222222,
              "#7201a8"
             ],
             [
              0.3333333333333333,
              "#9c179e"
             ],
             [
              0.4444444444444444,
              "#bd3786"
             ],
             [
              0.5555555555555556,
              "#d8576b"
             ],
             [
              0.6666666666666666,
              "#ed7953"
             ],
             [
              0.7777777777777778,
              "#fb9f3a"
             ],
             [
              0.8888888888888888,
              "#fdca26"
             ],
             [
              1,
              "#f0f921"
             ]
            ],
            "type": "histogram2dcontour"
           }
          ],
          "mesh3d": [
           {
            "colorbar": {
             "outlinewidth": 0,
             "ticks": ""
            },
            "type": "mesh3d"
           }
          ],
          "parcoords": [
           {
            "line": {
             "colorbar": {
              "outlinewidth": 0,
              "ticks": ""
             }
            },
            "type": "parcoords"
           }
          ],
          "pie": [
           {
            "automargin": true,
            "type": "pie"
           }
          ],
          "scatter": [
           {
            "marker": {
             "colorbar": {
              "outlinewidth": 0,
              "ticks": ""
             }
            },
            "type": "scatter"
           }
          ],
          "scatter3d": [
           {
            "line": {
             "colorbar": {
              "outlinewidth": 0,
              "ticks": ""
             }
            },
            "marker": {
             "colorbar": {
              "outlinewidth": 0,
              "ticks": ""
             }
            },
            "type": "scatter3d"
           }
          ],
          "scattercarpet": [
           {
            "marker": {
             "colorbar": {
              "outlinewidth": 0,
              "ticks": ""
             }
            },
            "type": "scattercarpet"
           }
          ],
          "scattergeo": [
           {
            "marker": {
             "colorbar": {
              "outlinewidth": 0,
              "ticks": ""
             }
            },
            "type": "scattergeo"
           }
          ],
          "scattergl": [
           {
            "marker": {
             "colorbar": {
              "outlinewidth": 0,
              "ticks": ""
             }
            },
            "type": "scattergl"
           }
          ],
          "scattermapbox": [
           {
            "marker": {
             "colorbar": {
              "outlinewidth": 0,
              "ticks": ""
             }
            },
            "type": "scattermapbox"
           }
          ],
          "scatterpolar": [
           {
            "marker": {
             "colorbar": {
              "outlinewidth": 0,
              "ticks": ""
             }
            },
            "type": "scatterpolar"
           }
          ],
          "scatterpolargl": [
           {
            "marker": {
             "colorbar": {
              "outlinewidth": 0,
              "ticks": ""
             }
            },
            "type": "scatterpolargl"
           }
          ],
          "scatterternary": [
           {
            "marker": {
             "colorbar": {
              "outlinewidth": 0,
              "ticks": ""
             }
            },
            "type": "scatterternary"
           }
          ],
          "surface": [
           {
            "colorbar": {
             "outlinewidth": 0,
             "ticks": ""
            },
            "colorscale": [
             [
              0,
              "#0d0887"
             ],
             [
              0.1111111111111111,
              "#46039f"
             ],
             [
              0.2222222222222222,
              "#7201a8"
             ],
             [
              0.3333333333333333,
              "#9c179e"
             ],
             [
              0.4444444444444444,
              "#bd3786"
             ],
             [
              0.5555555555555556,
              "#d8576b"
             ],
             [
              0.6666666666666666,
              "#ed7953"
             ],
             [
              0.7777777777777778,
              "#fb9f3a"
             ],
             [
              0.8888888888888888,
              "#fdca26"
             ],
             [
              1,
              "#f0f921"
             ]
            ],
            "type": "surface"
           }
          ],
          "table": [
           {
            "cells": {
             "fill": {
              "color": "#EBF0F8"
             },
             "line": {
              "color": "white"
             }
            },
            "header": {
             "fill": {
              "color": "#C8D4E3"
             },
             "line": {
              "color": "white"
             }
            },
            "type": "table"
           }
          ]
         },
         "layout": {
          "annotationdefaults": {
           "arrowcolor": "#2a3f5f",
           "arrowhead": 0,
           "arrowwidth": 1
          },
          "autotypenumbers": "strict",
          "coloraxis": {
           "colorbar": {
            "outlinewidth": 0,
            "ticks": ""
           }
          },
          "colorscale": {
           "diverging": [
            [
             0,
             "#8e0152"
            ],
            [
             0.1,
             "#c51b7d"
            ],
            [
             0.2,
             "#de77ae"
            ],
            [
             0.3,
             "#f1b6da"
            ],
            [
             0.4,
             "#fde0ef"
            ],
            [
             0.5,
             "#f7f7f7"
            ],
            [
             0.6,
             "#e6f5d0"
            ],
            [
             0.7,
             "#b8e186"
            ],
            [
             0.8,
             "#7fbc41"
            ],
            [
             0.9,
             "#4d9221"
            ],
            [
             1,
             "#276419"
            ]
           ],
           "sequential": [
            [
             0,
             "#0d0887"
            ],
            [
             0.1111111111111111,
             "#46039f"
            ],
            [
             0.2222222222222222,
             "#7201a8"
            ],
            [
             0.3333333333333333,
             "#9c179e"
            ],
            [
             0.4444444444444444,
             "#bd3786"
            ],
            [
             0.5555555555555556,
             "#d8576b"
            ],
            [
             0.6666666666666666,
             "#ed7953"
            ],
            [
             0.7777777777777778,
             "#fb9f3a"
            ],
            [
             0.8888888888888888,
             "#fdca26"
            ],
            [
             1,
             "#f0f921"
            ]
           ],
           "sequentialminus": [
            [
             0,
             "#0d0887"
            ],
            [
             0.1111111111111111,
             "#46039f"
            ],
            [
             0.2222222222222222,
             "#7201a8"
            ],
            [
             0.3333333333333333,
             "#9c179e"
            ],
            [
             0.4444444444444444,
             "#bd3786"
            ],
            [
             0.5555555555555556,
             "#d8576b"
            ],
            [
             0.6666666666666666,
             "#ed7953"
            ],
            [
             0.7777777777777778,
             "#fb9f3a"
            ],
            [
             0.8888888888888888,
             "#fdca26"
            ],
            [
             1,
             "#f0f921"
            ]
           ]
          },
          "colorway": [
           "#636efa",
           "#EF553B",
           "#00cc96",
           "#ab63fa",
           "#FFA15A",
           "#19d3f3",
           "#FF6692",
           "#B6E880",
           "#FF97FF",
           "#FECB52"
          ],
          "font": {
           "color": "#2a3f5f"
          },
          "geo": {
           "bgcolor": "white",
           "lakecolor": "white",
           "landcolor": "#E5ECF6",
           "showlakes": true,
           "showland": true,
           "subunitcolor": "white"
          },
          "hoverlabel": {
           "align": "left"
          },
          "hovermode": "closest",
          "mapbox": {
           "style": "light"
          },
          "paper_bgcolor": "white",
          "plot_bgcolor": "#E5ECF6",
          "polar": {
           "angularaxis": {
            "gridcolor": "white",
            "linecolor": "white",
            "ticks": ""
           },
           "bgcolor": "#E5ECF6",
           "radialaxis": {
            "gridcolor": "white",
            "linecolor": "white",
            "ticks": ""
           }
          },
          "scene": {
           "xaxis": {
            "backgroundcolor": "#E5ECF6",
            "gridcolor": "white",
            "gridwidth": 2,
            "linecolor": "white",
            "showbackground": true,
            "ticks": "",
            "zerolinecolor": "white"
           },
           "yaxis": {
            "backgroundcolor": "#E5ECF6",
            "gridcolor": "white",
            "gridwidth": 2,
            "linecolor": "white",
            "showbackground": true,
            "ticks": "",
            "zerolinecolor": "white"
           },
           "zaxis": {
            "backgroundcolor": "#E5ECF6",
            "gridcolor": "white",
            "gridwidth": 2,
            "linecolor": "white",
            "showbackground": true,
            "ticks": "",
            "zerolinecolor": "white"
           }
          },
          "shapedefaults": {
           "line": {
            "color": "#2a3f5f"
           }
          },
          "ternary": {
           "aaxis": {
            "gridcolor": "white",
            "linecolor": "white",
            "ticks": ""
           },
           "baxis": {
            "gridcolor": "white",
            "linecolor": "white",
            "ticks": ""
           },
           "bgcolor": "#E5ECF6",
           "caxis": {
            "gridcolor": "white",
            "linecolor": "white",
            "ticks": ""
           }
          },
          "title": {
           "x": 0.05
          },
          "xaxis": {
           "automargin": true,
           "gridcolor": "white",
           "linecolor": "white",
           "ticks": "",
           "title": {
            "standoff": 15
           },
           "zerolinecolor": "white",
           "zerolinewidth": 2
          },
          "yaxis": {
           "automargin": true,
           "gridcolor": "white",
           "linecolor": "white",
           "ticks": "",
           "title": {
            "standoff": 15
           },
           "zerolinecolor": "white",
           "zerolinewidth": 2
          }
         }
        },
        "title": {
         "font": {
          "color": "#4D5663"
         }
        },
        "xaxis": {
         "gridcolor": "#E1E5ED",
         "showgrid": true,
         "tickfont": {
          "color": "#4D5663"
         },
         "title": {
          "font": {
           "color": "#4D5663"
          },
          "text": ""
         },
         "zerolinecolor": "#E1E5ED"
        },
        "yaxis": {
         "gridcolor": "#E1E5ED",
         "showgrid": true,
         "tickfont": {
          "color": "#4D5663"
         },
         "title": {
          "font": {
           "color": "#4D5663"
          },
          "text": ""
         },
         "zerolinecolor": "#E1E5ED"
        }
       }
      },
      "text/html": [
       "<div>                            <div id=\"f8de2b99-9ecc-4f28-a660-67283e3904a2\" class=\"plotly-graph-div\" style=\"height:525px; width:100%;\"></div>            <script type=\"text/javascript\">                require([\"plotly\"], function(Plotly) {                    window.PLOTLYENV=window.PLOTLYENV || {};\n",
       "                    window.PLOTLYENV.BASE_URL='https://plot.ly';                                    if (document.getElementById(\"f8de2b99-9ecc-4f28-a660-67283e3904a2\")) {                    Plotly.newPlot(                        \"f8de2b99-9ecc-4f28-a660-67283e3904a2\",                        [{\"boxpoints\": false, \"line\": {\"width\": 1.3}, \"marker\": {\"color\": \"rgba(255, 153, 51, 1.0)\"}, \"name\": \"A\", \"orientation\": \"v\", \"type\": \"box\", \"y\": [-0.14503484795852725, -3.0165964743780136, 0.24392315292249664, 0.2011504284420982, -1.954377685047049, 0.018622857603898417, 0.8617756539234976, -1.1789175288139595, 0.09453158593071533, -0.8190086004558853, -0.5111915119844852, -0.37019437878534933, 0.49406010167759457, 0.7318957798065484, -0.6245807673201975, 0.3860474439383816, 0.4682472943605631, 0.1627222638546957, -0.8365295450105019, -0.1484272992826551, -0.14699585388358868, -0.8989769017012104, 3.375644491066588, 0.8636351957100722, 0.9764706586185982, 1.8839025583510707, 0.49039805334819536, 1.1798805121748803, -0.08293830705260241, 0.020189132289008475, -1.212888981610273, -0.9540852579325413, 0.03227530808262174, -0.8518559637939185, 0.9654680591995582, -1.0356822197978657, -0.8665007063675878, 1.1028588348458925, -1.0335879734720794, -0.8709376829504009, 1.6229341507509705, -0.0960647329416155, 0.558693955982772, -0.47009300020518974, -0.098392235514167, 1.184576665806727, 0.01243576370376068, -0.10444812302065885, 0.16465566602612397, -0.47601592047505115, -0.3524503064476507, -1.1142072718294294, -0.24775154136288996, 0.6454080597490083, 0.06799428384607312, -2.3458667879361808, 0.0750307959732018, -0.02338014024049768, 0.408278691353931, -1.3197647537174, -0.08369974574571107, 0.028103212057242984, 0.24146463374541377, -0.1314784283188998, -0.35399171541630814, 0.9047121766469459, 0.577691629229222, -0.9041627507100116, 0.6679213458174991, 0.21340226976686694, 0.5187350887843667, 1.0291096353357165, -0.31331510697347104, -0.569615681897244, -0.08158041488700205, 0.4024168949117813, -0.37676734107072724, 0.02441103137705158, 0.4372970535384335, 0.6141820169439471, 1.190905549407557, 0.5607483976603372, -2.33021436137407, 0.5234829274135729, -0.6133704977202653, 0.6259858344588582, -0.03941965499720579, -0.3826539928719661, -1.1626848852541085, -0.13538449249010662, -0.44734498015120816, -0.675527294767186, -0.27764693163851684, 2.0007679905946723, -0.023422696390421664, 1.0516904951894257, -0.6505394429961281, 0.16981956995748015, 0.8454912342091417, -0.3025957383637378]}, {\"boxpoints\": false, \"line\": {\"width\": 1.3}, \"marker\": {\"color\": \"rgba(55, 128, 191, 1.0)\"}, \"name\": \"B\", \"orientation\": \"v\", \"type\": \"box\", \"y\": [-0.9532399160561278, -0.5868484365358092, -0.5322015045622156, -0.067966143001875, 0.9486452867643311, -0.6629183797257413, -0.5337786235952177, -1.374005116607833, 0.9538955464602282, 0.9831229684062017, -0.7218794529268818, -1.738462406660161, 0.8390413925664644, 0.4716881828898347, 1.840314344187763, 0.7829064814901634, -0.29559972424111564, -0.4543075695792023, -0.24134848173579576, 1.0620942076543174, 0.8126293598752975, 0.12771413630928588, 0.6479158525379064, -1.3221014076081543, -0.6104132558623014, 1.6009003090453902, 0.9269141114311796, -0.09885623938144297, 0.8712506984556516, -1.8373391727315502, -0.8095199640075892, 0.5647221507466086, -0.33873776587617926, 1.2770174534384262, -0.401058722431807, -0.3991026372035775, 0.6954802542981, 0.4657361921256589, -0.6115763656174145, -0.76790041556677, -0.8760445121497197, 0.9385120394049317, 0.12548592918841428, 0.12853157804446833, -0.9198386416256834, -0.16736007077296486, -0.273108590084941, -1.038593836786086, -1.789678683700114, -0.08672543648003408, 0.1791283495405397, 0.19740149687421615, -1.8532304045831987, 0.09418603272153049, -0.05406171658396121, 1.1613967379069392, 0.2908581391725514, 0.9334829806606881, 0.8759062521948778, 0.01544050596120699, -2.1433853948711863, -0.6550694134265117, 0.9450328060012705, -0.7318511174804488, -0.2760665477991691, 1.832042341227804, 0.7153981071725797, 0.3097267840306819, 0.5458716771237517, -0.27788252174846967, -2.56791567288503, 1.0733981182897139, 0.5539305528644727, -0.8875864930235106, -0.9215489395600035, -0.48052999506367167, 0.734067673662595, 0.7410495064840434, -0.4455153474458417, 0.47171647604105243, 2.2033238446375445, -0.13287462890628282, 1.57108408511727, -0.2832152183269851, 0.6604718888161459, -0.8097018520506656, -0.8998025213320278, 2.2744708006020584, -1.2989964534559673, 1.2567628834902713, 0.9586268624499967, 1.0292763836765124, 0.23642372515301469, -0.6456930750549342, 1.4959836369417008, -0.07036421252807842, -0.7362854978086856, -0.4795472607190941, 1.6003974543998063, -0.3481208183712817]}, {\"boxpoints\": false, \"line\": {\"width\": 1.3}, \"marker\": {\"color\": \"rgba(50, 171, 96, 1.0)\"}, \"name\": \"C\", \"orientation\": \"v\", \"type\": \"box\", \"y\": [1.4983864779909448, -0.0683974342124604, -0.5337891463858248, 0.44154354919874567, -1.2318152574431034, 1.2985630040366611, -2.218451919669104, 0.9332677474881452, 0.48887768670488263, 0.7100565211778788, -1.180211018759006, 0.40357787691680996, -0.18176450555296522, -0.19923388484756513, 2.2707936648476434, 0.7134211445041823, -0.20914473971566427, 0.6731272521506116, -0.1712162713391917, -0.32409938623671136, 0.3231132918011072, -1.5336155761055157, 0.5025780232508699, -0.29693856159868626, 0.23987661690729795, 0.44290559204476504, -0.529833328173643, -0.029194069017488885, 1.2034809706627385, 0.4920550863252347, 1.3118142713736591, -0.012957419236584167, 0.9926476583889912, 1.2718468624411214, 2.0622297852705547, 1.9746120568742223, 0.7116292523754622, -0.4737056251190207, -0.5474136556886244, 0.6820687853788049, 0.1752813698701687, 0.03369271598512779, 0.534436508849568, -0.43959501846003035, -0.5781181336082649, 1.9012412703468982, -0.03727290144563984, 0.5574680225499314, 0.9559932227587079, -0.32636063943397453, -0.33839420843768, 0.33923148177384843, -0.017272371086671515, -0.7399021484764235, -1.165467022871023, -1.292106893654066, -1.784099308455661, -0.9785305487491726, 0.4780020587967749, -0.5248854157902065, -0.6125375405316861, 0.6759309903954257, 0.6041448312385654, -0.33039041832431093, -0.17339863721071497, -0.009843440355222733, 0.7997753502200071, -1.107214785996133, 0.498447288776335, 0.6794945513401383, -0.1382266500550088, 1.2781507015495341, 0.6254176748292696, 0.7886826509605261, -0.8181677561777155, -0.6384163425676622, -1.0479872434449466, -1.2177317666516922, -1.5111568383490466, 0.9615221253744407, 0.9680307972915704, 0.7370807455860703, 0.08595259442313354, -0.3819517739097434, 0.5814733207998918, -0.9305531186290832, 0.09422451520604969, 1.81821824919206, 0.06749656036457062, -0.6269712132943323, 0.28732203080938473, -0.34598621688533177, -0.04863017192128949, -0.3539736054969189, -1.2972990448743276, 1.6800575190759655, -0.3891493008112305, 1.345521828588874, 1.272967956040553, 3.3265035585717997]}, {\"boxpoints\": false, \"line\": {\"width\": 1.3}, \"marker\": {\"color\": \"rgba(128, 0, 128, 1.0)\"}, \"name\": \"D\", \"orientation\": \"v\", \"type\": \"box\", \"y\": [-1.5319495460763377, -0.7823135218083629, -1.2093363017654826, 0.7797917356745605, 0.33983173967364444, -0.6668906877377361, -0.9240185127971479, -1.401096364281915, -0.2048781567578501, 1.1948511507781823, 1.9378710428122337, -0.19788163111016083, -0.9621305666501678, 0.5138660890036052, -1.143865652539835, -1.1982136890776176, 0.8292787619731817, 0.3295035520497889, 0.8222470222792261, -0.5121999795691015, -1.237290642027615, 0.11446894929464378, -1.505822965665104, -1.2565156539734794, -0.9237007926029537, -0.20485623833171945, -1.242963400226735, 0.46065343842511053, 0.8627455440540776, 0.37885281652310104, -0.404771823670305, 1.9530589976655945, -1.5658095281175592, -0.9899786783745753, -0.4138508787543901, 2.0771413723760905, 0.08921008719746723, -1.3556168492151528, -0.7678695095182647, -1.1128032731182662, -2.048881608126047, -0.26848514807393614, 1.229562428489407, -0.7531155606516615, -1.0141352555130447, -0.3574010751276007, 1.193569139394085, -0.1713953689270901, 0.5419494728333556, -0.5194810685746506, -0.16357195310254669, 0.7467042929422325, 0.383803866327178, -0.002594563791913918, -0.3032870044789301, 0.16558660457653496, -0.9419723485650384, -0.8099143888303659, 1.2205839875266769, -1.7007322354324552, -0.5497960766879818, -1.4017578932924981, -2.2045320929247545, 0.3986718611011956, -0.09064289146691248, 0.85543610620957, 1.1551676178843544, -0.41020533331384035, -0.8446806004273089, -0.47554568454257223, -0.06593091310501963, 0.29154657424817887, 1.8014650512475308, -0.42036587587693824, 0.5939056868343671, 0.12396213447308421, 0.5742018423253487, 0.6007861599895614, 0.6722461239448084, 0.4174574720090517, -0.9287455608677232, -0.040409801326219574, -0.5772027988901258, -0.6366786617000452, -1.474079529032982, 0.5301472217828153, -0.5618726312931238, 0.5743351632740945, -0.20108858944342017, 0.4951290430399495, -0.3437933242276682, 0.21337031294925046, -0.30421319297951926, 0.6185743763842435, 1.3426061469006845, -2.6898523405519335, -1.2997624793502054, -0.014491457910390242, -0.7531758443186563, 0.051972534063198135]}],                        {\"legend\": {\"bgcolor\": \"#F5F6F9\", \"font\": {\"color\": \"#4D5663\"}}, \"paper_bgcolor\": \"#F5F6F9\", \"plot_bgcolor\": \"#F5F6F9\", \"template\": {\"data\": {\"bar\": [{\"error_x\": {\"color\": \"#2a3f5f\"}, \"error_y\": {\"color\": \"#2a3f5f\"}, \"marker\": {\"line\": {\"color\": \"#E5ECF6\", \"width\": 0.5}}, \"type\": \"bar\"}], \"barpolar\": [{\"marker\": {\"line\": {\"color\": \"#E5ECF6\", \"width\": 0.5}}, \"type\": \"barpolar\"}], \"carpet\": [{\"aaxis\": {\"endlinecolor\": \"#2a3f5f\", \"gridcolor\": \"white\", \"linecolor\": \"white\", \"minorgridcolor\": \"white\", \"startlinecolor\": \"#2a3f5f\"}, \"baxis\": {\"endlinecolor\": \"#2a3f5f\", \"gridcolor\": \"white\", \"linecolor\": \"white\", \"minorgridcolor\": \"white\", \"startlinecolor\": \"#2a3f5f\"}, \"type\": \"carpet\"}], \"choropleth\": [{\"colorbar\": {\"outlinewidth\": 0, \"ticks\": \"\"}, \"type\": \"choropleth\"}], \"contour\": [{\"colorbar\": {\"outlinewidth\": 0, \"ticks\": \"\"}, \"colorscale\": [[0.0, \"#0d0887\"], [0.1111111111111111, \"#46039f\"], [0.2222222222222222, \"#7201a8\"], [0.3333333333333333, \"#9c179e\"], [0.4444444444444444, \"#bd3786\"], [0.5555555555555556, \"#d8576b\"], [0.6666666666666666, \"#ed7953\"], [0.7777777777777778, \"#fb9f3a\"], [0.8888888888888888, \"#fdca26\"], [1.0, \"#f0f921\"]], \"type\": \"contour\"}], \"contourcarpet\": [{\"colorbar\": {\"outlinewidth\": 0, \"ticks\": \"\"}, \"type\": \"contourcarpet\"}], \"heatmap\": [{\"colorbar\": {\"outlinewidth\": 0, \"ticks\": \"\"}, \"colorscale\": [[0.0, \"#0d0887\"], [0.1111111111111111, \"#46039f\"], [0.2222222222222222, \"#7201a8\"], [0.3333333333333333, \"#9c179e\"], [0.4444444444444444, \"#bd3786\"], [0.5555555555555556, \"#d8576b\"], [0.6666666666666666, \"#ed7953\"], [0.7777777777777778, \"#fb9f3a\"], [0.8888888888888888, \"#fdca26\"], [1.0, \"#f0f921\"]], \"type\": \"heatmap\"}], \"heatmapgl\": [{\"colorbar\": {\"outlinewidth\": 0, \"ticks\": \"\"}, \"colorscale\": [[0.0, \"#0d0887\"], [0.1111111111111111, \"#46039f\"], [0.2222222222222222, \"#7201a8\"], [0.3333333333333333, \"#9c179e\"], [0.4444444444444444, \"#bd3786\"], [0.5555555555555556, \"#d8576b\"], [0.6666666666666666, \"#ed7953\"], [0.7777777777777778, \"#fb9f3a\"], [0.8888888888888888, \"#fdca26\"], [1.0, \"#f0f921\"]], \"type\": \"heatmapgl\"}], \"histogram\": [{\"marker\": {\"colorbar\": {\"outlinewidth\": 0, \"ticks\": \"\"}}, \"type\": \"histogram\"}], \"histogram2d\": [{\"colorbar\": {\"outlinewidth\": 0, \"ticks\": \"\"}, \"colorscale\": [[0.0, \"#0d0887\"], [0.1111111111111111, \"#46039f\"], [0.2222222222222222, \"#7201a8\"], [0.3333333333333333, \"#9c179e\"], [0.4444444444444444, \"#bd3786\"], [0.5555555555555556, \"#d8576b\"], [0.6666666666666666, \"#ed7953\"], [0.7777777777777778, \"#fb9f3a\"], [0.8888888888888888, \"#fdca26\"], [1.0, \"#f0f921\"]], \"type\": \"histogram2d\"}], \"histogram2dcontour\": [{\"colorbar\": {\"outlinewidth\": 0, \"ticks\": \"\"}, \"colorscale\": [[0.0, \"#0d0887\"], [0.1111111111111111, \"#46039f\"], [0.2222222222222222, \"#7201a8\"], [0.3333333333333333, \"#9c179e\"], [0.4444444444444444, \"#bd3786\"], [0.5555555555555556, \"#d8576b\"], [0.6666666666666666, \"#ed7953\"], [0.7777777777777778, \"#fb9f3a\"], [0.8888888888888888, \"#fdca26\"], [1.0, \"#f0f921\"]], \"type\": \"histogram2dcontour\"}], \"mesh3d\": [{\"colorbar\": {\"outlinewidth\": 0, \"ticks\": \"\"}, \"type\": \"mesh3d\"}], \"parcoords\": [{\"line\": {\"colorbar\": {\"outlinewidth\": 0, \"ticks\": \"\"}}, \"type\": \"parcoords\"}], \"pie\": [{\"automargin\": true, \"type\": \"pie\"}], \"scatter\": [{\"marker\": {\"colorbar\": {\"outlinewidth\": 0, \"ticks\": \"\"}}, \"type\": \"scatter\"}], \"scatter3d\": [{\"line\": {\"colorbar\": {\"outlinewidth\": 0, \"ticks\": \"\"}}, \"marker\": {\"colorbar\": {\"outlinewidth\": 0, \"ticks\": \"\"}}, \"type\": \"scatter3d\"}], \"scattercarpet\": [{\"marker\": {\"colorbar\": {\"outlinewidth\": 0, \"ticks\": \"\"}}, \"type\": \"scattercarpet\"}], \"scattergeo\": [{\"marker\": {\"colorbar\": {\"outlinewidth\": 0, \"ticks\": \"\"}}, \"type\": \"scattergeo\"}], \"scattergl\": [{\"marker\": {\"colorbar\": {\"outlinewidth\": 0, \"ticks\": \"\"}}, \"type\": \"scattergl\"}], \"scattermapbox\": [{\"marker\": {\"colorbar\": {\"outlinewidth\": 0, \"ticks\": \"\"}}, \"type\": \"scattermapbox\"}], \"scatterpolar\": [{\"marker\": {\"colorbar\": {\"outlinewidth\": 0, \"ticks\": \"\"}}, \"type\": \"scatterpolar\"}], \"scatterpolargl\": [{\"marker\": {\"colorbar\": {\"outlinewidth\": 0, \"ticks\": \"\"}}, \"type\": \"scatterpolargl\"}], \"scatterternary\": [{\"marker\": {\"colorbar\": {\"outlinewidth\": 0, \"ticks\": \"\"}}, \"type\": \"scatterternary\"}], \"surface\": [{\"colorbar\": {\"outlinewidth\": 0, \"ticks\": \"\"}, \"colorscale\": [[0.0, \"#0d0887\"], [0.1111111111111111, \"#46039f\"], [0.2222222222222222, \"#7201a8\"], [0.3333333333333333, \"#9c179e\"], [0.4444444444444444, \"#bd3786\"], [0.5555555555555556, \"#d8576b\"], [0.6666666666666666, \"#ed7953\"], [0.7777777777777778, \"#fb9f3a\"], [0.8888888888888888, \"#fdca26\"], [1.0, \"#f0f921\"]], \"type\": \"surface\"}], \"table\": [{\"cells\": {\"fill\": {\"color\": \"#EBF0F8\"}, \"line\": {\"color\": \"white\"}}, \"header\": {\"fill\": {\"color\": \"#C8D4E3\"}, \"line\": {\"color\": \"white\"}}, \"type\": \"table\"}]}, \"layout\": {\"annotationdefaults\": {\"arrowcolor\": \"#2a3f5f\", \"arrowhead\": 0, \"arrowwidth\": 1}, \"autotypenumbers\": \"strict\", \"coloraxis\": {\"colorbar\": {\"outlinewidth\": 0, \"ticks\": \"\"}}, \"colorscale\": {\"diverging\": [[0, \"#8e0152\"], [0.1, \"#c51b7d\"], [0.2, \"#de77ae\"], [0.3, \"#f1b6da\"], [0.4, \"#fde0ef\"], [0.5, \"#f7f7f7\"], [0.6, \"#e6f5d0\"], [0.7, \"#b8e186\"], [0.8, \"#7fbc41\"], [0.9, \"#4d9221\"], [1, \"#276419\"]], \"sequential\": [[0.0, \"#0d0887\"], [0.1111111111111111, \"#46039f\"], [0.2222222222222222, \"#7201a8\"], [0.3333333333333333, \"#9c179e\"], [0.4444444444444444, \"#bd3786\"], [0.5555555555555556, \"#d8576b\"], [0.6666666666666666, \"#ed7953\"], [0.7777777777777778, \"#fb9f3a\"], [0.8888888888888888, \"#fdca26\"], [1.0, \"#f0f921\"]], \"sequentialminus\": [[0.0, \"#0d0887\"], [0.1111111111111111, \"#46039f\"], [0.2222222222222222, \"#7201a8\"], [0.3333333333333333, \"#9c179e\"], [0.4444444444444444, \"#bd3786\"], [0.5555555555555556, \"#d8576b\"], [0.6666666666666666, \"#ed7953\"], [0.7777777777777778, \"#fb9f3a\"], [0.8888888888888888, \"#fdca26\"], [1.0, \"#f0f921\"]]}, \"colorway\": [\"#636efa\", \"#EF553B\", \"#00cc96\", \"#ab63fa\", \"#FFA15A\", \"#19d3f3\", \"#FF6692\", \"#B6E880\", \"#FF97FF\", \"#FECB52\"], \"font\": {\"color\": \"#2a3f5f\"}, \"geo\": {\"bgcolor\": \"white\", \"lakecolor\": \"white\", \"landcolor\": \"#E5ECF6\", \"showlakes\": true, \"showland\": true, \"subunitcolor\": \"white\"}, \"hoverlabel\": {\"align\": \"left\"}, \"hovermode\": \"closest\", \"mapbox\": {\"style\": \"light\"}, \"paper_bgcolor\": \"white\", \"plot_bgcolor\": \"#E5ECF6\", \"polar\": {\"angularaxis\": {\"gridcolor\": \"white\", \"linecolor\": \"white\", \"ticks\": \"\"}, \"bgcolor\": \"#E5ECF6\", \"radialaxis\": {\"gridcolor\": \"white\", \"linecolor\": \"white\", \"ticks\": \"\"}}, \"scene\": {\"xaxis\": {\"backgroundcolor\": \"#E5ECF6\", \"gridcolor\": \"white\", \"gridwidth\": 2, \"linecolor\": \"white\", \"showbackground\": true, \"ticks\": \"\", \"zerolinecolor\": \"white\"}, \"yaxis\": {\"backgroundcolor\": \"#E5ECF6\", \"gridcolor\": \"white\", \"gridwidth\": 2, \"linecolor\": \"white\", \"showbackground\": true, \"ticks\": \"\", \"zerolinecolor\": \"white\"}, \"zaxis\": {\"backgroundcolor\": \"#E5ECF6\", \"gridcolor\": \"white\", \"gridwidth\": 2, \"linecolor\": \"white\", \"showbackground\": true, \"ticks\": \"\", \"zerolinecolor\": \"white\"}}, \"shapedefaults\": {\"line\": {\"color\": \"#2a3f5f\"}}, \"ternary\": {\"aaxis\": {\"gridcolor\": \"white\", \"linecolor\": \"white\", \"ticks\": \"\"}, \"baxis\": {\"gridcolor\": \"white\", \"linecolor\": \"white\", \"ticks\": \"\"}, \"bgcolor\": \"#E5ECF6\", \"caxis\": {\"gridcolor\": \"white\", \"linecolor\": \"white\", \"ticks\": \"\"}}, \"title\": {\"x\": 0.05}, \"xaxis\": {\"automargin\": true, \"gridcolor\": \"white\", \"linecolor\": \"white\", \"ticks\": \"\", \"title\": {\"standoff\": 15}, \"zerolinecolor\": \"white\", \"zerolinewidth\": 2}, \"yaxis\": {\"automargin\": true, \"gridcolor\": \"white\", \"linecolor\": \"white\", \"ticks\": \"\", \"title\": {\"standoff\": 15}, \"zerolinecolor\": \"white\", \"zerolinewidth\": 2}}}, \"title\": {\"font\": {\"color\": \"#4D5663\"}}, \"xaxis\": {\"gridcolor\": \"#E1E5ED\", \"showgrid\": true, \"tickfont\": {\"color\": \"#4D5663\"}, \"title\": {\"font\": {\"color\": \"#4D5663\"}, \"text\": \"\"}, \"zerolinecolor\": \"#E1E5ED\"}, \"yaxis\": {\"gridcolor\": \"#E1E5ED\", \"showgrid\": true, \"tickfont\": {\"color\": \"#4D5663\"}, \"title\": {\"font\": {\"color\": \"#4D5663\"}, \"text\": \"\"}, \"zerolinecolor\": \"#E1E5ED\"}},                        {\"showLink\": true, \"linkText\": \"Export to plot.ly\", \"plotlyServerURL\": \"https://plot.ly\", \"responsive\": true}                    ).then(function(){\n",
       "                            \n",
       "var gd = document.getElementById('f8de2b99-9ecc-4f28-a660-67283e3904a2');\n",
       "var x = new MutationObserver(function (mutations, observer) {{\n",
       "        var display = window.getComputedStyle(gd).display;\n",
       "        if (!display || display === 'none') {{\n",
       "            console.log([gd, 'removed!']);\n",
       "            Plotly.purge(gd);\n",
       "            observer.disconnect();\n",
       "        }}\n",
       "}});\n",
       "\n",
       "// Listen for the removal of the full notebook cells\n",
       "var notebookContainer = gd.closest('#notebook-container');\n",
       "if (notebookContainer) {{\n",
       "    x.observe(notebookContainer, {childList: true});\n",
       "}}\n",
       "\n",
       "// Listen for the clearing of the current output cell\n",
       "var outputEl = gd.closest('.output');\n",
       "if (outputEl) {{\n",
       "    x.observe(outputEl, {childList: true});\n",
       "}}\n",
       "\n",
       "                        })                };                });            </script>        </div>"
      ]
     },
     "metadata": {},
     "output_type": "display_data"
    }
   ],
   "source": [
    " df.iplot('box')"
   ]
  },
  {
   "cell_type": "code",
   "execution_count": 34,
   "metadata": {},
   "outputs": [
    {
     "data": {
      "text/html": [
       "<div>\n",
       "<style scoped>\n",
       "    .dataframe tbody tr th:only-of-type {\n",
       "        vertical-align: middle;\n",
       "    }\n",
       "\n",
       "    .dataframe tbody tr th {\n",
       "        vertical-align: top;\n",
       "    }\n",
       "\n",
       "    .dataframe thead th {\n",
       "        text-align: right;\n",
       "    }\n",
       "</style>\n",
       "<table border=\"1\" class=\"dataframe\">\n",
       "  <thead>\n",
       "    <tr style=\"text-align: right;\">\n",
       "      <th></th>\n",
       "      <th>x</th>\n",
       "      <th>y</th>\n",
       "      <th>z</th>\n",
       "    </tr>\n",
       "  </thead>\n",
       "  <tbody>\n",
       "    <tr>\n",
       "      <th>0</th>\n",
       "      <td>1</td>\n",
       "      <td>10</td>\n",
       "      <td>500</td>\n",
       "    </tr>\n",
       "    <tr>\n",
       "      <th>1</th>\n",
       "      <td>2</td>\n",
       "      <td>20</td>\n",
       "      <td>400</td>\n",
       "    </tr>\n",
       "    <tr>\n",
       "      <th>2</th>\n",
       "      <td>3</td>\n",
       "      <td>30</td>\n",
       "      <td>300</td>\n",
       "    </tr>\n",
       "    <tr>\n",
       "      <th>3</th>\n",
       "      <td>4</td>\n",
       "      <td>20</td>\n",
       "      <td>200</td>\n",
       "    </tr>\n",
       "    <tr>\n",
       "      <th>4</th>\n",
       "      <td>5</td>\n",
       "      <td>10</td>\n",
       "      <td>100</td>\n",
       "    </tr>\n",
       "  </tbody>\n",
       "</table>\n",
       "</div>"
      ],
      "text/plain": [
       "   x   y    z\n",
       "0  1  10  500\n",
       "1  2  20  400\n",
       "2  3  30  300\n",
       "3  4  20  200\n",
       "4  5  10  100"
      ]
     },
     "execution_count": 34,
     "metadata": {},
     "output_type": "execute_result"
    }
   ],
   "source": [
    "df3=pd.DataFrame({'x':[1,2,3,4,5], 'y':[10,20,30,20,10], 'z':[500,400,300,200,100]})\n",
    "df3"
   ]
  },
  {
   "cell_type": "code",
   "execution_count": 35,
   "metadata": {},
   "outputs": [
    {
     "data": {
      "application/vnd.plotly.v1+json": {
       "config": {
        "linkText": "Export to plot.ly",
        "plotlyServerURL": "https://plot.ly",
        "showLink": true
       },
       "data": [
        {
         "colorscale": [
          [
           0,
           "rgb(255, 153, 51)"
          ],
          [
           0.1111111111111111,
           "rgb(55, 128, 191)"
          ],
          [
           0.2222222222222222,
           "rgb(50, 171, 96)"
          ],
          [
           0.3333333333333333,
           "rgb(128, 0, 128)"
          ],
          [
           0.4444444444444444,
           "rgb(219, 64, 82)"
          ],
          [
           0.5555555555555556,
           "rgb(0, 128, 128)"
          ],
          [
           0.6666666666666666,
           "rgb(255, 255, 51)"
          ],
          [
           0.7777777777777778,
           "rgb(128, 128, 0)"
          ],
          [
           0.8888888888888888,
           "rgb(251, 128, 114)"
          ],
          [
           1,
           "rgb(128, 177, 211)"
          ]
         ],
         "type": "surface",
         "x": [
          0,
          1,
          2,
          3,
          4
         ],
         "y": [
          "x",
          "y",
          "z"
         ],
         "z": [
          [
           1,
           2,
           3,
           4,
           5
          ],
          [
           10,
           20,
           30,
           20,
           10
          ],
          [
           500,
           400,
           300,
           200,
           100
          ]
         ]
        }
       ],
       "layout": {
        "legend": {
         "bgcolor": "#F5F6F9",
         "font": {
          "color": "#4D5663"
         }
        },
        "paper_bgcolor": "#F5F6F9",
        "plot_bgcolor": "#F5F6F9",
        "template": {
         "data": {
          "bar": [
           {
            "error_x": {
             "color": "#2a3f5f"
            },
            "error_y": {
             "color": "#2a3f5f"
            },
            "marker": {
             "line": {
              "color": "#E5ECF6",
              "width": 0.5
             }
            },
            "type": "bar"
           }
          ],
          "barpolar": [
           {
            "marker": {
             "line": {
              "color": "#E5ECF6",
              "width": 0.5
             }
            },
            "type": "barpolar"
           }
          ],
          "carpet": [
           {
            "aaxis": {
             "endlinecolor": "#2a3f5f",
             "gridcolor": "white",
             "linecolor": "white",
             "minorgridcolor": "white",
             "startlinecolor": "#2a3f5f"
            },
            "baxis": {
             "endlinecolor": "#2a3f5f",
             "gridcolor": "white",
             "linecolor": "white",
             "minorgridcolor": "white",
             "startlinecolor": "#2a3f5f"
            },
            "type": "carpet"
           }
          ],
          "choropleth": [
           {
            "colorbar": {
             "outlinewidth": 0,
             "ticks": ""
            },
            "type": "choropleth"
           }
          ],
          "contour": [
           {
            "colorbar": {
             "outlinewidth": 0,
             "ticks": ""
            },
            "colorscale": [
             [
              0,
              "#0d0887"
             ],
             [
              0.1111111111111111,
              "#46039f"
             ],
             [
              0.2222222222222222,
              "#7201a8"
             ],
             [
              0.3333333333333333,
              "#9c179e"
             ],
             [
              0.4444444444444444,
              "#bd3786"
             ],
             [
              0.5555555555555556,
              "#d8576b"
             ],
             [
              0.6666666666666666,
              "#ed7953"
             ],
             [
              0.7777777777777778,
              "#fb9f3a"
             ],
             [
              0.8888888888888888,
              "#fdca26"
             ],
             [
              1,
              "#f0f921"
             ]
            ],
            "type": "contour"
           }
          ],
          "contourcarpet": [
           {
            "colorbar": {
             "outlinewidth": 0,
             "ticks": ""
            },
            "type": "contourcarpet"
           }
          ],
          "heatmap": [
           {
            "colorbar": {
             "outlinewidth": 0,
             "ticks": ""
            },
            "colorscale": [
             [
              0,
              "#0d0887"
             ],
             [
              0.1111111111111111,
              "#46039f"
             ],
             [
              0.2222222222222222,
              "#7201a8"
             ],
             [
              0.3333333333333333,
              "#9c179e"
             ],
             [
              0.4444444444444444,
              "#bd3786"
             ],
             [
              0.5555555555555556,
              "#d8576b"
             ],
             [
              0.6666666666666666,
              "#ed7953"
             ],
             [
              0.7777777777777778,
              "#fb9f3a"
             ],
             [
              0.8888888888888888,
              "#fdca26"
             ],
             [
              1,
              "#f0f921"
             ]
            ],
            "type": "heatmap"
           }
          ],
          "heatmapgl": [
           {
            "colorbar": {
             "outlinewidth": 0,
             "ticks": ""
            },
            "colorscale": [
             [
              0,
              "#0d0887"
             ],
             [
              0.1111111111111111,
              "#46039f"
             ],
             [
              0.2222222222222222,
              "#7201a8"
             ],
             [
              0.3333333333333333,
              "#9c179e"
             ],
             [
              0.4444444444444444,
              "#bd3786"
             ],
             [
              0.5555555555555556,
              "#d8576b"
             ],
             [
              0.6666666666666666,
              "#ed7953"
             ],
             [
              0.7777777777777778,
              "#fb9f3a"
             ],
             [
              0.8888888888888888,
              "#fdca26"
             ],
             [
              1,
              "#f0f921"
             ]
            ],
            "type": "heatmapgl"
           }
          ],
          "histogram": [
           {
            "marker": {
             "colorbar": {
              "outlinewidth": 0,
              "ticks": ""
             }
            },
            "type": "histogram"
           }
          ],
          "histogram2d": [
           {
            "colorbar": {
             "outlinewidth": 0,
             "ticks": ""
            },
            "colorscale": [
             [
              0,
              "#0d0887"
             ],
             [
              0.1111111111111111,
              "#46039f"
             ],
             [
              0.2222222222222222,
              "#7201a8"
             ],
             [
              0.3333333333333333,
              "#9c179e"
             ],
             [
              0.4444444444444444,
              "#bd3786"
             ],
             [
              0.5555555555555556,
              "#d8576b"
             ],
             [
              0.6666666666666666,
              "#ed7953"
             ],
             [
              0.7777777777777778,
              "#fb9f3a"
             ],
             [
              0.8888888888888888,
              "#fdca26"
             ],
             [
              1,
              "#f0f921"
             ]
            ],
            "type": "histogram2d"
           }
          ],
          "histogram2dcontour": [
           {
            "colorbar": {
             "outlinewidth": 0,
             "ticks": ""
            },
            "colorscale": [
             [
              0,
              "#0d0887"
             ],
             [
              0.1111111111111111,
              "#46039f"
             ],
             [
              0.2222222222222222,
              "#7201a8"
             ],
             [
              0.3333333333333333,
              "#9c179e"
             ],
             [
              0.4444444444444444,
              "#bd3786"
             ],
             [
              0.5555555555555556,
              "#d8576b"
             ],
             [
              0.6666666666666666,
              "#ed7953"
             ],
             [
              0.7777777777777778,
              "#fb9f3a"
             ],
             [
              0.8888888888888888,
              "#fdca26"
             ],
             [
              1,
              "#f0f921"
             ]
            ],
            "type": "histogram2dcontour"
           }
          ],
          "mesh3d": [
           {
            "colorbar": {
             "outlinewidth": 0,
             "ticks": ""
            },
            "type": "mesh3d"
           }
          ],
          "parcoords": [
           {
            "line": {
             "colorbar": {
              "outlinewidth": 0,
              "ticks": ""
             }
            },
            "type": "parcoords"
           }
          ],
          "pie": [
           {
            "automargin": true,
            "type": "pie"
           }
          ],
          "scatter": [
           {
            "marker": {
             "colorbar": {
              "outlinewidth": 0,
              "ticks": ""
             }
            },
            "type": "scatter"
           }
          ],
          "scatter3d": [
           {
            "line": {
             "colorbar": {
              "outlinewidth": 0,
              "ticks": ""
             }
            },
            "marker": {
             "colorbar": {
              "outlinewidth": 0,
              "ticks": ""
             }
            },
            "type": "scatter3d"
           }
          ],
          "scattercarpet": [
           {
            "marker": {
             "colorbar": {
              "outlinewidth": 0,
              "ticks": ""
             }
            },
            "type": "scattercarpet"
           }
          ],
          "scattergeo": [
           {
            "marker": {
             "colorbar": {
              "outlinewidth": 0,
              "ticks": ""
             }
            },
            "type": "scattergeo"
           }
          ],
          "scattergl": [
           {
            "marker": {
             "colorbar": {
              "outlinewidth": 0,
              "ticks": ""
             }
            },
            "type": "scattergl"
           }
          ],
          "scattermapbox": [
           {
            "marker": {
             "colorbar": {
              "outlinewidth": 0,
              "ticks": ""
             }
            },
            "type": "scattermapbox"
           }
          ],
          "scatterpolar": [
           {
            "marker": {
             "colorbar": {
              "outlinewidth": 0,
              "ticks": ""
             }
            },
            "type": "scatterpolar"
           }
          ],
          "scatterpolargl": [
           {
            "marker": {
             "colorbar": {
              "outlinewidth": 0,
              "ticks": ""
             }
            },
            "type": "scatterpolargl"
           }
          ],
          "scatterternary": [
           {
            "marker": {
             "colorbar": {
              "outlinewidth": 0,
              "ticks": ""
             }
            },
            "type": "scatterternary"
           }
          ],
          "surface": [
           {
            "colorbar": {
             "outlinewidth": 0,
             "ticks": ""
            },
            "colorscale": [
             [
              0,
              "#0d0887"
             ],
             [
              0.1111111111111111,
              "#46039f"
             ],
             [
              0.2222222222222222,
              "#7201a8"
             ],
             [
              0.3333333333333333,
              "#9c179e"
             ],
             [
              0.4444444444444444,
              "#bd3786"
             ],
             [
              0.5555555555555556,
              "#d8576b"
             ],
             [
              0.6666666666666666,
              "#ed7953"
             ],
             [
              0.7777777777777778,
              "#fb9f3a"
             ],
             [
              0.8888888888888888,
              "#fdca26"
             ],
             [
              1,
              "#f0f921"
             ]
            ],
            "type": "surface"
           }
          ],
          "table": [
           {
            "cells": {
             "fill": {
              "color": "#EBF0F8"
             },
             "line": {
              "color": "white"
             }
            },
            "header": {
             "fill": {
              "color": "#C8D4E3"
             },
             "line": {
              "color": "white"
             }
            },
            "type": "table"
           }
          ]
         },
         "layout": {
          "annotationdefaults": {
           "arrowcolor": "#2a3f5f",
           "arrowhead": 0,
           "arrowwidth": 1
          },
          "autotypenumbers": "strict",
          "coloraxis": {
           "colorbar": {
            "outlinewidth": 0,
            "ticks": ""
           }
          },
          "colorscale": {
           "diverging": [
            [
             0,
             "#8e0152"
            ],
            [
             0.1,
             "#c51b7d"
            ],
            [
             0.2,
             "#de77ae"
            ],
            [
             0.3,
             "#f1b6da"
            ],
            [
             0.4,
             "#fde0ef"
            ],
            [
             0.5,
             "#f7f7f7"
            ],
            [
             0.6,
             "#e6f5d0"
            ],
            [
             0.7,
             "#b8e186"
            ],
            [
             0.8,
             "#7fbc41"
            ],
            [
             0.9,
             "#4d9221"
            ],
            [
             1,
             "#276419"
            ]
           ],
           "sequential": [
            [
             0,
             "#0d0887"
            ],
            [
             0.1111111111111111,
             "#46039f"
            ],
            [
             0.2222222222222222,
             "#7201a8"
            ],
            [
             0.3333333333333333,
             "#9c179e"
            ],
            [
             0.4444444444444444,
             "#bd3786"
            ],
            [
             0.5555555555555556,
             "#d8576b"
            ],
            [
             0.6666666666666666,
             "#ed7953"
            ],
            [
             0.7777777777777778,
             "#fb9f3a"
            ],
            [
             0.8888888888888888,
             "#fdca26"
            ],
            [
             1,
             "#f0f921"
            ]
           ],
           "sequentialminus": [
            [
             0,
             "#0d0887"
            ],
            [
             0.1111111111111111,
             "#46039f"
            ],
            [
             0.2222222222222222,
             "#7201a8"
            ],
            [
             0.3333333333333333,
             "#9c179e"
            ],
            [
             0.4444444444444444,
             "#bd3786"
            ],
            [
             0.5555555555555556,
             "#d8576b"
            ],
            [
             0.6666666666666666,
             "#ed7953"
            ],
            [
             0.7777777777777778,
             "#fb9f3a"
            ],
            [
             0.8888888888888888,
             "#fdca26"
            ],
            [
             1,
             "#f0f921"
            ]
           ]
          },
          "colorway": [
           "#636efa",
           "#EF553B",
           "#00cc96",
           "#ab63fa",
           "#FFA15A",
           "#19d3f3",
           "#FF6692",
           "#B6E880",
           "#FF97FF",
           "#FECB52"
          ],
          "font": {
           "color": "#2a3f5f"
          },
          "geo": {
           "bgcolor": "white",
           "lakecolor": "white",
           "landcolor": "#E5ECF6",
           "showlakes": true,
           "showland": true,
           "subunitcolor": "white"
          },
          "hoverlabel": {
           "align": "left"
          },
          "hovermode": "closest",
          "mapbox": {
           "style": "light"
          },
          "paper_bgcolor": "white",
          "plot_bgcolor": "#E5ECF6",
          "polar": {
           "angularaxis": {
            "gridcolor": "white",
            "linecolor": "white",
            "ticks": ""
           },
           "bgcolor": "#E5ECF6",
           "radialaxis": {
            "gridcolor": "white",
            "linecolor": "white",
            "ticks": ""
           }
          },
          "scene": {
           "xaxis": {
            "backgroundcolor": "#E5ECF6",
            "gridcolor": "white",
            "gridwidth": 2,
            "linecolor": "white",
            "showbackground": true,
            "ticks": "",
            "zerolinecolor": "white"
           },
           "yaxis": {
            "backgroundcolor": "#E5ECF6",
            "gridcolor": "white",
            "gridwidth": 2,
            "linecolor": "white",
            "showbackground": true,
            "ticks": "",
            "zerolinecolor": "white"
           },
           "zaxis": {
            "backgroundcolor": "#E5ECF6",
            "gridcolor": "white",
            "gridwidth": 2,
            "linecolor": "white",
            "showbackground": true,
            "ticks": "",
            "zerolinecolor": "white"
           }
          },
          "shapedefaults": {
           "line": {
            "color": "#2a3f5f"
           }
          },
          "ternary": {
           "aaxis": {
            "gridcolor": "white",
            "linecolor": "white",
            "ticks": ""
           },
           "baxis": {
            "gridcolor": "white",
            "linecolor": "white",
            "ticks": ""
           },
           "bgcolor": "#E5ECF6",
           "caxis": {
            "gridcolor": "white",
            "linecolor": "white",
            "ticks": ""
           }
          },
          "title": {
           "x": 0.05
          },
          "xaxis": {
           "automargin": true,
           "gridcolor": "white",
           "linecolor": "white",
           "ticks": "",
           "title": {
            "standoff": 15
           },
           "zerolinecolor": "white",
           "zerolinewidth": 2
          },
          "yaxis": {
           "automargin": true,
           "gridcolor": "white",
           "linecolor": "white",
           "ticks": "",
           "title": {
            "standoff": 15
           },
           "zerolinecolor": "white",
           "zerolinewidth": 2
          }
         }
        },
        "title": {
         "font": {
          "color": "#4D5663"
         }
        },
        "xaxis": {
         "gridcolor": "#E1E5ED",
         "showgrid": true,
         "tickfont": {
          "color": "#4D5663"
         },
         "title": {
          "font": {
           "color": "#4D5663"
          },
          "text": ""
         },
         "zerolinecolor": "#E1E5ED"
        },
        "yaxis": {
         "gridcolor": "#E1E5ED",
         "showgrid": true,
         "tickfont": {
          "color": "#4D5663"
         },
         "title": {
          "font": {
           "color": "#4D5663"
          },
          "text": ""
         },
         "zerolinecolor": "#E1E5ED"
        }
       }
      },
      "text/html": [
       "<div>                            <div id=\"8651b40f-883c-4c9f-b86d-e6f8678421ec\" class=\"plotly-graph-div\" style=\"height:525px; width:100%;\"></div>            <script type=\"text/javascript\">                require([\"plotly\"], function(Plotly) {                    window.PLOTLYENV=window.PLOTLYENV || {};\n",
       "                    window.PLOTLYENV.BASE_URL='https://plot.ly';                                    if (document.getElementById(\"8651b40f-883c-4c9f-b86d-e6f8678421ec\")) {                    Plotly.newPlot(                        \"8651b40f-883c-4c9f-b86d-e6f8678421ec\",                        [{\"colorscale\": [[0.0, \"rgb(255, 153, 51)\"], [0.1111111111111111, \"rgb(55, 128, 191)\"], [0.2222222222222222, \"rgb(50, 171, 96)\"], [0.3333333333333333, \"rgb(128, 0, 128)\"], [0.4444444444444444, \"rgb(219, 64, 82)\"], [0.5555555555555556, \"rgb(0, 128, 128)\"], [0.6666666666666666, \"rgb(255, 255, 51)\"], [0.7777777777777778, \"rgb(128, 128, 0)\"], [0.8888888888888888, \"rgb(251, 128, 114)\"], [1.0, \"rgb(128, 177, 211)\"]], \"type\": \"surface\", \"x\": [0, 1, 2, 3, 4], \"y\": [\"x\", \"y\", \"z\"], \"z\": [[1, 2, 3, 4, 5], [10, 20, 30, 20, 10], [500, 400, 300, 200, 100]]}],                        {\"legend\": {\"bgcolor\": \"#F5F6F9\", \"font\": {\"color\": \"#4D5663\"}}, \"paper_bgcolor\": \"#F5F6F9\", \"plot_bgcolor\": \"#F5F6F9\", \"template\": {\"data\": {\"bar\": [{\"error_x\": {\"color\": \"#2a3f5f\"}, \"error_y\": {\"color\": \"#2a3f5f\"}, \"marker\": {\"line\": {\"color\": \"#E5ECF6\", \"width\": 0.5}}, \"type\": \"bar\"}], \"barpolar\": [{\"marker\": {\"line\": {\"color\": \"#E5ECF6\", \"width\": 0.5}}, \"type\": \"barpolar\"}], \"carpet\": [{\"aaxis\": {\"endlinecolor\": \"#2a3f5f\", \"gridcolor\": \"white\", \"linecolor\": \"white\", \"minorgridcolor\": \"white\", \"startlinecolor\": \"#2a3f5f\"}, \"baxis\": {\"endlinecolor\": \"#2a3f5f\", \"gridcolor\": \"white\", \"linecolor\": \"white\", \"minorgridcolor\": \"white\", \"startlinecolor\": \"#2a3f5f\"}, \"type\": \"carpet\"}], \"choropleth\": [{\"colorbar\": {\"outlinewidth\": 0, \"ticks\": \"\"}, \"type\": \"choropleth\"}], \"contour\": [{\"colorbar\": {\"outlinewidth\": 0, \"ticks\": \"\"}, \"colorscale\": [[0.0, \"#0d0887\"], [0.1111111111111111, \"#46039f\"], [0.2222222222222222, \"#7201a8\"], [0.3333333333333333, \"#9c179e\"], [0.4444444444444444, \"#bd3786\"], [0.5555555555555556, \"#d8576b\"], [0.6666666666666666, \"#ed7953\"], [0.7777777777777778, \"#fb9f3a\"], [0.8888888888888888, \"#fdca26\"], [1.0, \"#f0f921\"]], \"type\": \"contour\"}], \"contourcarpet\": [{\"colorbar\": {\"outlinewidth\": 0, \"ticks\": \"\"}, \"type\": \"contourcarpet\"}], \"heatmap\": [{\"colorbar\": {\"outlinewidth\": 0, \"ticks\": \"\"}, \"colorscale\": [[0.0, \"#0d0887\"], [0.1111111111111111, \"#46039f\"], [0.2222222222222222, \"#7201a8\"], [0.3333333333333333, \"#9c179e\"], [0.4444444444444444, \"#bd3786\"], [0.5555555555555556, \"#d8576b\"], [0.6666666666666666, \"#ed7953\"], [0.7777777777777778, \"#fb9f3a\"], [0.8888888888888888, \"#fdca26\"], [1.0, \"#f0f921\"]], \"type\": \"heatmap\"}], \"heatmapgl\": [{\"colorbar\": {\"outlinewidth\": 0, \"ticks\": \"\"}, \"colorscale\": [[0.0, \"#0d0887\"], [0.1111111111111111, \"#46039f\"], [0.2222222222222222, \"#7201a8\"], [0.3333333333333333, \"#9c179e\"], [0.4444444444444444, \"#bd3786\"], [0.5555555555555556, \"#d8576b\"], [0.6666666666666666, \"#ed7953\"], [0.7777777777777778, \"#fb9f3a\"], [0.8888888888888888, \"#fdca26\"], [1.0, \"#f0f921\"]], \"type\": \"heatmapgl\"}], \"histogram\": [{\"marker\": {\"colorbar\": {\"outlinewidth\": 0, \"ticks\": \"\"}}, \"type\": \"histogram\"}], \"histogram2d\": [{\"colorbar\": {\"outlinewidth\": 0, \"ticks\": \"\"}, \"colorscale\": [[0.0, \"#0d0887\"], [0.1111111111111111, \"#46039f\"], [0.2222222222222222, \"#7201a8\"], [0.3333333333333333, \"#9c179e\"], [0.4444444444444444, \"#bd3786\"], [0.5555555555555556, \"#d8576b\"], [0.6666666666666666, \"#ed7953\"], [0.7777777777777778, \"#fb9f3a\"], [0.8888888888888888, \"#fdca26\"], [1.0, \"#f0f921\"]], \"type\": \"histogram2d\"}], \"histogram2dcontour\": [{\"colorbar\": {\"outlinewidth\": 0, \"ticks\": \"\"}, \"colorscale\": [[0.0, \"#0d0887\"], [0.1111111111111111, \"#46039f\"], [0.2222222222222222, \"#7201a8\"], [0.3333333333333333, \"#9c179e\"], [0.4444444444444444, \"#bd3786\"], [0.5555555555555556, \"#d8576b\"], [0.6666666666666666, \"#ed7953\"], [0.7777777777777778, \"#fb9f3a\"], [0.8888888888888888, \"#fdca26\"], [1.0, \"#f0f921\"]], \"type\": \"histogram2dcontour\"}], \"mesh3d\": [{\"colorbar\": {\"outlinewidth\": 0, \"ticks\": \"\"}, \"type\": \"mesh3d\"}], \"parcoords\": [{\"line\": {\"colorbar\": {\"outlinewidth\": 0, \"ticks\": \"\"}}, \"type\": \"parcoords\"}], \"pie\": [{\"automargin\": true, \"type\": \"pie\"}], \"scatter\": [{\"marker\": {\"colorbar\": {\"outlinewidth\": 0, \"ticks\": \"\"}}, \"type\": \"scatter\"}], \"scatter3d\": [{\"line\": {\"colorbar\": {\"outlinewidth\": 0, \"ticks\": \"\"}}, \"marker\": {\"colorbar\": {\"outlinewidth\": 0, \"ticks\": \"\"}}, \"type\": \"scatter3d\"}], \"scattercarpet\": [{\"marker\": {\"colorbar\": {\"outlinewidth\": 0, \"ticks\": \"\"}}, \"type\": \"scattercarpet\"}], \"scattergeo\": [{\"marker\": {\"colorbar\": {\"outlinewidth\": 0, \"ticks\": \"\"}}, \"type\": \"scattergeo\"}], \"scattergl\": [{\"marker\": {\"colorbar\": {\"outlinewidth\": 0, \"ticks\": \"\"}}, \"type\": \"scattergl\"}], \"scattermapbox\": [{\"marker\": {\"colorbar\": {\"outlinewidth\": 0, \"ticks\": \"\"}}, \"type\": \"scattermapbox\"}], \"scatterpolar\": [{\"marker\": {\"colorbar\": {\"outlinewidth\": 0, \"ticks\": \"\"}}, \"type\": \"scatterpolar\"}], \"scatterpolargl\": [{\"marker\": {\"colorbar\": {\"outlinewidth\": 0, \"ticks\": \"\"}}, \"type\": \"scatterpolargl\"}], \"scatterternary\": [{\"marker\": {\"colorbar\": {\"outlinewidth\": 0, \"ticks\": \"\"}}, \"type\": \"scatterternary\"}], \"surface\": [{\"colorbar\": {\"outlinewidth\": 0, \"ticks\": \"\"}, \"colorscale\": [[0.0, \"#0d0887\"], [0.1111111111111111, \"#46039f\"], [0.2222222222222222, \"#7201a8\"], [0.3333333333333333, \"#9c179e\"], [0.4444444444444444, \"#bd3786\"], [0.5555555555555556, \"#d8576b\"], [0.6666666666666666, \"#ed7953\"], [0.7777777777777778, \"#fb9f3a\"], [0.8888888888888888, \"#fdca26\"], [1.0, \"#f0f921\"]], \"type\": \"surface\"}], \"table\": [{\"cells\": {\"fill\": {\"color\": \"#EBF0F8\"}, \"line\": {\"color\": \"white\"}}, \"header\": {\"fill\": {\"color\": \"#C8D4E3\"}, \"line\": {\"color\": \"white\"}}, \"type\": \"table\"}]}, \"layout\": {\"annotationdefaults\": {\"arrowcolor\": \"#2a3f5f\", \"arrowhead\": 0, \"arrowwidth\": 1}, \"autotypenumbers\": \"strict\", \"coloraxis\": {\"colorbar\": {\"outlinewidth\": 0, \"ticks\": \"\"}}, \"colorscale\": {\"diverging\": [[0, \"#8e0152\"], [0.1, \"#c51b7d\"], [0.2, \"#de77ae\"], [0.3, \"#f1b6da\"], [0.4, \"#fde0ef\"], [0.5, \"#f7f7f7\"], [0.6, \"#e6f5d0\"], [0.7, \"#b8e186\"], [0.8, \"#7fbc41\"], [0.9, \"#4d9221\"], [1, \"#276419\"]], \"sequential\": [[0.0, \"#0d0887\"], [0.1111111111111111, \"#46039f\"], [0.2222222222222222, \"#7201a8\"], [0.3333333333333333, \"#9c179e\"], [0.4444444444444444, \"#bd3786\"], [0.5555555555555556, \"#d8576b\"], [0.6666666666666666, \"#ed7953\"], [0.7777777777777778, \"#fb9f3a\"], [0.8888888888888888, \"#fdca26\"], [1.0, \"#f0f921\"]], \"sequentialminus\": [[0.0, \"#0d0887\"], [0.1111111111111111, \"#46039f\"], [0.2222222222222222, \"#7201a8\"], [0.3333333333333333, \"#9c179e\"], [0.4444444444444444, \"#bd3786\"], [0.5555555555555556, \"#d8576b\"], [0.6666666666666666, \"#ed7953\"], [0.7777777777777778, \"#fb9f3a\"], [0.8888888888888888, \"#fdca26\"], [1.0, \"#f0f921\"]]}, \"colorway\": [\"#636efa\", \"#EF553B\", \"#00cc96\", \"#ab63fa\", \"#FFA15A\", \"#19d3f3\", \"#FF6692\", \"#B6E880\", \"#FF97FF\", \"#FECB52\"], \"font\": {\"color\": \"#2a3f5f\"}, \"geo\": {\"bgcolor\": \"white\", \"lakecolor\": \"white\", \"landcolor\": \"#E5ECF6\", \"showlakes\": true, \"showland\": true, \"subunitcolor\": \"white\"}, \"hoverlabel\": {\"align\": \"left\"}, \"hovermode\": \"closest\", \"mapbox\": {\"style\": \"light\"}, \"paper_bgcolor\": \"white\", \"plot_bgcolor\": \"#E5ECF6\", \"polar\": {\"angularaxis\": {\"gridcolor\": \"white\", \"linecolor\": \"white\", \"ticks\": \"\"}, \"bgcolor\": \"#E5ECF6\", \"radialaxis\": {\"gridcolor\": \"white\", \"linecolor\": \"white\", \"ticks\": \"\"}}, \"scene\": {\"xaxis\": {\"backgroundcolor\": \"#E5ECF6\", \"gridcolor\": \"white\", \"gridwidth\": 2, \"linecolor\": \"white\", \"showbackground\": true, \"ticks\": \"\", \"zerolinecolor\": \"white\"}, \"yaxis\": {\"backgroundcolor\": \"#E5ECF6\", \"gridcolor\": \"white\", \"gridwidth\": 2, \"linecolor\": \"white\", \"showbackground\": true, \"ticks\": \"\", \"zerolinecolor\": \"white\"}, \"zaxis\": {\"backgroundcolor\": \"#E5ECF6\", \"gridcolor\": \"white\", \"gridwidth\": 2, \"linecolor\": \"white\", \"showbackground\": true, \"ticks\": \"\", \"zerolinecolor\": \"white\"}}, \"shapedefaults\": {\"line\": {\"color\": \"#2a3f5f\"}}, \"ternary\": {\"aaxis\": {\"gridcolor\": \"white\", \"linecolor\": \"white\", \"ticks\": \"\"}, \"baxis\": {\"gridcolor\": \"white\", \"linecolor\": \"white\", \"ticks\": \"\"}, \"bgcolor\": \"#E5ECF6\", \"caxis\": {\"gridcolor\": \"white\", \"linecolor\": \"white\", \"ticks\": \"\"}}, \"title\": {\"x\": 0.05}, \"xaxis\": {\"automargin\": true, \"gridcolor\": \"white\", \"linecolor\": \"white\", \"ticks\": \"\", \"title\": {\"standoff\": 15}, \"zerolinecolor\": \"white\", \"zerolinewidth\": 2}, \"yaxis\": {\"automargin\": true, \"gridcolor\": \"white\", \"linecolor\": \"white\", \"ticks\": \"\", \"title\": {\"standoff\": 15}, \"zerolinecolor\": \"white\", \"zerolinewidth\": 2}}}, \"title\": {\"font\": {\"color\": \"#4D5663\"}}, \"xaxis\": {\"gridcolor\": \"#E1E5ED\", \"showgrid\": true, \"tickfont\": {\"color\": \"#4D5663\"}, \"title\": {\"font\": {\"color\": \"#4D5663\"}, \"text\": \"\"}, \"zerolinecolor\": \"#E1E5ED\"}, \"yaxis\": {\"gridcolor\": \"#E1E5ED\", \"showgrid\": true, \"tickfont\": {\"color\": \"#4D5663\"}, \"title\": {\"font\": {\"color\": \"#4D5663\"}, \"text\": \"\"}, \"zerolinecolor\": \"#E1E5ED\"}},                        {\"showLink\": true, \"linkText\": \"Export to plot.ly\", \"plotlyServerURL\": \"https://plot.ly\", \"responsive\": true}                    ).then(function(){\n",
       "                            \n",
       "var gd = document.getElementById('8651b40f-883c-4c9f-b86d-e6f8678421ec');\n",
       "var x = new MutationObserver(function (mutations, observer) {{\n",
       "        var display = window.getComputedStyle(gd).display;\n",
       "        if (!display || display === 'none') {{\n",
       "            console.log([gd, 'removed!']);\n",
       "            Plotly.purge(gd);\n",
       "            observer.disconnect();\n",
       "        }}\n",
       "}});\n",
       "\n",
       "// Listen for the removal of the full notebook cells\n",
       "var notebookContainer = gd.closest('#notebook-container');\n",
       "if (notebookContainer) {{\n",
       "    x.observe(notebookContainer, {childList: true});\n",
       "}}\n",
       "\n",
       "// Listen for the clearing of the current output cell\n",
       "var outputEl = gd.closest('.output');\n",
       "if (outputEl) {{\n",
       "    x.observe(outputEl, {childList: true});\n",
       "}}\n",
       "\n",
       "                        })                };                });            </script>        </div>"
      ]
     },
     "metadata": {},
     "output_type": "display_data"
    }
   ],
   "source": [
    "df3.iplot(kind='surface')"
   ]
  },
  {
   "cell_type": "code",
   "execution_count": 36,
   "metadata": {},
   "outputs": [
    {
     "data": {
      "text/html": [
       "<div>\n",
       "<style scoped>\n",
       "    .dataframe tbody tr th:only-of-type {\n",
       "        vertical-align: middle;\n",
       "    }\n",
       "\n",
       "    .dataframe tbody tr th {\n",
       "        vertical-align: top;\n",
       "    }\n",
       "\n",
       "    .dataframe thead th {\n",
       "        text-align: right;\n",
       "    }\n",
       "</style>\n",
       "<table border=\"1\" class=\"dataframe\">\n",
       "  <thead>\n",
       "    <tr style=\"text-align: right;\">\n",
       "      <th></th>\n",
       "      <th>x</th>\n",
       "      <th>y</th>\n",
       "      <th>z</th>\n",
       "    </tr>\n",
       "  </thead>\n",
       "  <tbody>\n",
       "    <tr>\n",
       "      <th>0</th>\n",
       "      <td>1</td>\n",
       "      <td>10</td>\n",
       "      <td>5</td>\n",
       "    </tr>\n",
       "    <tr>\n",
       "      <th>1</th>\n",
       "      <td>2</td>\n",
       "      <td>20</td>\n",
       "      <td>4</td>\n",
       "    </tr>\n",
       "    <tr>\n",
       "      <th>2</th>\n",
       "      <td>3</td>\n",
       "      <td>30</td>\n",
       "      <td>3</td>\n",
       "    </tr>\n",
       "    <tr>\n",
       "      <th>3</th>\n",
       "      <td>4</td>\n",
       "      <td>20</td>\n",
       "      <td>2</td>\n",
       "    </tr>\n",
       "    <tr>\n",
       "      <th>4</th>\n",
       "      <td>5</td>\n",
       "      <td>10</td>\n",
       "      <td>1</td>\n",
       "    </tr>\n",
       "  </tbody>\n",
       "</table>\n",
       "</div>"
      ],
      "text/plain": [
       "   x   y  z\n",
       "0  1  10  5\n",
       "1  2  20  4\n",
       "2  3  30  3\n",
       "3  4  20  2\n",
       "4  5  10  1"
      ]
     },
     "execution_count": 36,
     "metadata": {},
     "output_type": "execute_result"
    }
   ],
   "source": [
    "df3=pd.DataFrame({'x':[1,2,3,4,5], 'y':[10,20,30,20,10], 'z':[5,4,3,2,1]})\n",
    "df3"
   ]
  },
  {
   "cell_type": "code",
   "execution_count": 39,
   "metadata": {},
   "outputs": [
    {
     "data": {
      "application/vnd.plotly.v1+json": {
       "config": {
        "linkText": "Export to plot.ly",
        "plotlyServerURL": "https://plot.ly",
        "showLink": true
       },
       "data": [
        {
         "colorscale": [
          [
           0,
           "rgb(165,0,38)"
          ],
          [
           0.1,
           "rgb(215,48,39)"
          ],
          [
           0.2,
           "rgb(244,109,67)"
          ],
          [
           0.3,
           "rgb(253,174,97)"
          ],
          [
           0.4,
           "rgb(254,224,144)"
          ],
          [
           0.5,
           "rgb(255,255,191)"
          ],
          [
           0.6,
           "rgb(224,243,248)"
          ],
          [
           0.7,
           "rgb(171,217,233)"
          ],
          [
           0.8,
           "rgb(116,173,209)"
          ],
          [
           0.9,
           "rgb(69,117,180)"
          ],
          [
           1,
           "rgb(49,54,149)"
          ]
         ],
         "type": "surface",
         "x": [
          0,
          1,
          2,
          3,
          4
         ],
         "y": [
          "x",
          "y",
          "z"
         ],
         "z": [
          [
           1,
           2,
           3,
           4,
           5
          ],
          [
           10,
           20,
           30,
           20,
           10
          ],
          [
           5,
           4,
           3,
           2,
           1
          ]
         ]
        }
       ],
       "layout": {
        "legend": {
         "bgcolor": "#F5F6F9",
         "font": {
          "color": "#4D5663"
         }
        },
        "paper_bgcolor": "#F5F6F9",
        "plot_bgcolor": "#F5F6F9",
        "template": {
         "data": {
          "bar": [
           {
            "error_x": {
             "color": "#2a3f5f"
            },
            "error_y": {
             "color": "#2a3f5f"
            },
            "marker": {
             "line": {
              "color": "#E5ECF6",
              "width": 0.5
             }
            },
            "type": "bar"
           }
          ],
          "barpolar": [
           {
            "marker": {
             "line": {
              "color": "#E5ECF6",
              "width": 0.5
             }
            },
            "type": "barpolar"
           }
          ],
          "carpet": [
           {
            "aaxis": {
             "endlinecolor": "#2a3f5f",
             "gridcolor": "white",
             "linecolor": "white",
             "minorgridcolor": "white",
             "startlinecolor": "#2a3f5f"
            },
            "baxis": {
             "endlinecolor": "#2a3f5f",
             "gridcolor": "white",
             "linecolor": "white",
             "minorgridcolor": "white",
             "startlinecolor": "#2a3f5f"
            },
            "type": "carpet"
           }
          ],
          "choropleth": [
           {
            "colorbar": {
             "outlinewidth": 0,
             "ticks": ""
            },
            "type": "choropleth"
           }
          ],
          "contour": [
           {
            "colorbar": {
             "outlinewidth": 0,
             "ticks": ""
            },
            "colorscale": [
             [
              0,
              "#0d0887"
             ],
             [
              0.1111111111111111,
              "#46039f"
             ],
             [
              0.2222222222222222,
              "#7201a8"
             ],
             [
              0.3333333333333333,
              "#9c179e"
             ],
             [
              0.4444444444444444,
              "#bd3786"
             ],
             [
              0.5555555555555556,
              "#d8576b"
             ],
             [
              0.6666666666666666,
              "#ed7953"
             ],
             [
              0.7777777777777778,
              "#fb9f3a"
             ],
             [
              0.8888888888888888,
              "#fdca26"
             ],
             [
              1,
              "#f0f921"
             ]
            ],
            "type": "contour"
           }
          ],
          "contourcarpet": [
           {
            "colorbar": {
             "outlinewidth": 0,
             "ticks": ""
            },
            "type": "contourcarpet"
           }
          ],
          "heatmap": [
           {
            "colorbar": {
             "outlinewidth": 0,
             "ticks": ""
            },
            "colorscale": [
             [
              0,
              "#0d0887"
             ],
             [
              0.1111111111111111,
              "#46039f"
             ],
             [
              0.2222222222222222,
              "#7201a8"
             ],
             [
              0.3333333333333333,
              "#9c179e"
             ],
             [
              0.4444444444444444,
              "#bd3786"
             ],
             [
              0.5555555555555556,
              "#d8576b"
             ],
             [
              0.6666666666666666,
              "#ed7953"
             ],
             [
              0.7777777777777778,
              "#fb9f3a"
             ],
             [
              0.8888888888888888,
              "#fdca26"
             ],
             [
              1,
              "#f0f921"
             ]
            ],
            "type": "heatmap"
           }
          ],
          "heatmapgl": [
           {
            "colorbar": {
             "outlinewidth": 0,
             "ticks": ""
            },
            "colorscale": [
             [
              0,
              "#0d0887"
             ],
             [
              0.1111111111111111,
              "#46039f"
             ],
             [
              0.2222222222222222,
              "#7201a8"
             ],
             [
              0.3333333333333333,
              "#9c179e"
             ],
             [
              0.4444444444444444,
              "#bd3786"
             ],
             [
              0.5555555555555556,
              "#d8576b"
             ],
             [
              0.6666666666666666,
              "#ed7953"
             ],
             [
              0.7777777777777778,
              "#fb9f3a"
             ],
             [
              0.8888888888888888,
              "#fdca26"
             ],
             [
              1,
              "#f0f921"
             ]
            ],
            "type": "heatmapgl"
           }
          ],
          "histogram": [
           {
            "marker": {
             "colorbar": {
              "outlinewidth": 0,
              "ticks": ""
             }
            },
            "type": "histogram"
           }
          ],
          "histogram2d": [
           {
            "colorbar": {
             "outlinewidth": 0,
             "ticks": ""
            },
            "colorscale": [
             [
              0,
              "#0d0887"
             ],
             [
              0.1111111111111111,
              "#46039f"
             ],
             [
              0.2222222222222222,
              "#7201a8"
             ],
             [
              0.3333333333333333,
              "#9c179e"
             ],
             [
              0.4444444444444444,
              "#bd3786"
             ],
             [
              0.5555555555555556,
              "#d8576b"
             ],
             [
              0.6666666666666666,
              "#ed7953"
             ],
             [
              0.7777777777777778,
              "#fb9f3a"
             ],
             [
              0.8888888888888888,
              "#fdca26"
             ],
             [
              1,
              "#f0f921"
             ]
            ],
            "type": "histogram2d"
           }
          ],
          "histogram2dcontour": [
           {
            "colorbar": {
             "outlinewidth": 0,
             "ticks": ""
            },
            "colorscale": [
             [
              0,
              "#0d0887"
             ],
             [
              0.1111111111111111,
              "#46039f"
             ],
             [
              0.2222222222222222,
              "#7201a8"
             ],
             [
              0.3333333333333333,
              "#9c179e"
             ],
             [
              0.4444444444444444,
              "#bd3786"
             ],
             [
              0.5555555555555556,
              "#d8576b"
             ],
             [
              0.6666666666666666,
              "#ed7953"
             ],
             [
              0.7777777777777778,
              "#fb9f3a"
             ],
             [
              0.8888888888888888,
              "#fdca26"
             ],
             [
              1,
              "#f0f921"
             ]
            ],
            "type": "histogram2dcontour"
           }
          ],
          "mesh3d": [
           {
            "colorbar": {
             "outlinewidth": 0,
             "ticks": ""
            },
            "type": "mesh3d"
           }
          ],
          "parcoords": [
           {
            "line": {
             "colorbar": {
              "outlinewidth": 0,
              "ticks": ""
             }
            },
            "type": "parcoords"
           }
          ],
          "pie": [
           {
            "automargin": true,
            "type": "pie"
           }
          ],
          "scatter": [
           {
            "marker": {
             "colorbar": {
              "outlinewidth": 0,
              "ticks": ""
             }
            },
            "type": "scatter"
           }
          ],
          "scatter3d": [
           {
            "line": {
             "colorbar": {
              "outlinewidth": 0,
              "ticks": ""
             }
            },
            "marker": {
             "colorbar": {
              "outlinewidth": 0,
              "ticks": ""
             }
            },
            "type": "scatter3d"
           }
          ],
          "scattercarpet": [
           {
            "marker": {
             "colorbar": {
              "outlinewidth": 0,
              "ticks": ""
             }
            },
            "type": "scattercarpet"
           }
          ],
          "scattergeo": [
           {
            "marker": {
             "colorbar": {
              "outlinewidth": 0,
              "ticks": ""
             }
            },
            "type": "scattergeo"
           }
          ],
          "scattergl": [
           {
            "marker": {
             "colorbar": {
              "outlinewidth": 0,
              "ticks": ""
             }
            },
            "type": "scattergl"
           }
          ],
          "scattermapbox": [
           {
            "marker": {
             "colorbar": {
              "outlinewidth": 0,
              "ticks": ""
             }
            },
            "type": "scattermapbox"
           }
          ],
          "scatterpolar": [
           {
            "marker": {
             "colorbar": {
              "outlinewidth": 0,
              "ticks": ""
             }
            },
            "type": "scatterpolar"
           }
          ],
          "scatterpolargl": [
           {
            "marker": {
             "colorbar": {
              "outlinewidth": 0,
              "ticks": ""
             }
            },
            "type": "scatterpolargl"
           }
          ],
          "scatterternary": [
           {
            "marker": {
             "colorbar": {
              "outlinewidth": 0,
              "ticks": ""
             }
            },
            "type": "scatterternary"
           }
          ],
          "surface": [
           {
            "colorbar": {
             "outlinewidth": 0,
             "ticks": ""
            },
            "colorscale": [
             [
              0,
              "#0d0887"
             ],
             [
              0.1111111111111111,
              "#46039f"
             ],
             [
              0.2222222222222222,
              "#7201a8"
             ],
             [
              0.3333333333333333,
              "#9c179e"
             ],
             [
              0.4444444444444444,
              "#bd3786"
             ],
             [
              0.5555555555555556,
              "#d8576b"
             ],
             [
              0.6666666666666666,
              "#ed7953"
             ],
             [
              0.7777777777777778,
              "#fb9f3a"
             ],
             [
              0.8888888888888888,
              "#fdca26"
             ],
             [
              1,
              "#f0f921"
             ]
            ],
            "type": "surface"
           }
          ],
          "table": [
           {
            "cells": {
             "fill": {
              "color": "#EBF0F8"
             },
             "line": {
              "color": "white"
             }
            },
            "header": {
             "fill": {
              "color": "#C8D4E3"
             },
             "line": {
              "color": "white"
             }
            },
            "type": "table"
           }
          ]
         },
         "layout": {
          "annotationdefaults": {
           "arrowcolor": "#2a3f5f",
           "arrowhead": 0,
           "arrowwidth": 1
          },
          "autotypenumbers": "strict",
          "coloraxis": {
           "colorbar": {
            "outlinewidth": 0,
            "ticks": ""
           }
          },
          "colorscale": {
           "diverging": [
            [
             0,
             "#8e0152"
            ],
            [
             0.1,
             "#c51b7d"
            ],
            [
             0.2,
             "#de77ae"
            ],
            [
             0.3,
             "#f1b6da"
            ],
            [
             0.4,
             "#fde0ef"
            ],
            [
             0.5,
             "#f7f7f7"
            ],
            [
             0.6,
             "#e6f5d0"
            ],
            [
             0.7,
             "#b8e186"
            ],
            [
             0.8,
             "#7fbc41"
            ],
            [
             0.9,
             "#4d9221"
            ],
            [
             1,
             "#276419"
            ]
           ],
           "sequential": [
            [
             0,
             "#0d0887"
            ],
            [
             0.1111111111111111,
             "#46039f"
            ],
            [
             0.2222222222222222,
             "#7201a8"
            ],
            [
             0.3333333333333333,
             "#9c179e"
            ],
            [
             0.4444444444444444,
             "#bd3786"
            ],
            [
             0.5555555555555556,
             "#d8576b"
            ],
            [
             0.6666666666666666,
             "#ed7953"
            ],
            [
             0.7777777777777778,
             "#fb9f3a"
            ],
            [
             0.8888888888888888,
             "#fdca26"
            ],
            [
             1,
             "#f0f921"
            ]
           ],
           "sequentialminus": [
            [
             0,
             "#0d0887"
            ],
            [
             0.1111111111111111,
             "#46039f"
            ],
            [
             0.2222222222222222,
             "#7201a8"
            ],
            [
             0.3333333333333333,
             "#9c179e"
            ],
            [
             0.4444444444444444,
             "#bd3786"
            ],
            [
             0.5555555555555556,
             "#d8576b"
            ],
            [
             0.6666666666666666,
             "#ed7953"
            ],
            [
             0.7777777777777778,
             "#fb9f3a"
            ],
            [
             0.8888888888888888,
             "#fdca26"
            ],
            [
             1,
             "#f0f921"
            ]
           ]
          },
          "colorway": [
           "#636efa",
           "#EF553B",
           "#00cc96",
           "#ab63fa",
           "#FFA15A",
           "#19d3f3",
           "#FF6692",
           "#B6E880",
           "#FF97FF",
           "#FECB52"
          ],
          "font": {
           "color": "#2a3f5f"
          },
          "geo": {
           "bgcolor": "white",
           "lakecolor": "white",
           "landcolor": "#E5ECF6",
           "showlakes": true,
           "showland": true,
           "subunitcolor": "white"
          },
          "hoverlabel": {
           "align": "left"
          },
          "hovermode": "closest",
          "mapbox": {
           "style": "light"
          },
          "paper_bgcolor": "white",
          "plot_bgcolor": "#E5ECF6",
          "polar": {
           "angularaxis": {
            "gridcolor": "white",
            "linecolor": "white",
            "ticks": ""
           },
           "bgcolor": "#E5ECF6",
           "radialaxis": {
            "gridcolor": "white",
            "linecolor": "white",
            "ticks": ""
           }
          },
          "scene": {
           "xaxis": {
            "backgroundcolor": "#E5ECF6",
            "gridcolor": "white",
            "gridwidth": 2,
            "linecolor": "white",
            "showbackground": true,
            "ticks": "",
            "zerolinecolor": "white"
           },
           "yaxis": {
            "backgroundcolor": "#E5ECF6",
            "gridcolor": "white",
            "gridwidth": 2,
            "linecolor": "white",
            "showbackground": true,
            "ticks": "",
            "zerolinecolor": "white"
           },
           "zaxis": {
            "backgroundcolor": "#E5ECF6",
            "gridcolor": "white",
            "gridwidth": 2,
            "linecolor": "white",
            "showbackground": true,
            "ticks": "",
            "zerolinecolor": "white"
           }
          },
          "shapedefaults": {
           "line": {
            "color": "#2a3f5f"
           }
          },
          "ternary": {
           "aaxis": {
            "gridcolor": "white",
            "linecolor": "white",
            "ticks": ""
           },
           "baxis": {
            "gridcolor": "white",
            "linecolor": "white",
            "ticks": ""
           },
           "bgcolor": "#E5ECF6",
           "caxis": {
            "gridcolor": "white",
            "linecolor": "white",
            "ticks": ""
           }
          },
          "title": {
           "x": 0.05
          },
          "xaxis": {
           "automargin": true,
           "gridcolor": "white",
           "linecolor": "white",
           "ticks": "",
           "title": {
            "standoff": 15
           },
           "zerolinecolor": "white",
           "zerolinewidth": 2
          },
          "yaxis": {
           "automargin": true,
           "gridcolor": "white",
           "linecolor": "white",
           "ticks": "",
           "title": {
            "standoff": 15
           },
           "zerolinecolor": "white",
           "zerolinewidth": 2
          }
         }
        },
        "title": {
         "font": {
          "color": "#4D5663"
         }
        },
        "xaxis": {
         "gridcolor": "#E1E5ED",
         "showgrid": true,
         "tickfont": {
          "color": "#4D5663"
         },
         "title": {
          "font": {
           "color": "#4D5663"
          },
          "text": ""
         },
         "zerolinecolor": "#E1E5ED"
        },
        "yaxis": {
         "gridcolor": "#E1E5ED",
         "showgrid": true,
         "tickfont": {
          "color": "#4D5663"
         },
         "title": {
          "font": {
           "color": "#4D5663"
          },
          "text": ""
         },
         "zerolinecolor": "#E1E5ED"
        }
       }
      },
      "text/html": [
       "<div>                            <div id=\"23652b67-177a-4ea1-be5b-bba9f735259a\" class=\"plotly-graph-div\" style=\"height:525px; width:100%;\"></div>            <script type=\"text/javascript\">                require([\"plotly\"], function(Plotly) {                    window.PLOTLYENV=window.PLOTLYENV || {};\n",
       "                    window.PLOTLYENV.BASE_URL='https://plot.ly';                                    if (document.getElementById(\"23652b67-177a-4ea1-be5b-bba9f735259a\")) {                    Plotly.newPlot(                        \"23652b67-177a-4ea1-be5b-bba9f735259a\",                        [{\"colorscale\": [[0.0, \"rgb(165,0,38)\"], [0.1, \"rgb(215,48,39)\"], [0.2, \"rgb(244,109,67)\"], [0.3, \"rgb(253,174,97)\"], [0.4, \"rgb(254,224,144)\"], [0.5, \"rgb(255,255,191)\"], [0.6, \"rgb(224,243,248)\"], [0.7, \"rgb(171,217,233)\"], [0.8, \"rgb(116,173,209)\"], [0.9, \"rgb(69,117,180)\"], [1.0, \"rgb(49,54,149)\"]], \"type\": \"surface\", \"x\": [0, 1, 2, 3, 4], \"y\": [\"x\", \"y\", \"z\"], \"z\": [[1, 2, 3, 4, 5], [10, 20, 30, 20, 10], [5, 4, 3, 2, 1]]}],                        {\"legend\": {\"bgcolor\": \"#F5F6F9\", \"font\": {\"color\": \"#4D5663\"}}, \"paper_bgcolor\": \"#F5F6F9\", \"plot_bgcolor\": \"#F5F6F9\", \"template\": {\"data\": {\"bar\": [{\"error_x\": {\"color\": \"#2a3f5f\"}, \"error_y\": {\"color\": \"#2a3f5f\"}, \"marker\": {\"line\": {\"color\": \"#E5ECF6\", \"width\": 0.5}}, \"type\": \"bar\"}], \"barpolar\": [{\"marker\": {\"line\": {\"color\": \"#E5ECF6\", \"width\": 0.5}}, \"type\": \"barpolar\"}], \"carpet\": [{\"aaxis\": {\"endlinecolor\": \"#2a3f5f\", \"gridcolor\": \"white\", \"linecolor\": \"white\", \"minorgridcolor\": \"white\", \"startlinecolor\": \"#2a3f5f\"}, \"baxis\": {\"endlinecolor\": \"#2a3f5f\", \"gridcolor\": \"white\", \"linecolor\": \"white\", \"minorgridcolor\": \"white\", \"startlinecolor\": \"#2a3f5f\"}, \"type\": \"carpet\"}], \"choropleth\": [{\"colorbar\": {\"outlinewidth\": 0, \"ticks\": \"\"}, \"type\": \"choropleth\"}], \"contour\": [{\"colorbar\": {\"outlinewidth\": 0, \"ticks\": \"\"}, \"colorscale\": [[0.0, \"#0d0887\"], [0.1111111111111111, \"#46039f\"], [0.2222222222222222, \"#7201a8\"], [0.3333333333333333, \"#9c179e\"], [0.4444444444444444, \"#bd3786\"], [0.5555555555555556, \"#d8576b\"], [0.6666666666666666, \"#ed7953\"], [0.7777777777777778, \"#fb9f3a\"], [0.8888888888888888, \"#fdca26\"], [1.0, \"#f0f921\"]], \"type\": \"contour\"}], \"contourcarpet\": [{\"colorbar\": {\"outlinewidth\": 0, \"ticks\": \"\"}, \"type\": \"contourcarpet\"}], \"heatmap\": [{\"colorbar\": {\"outlinewidth\": 0, \"ticks\": \"\"}, \"colorscale\": [[0.0, \"#0d0887\"], [0.1111111111111111, \"#46039f\"], [0.2222222222222222, \"#7201a8\"], [0.3333333333333333, \"#9c179e\"], [0.4444444444444444, \"#bd3786\"], [0.5555555555555556, \"#d8576b\"], [0.6666666666666666, \"#ed7953\"], [0.7777777777777778, \"#fb9f3a\"], [0.8888888888888888, \"#fdca26\"], [1.0, \"#f0f921\"]], \"type\": \"heatmap\"}], \"heatmapgl\": [{\"colorbar\": {\"outlinewidth\": 0, \"ticks\": \"\"}, \"colorscale\": [[0.0, \"#0d0887\"], [0.1111111111111111, \"#46039f\"], [0.2222222222222222, \"#7201a8\"], [0.3333333333333333, \"#9c179e\"], [0.4444444444444444, \"#bd3786\"], [0.5555555555555556, \"#d8576b\"], [0.6666666666666666, \"#ed7953\"], [0.7777777777777778, \"#fb9f3a\"], [0.8888888888888888, \"#fdca26\"], [1.0, \"#f0f921\"]], \"type\": \"heatmapgl\"}], \"histogram\": [{\"marker\": {\"colorbar\": {\"outlinewidth\": 0, \"ticks\": \"\"}}, \"type\": \"histogram\"}], \"histogram2d\": [{\"colorbar\": {\"outlinewidth\": 0, \"ticks\": \"\"}, \"colorscale\": [[0.0, \"#0d0887\"], [0.1111111111111111, \"#46039f\"], [0.2222222222222222, \"#7201a8\"], [0.3333333333333333, \"#9c179e\"], [0.4444444444444444, \"#bd3786\"], [0.5555555555555556, \"#d8576b\"], [0.6666666666666666, \"#ed7953\"], [0.7777777777777778, \"#fb9f3a\"], [0.8888888888888888, \"#fdca26\"], [1.0, \"#f0f921\"]], \"type\": \"histogram2d\"}], \"histogram2dcontour\": [{\"colorbar\": {\"outlinewidth\": 0, \"ticks\": \"\"}, \"colorscale\": [[0.0, \"#0d0887\"], [0.1111111111111111, \"#46039f\"], [0.2222222222222222, \"#7201a8\"], [0.3333333333333333, \"#9c179e\"], [0.4444444444444444, \"#bd3786\"], [0.5555555555555556, \"#d8576b\"], [0.6666666666666666, \"#ed7953\"], [0.7777777777777778, \"#fb9f3a\"], [0.8888888888888888, \"#fdca26\"], [1.0, \"#f0f921\"]], \"type\": \"histogram2dcontour\"}], \"mesh3d\": [{\"colorbar\": {\"outlinewidth\": 0, \"ticks\": \"\"}, \"type\": \"mesh3d\"}], \"parcoords\": [{\"line\": {\"colorbar\": {\"outlinewidth\": 0, \"ticks\": \"\"}}, \"type\": \"parcoords\"}], \"pie\": [{\"automargin\": true, \"type\": \"pie\"}], \"scatter\": [{\"marker\": {\"colorbar\": {\"outlinewidth\": 0, \"ticks\": \"\"}}, \"type\": \"scatter\"}], \"scatter3d\": [{\"line\": {\"colorbar\": {\"outlinewidth\": 0, \"ticks\": \"\"}}, \"marker\": {\"colorbar\": {\"outlinewidth\": 0, \"ticks\": \"\"}}, \"type\": \"scatter3d\"}], \"scattercarpet\": [{\"marker\": {\"colorbar\": {\"outlinewidth\": 0, \"ticks\": \"\"}}, \"type\": \"scattercarpet\"}], \"scattergeo\": [{\"marker\": {\"colorbar\": {\"outlinewidth\": 0, \"ticks\": \"\"}}, \"type\": \"scattergeo\"}], \"scattergl\": [{\"marker\": {\"colorbar\": {\"outlinewidth\": 0, \"ticks\": \"\"}}, \"type\": \"scattergl\"}], \"scattermapbox\": [{\"marker\": {\"colorbar\": {\"outlinewidth\": 0, \"ticks\": \"\"}}, \"type\": \"scattermapbox\"}], \"scatterpolar\": [{\"marker\": {\"colorbar\": {\"outlinewidth\": 0, \"ticks\": \"\"}}, \"type\": \"scatterpolar\"}], \"scatterpolargl\": [{\"marker\": {\"colorbar\": {\"outlinewidth\": 0, \"ticks\": \"\"}}, \"type\": \"scatterpolargl\"}], \"scatterternary\": [{\"marker\": {\"colorbar\": {\"outlinewidth\": 0, \"ticks\": \"\"}}, \"type\": \"scatterternary\"}], \"surface\": [{\"colorbar\": {\"outlinewidth\": 0, \"ticks\": \"\"}, \"colorscale\": [[0.0, \"#0d0887\"], [0.1111111111111111, \"#46039f\"], [0.2222222222222222, \"#7201a8\"], [0.3333333333333333, \"#9c179e\"], [0.4444444444444444, \"#bd3786\"], [0.5555555555555556, \"#d8576b\"], [0.6666666666666666, \"#ed7953\"], [0.7777777777777778, \"#fb9f3a\"], [0.8888888888888888, \"#fdca26\"], [1.0, \"#f0f921\"]], \"type\": \"surface\"}], \"table\": [{\"cells\": {\"fill\": {\"color\": \"#EBF0F8\"}, \"line\": {\"color\": \"white\"}}, \"header\": {\"fill\": {\"color\": \"#C8D4E3\"}, \"line\": {\"color\": \"white\"}}, \"type\": \"table\"}]}, \"layout\": {\"annotationdefaults\": {\"arrowcolor\": \"#2a3f5f\", \"arrowhead\": 0, \"arrowwidth\": 1}, \"autotypenumbers\": \"strict\", \"coloraxis\": {\"colorbar\": {\"outlinewidth\": 0, \"ticks\": \"\"}}, \"colorscale\": {\"diverging\": [[0, \"#8e0152\"], [0.1, \"#c51b7d\"], [0.2, \"#de77ae\"], [0.3, \"#f1b6da\"], [0.4, \"#fde0ef\"], [0.5, \"#f7f7f7\"], [0.6, \"#e6f5d0\"], [0.7, \"#b8e186\"], [0.8, \"#7fbc41\"], [0.9, \"#4d9221\"], [1, \"#276419\"]], \"sequential\": [[0.0, \"#0d0887\"], [0.1111111111111111, \"#46039f\"], [0.2222222222222222, \"#7201a8\"], [0.3333333333333333, \"#9c179e\"], [0.4444444444444444, \"#bd3786\"], [0.5555555555555556, \"#d8576b\"], [0.6666666666666666, \"#ed7953\"], [0.7777777777777778, \"#fb9f3a\"], [0.8888888888888888, \"#fdca26\"], [1.0, \"#f0f921\"]], \"sequentialminus\": [[0.0, \"#0d0887\"], [0.1111111111111111, \"#46039f\"], [0.2222222222222222, \"#7201a8\"], [0.3333333333333333, \"#9c179e\"], [0.4444444444444444, \"#bd3786\"], [0.5555555555555556, \"#d8576b\"], [0.6666666666666666, \"#ed7953\"], [0.7777777777777778, \"#fb9f3a\"], [0.8888888888888888, \"#fdca26\"], [1.0, \"#f0f921\"]]}, \"colorway\": [\"#636efa\", \"#EF553B\", \"#00cc96\", \"#ab63fa\", \"#FFA15A\", \"#19d3f3\", \"#FF6692\", \"#B6E880\", \"#FF97FF\", \"#FECB52\"], \"font\": {\"color\": \"#2a3f5f\"}, \"geo\": {\"bgcolor\": \"white\", \"lakecolor\": \"white\", \"landcolor\": \"#E5ECF6\", \"showlakes\": true, \"showland\": true, \"subunitcolor\": \"white\"}, \"hoverlabel\": {\"align\": \"left\"}, \"hovermode\": \"closest\", \"mapbox\": {\"style\": \"light\"}, \"paper_bgcolor\": \"white\", \"plot_bgcolor\": \"#E5ECF6\", \"polar\": {\"angularaxis\": {\"gridcolor\": \"white\", \"linecolor\": \"white\", \"ticks\": \"\"}, \"bgcolor\": \"#E5ECF6\", \"radialaxis\": {\"gridcolor\": \"white\", \"linecolor\": \"white\", \"ticks\": \"\"}}, \"scene\": {\"xaxis\": {\"backgroundcolor\": \"#E5ECF6\", \"gridcolor\": \"white\", \"gridwidth\": 2, \"linecolor\": \"white\", \"showbackground\": true, \"ticks\": \"\", \"zerolinecolor\": \"white\"}, \"yaxis\": {\"backgroundcolor\": \"#E5ECF6\", \"gridcolor\": \"white\", \"gridwidth\": 2, \"linecolor\": \"white\", \"showbackground\": true, \"ticks\": \"\", \"zerolinecolor\": \"white\"}, \"zaxis\": {\"backgroundcolor\": \"#E5ECF6\", \"gridcolor\": \"white\", \"gridwidth\": 2, \"linecolor\": \"white\", \"showbackground\": true, \"ticks\": \"\", \"zerolinecolor\": \"white\"}}, \"shapedefaults\": {\"line\": {\"color\": \"#2a3f5f\"}}, \"ternary\": {\"aaxis\": {\"gridcolor\": \"white\", \"linecolor\": \"white\", \"ticks\": \"\"}, \"baxis\": {\"gridcolor\": \"white\", \"linecolor\": \"white\", \"ticks\": \"\"}, \"bgcolor\": \"#E5ECF6\", \"caxis\": {\"gridcolor\": \"white\", \"linecolor\": \"white\", \"ticks\": \"\"}}, \"title\": {\"x\": 0.05}, \"xaxis\": {\"automargin\": true, \"gridcolor\": \"white\", \"linecolor\": \"white\", \"ticks\": \"\", \"title\": {\"standoff\": 15}, \"zerolinecolor\": \"white\", \"zerolinewidth\": 2}, \"yaxis\": {\"automargin\": true, \"gridcolor\": \"white\", \"linecolor\": \"white\", \"ticks\": \"\", \"title\": {\"standoff\": 15}, \"zerolinecolor\": \"white\", \"zerolinewidth\": 2}}}, \"title\": {\"font\": {\"color\": \"#4D5663\"}}, \"xaxis\": {\"gridcolor\": \"#E1E5ED\", \"showgrid\": true, \"tickfont\": {\"color\": \"#4D5663\"}, \"title\": {\"font\": {\"color\": \"#4D5663\"}, \"text\": \"\"}, \"zerolinecolor\": \"#E1E5ED\"}, \"yaxis\": {\"gridcolor\": \"#E1E5ED\", \"showgrid\": true, \"tickfont\": {\"color\": \"#4D5663\"}, \"title\": {\"font\": {\"color\": \"#4D5663\"}, \"text\": \"\"}, \"zerolinecolor\": \"#E1E5ED\"}},                        {\"showLink\": true, \"linkText\": \"Export to plot.ly\", \"plotlyServerURL\": \"https://plot.ly\", \"responsive\": true}                    ).then(function(){\n",
       "                            \n",
       "var gd = document.getElementById('23652b67-177a-4ea1-be5b-bba9f735259a');\n",
       "var x = new MutationObserver(function (mutations, observer) {{\n",
       "        var display = window.getComputedStyle(gd).display;\n",
       "        if (!display || display === 'none') {{\n",
       "            console.log([gd, 'removed!']);\n",
       "            Plotly.purge(gd);\n",
       "            observer.disconnect();\n",
       "        }}\n",
       "}});\n",
       "\n",
       "// Listen for the removal of the full notebook cells\n",
       "var notebookContainer = gd.closest('#notebook-container');\n",
       "if (notebookContainer) {{\n",
       "    x.observe(notebookContainer, {childList: true});\n",
       "}}\n",
       "\n",
       "// Listen for the clearing of the current output cell\n",
       "var outputEl = gd.closest('.output');\n",
       "if (outputEl) {{\n",
       "    x.observe(outputEl, {childList: true});\n",
       "}}\n",
       "\n",
       "                        })                };                });            </script>        </div>"
      ]
     },
     "metadata": {},
     "output_type": "display_data"
    }
   ],
   "source": [
    "df3.iplot(kind='surface', colorscale='rdylbu')"
   ]
  },
  {
   "cell_type": "code",
   "execution_count": 42,
   "metadata": {},
   "outputs": [
    {
     "data": {
      "application/vnd.plotly.v1+json": {
       "config": {
        "linkText": "Export to plot.ly",
        "plotlyServerURL": "https://plot.ly",
        "showLink": true
       },
       "data": [
        {
         "histfunc": "count",
         "histnorm": "",
         "marker": {
          "color": "rgba(255, 153, 51, 1.0)",
          "line": {
           "color": "#4D5663",
           "width": 1.3
          }
         },
         "name": "A",
         "nbinsx": 25,
         "opacity": 0.8,
         "orientation": "v",
         "type": "histogram",
         "x": [
          -0.14503484795852725,
          -3.0165964743780136,
          0.24392315292249664,
          0.2011504284420982,
          -1.954377685047049,
          0.018622857603898417,
          0.8617756539234976,
          -1.1789175288139595,
          0.09453158593071533,
          -0.8190086004558853,
          -0.5111915119844852,
          -0.37019437878534933,
          0.49406010167759457,
          0.7318957798065484,
          -0.6245807673201975,
          0.3860474439383816,
          0.4682472943605631,
          0.1627222638546957,
          -0.8365295450105019,
          -0.1484272992826551,
          -0.14699585388358868,
          -0.8989769017012104,
          3.375644491066588,
          0.8636351957100722,
          0.9764706586185982,
          1.8839025583510707,
          0.49039805334819536,
          1.1798805121748803,
          -0.08293830705260241,
          0.020189132289008475,
          -1.212888981610273,
          -0.9540852579325413,
          0.03227530808262174,
          -0.8518559637939185,
          0.9654680591995582,
          -1.0356822197978657,
          -0.8665007063675878,
          1.1028588348458925,
          -1.0335879734720794,
          -0.8709376829504009,
          1.6229341507509705,
          -0.0960647329416155,
          0.558693955982772,
          -0.47009300020518974,
          -0.098392235514167,
          1.184576665806727,
          0.01243576370376068,
          -0.10444812302065885,
          0.16465566602612397,
          -0.47601592047505115,
          -0.3524503064476507,
          -1.1142072718294294,
          -0.24775154136288996,
          0.6454080597490083,
          0.06799428384607312,
          -2.3458667879361808,
          0.0750307959732018,
          -0.02338014024049768,
          0.408278691353931,
          -1.3197647537174,
          -0.08369974574571107,
          0.028103212057242984,
          0.24146463374541377,
          -0.1314784283188998,
          -0.35399171541630814,
          0.9047121766469459,
          0.577691629229222,
          -0.9041627507100116,
          0.6679213458174991,
          0.21340226976686694,
          0.5187350887843667,
          1.0291096353357165,
          -0.31331510697347104,
          -0.569615681897244,
          -0.08158041488700205,
          0.4024168949117813,
          -0.37676734107072724,
          0.02441103137705158,
          0.4372970535384335,
          0.6141820169439471,
          1.190905549407557,
          0.5607483976603372,
          -2.33021436137407,
          0.5234829274135729,
          -0.6133704977202653,
          0.6259858344588582,
          -0.03941965499720579,
          -0.3826539928719661,
          -1.1626848852541085,
          -0.13538449249010662,
          -0.44734498015120816,
          -0.675527294767186,
          -0.27764693163851684,
          2.0007679905946723,
          -0.023422696390421664,
          1.0516904951894257,
          -0.6505394429961281,
          0.16981956995748015,
          0.8454912342091417,
          -0.3025957383637378
         ]
        }
       ],
       "layout": {
        "barmode": "overlay",
        "legend": {
         "bgcolor": "#F5F6F9",
         "font": {
          "color": "#4D5663"
         }
        },
        "paper_bgcolor": "#F5F6F9",
        "plot_bgcolor": "#F5F6F9",
        "template": {
         "data": {
          "bar": [
           {
            "error_x": {
             "color": "#2a3f5f"
            },
            "error_y": {
             "color": "#2a3f5f"
            },
            "marker": {
             "line": {
              "color": "#E5ECF6",
              "width": 0.5
             }
            },
            "type": "bar"
           }
          ],
          "barpolar": [
           {
            "marker": {
             "line": {
              "color": "#E5ECF6",
              "width": 0.5
             }
            },
            "type": "barpolar"
           }
          ],
          "carpet": [
           {
            "aaxis": {
             "endlinecolor": "#2a3f5f",
             "gridcolor": "white",
             "linecolor": "white",
             "minorgridcolor": "white",
             "startlinecolor": "#2a3f5f"
            },
            "baxis": {
             "endlinecolor": "#2a3f5f",
             "gridcolor": "white",
             "linecolor": "white",
             "minorgridcolor": "white",
             "startlinecolor": "#2a3f5f"
            },
            "type": "carpet"
           }
          ],
          "choropleth": [
           {
            "colorbar": {
             "outlinewidth": 0,
             "ticks": ""
            },
            "type": "choropleth"
           }
          ],
          "contour": [
           {
            "colorbar": {
             "outlinewidth": 0,
             "ticks": ""
            },
            "colorscale": [
             [
              0,
              "#0d0887"
             ],
             [
              0.1111111111111111,
              "#46039f"
             ],
             [
              0.2222222222222222,
              "#7201a8"
             ],
             [
              0.3333333333333333,
              "#9c179e"
             ],
             [
              0.4444444444444444,
              "#bd3786"
             ],
             [
              0.5555555555555556,
              "#d8576b"
             ],
             [
              0.6666666666666666,
              "#ed7953"
             ],
             [
              0.7777777777777778,
              "#fb9f3a"
             ],
             [
              0.8888888888888888,
              "#fdca26"
             ],
             [
              1,
              "#f0f921"
             ]
            ],
            "type": "contour"
           }
          ],
          "contourcarpet": [
           {
            "colorbar": {
             "outlinewidth": 0,
             "ticks": ""
            },
            "type": "contourcarpet"
           }
          ],
          "heatmap": [
           {
            "colorbar": {
             "outlinewidth": 0,
             "ticks": ""
            },
            "colorscale": [
             [
              0,
              "#0d0887"
             ],
             [
              0.1111111111111111,
              "#46039f"
             ],
             [
              0.2222222222222222,
              "#7201a8"
             ],
             [
              0.3333333333333333,
              "#9c179e"
             ],
             [
              0.4444444444444444,
              "#bd3786"
             ],
             [
              0.5555555555555556,
              "#d8576b"
             ],
             [
              0.6666666666666666,
              "#ed7953"
             ],
             [
              0.7777777777777778,
              "#fb9f3a"
             ],
             [
              0.8888888888888888,
              "#fdca26"
             ],
             [
              1,
              "#f0f921"
             ]
            ],
            "type": "heatmap"
           }
          ],
          "heatmapgl": [
           {
            "colorbar": {
             "outlinewidth": 0,
             "ticks": ""
            },
            "colorscale": [
             [
              0,
              "#0d0887"
             ],
             [
              0.1111111111111111,
              "#46039f"
             ],
             [
              0.2222222222222222,
              "#7201a8"
             ],
             [
              0.3333333333333333,
              "#9c179e"
             ],
             [
              0.4444444444444444,
              "#bd3786"
             ],
             [
              0.5555555555555556,
              "#d8576b"
             ],
             [
              0.6666666666666666,
              "#ed7953"
             ],
             [
              0.7777777777777778,
              "#fb9f3a"
             ],
             [
              0.8888888888888888,
              "#fdca26"
             ],
             [
              1,
              "#f0f921"
             ]
            ],
            "type": "heatmapgl"
           }
          ],
          "histogram": [
           {
            "marker": {
             "colorbar": {
              "outlinewidth": 0,
              "ticks": ""
             }
            },
            "type": "histogram"
           }
          ],
          "histogram2d": [
           {
            "colorbar": {
             "outlinewidth": 0,
             "ticks": ""
            },
            "colorscale": [
             [
              0,
              "#0d0887"
             ],
             [
              0.1111111111111111,
              "#46039f"
             ],
             [
              0.2222222222222222,
              "#7201a8"
             ],
             [
              0.3333333333333333,
              "#9c179e"
             ],
             [
              0.4444444444444444,
              "#bd3786"
             ],
             [
              0.5555555555555556,
              "#d8576b"
             ],
             [
              0.6666666666666666,
              "#ed7953"
             ],
             [
              0.7777777777777778,
              "#fb9f3a"
             ],
             [
              0.8888888888888888,
              "#fdca26"
             ],
             [
              1,
              "#f0f921"
             ]
            ],
            "type": "histogram2d"
           }
          ],
          "histogram2dcontour": [
           {
            "colorbar": {
             "outlinewidth": 0,
             "ticks": ""
            },
            "colorscale": [
             [
              0,
              "#0d0887"
             ],
             [
              0.1111111111111111,
              "#46039f"
             ],
             [
              0.2222222222222222,
              "#7201a8"
             ],
             [
              0.3333333333333333,
              "#9c179e"
             ],
             [
              0.4444444444444444,
              "#bd3786"
             ],
             [
              0.5555555555555556,
              "#d8576b"
             ],
             [
              0.6666666666666666,
              "#ed7953"
             ],
             [
              0.7777777777777778,
              "#fb9f3a"
             ],
             [
              0.8888888888888888,
              "#fdca26"
             ],
             [
              1,
              "#f0f921"
             ]
            ],
            "type": "histogram2dcontour"
           }
          ],
          "mesh3d": [
           {
            "colorbar": {
             "outlinewidth": 0,
             "ticks": ""
            },
            "type": "mesh3d"
           }
          ],
          "parcoords": [
           {
            "line": {
             "colorbar": {
              "outlinewidth": 0,
              "ticks": ""
             }
            },
            "type": "parcoords"
           }
          ],
          "pie": [
           {
            "automargin": true,
            "type": "pie"
           }
          ],
          "scatter": [
           {
            "marker": {
             "colorbar": {
              "outlinewidth": 0,
              "ticks": ""
             }
            },
            "type": "scatter"
           }
          ],
          "scatter3d": [
           {
            "line": {
             "colorbar": {
              "outlinewidth": 0,
              "ticks": ""
             }
            },
            "marker": {
             "colorbar": {
              "outlinewidth": 0,
              "ticks": ""
             }
            },
            "type": "scatter3d"
           }
          ],
          "scattercarpet": [
           {
            "marker": {
             "colorbar": {
              "outlinewidth": 0,
              "ticks": ""
             }
            },
            "type": "scattercarpet"
           }
          ],
          "scattergeo": [
           {
            "marker": {
             "colorbar": {
              "outlinewidth": 0,
              "ticks": ""
             }
            },
            "type": "scattergeo"
           }
          ],
          "scattergl": [
           {
            "marker": {
             "colorbar": {
              "outlinewidth": 0,
              "ticks": ""
             }
            },
            "type": "scattergl"
           }
          ],
          "scattermapbox": [
           {
            "marker": {
             "colorbar": {
              "outlinewidth": 0,
              "ticks": ""
             }
            },
            "type": "scattermapbox"
           }
          ],
          "scatterpolar": [
           {
            "marker": {
             "colorbar": {
              "outlinewidth": 0,
              "ticks": ""
             }
            },
            "type": "scatterpolar"
           }
          ],
          "scatterpolargl": [
           {
            "marker": {
             "colorbar": {
              "outlinewidth": 0,
              "ticks": ""
             }
            },
            "type": "scatterpolargl"
           }
          ],
          "scatterternary": [
           {
            "marker": {
             "colorbar": {
              "outlinewidth": 0,
              "ticks": ""
             }
            },
            "type": "scatterternary"
           }
          ],
          "surface": [
           {
            "colorbar": {
             "outlinewidth": 0,
             "ticks": ""
            },
            "colorscale": [
             [
              0,
              "#0d0887"
             ],
             [
              0.1111111111111111,
              "#46039f"
             ],
             [
              0.2222222222222222,
              "#7201a8"
             ],
             [
              0.3333333333333333,
              "#9c179e"
             ],
             [
              0.4444444444444444,
              "#bd3786"
             ],
             [
              0.5555555555555556,
              "#d8576b"
             ],
             [
              0.6666666666666666,
              "#ed7953"
             ],
             [
              0.7777777777777778,
              "#fb9f3a"
             ],
             [
              0.8888888888888888,
              "#fdca26"
             ],
             [
              1,
              "#f0f921"
             ]
            ],
            "type": "surface"
           }
          ],
          "table": [
           {
            "cells": {
             "fill": {
              "color": "#EBF0F8"
             },
             "line": {
              "color": "white"
             }
            },
            "header": {
             "fill": {
              "color": "#C8D4E3"
             },
             "line": {
              "color": "white"
             }
            },
            "type": "table"
           }
          ]
         },
         "layout": {
          "annotationdefaults": {
           "arrowcolor": "#2a3f5f",
           "arrowhead": 0,
           "arrowwidth": 1
          },
          "autotypenumbers": "strict",
          "coloraxis": {
           "colorbar": {
            "outlinewidth": 0,
            "ticks": ""
           }
          },
          "colorscale": {
           "diverging": [
            [
             0,
             "#8e0152"
            ],
            [
             0.1,
             "#c51b7d"
            ],
            [
             0.2,
             "#de77ae"
            ],
            [
             0.3,
             "#f1b6da"
            ],
            [
             0.4,
             "#fde0ef"
            ],
            [
             0.5,
             "#f7f7f7"
            ],
            [
             0.6,
             "#e6f5d0"
            ],
            [
             0.7,
             "#b8e186"
            ],
            [
             0.8,
             "#7fbc41"
            ],
            [
             0.9,
             "#4d9221"
            ],
            [
             1,
             "#276419"
            ]
           ],
           "sequential": [
            [
             0,
             "#0d0887"
            ],
            [
             0.1111111111111111,
             "#46039f"
            ],
            [
             0.2222222222222222,
             "#7201a8"
            ],
            [
             0.3333333333333333,
             "#9c179e"
            ],
            [
             0.4444444444444444,
             "#bd3786"
            ],
            [
             0.5555555555555556,
             "#d8576b"
            ],
            [
             0.6666666666666666,
             "#ed7953"
            ],
            [
             0.7777777777777778,
             "#fb9f3a"
            ],
            [
             0.8888888888888888,
             "#fdca26"
            ],
            [
             1,
             "#f0f921"
            ]
           ],
           "sequentialminus": [
            [
             0,
             "#0d0887"
            ],
            [
             0.1111111111111111,
             "#46039f"
            ],
            [
             0.2222222222222222,
             "#7201a8"
            ],
            [
             0.3333333333333333,
             "#9c179e"
            ],
            [
             0.4444444444444444,
             "#bd3786"
            ],
            [
             0.5555555555555556,
             "#d8576b"
            ],
            [
             0.6666666666666666,
             "#ed7953"
            ],
            [
             0.7777777777777778,
             "#fb9f3a"
            ],
            [
             0.8888888888888888,
             "#fdca26"
            ],
            [
             1,
             "#f0f921"
            ]
           ]
          },
          "colorway": [
           "#636efa",
           "#EF553B",
           "#00cc96",
           "#ab63fa",
           "#FFA15A",
           "#19d3f3",
           "#FF6692",
           "#B6E880",
           "#FF97FF",
           "#FECB52"
          ],
          "font": {
           "color": "#2a3f5f"
          },
          "geo": {
           "bgcolor": "white",
           "lakecolor": "white",
           "landcolor": "#E5ECF6",
           "showlakes": true,
           "showland": true,
           "subunitcolor": "white"
          },
          "hoverlabel": {
           "align": "left"
          },
          "hovermode": "closest",
          "mapbox": {
           "style": "light"
          },
          "paper_bgcolor": "white",
          "plot_bgcolor": "#E5ECF6",
          "polar": {
           "angularaxis": {
            "gridcolor": "white",
            "linecolor": "white",
            "ticks": ""
           },
           "bgcolor": "#E5ECF6",
           "radialaxis": {
            "gridcolor": "white",
            "linecolor": "white",
            "ticks": ""
           }
          },
          "scene": {
           "xaxis": {
            "backgroundcolor": "#E5ECF6",
            "gridcolor": "white",
            "gridwidth": 2,
            "linecolor": "white",
            "showbackground": true,
            "ticks": "",
            "zerolinecolor": "white"
           },
           "yaxis": {
            "backgroundcolor": "#E5ECF6",
            "gridcolor": "white",
            "gridwidth": 2,
            "linecolor": "white",
            "showbackground": true,
            "ticks": "",
            "zerolinecolor": "white"
           },
           "zaxis": {
            "backgroundcolor": "#E5ECF6",
            "gridcolor": "white",
            "gridwidth": 2,
            "linecolor": "white",
            "showbackground": true,
            "ticks": "",
            "zerolinecolor": "white"
           }
          },
          "shapedefaults": {
           "line": {
            "color": "#2a3f5f"
           }
          },
          "ternary": {
           "aaxis": {
            "gridcolor": "white",
            "linecolor": "white",
            "ticks": ""
           },
           "baxis": {
            "gridcolor": "white",
            "linecolor": "white",
            "ticks": ""
           },
           "bgcolor": "#E5ECF6",
           "caxis": {
            "gridcolor": "white",
            "linecolor": "white",
            "ticks": ""
           }
          },
          "title": {
           "x": 0.05
          },
          "xaxis": {
           "automargin": true,
           "gridcolor": "white",
           "linecolor": "white",
           "ticks": "",
           "title": {
            "standoff": 15
           },
           "zerolinecolor": "white",
           "zerolinewidth": 2
          },
          "yaxis": {
           "automargin": true,
           "gridcolor": "white",
           "linecolor": "white",
           "ticks": "",
           "title": {
            "standoff": 15
           },
           "zerolinecolor": "white",
           "zerolinewidth": 2
          }
         }
        },
        "title": {
         "font": {
          "color": "#4D5663"
         }
        },
        "xaxis": {
         "gridcolor": "#E1E5ED",
         "showgrid": true,
         "tickfont": {
          "color": "#4D5663"
         },
         "title": {
          "font": {
           "color": "#4D5663"
          },
          "text": ""
         },
         "zerolinecolor": "#E1E5ED"
        },
        "yaxis": {
         "gridcolor": "#E1E5ED",
         "showgrid": true,
         "tickfont": {
          "color": "#4D5663"
         },
         "title": {
          "font": {
           "color": "#4D5663"
          },
          "text": ""
         },
         "zerolinecolor": "#E1E5ED"
        }
       }
      },
      "text/html": [
       "<div>                            <div id=\"0ac072f5-f13c-4945-86f3-5f2844de5c98\" class=\"plotly-graph-div\" style=\"height:525px; width:100%;\"></div>            <script type=\"text/javascript\">                require([\"plotly\"], function(Plotly) {                    window.PLOTLYENV=window.PLOTLYENV || {};\n",
       "                    window.PLOTLYENV.BASE_URL='https://plot.ly';                                    if (document.getElementById(\"0ac072f5-f13c-4945-86f3-5f2844de5c98\")) {                    Plotly.newPlot(                        \"0ac072f5-f13c-4945-86f3-5f2844de5c98\",                        [{\"histfunc\": \"count\", \"histnorm\": \"\", \"marker\": {\"color\": \"rgba(255, 153, 51, 1.0)\", \"line\": {\"color\": \"#4D5663\", \"width\": 1.3}}, \"name\": \"A\", \"nbinsx\": 25, \"opacity\": 0.8, \"orientation\": \"v\", \"type\": \"histogram\", \"x\": [-0.14503484795852725, -3.0165964743780136, 0.24392315292249664, 0.2011504284420982, -1.954377685047049, 0.018622857603898417, 0.8617756539234976, -1.1789175288139595, 0.09453158593071533, -0.8190086004558853, -0.5111915119844852, -0.37019437878534933, 0.49406010167759457, 0.7318957798065484, -0.6245807673201975, 0.3860474439383816, 0.4682472943605631, 0.1627222638546957, -0.8365295450105019, -0.1484272992826551, -0.14699585388358868, -0.8989769017012104, 3.375644491066588, 0.8636351957100722, 0.9764706586185982, 1.8839025583510707, 0.49039805334819536, 1.1798805121748803, -0.08293830705260241, 0.020189132289008475, -1.212888981610273, -0.9540852579325413, 0.03227530808262174, -0.8518559637939185, 0.9654680591995582, -1.0356822197978657, -0.8665007063675878, 1.1028588348458925, -1.0335879734720794, -0.8709376829504009, 1.6229341507509705, -0.0960647329416155, 0.558693955982772, -0.47009300020518974, -0.098392235514167, 1.184576665806727, 0.01243576370376068, -0.10444812302065885, 0.16465566602612397, -0.47601592047505115, -0.3524503064476507, -1.1142072718294294, -0.24775154136288996, 0.6454080597490083, 0.06799428384607312, -2.3458667879361808, 0.0750307959732018, -0.02338014024049768, 0.408278691353931, -1.3197647537174, -0.08369974574571107, 0.028103212057242984, 0.24146463374541377, -0.1314784283188998, -0.35399171541630814, 0.9047121766469459, 0.577691629229222, -0.9041627507100116, 0.6679213458174991, 0.21340226976686694, 0.5187350887843667, 1.0291096353357165, -0.31331510697347104, -0.569615681897244, -0.08158041488700205, 0.4024168949117813, -0.37676734107072724, 0.02441103137705158, 0.4372970535384335, 0.6141820169439471, 1.190905549407557, 0.5607483976603372, -2.33021436137407, 0.5234829274135729, -0.6133704977202653, 0.6259858344588582, -0.03941965499720579, -0.3826539928719661, -1.1626848852541085, -0.13538449249010662, -0.44734498015120816, -0.675527294767186, -0.27764693163851684, 2.0007679905946723, -0.023422696390421664, 1.0516904951894257, -0.6505394429961281, 0.16981956995748015, 0.8454912342091417, -0.3025957383637378]}],                        {\"barmode\": \"overlay\", \"legend\": {\"bgcolor\": \"#F5F6F9\", \"font\": {\"color\": \"#4D5663\"}}, \"paper_bgcolor\": \"#F5F6F9\", \"plot_bgcolor\": \"#F5F6F9\", \"template\": {\"data\": {\"bar\": [{\"error_x\": {\"color\": \"#2a3f5f\"}, \"error_y\": {\"color\": \"#2a3f5f\"}, \"marker\": {\"line\": {\"color\": \"#E5ECF6\", \"width\": 0.5}}, \"type\": \"bar\"}], \"barpolar\": [{\"marker\": {\"line\": {\"color\": \"#E5ECF6\", \"width\": 0.5}}, \"type\": \"barpolar\"}], \"carpet\": [{\"aaxis\": {\"endlinecolor\": \"#2a3f5f\", \"gridcolor\": \"white\", \"linecolor\": \"white\", \"minorgridcolor\": \"white\", \"startlinecolor\": \"#2a3f5f\"}, \"baxis\": {\"endlinecolor\": \"#2a3f5f\", \"gridcolor\": \"white\", \"linecolor\": \"white\", \"minorgridcolor\": \"white\", \"startlinecolor\": \"#2a3f5f\"}, \"type\": \"carpet\"}], \"choropleth\": [{\"colorbar\": {\"outlinewidth\": 0, \"ticks\": \"\"}, \"type\": \"choropleth\"}], \"contour\": [{\"colorbar\": {\"outlinewidth\": 0, \"ticks\": \"\"}, \"colorscale\": [[0.0, \"#0d0887\"], [0.1111111111111111, \"#46039f\"], [0.2222222222222222, \"#7201a8\"], [0.3333333333333333, \"#9c179e\"], [0.4444444444444444, \"#bd3786\"], [0.5555555555555556, \"#d8576b\"], [0.6666666666666666, \"#ed7953\"], [0.7777777777777778, \"#fb9f3a\"], [0.8888888888888888, \"#fdca26\"], [1.0, \"#f0f921\"]], \"type\": \"contour\"}], \"contourcarpet\": [{\"colorbar\": {\"outlinewidth\": 0, \"ticks\": \"\"}, \"type\": \"contourcarpet\"}], \"heatmap\": [{\"colorbar\": {\"outlinewidth\": 0, \"ticks\": \"\"}, \"colorscale\": [[0.0, \"#0d0887\"], [0.1111111111111111, \"#46039f\"], [0.2222222222222222, \"#7201a8\"], [0.3333333333333333, \"#9c179e\"], [0.4444444444444444, \"#bd3786\"], [0.5555555555555556, \"#d8576b\"], [0.6666666666666666, \"#ed7953\"], [0.7777777777777778, \"#fb9f3a\"], [0.8888888888888888, \"#fdca26\"], [1.0, \"#f0f921\"]], \"type\": \"heatmap\"}], \"heatmapgl\": [{\"colorbar\": {\"outlinewidth\": 0, \"ticks\": \"\"}, \"colorscale\": [[0.0, \"#0d0887\"], [0.1111111111111111, \"#46039f\"], [0.2222222222222222, \"#7201a8\"], [0.3333333333333333, \"#9c179e\"], [0.4444444444444444, \"#bd3786\"], [0.5555555555555556, \"#d8576b\"], [0.6666666666666666, \"#ed7953\"], [0.7777777777777778, \"#fb9f3a\"], [0.8888888888888888, \"#fdca26\"], [1.0, \"#f0f921\"]], \"type\": \"heatmapgl\"}], \"histogram\": [{\"marker\": {\"colorbar\": {\"outlinewidth\": 0, \"ticks\": \"\"}}, \"type\": \"histogram\"}], \"histogram2d\": [{\"colorbar\": {\"outlinewidth\": 0, \"ticks\": \"\"}, \"colorscale\": [[0.0, \"#0d0887\"], [0.1111111111111111, \"#46039f\"], [0.2222222222222222, \"#7201a8\"], [0.3333333333333333, \"#9c179e\"], [0.4444444444444444, \"#bd3786\"], [0.5555555555555556, \"#d8576b\"], [0.6666666666666666, \"#ed7953\"], [0.7777777777777778, \"#fb9f3a\"], [0.8888888888888888, \"#fdca26\"], [1.0, \"#f0f921\"]], \"type\": \"histogram2d\"}], \"histogram2dcontour\": [{\"colorbar\": {\"outlinewidth\": 0, \"ticks\": \"\"}, \"colorscale\": [[0.0, \"#0d0887\"], [0.1111111111111111, \"#46039f\"], [0.2222222222222222, \"#7201a8\"], [0.3333333333333333, \"#9c179e\"], [0.4444444444444444, \"#bd3786\"], [0.5555555555555556, \"#d8576b\"], [0.6666666666666666, \"#ed7953\"], [0.7777777777777778, \"#fb9f3a\"], [0.8888888888888888, \"#fdca26\"], [1.0, \"#f0f921\"]], \"type\": \"histogram2dcontour\"}], \"mesh3d\": [{\"colorbar\": {\"outlinewidth\": 0, \"ticks\": \"\"}, \"type\": \"mesh3d\"}], \"parcoords\": [{\"line\": {\"colorbar\": {\"outlinewidth\": 0, \"ticks\": \"\"}}, \"type\": \"parcoords\"}], \"pie\": [{\"automargin\": true, \"type\": \"pie\"}], \"scatter\": [{\"marker\": {\"colorbar\": {\"outlinewidth\": 0, \"ticks\": \"\"}}, \"type\": \"scatter\"}], \"scatter3d\": [{\"line\": {\"colorbar\": {\"outlinewidth\": 0, \"ticks\": \"\"}}, \"marker\": {\"colorbar\": {\"outlinewidth\": 0, \"ticks\": \"\"}}, \"type\": \"scatter3d\"}], \"scattercarpet\": [{\"marker\": {\"colorbar\": {\"outlinewidth\": 0, \"ticks\": \"\"}}, \"type\": \"scattercarpet\"}], \"scattergeo\": [{\"marker\": {\"colorbar\": {\"outlinewidth\": 0, \"ticks\": \"\"}}, \"type\": \"scattergeo\"}], \"scattergl\": [{\"marker\": {\"colorbar\": {\"outlinewidth\": 0, \"ticks\": \"\"}}, \"type\": \"scattergl\"}], \"scattermapbox\": [{\"marker\": {\"colorbar\": {\"outlinewidth\": 0, \"ticks\": \"\"}}, \"type\": \"scattermapbox\"}], \"scatterpolar\": [{\"marker\": {\"colorbar\": {\"outlinewidth\": 0, \"ticks\": \"\"}}, \"type\": \"scatterpolar\"}], \"scatterpolargl\": [{\"marker\": {\"colorbar\": {\"outlinewidth\": 0, \"ticks\": \"\"}}, \"type\": \"scatterpolargl\"}], \"scatterternary\": [{\"marker\": {\"colorbar\": {\"outlinewidth\": 0, \"ticks\": \"\"}}, \"type\": \"scatterternary\"}], \"surface\": [{\"colorbar\": {\"outlinewidth\": 0, \"ticks\": \"\"}, \"colorscale\": [[0.0, \"#0d0887\"], [0.1111111111111111, \"#46039f\"], [0.2222222222222222, \"#7201a8\"], [0.3333333333333333, \"#9c179e\"], [0.4444444444444444, \"#bd3786\"], [0.5555555555555556, \"#d8576b\"], [0.6666666666666666, \"#ed7953\"], [0.7777777777777778, \"#fb9f3a\"], [0.8888888888888888, \"#fdca26\"], [1.0, \"#f0f921\"]], \"type\": \"surface\"}], \"table\": [{\"cells\": {\"fill\": {\"color\": \"#EBF0F8\"}, \"line\": {\"color\": \"white\"}}, \"header\": {\"fill\": {\"color\": \"#C8D4E3\"}, \"line\": {\"color\": \"white\"}}, \"type\": \"table\"}]}, \"layout\": {\"annotationdefaults\": {\"arrowcolor\": \"#2a3f5f\", \"arrowhead\": 0, \"arrowwidth\": 1}, \"autotypenumbers\": \"strict\", \"coloraxis\": {\"colorbar\": {\"outlinewidth\": 0, \"ticks\": \"\"}}, \"colorscale\": {\"diverging\": [[0, \"#8e0152\"], [0.1, \"#c51b7d\"], [0.2, \"#de77ae\"], [0.3, \"#f1b6da\"], [0.4, \"#fde0ef\"], [0.5, \"#f7f7f7\"], [0.6, \"#e6f5d0\"], [0.7, \"#b8e186\"], [0.8, \"#7fbc41\"], [0.9, \"#4d9221\"], [1, \"#276419\"]], \"sequential\": [[0.0, \"#0d0887\"], [0.1111111111111111, \"#46039f\"], [0.2222222222222222, \"#7201a8\"], [0.3333333333333333, \"#9c179e\"], [0.4444444444444444, \"#bd3786\"], [0.5555555555555556, \"#d8576b\"], [0.6666666666666666, \"#ed7953\"], [0.7777777777777778, \"#fb9f3a\"], [0.8888888888888888, \"#fdca26\"], [1.0, \"#f0f921\"]], \"sequentialminus\": [[0.0, \"#0d0887\"], [0.1111111111111111, \"#46039f\"], [0.2222222222222222, \"#7201a8\"], [0.3333333333333333, \"#9c179e\"], [0.4444444444444444, \"#bd3786\"], [0.5555555555555556, \"#d8576b\"], [0.6666666666666666, \"#ed7953\"], [0.7777777777777778, \"#fb9f3a\"], [0.8888888888888888, \"#fdca26\"], [1.0, \"#f0f921\"]]}, \"colorway\": [\"#636efa\", \"#EF553B\", \"#00cc96\", \"#ab63fa\", \"#FFA15A\", \"#19d3f3\", \"#FF6692\", \"#B6E880\", \"#FF97FF\", \"#FECB52\"], \"font\": {\"color\": \"#2a3f5f\"}, \"geo\": {\"bgcolor\": \"white\", \"lakecolor\": \"white\", \"landcolor\": \"#E5ECF6\", \"showlakes\": true, \"showland\": true, \"subunitcolor\": \"white\"}, \"hoverlabel\": {\"align\": \"left\"}, \"hovermode\": \"closest\", \"mapbox\": {\"style\": \"light\"}, \"paper_bgcolor\": \"white\", \"plot_bgcolor\": \"#E5ECF6\", \"polar\": {\"angularaxis\": {\"gridcolor\": \"white\", \"linecolor\": \"white\", \"ticks\": \"\"}, \"bgcolor\": \"#E5ECF6\", \"radialaxis\": {\"gridcolor\": \"white\", \"linecolor\": \"white\", \"ticks\": \"\"}}, \"scene\": {\"xaxis\": {\"backgroundcolor\": \"#E5ECF6\", \"gridcolor\": \"white\", \"gridwidth\": 2, \"linecolor\": \"white\", \"showbackground\": true, \"ticks\": \"\", \"zerolinecolor\": \"white\"}, \"yaxis\": {\"backgroundcolor\": \"#E5ECF6\", \"gridcolor\": \"white\", \"gridwidth\": 2, \"linecolor\": \"white\", \"showbackground\": true, \"ticks\": \"\", \"zerolinecolor\": \"white\"}, \"zaxis\": {\"backgroundcolor\": \"#E5ECF6\", \"gridcolor\": \"white\", \"gridwidth\": 2, \"linecolor\": \"white\", \"showbackground\": true, \"ticks\": \"\", \"zerolinecolor\": \"white\"}}, \"shapedefaults\": {\"line\": {\"color\": \"#2a3f5f\"}}, \"ternary\": {\"aaxis\": {\"gridcolor\": \"white\", \"linecolor\": \"white\", \"ticks\": \"\"}, \"baxis\": {\"gridcolor\": \"white\", \"linecolor\": \"white\", \"ticks\": \"\"}, \"bgcolor\": \"#E5ECF6\", \"caxis\": {\"gridcolor\": \"white\", \"linecolor\": \"white\", \"ticks\": \"\"}}, \"title\": {\"x\": 0.05}, \"xaxis\": {\"automargin\": true, \"gridcolor\": \"white\", \"linecolor\": \"white\", \"ticks\": \"\", \"title\": {\"standoff\": 15}, \"zerolinecolor\": \"white\", \"zerolinewidth\": 2}, \"yaxis\": {\"automargin\": true, \"gridcolor\": \"white\", \"linecolor\": \"white\", \"ticks\": \"\", \"title\": {\"standoff\": 15}, \"zerolinecolor\": \"white\", \"zerolinewidth\": 2}}}, \"title\": {\"font\": {\"color\": \"#4D5663\"}}, \"xaxis\": {\"gridcolor\": \"#E1E5ED\", \"showgrid\": true, \"tickfont\": {\"color\": \"#4D5663\"}, \"title\": {\"font\": {\"color\": \"#4D5663\"}, \"text\": \"\"}, \"zerolinecolor\": \"#E1E5ED\"}, \"yaxis\": {\"gridcolor\": \"#E1E5ED\", \"showgrid\": true, \"tickfont\": {\"color\": \"#4D5663\"}, \"title\": {\"font\": {\"color\": \"#4D5663\"}, \"text\": \"\"}, \"zerolinecolor\": \"#E1E5ED\"}},                        {\"showLink\": true, \"linkText\": \"Export to plot.ly\", \"plotlyServerURL\": \"https://plot.ly\", \"responsive\": true}                    ).then(function(){\n",
       "                            \n",
       "var gd = document.getElementById('0ac072f5-f13c-4945-86f3-5f2844de5c98');\n",
       "var x = new MutationObserver(function (mutations, observer) {{\n",
       "        var display = window.getComputedStyle(gd).display;\n",
       "        if (!display || display === 'none') {{\n",
       "            console.log([gd, 'removed!']);\n",
       "            Plotly.purge(gd);\n",
       "            observer.disconnect();\n",
       "        }}\n",
       "}});\n",
       "\n",
       "// Listen for the removal of the full notebook cells\n",
       "var notebookContainer = gd.closest('#notebook-container');\n",
       "if (notebookContainer) {{\n",
       "    x.observe(notebookContainer, {childList: true});\n",
       "}}\n",
       "\n",
       "// Listen for the clearing of the current output cell\n",
       "var outputEl = gd.closest('.output');\n",
       "if (outputEl) {{\n",
       "    x.observe(outputEl, {childList: true});\n",
       "}}\n",
       "\n",
       "                        })                };                });            </script>        </div>"
      ]
     },
     "metadata": {},
     "output_type": "display_data"
    }
   ],
   "source": [
    "df['A'].iplot(kind='hist', bins=25)"
   ]
  },
  {
   "cell_type": "code",
   "execution_count": 44,
   "metadata": {},
   "outputs": [
    {
     "data": {
      "application/vnd.plotly.v1+json": {
       "config": {
        "linkText": "Export to plot.ly",
        "plotlyServerURL": "https://plot.ly",
        "showLink": true
       },
       "data": [
        {
         "histfunc": "count",
         "histnorm": "",
         "marker": {
          "color": "rgba(255, 153, 51, 1.0)",
          "line": {
           "color": "#4D5663",
           "width": 1.3
          }
         },
         "name": "A",
         "opacity": 0.8,
         "orientation": "v",
         "type": "histogram",
         "x": [
          -0.14503484795852725,
          -3.0165964743780136,
          0.24392315292249664,
          0.2011504284420982,
          -1.954377685047049,
          0.018622857603898417,
          0.8617756539234976,
          -1.1789175288139595,
          0.09453158593071533,
          -0.8190086004558853,
          -0.5111915119844852,
          -0.37019437878534933,
          0.49406010167759457,
          0.7318957798065484,
          -0.6245807673201975,
          0.3860474439383816,
          0.4682472943605631,
          0.1627222638546957,
          -0.8365295450105019,
          -0.1484272992826551,
          -0.14699585388358868,
          -0.8989769017012104,
          3.375644491066588,
          0.8636351957100722,
          0.9764706586185982,
          1.8839025583510707,
          0.49039805334819536,
          1.1798805121748803,
          -0.08293830705260241,
          0.020189132289008475,
          -1.212888981610273,
          -0.9540852579325413,
          0.03227530808262174,
          -0.8518559637939185,
          0.9654680591995582,
          -1.0356822197978657,
          -0.8665007063675878,
          1.1028588348458925,
          -1.0335879734720794,
          -0.8709376829504009,
          1.6229341507509705,
          -0.0960647329416155,
          0.558693955982772,
          -0.47009300020518974,
          -0.098392235514167,
          1.184576665806727,
          0.01243576370376068,
          -0.10444812302065885,
          0.16465566602612397,
          -0.47601592047505115,
          -0.3524503064476507,
          -1.1142072718294294,
          -0.24775154136288996,
          0.6454080597490083,
          0.06799428384607312,
          -2.3458667879361808,
          0.0750307959732018,
          -0.02338014024049768,
          0.408278691353931,
          -1.3197647537174,
          -0.08369974574571107,
          0.028103212057242984,
          0.24146463374541377,
          -0.1314784283188998,
          -0.35399171541630814,
          0.9047121766469459,
          0.577691629229222,
          -0.9041627507100116,
          0.6679213458174991,
          0.21340226976686694,
          0.5187350887843667,
          1.0291096353357165,
          -0.31331510697347104,
          -0.569615681897244,
          -0.08158041488700205,
          0.4024168949117813,
          -0.37676734107072724,
          0.02441103137705158,
          0.4372970535384335,
          0.6141820169439471,
          1.190905549407557,
          0.5607483976603372,
          -2.33021436137407,
          0.5234829274135729,
          -0.6133704977202653,
          0.6259858344588582,
          -0.03941965499720579,
          -0.3826539928719661,
          -1.1626848852541085,
          -0.13538449249010662,
          -0.44734498015120816,
          -0.675527294767186,
          -0.27764693163851684,
          2.0007679905946723,
          -0.023422696390421664,
          1.0516904951894257,
          -0.6505394429961281,
          0.16981956995748015,
          0.8454912342091417,
          -0.3025957383637378
         ]
        },
        {
         "histfunc": "count",
         "histnorm": "",
         "marker": {
          "color": "rgba(55, 128, 191, 1.0)",
          "line": {
           "color": "#4D5663",
           "width": 1.3
          }
         },
         "name": "B",
         "opacity": 0.8,
         "orientation": "v",
         "type": "histogram",
         "x": [
          -0.9532399160561278,
          -0.5868484365358092,
          -0.5322015045622156,
          -0.067966143001875,
          0.9486452867643311,
          -0.6629183797257413,
          -0.5337786235952177,
          -1.374005116607833,
          0.9538955464602282,
          0.9831229684062017,
          -0.7218794529268818,
          -1.738462406660161,
          0.8390413925664644,
          0.4716881828898347,
          1.840314344187763,
          0.7829064814901634,
          -0.29559972424111564,
          -0.4543075695792023,
          -0.24134848173579576,
          1.0620942076543174,
          0.8126293598752975,
          0.12771413630928588,
          0.6479158525379064,
          -1.3221014076081543,
          -0.6104132558623014,
          1.6009003090453902,
          0.9269141114311796,
          -0.09885623938144297,
          0.8712506984556516,
          -1.8373391727315502,
          -0.8095199640075892,
          0.5647221507466086,
          -0.33873776587617926,
          1.2770174534384262,
          -0.401058722431807,
          -0.3991026372035775,
          0.6954802542981,
          0.4657361921256589,
          -0.6115763656174145,
          -0.76790041556677,
          -0.8760445121497197,
          0.9385120394049317,
          0.12548592918841428,
          0.12853157804446833,
          -0.9198386416256834,
          -0.16736007077296486,
          -0.273108590084941,
          -1.038593836786086,
          -1.789678683700114,
          -0.08672543648003408,
          0.1791283495405397,
          0.19740149687421615,
          -1.8532304045831987,
          0.09418603272153049,
          -0.05406171658396121,
          1.1613967379069392,
          0.2908581391725514,
          0.9334829806606881,
          0.8759062521948778,
          0.01544050596120699,
          -2.1433853948711863,
          -0.6550694134265117,
          0.9450328060012705,
          -0.7318511174804488,
          -0.2760665477991691,
          1.832042341227804,
          0.7153981071725797,
          0.3097267840306819,
          0.5458716771237517,
          -0.27788252174846967,
          -2.56791567288503,
          1.0733981182897139,
          0.5539305528644727,
          -0.8875864930235106,
          -0.9215489395600035,
          -0.48052999506367167,
          0.734067673662595,
          0.7410495064840434,
          -0.4455153474458417,
          0.47171647604105243,
          2.2033238446375445,
          -0.13287462890628282,
          1.57108408511727,
          -0.2832152183269851,
          0.6604718888161459,
          -0.8097018520506656,
          -0.8998025213320278,
          2.2744708006020584,
          -1.2989964534559673,
          1.2567628834902713,
          0.9586268624499967,
          1.0292763836765124,
          0.23642372515301469,
          -0.6456930750549342,
          1.4959836369417008,
          -0.07036421252807842,
          -0.7362854978086856,
          -0.4795472607190941,
          1.6003974543998063,
          -0.3481208183712817
         ]
        },
        {
         "histfunc": "count",
         "histnorm": "",
         "marker": {
          "color": "rgba(50, 171, 96, 1.0)",
          "line": {
           "color": "#4D5663",
           "width": 1.3
          }
         },
         "name": "C",
         "opacity": 0.8,
         "orientation": "v",
         "type": "histogram",
         "x": [
          1.4983864779909448,
          -0.0683974342124604,
          -0.5337891463858248,
          0.44154354919874567,
          -1.2318152574431034,
          1.2985630040366611,
          -2.218451919669104,
          0.9332677474881452,
          0.48887768670488263,
          0.7100565211778788,
          -1.180211018759006,
          0.40357787691680996,
          -0.18176450555296522,
          -0.19923388484756513,
          2.2707936648476434,
          0.7134211445041823,
          -0.20914473971566427,
          0.6731272521506116,
          -0.1712162713391917,
          -0.32409938623671136,
          0.3231132918011072,
          -1.5336155761055157,
          0.5025780232508699,
          -0.29693856159868626,
          0.23987661690729795,
          0.44290559204476504,
          -0.529833328173643,
          -0.029194069017488885,
          1.2034809706627385,
          0.4920550863252347,
          1.3118142713736591,
          -0.012957419236584167,
          0.9926476583889912,
          1.2718468624411214,
          2.0622297852705547,
          1.9746120568742223,
          0.7116292523754622,
          -0.4737056251190207,
          -0.5474136556886244,
          0.6820687853788049,
          0.1752813698701687,
          0.03369271598512779,
          0.534436508849568,
          -0.43959501846003035,
          -0.5781181336082649,
          1.9012412703468982,
          -0.03727290144563984,
          0.5574680225499314,
          0.9559932227587079,
          -0.32636063943397453,
          -0.33839420843768,
          0.33923148177384843,
          -0.017272371086671515,
          -0.7399021484764235,
          -1.165467022871023,
          -1.292106893654066,
          -1.784099308455661,
          -0.9785305487491726,
          0.4780020587967749,
          -0.5248854157902065,
          -0.6125375405316861,
          0.6759309903954257,
          0.6041448312385654,
          -0.33039041832431093,
          -0.17339863721071497,
          -0.009843440355222733,
          0.7997753502200071,
          -1.107214785996133,
          0.498447288776335,
          0.6794945513401383,
          -0.1382266500550088,
          1.2781507015495341,
          0.6254176748292696,
          0.7886826509605261,
          -0.8181677561777155,
          -0.6384163425676622,
          -1.0479872434449466,
          -1.2177317666516922,
          -1.5111568383490466,
          0.9615221253744407,
          0.9680307972915704,
          0.7370807455860703,
          0.08595259442313354,
          -0.3819517739097434,
          0.5814733207998918,
          -0.9305531186290832,
          0.09422451520604969,
          1.81821824919206,
          0.06749656036457062,
          -0.6269712132943323,
          0.28732203080938473,
          -0.34598621688533177,
          -0.04863017192128949,
          -0.3539736054969189,
          -1.2972990448743276,
          1.6800575190759655,
          -0.3891493008112305,
          1.345521828588874,
          1.272967956040553,
          3.3265035585717997
         ]
        },
        {
         "histfunc": "count",
         "histnorm": "",
         "marker": {
          "color": "rgba(128, 0, 128, 1.0)",
          "line": {
           "color": "#4D5663",
           "width": 1.3
          }
         },
         "name": "D",
         "opacity": 0.8,
         "orientation": "v",
         "type": "histogram",
         "x": [
          -1.5319495460763377,
          -0.7823135218083629,
          -1.2093363017654826,
          0.7797917356745605,
          0.33983173967364444,
          -0.6668906877377361,
          -0.9240185127971479,
          -1.401096364281915,
          -0.2048781567578501,
          1.1948511507781823,
          1.9378710428122337,
          -0.19788163111016083,
          -0.9621305666501678,
          0.5138660890036052,
          -1.143865652539835,
          -1.1982136890776176,
          0.8292787619731817,
          0.3295035520497889,
          0.8222470222792261,
          -0.5121999795691015,
          -1.237290642027615,
          0.11446894929464378,
          -1.505822965665104,
          -1.2565156539734794,
          -0.9237007926029537,
          -0.20485623833171945,
          -1.242963400226735,
          0.46065343842511053,
          0.8627455440540776,
          0.37885281652310104,
          -0.404771823670305,
          1.9530589976655945,
          -1.5658095281175592,
          -0.9899786783745753,
          -0.4138508787543901,
          2.0771413723760905,
          0.08921008719746723,
          -1.3556168492151528,
          -0.7678695095182647,
          -1.1128032731182662,
          -2.048881608126047,
          -0.26848514807393614,
          1.229562428489407,
          -0.7531155606516615,
          -1.0141352555130447,
          -0.3574010751276007,
          1.193569139394085,
          -0.1713953689270901,
          0.5419494728333556,
          -0.5194810685746506,
          -0.16357195310254669,
          0.7467042929422325,
          0.383803866327178,
          -0.002594563791913918,
          -0.3032870044789301,
          0.16558660457653496,
          -0.9419723485650384,
          -0.8099143888303659,
          1.2205839875266769,
          -1.7007322354324552,
          -0.5497960766879818,
          -1.4017578932924981,
          -2.2045320929247545,
          0.3986718611011956,
          -0.09064289146691248,
          0.85543610620957,
          1.1551676178843544,
          -0.41020533331384035,
          -0.8446806004273089,
          -0.47554568454257223,
          -0.06593091310501963,
          0.29154657424817887,
          1.8014650512475308,
          -0.42036587587693824,
          0.5939056868343671,
          0.12396213447308421,
          0.5742018423253487,
          0.6007861599895614,
          0.6722461239448084,
          0.4174574720090517,
          -0.9287455608677232,
          -0.040409801326219574,
          -0.5772027988901258,
          -0.6366786617000452,
          -1.474079529032982,
          0.5301472217828153,
          -0.5618726312931238,
          0.5743351632740945,
          -0.20108858944342017,
          0.4951290430399495,
          -0.3437933242276682,
          0.21337031294925046,
          -0.30421319297951926,
          0.6185743763842435,
          1.3426061469006845,
          -2.6898523405519335,
          -1.2997624793502054,
          -0.014491457910390242,
          -0.7531758443186563,
          0.051972534063198135
         ]
        }
       ],
       "layout": {
        "barmode": "overlay",
        "legend": {
         "bgcolor": "#F5F6F9",
         "font": {
          "color": "#4D5663"
         }
        },
        "paper_bgcolor": "#F5F6F9",
        "plot_bgcolor": "#F5F6F9",
        "template": {
         "data": {
          "bar": [
           {
            "error_x": {
             "color": "#2a3f5f"
            },
            "error_y": {
             "color": "#2a3f5f"
            },
            "marker": {
             "line": {
              "color": "#E5ECF6",
              "width": 0.5
             }
            },
            "type": "bar"
           }
          ],
          "barpolar": [
           {
            "marker": {
             "line": {
              "color": "#E5ECF6",
              "width": 0.5
             }
            },
            "type": "barpolar"
           }
          ],
          "carpet": [
           {
            "aaxis": {
             "endlinecolor": "#2a3f5f",
             "gridcolor": "white",
             "linecolor": "white",
             "minorgridcolor": "white",
             "startlinecolor": "#2a3f5f"
            },
            "baxis": {
             "endlinecolor": "#2a3f5f",
             "gridcolor": "white",
             "linecolor": "white",
             "minorgridcolor": "white",
             "startlinecolor": "#2a3f5f"
            },
            "type": "carpet"
           }
          ],
          "choropleth": [
           {
            "colorbar": {
             "outlinewidth": 0,
             "ticks": ""
            },
            "type": "choropleth"
           }
          ],
          "contour": [
           {
            "colorbar": {
             "outlinewidth": 0,
             "ticks": ""
            },
            "colorscale": [
             [
              0,
              "#0d0887"
             ],
             [
              0.1111111111111111,
              "#46039f"
             ],
             [
              0.2222222222222222,
              "#7201a8"
             ],
             [
              0.3333333333333333,
              "#9c179e"
             ],
             [
              0.4444444444444444,
              "#bd3786"
             ],
             [
              0.5555555555555556,
              "#d8576b"
             ],
             [
              0.6666666666666666,
              "#ed7953"
             ],
             [
              0.7777777777777778,
              "#fb9f3a"
             ],
             [
              0.8888888888888888,
              "#fdca26"
             ],
             [
              1,
              "#f0f921"
             ]
            ],
            "type": "contour"
           }
          ],
          "contourcarpet": [
           {
            "colorbar": {
             "outlinewidth": 0,
             "ticks": ""
            },
            "type": "contourcarpet"
           }
          ],
          "heatmap": [
           {
            "colorbar": {
             "outlinewidth": 0,
             "ticks": ""
            },
            "colorscale": [
             [
              0,
              "#0d0887"
             ],
             [
              0.1111111111111111,
              "#46039f"
             ],
             [
              0.2222222222222222,
              "#7201a8"
             ],
             [
              0.3333333333333333,
              "#9c179e"
             ],
             [
              0.4444444444444444,
              "#bd3786"
             ],
             [
              0.5555555555555556,
              "#d8576b"
             ],
             [
              0.6666666666666666,
              "#ed7953"
             ],
             [
              0.7777777777777778,
              "#fb9f3a"
             ],
             [
              0.8888888888888888,
              "#fdca26"
             ],
             [
              1,
              "#f0f921"
             ]
            ],
            "type": "heatmap"
           }
          ],
          "heatmapgl": [
           {
            "colorbar": {
             "outlinewidth": 0,
             "ticks": ""
            },
            "colorscale": [
             [
              0,
              "#0d0887"
             ],
             [
              0.1111111111111111,
              "#46039f"
             ],
             [
              0.2222222222222222,
              "#7201a8"
             ],
             [
              0.3333333333333333,
              "#9c179e"
             ],
             [
              0.4444444444444444,
              "#bd3786"
             ],
             [
              0.5555555555555556,
              "#d8576b"
             ],
             [
              0.6666666666666666,
              "#ed7953"
             ],
             [
              0.7777777777777778,
              "#fb9f3a"
             ],
             [
              0.8888888888888888,
              "#fdca26"
             ],
             [
              1,
              "#f0f921"
             ]
            ],
            "type": "heatmapgl"
           }
          ],
          "histogram": [
           {
            "marker": {
             "colorbar": {
              "outlinewidth": 0,
              "ticks": ""
             }
            },
            "type": "histogram"
           }
          ],
          "histogram2d": [
           {
            "colorbar": {
             "outlinewidth": 0,
             "ticks": ""
            },
            "colorscale": [
             [
              0,
              "#0d0887"
             ],
             [
              0.1111111111111111,
              "#46039f"
             ],
             [
              0.2222222222222222,
              "#7201a8"
             ],
             [
              0.3333333333333333,
              "#9c179e"
             ],
             [
              0.4444444444444444,
              "#bd3786"
             ],
             [
              0.5555555555555556,
              "#d8576b"
             ],
             [
              0.6666666666666666,
              "#ed7953"
             ],
             [
              0.7777777777777778,
              "#fb9f3a"
             ],
             [
              0.8888888888888888,
              "#fdca26"
             ],
             [
              1,
              "#f0f921"
             ]
            ],
            "type": "histogram2d"
           }
          ],
          "histogram2dcontour": [
           {
            "colorbar": {
             "outlinewidth": 0,
             "ticks": ""
            },
            "colorscale": [
             [
              0,
              "#0d0887"
             ],
             [
              0.1111111111111111,
              "#46039f"
             ],
             [
              0.2222222222222222,
              "#7201a8"
             ],
             [
              0.3333333333333333,
              "#9c179e"
             ],
             [
              0.4444444444444444,
              "#bd3786"
             ],
             [
              0.5555555555555556,
              "#d8576b"
             ],
             [
              0.6666666666666666,
              "#ed7953"
             ],
             [
              0.7777777777777778,
              "#fb9f3a"
             ],
             [
              0.8888888888888888,
              "#fdca26"
             ],
             [
              1,
              "#f0f921"
             ]
            ],
            "type": "histogram2dcontour"
           }
          ],
          "mesh3d": [
           {
            "colorbar": {
             "outlinewidth": 0,
             "ticks": ""
            },
            "type": "mesh3d"
           }
          ],
          "parcoords": [
           {
            "line": {
             "colorbar": {
              "outlinewidth": 0,
              "ticks": ""
             }
            },
            "type": "parcoords"
           }
          ],
          "pie": [
           {
            "automargin": true,
            "type": "pie"
           }
          ],
          "scatter": [
           {
            "marker": {
             "colorbar": {
              "outlinewidth": 0,
              "ticks": ""
             }
            },
            "type": "scatter"
           }
          ],
          "scatter3d": [
           {
            "line": {
             "colorbar": {
              "outlinewidth": 0,
              "ticks": ""
             }
            },
            "marker": {
             "colorbar": {
              "outlinewidth": 0,
              "ticks": ""
             }
            },
            "type": "scatter3d"
           }
          ],
          "scattercarpet": [
           {
            "marker": {
             "colorbar": {
              "outlinewidth": 0,
              "ticks": ""
             }
            },
            "type": "scattercarpet"
           }
          ],
          "scattergeo": [
           {
            "marker": {
             "colorbar": {
              "outlinewidth": 0,
              "ticks": ""
             }
            },
            "type": "scattergeo"
           }
          ],
          "scattergl": [
           {
            "marker": {
             "colorbar": {
              "outlinewidth": 0,
              "ticks": ""
             }
            },
            "type": "scattergl"
           }
          ],
          "scattermapbox": [
           {
            "marker": {
             "colorbar": {
              "outlinewidth": 0,
              "ticks": ""
             }
            },
            "type": "scattermapbox"
           }
          ],
          "scatterpolar": [
           {
            "marker": {
             "colorbar": {
              "outlinewidth": 0,
              "ticks": ""
             }
            },
            "type": "scatterpolar"
           }
          ],
          "scatterpolargl": [
           {
            "marker": {
             "colorbar": {
              "outlinewidth": 0,
              "ticks": ""
             }
            },
            "type": "scatterpolargl"
           }
          ],
          "scatterternary": [
           {
            "marker": {
             "colorbar": {
              "outlinewidth": 0,
              "ticks": ""
             }
            },
            "type": "scatterternary"
           }
          ],
          "surface": [
           {
            "colorbar": {
             "outlinewidth": 0,
             "ticks": ""
            },
            "colorscale": [
             [
              0,
              "#0d0887"
             ],
             [
              0.1111111111111111,
              "#46039f"
             ],
             [
              0.2222222222222222,
              "#7201a8"
             ],
             [
              0.3333333333333333,
              "#9c179e"
             ],
             [
              0.4444444444444444,
              "#bd3786"
             ],
             [
              0.5555555555555556,
              "#d8576b"
             ],
             [
              0.6666666666666666,
              "#ed7953"
             ],
             [
              0.7777777777777778,
              "#fb9f3a"
             ],
             [
              0.8888888888888888,
              "#fdca26"
             ],
             [
              1,
              "#f0f921"
             ]
            ],
            "type": "surface"
           }
          ],
          "table": [
           {
            "cells": {
             "fill": {
              "color": "#EBF0F8"
             },
             "line": {
              "color": "white"
             }
            },
            "header": {
             "fill": {
              "color": "#C8D4E3"
             },
             "line": {
              "color": "white"
             }
            },
            "type": "table"
           }
          ]
         },
         "layout": {
          "annotationdefaults": {
           "arrowcolor": "#2a3f5f",
           "arrowhead": 0,
           "arrowwidth": 1
          },
          "autotypenumbers": "strict",
          "coloraxis": {
           "colorbar": {
            "outlinewidth": 0,
            "ticks": ""
           }
          },
          "colorscale": {
           "diverging": [
            [
             0,
             "#8e0152"
            ],
            [
             0.1,
             "#c51b7d"
            ],
            [
             0.2,
             "#de77ae"
            ],
            [
             0.3,
             "#f1b6da"
            ],
            [
             0.4,
             "#fde0ef"
            ],
            [
             0.5,
             "#f7f7f7"
            ],
            [
             0.6,
             "#e6f5d0"
            ],
            [
             0.7,
             "#b8e186"
            ],
            [
             0.8,
             "#7fbc41"
            ],
            [
             0.9,
             "#4d9221"
            ],
            [
             1,
             "#276419"
            ]
           ],
           "sequential": [
            [
             0,
             "#0d0887"
            ],
            [
             0.1111111111111111,
             "#46039f"
            ],
            [
             0.2222222222222222,
             "#7201a8"
            ],
            [
             0.3333333333333333,
             "#9c179e"
            ],
            [
             0.4444444444444444,
             "#bd3786"
            ],
            [
             0.5555555555555556,
             "#d8576b"
            ],
            [
             0.6666666666666666,
             "#ed7953"
            ],
            [
             0.7777777777777778,
             "#fb9f3a"
            ],
            [
             0.8888888888888888,
             "#fdca26"
            ],
            [
             1,
             "#f0f921"
            ]
           ],
           "sequentialminus": [
            [
             0,
             "#0d0887"
            ],
            [
             0.1111111111111111,
             "#46039f"
            ],
            [
             0.2222222222222222,
             "#7201a8"
            ],
            [
             0.3333333333333333,
             "#9c179e"
            ],
            [
             0.4444444444444444,
             "#bd3786"
            ],
            [
             0.5555555555555556,
             "#d8576b"
            ],
            [
             0.6666666666666666,
             "#ed7953"
            ],
            [
             0.7777777777777778,
             "#fb9f3a"
            ],
            [
             0.8888888888888888,
             "#fdca26"
            ],
            [
             1,
             "#f0f921"
            ]
           ]
          },
          "colorway": [
           "#636efa",
           "#EF553B",
           "#00cc96",
           "#ab63fa",
           "#FFA15A",
           "#19d3f3",
           "#FF6692",
           "#B6E880",
           "#FF97FF",
           "#FECB52"
          ],
          "font": {
           "color": "#2a3f5f"
          },
          "geo": {
           "bgcolor": "white",
           "lakecolor": "white",
           "landcolor": "#E5ECF6",
           "showlakes": true,
           "showland": true,
           "subunitcolor": "white"
          },
          "hoverlabel": {
           "align": "left"
          },
          "hovermode": "closest",
          "mapbox": {
           "style": "light"
          },
          "paper_bgcolor": "white",
          "plot_bgcolor": "#E5ECF6",
          "polar": {
           "angularaxis": {
            "gridcolor": "white",
            "linecolor": "white",
            "ticks": ""
           },
           "bgcolor": "#E5ECF6",
           "radialaxis": {
            "gridcolor": "white",
            "linecolor": "white",
            "ticks": ""
           }
          },
          "scene": {
           "xaxis": {
            "backgroundcolor": "#E5ECF6",
            "gridcolor": "white",
            "gridwidth": 2,
            "linecolor": "white",
            "showbackground": true,
            "ticks": "",
            "zerolinecolor": "white"
           },
           "yaxis": {
            "backgroundcolor": "#E5ECF6",
            "gridcolor": "white",
            "gridwidth": 2,
            "linecolor": "white",
            "showbackground": true,
            "ticks": "",
            "zerolinecolor": "white"
           },
           "zaxis": {
            "backgroundcolor": "#E5ECF6",
            "gridcolor": "white",
            "gridwidth": 2,
            "linecolor": "white",
            "showbackground": true,
            "ticks": "",
            "zerolinecolor": "white"
           }
          },
          "shapedefaults": {
           "line": {
            "color": "#2a3f5f"
           }
          },
          "ternary": {
           "aaxis": {
            "gridcolor": "white",
            "linecolor": "white",
            "ticks": ""
           },
           "baxis": {
            "gridcolor": "white",
            "linecolor": "white",
            "ticks": ""
           },
           "bgcolor": "#E5ECF6",
           "caxis": {
            "gridcolor": "white",
            "linecolor": "white",
            "ticks": ""
           }
          },
          "title": {
           "x": 0.05
          },
          "xaxis": {
           "automargin": true,
           "gridcolor": "white",
           "linecolor": "white",
           "ticks": "",
           "title": {
            "standoff": 15
           },
           "zerolinecolor": "white",
           "zerolinewidth": 2
          },
          "yaxis": {
           "automargin": true,
           "gridcolor": "white",
           "linecolor": "white",
           "ticks": "",
           "title": {
            "standoff": 15
           },
           "zerolinecolor": "white",
           "zerolinewidth": 2
          }
         }
        },
        "title": {
         "font": {
          "color": "#4D5663"
         }
        },
        "xaxis": {
         "gridcolor": "#E1E5ED",
         "showgrid": true,
         "tickfont": {
          "color": "#4D5663"
         },
         "title": {
          "font": {
           "color": "#4D5663"
          },
          "text": ""
         },
         "zerolinecolor": "#E1E5ED"
        },
        "yaxis": {
         "gridcolor": "#E1E5ED",
         "showgrid": true,
         "tickfont": {
          "color": "#4D5663"
         },
         "title": {
          "font": {
           "color": "#4D5663"
          },
          "text": ""
         },
         "zerolinecolor": "#E1E5ED"
        }
       }
      },
      "text/html": [
       "<div>                            <div id=\"9e5d2d88-e52a-42ff-9b6f-fcd4c8f04f6d\" class=\"plotly-graph-div\" style=\"height:525px; width:100%;\"></div>            <script type=\"text/javascript\">                require([\"plotly\"], function(Plotly) {                    window.PLOTLYENV=window.PLOTLYENV || {};\n",
       "                    window.PLOTLYENV.BASE_URL='https://plot.ly';                                    if (document.getElementById(\"9e5d2d88-e52a-42ff-9b6f-fcd4c8f04f6d\")) {                    Plotly.newPlot(                        \"9e5d2d88-e52a-42ff-9b6f-fcd4c8f04f6d\",                        [{\"histfunc\": \"count\", \"histnorm\": \"\", \"marker\": {\"color\": \"rgba(255, 153, 51, 1.0)\", \"line\": {\"color\": \"#4D5663\", \"width\": 1.3}}, \"name\": \"A\", \"opacity\": 0.8, \"orientation\": \"v\", \"type\": \"histogram\", \"x\": [-0.14503484795852725, -3.0165964743780136, 0.24392315292249664, 0.2011504284420982, -1.954377685047049, 0.018622857603898417, 0.8617756539234976, -1.1789175288139595, 0.09453158593071533, -0.8190086004558853, -0.5111915119844852, -0.37019437878534933, 0.49406010167759457, 0.7318957798065484, -0.6245807673201975, 0.3860474439383816, 0.4682472943605631, 0.1627222638546957, -0.8365295450105019, -0.1484272992826551, -0.14699585388358868, -0.8989769017012104, 3.375644491066588, 0.8636351957100722, 0.9764706586185982, 1.8839025583510707, 0.49039805334819536, 1.1798805121748803, -0.08293830705260241, 0.020189132289008475, -1.212888981610273, -0.9540852579325413, 0.03227530808262174, -0.8518559637939185, 0.9654680591995582, -1.0356822197978657, -0.8665007063675878, 1.1028588348458925, -1.0335879734720794, -0.8709376829504009, 1.6229341507509705, -0.0960647329416155, 0.558693955982772, -0.47009300020518974, -0.098392235514167, 1.184576665806727, 0.01243576370376068, -0.10444812302065885, 0.16465566602612397, -0.47601592047505115, -0.3524503064476507, -1.1142072718294294, -0.24775154136288996, 0.6454080597490083, 0.06799428384607312, -2.3458667879361808, 0.0750307959732018, -0.02338014024049768, 0.408278691353931, -1.3197647537174, -0.08369974574571107, 0.028103212057242984, 0.24146463374541377, -0.1314784283188998, -0.35399171541630814, 0.9047121766469459, 0.577691629229222, -0.9041627507100116, 0.6679213458174991, 0.21340226976686694, 0.5187350887843667, 1.0291096353357165, -0.31331510697347104, -0.569615681897244, -0.08158041488700205, 0.4024168949117813, -0.37676734107072724, 0.02441103137705158, 0.4372970535384335, 0.6141820169439471, 1.190905549407557, 0.5607483976603372, -2.33021436137407, 0.5234829274135729, -0.6133704977202653, 0.6259858344588582, -0.03941965499720579, -0.3826539928719661, -1.1626848852541085, -0.13538449249010662, -0.44734498015120816, -0.675527294767186, -0.27764693163851684, 2.0007679905946723, -0.023422696390421664, 1.0516904951894257, -0.6505394429961281, 0.16981956995748015, 0.8454912342091417, -0.3025957383637378]}, {\"histfunc\": \"count\", \"histnorm\": \"\", \"marker\": {\"color\": \"rgba(55, 128, 191, 1.0)\", \"line\": {\"color\": \"#4D5663\", \"width\": 1.3}}, \"name\": \"B\", \"opacity\": 0.8, \"orientation\": \"v\", \"type\": \"histogram\", \"x\": [-0.9532399160561278, -0.5868484365358092, -0.5322015045622156, -0.067966143001875, 0.9486452867643311, -0.6629183797257413, -0.5337786235952177, -1.374005116607833, 0.9538955464602282, 0.9831229684062017, -0.7218794529268818, -1.738462406660161, 0.8390413925664644, 0.4716881828898347, 1.840314344187763, 0.7829064814901634, -0.29559972424111564, -0.4543075695792023, -0.24134848173579576, 1.0620942076543174, 0.8126293598752975, 0.12771413630928588, 0.6479158525379064, -1.3221014076081543, -0.6104132558623014, 1.6009003090453902, 0.9269141114311796, -0.09885623938144297, 0.8712506984556516, -1.8373391727315502, -0.8095199640075892, 0.5647221507466086, -0.33873776587617926, 1.2770174534384262, -0.401058722431807, -0.3991026372035775, 0.6954802542981, 0.4657361921256589, -0.6115763656174145, -0.76790041556677, -0.8760445121497197, 0.9385120394049317, 0.12548592918841428, 0.12853157804446833, -0.9198386416256834, -0.16736007077296486, -0.273108590084941, -1.038593836786086, -1.789678683700114, -0.08672543648003408, 0.1791283495405397, 0.19740149687421615, -1.8532304045831987, 0.09418603272153049, -0.05406171658396121, 1.1613967379069392, 0.2908581391725514, 0.9334829806606881, 0.8759062521948778, 0.01544050596120699, -2.1433853948711863, -0.6550694134265117, 0.9450328060012705, -0.7318511174804488, -0.2760665477991691, 1.832042341227804, 0.7153981071725797, 0.3097267840306819, 0.5458716771237517, -0.27788252174846967, -2.56791567288503, 1.0733981182897139, 0.5539305528644727, -0.8875864930235106, -0.9215489395600035, -0.48052999506367167, 0.734067673662595, 0.7410495064840434, -0.4455153474458417, 0.47171647604105243, 2.2033238446375445, -0.13287462890628282, 1.57108408511727, -0.2832152183269851, 0.6604718888161459, -0.8097018520506656, -0.8998025213320278, 2.2744708006020584, -1.2989964534559673, 1.2567628834902713, 0.9586268624499967, 1.0292763836765124, 0.23642372515301469, -0.6456930750549342, 1.4959836369417008, -0.07036421252807842, -0.7362854978086856, -0.4795472607190941, 1.6003974543998063, -0.3481208183712817]}, {\"histfunc\": \"count\", \"histnorm\": \"\", \"marker\": {\"color\": \"rgba(50, 171, 96, 1.0)\", \"line\": {\"color\": \"#4D5663\", \"width\": 1.3}}, \"name\": \"C\", \"opacity\": 0.8, \"orientation\": \"v\", \"type\": \"histogram\", \"x\": [1.4983864779909448, -0.0683974342124604, -0.5337891463858248, 0.44154354919874567, -1.2318152574431034, 1.2985630040366611, -2.218451919669104, 0.9332677474881452, 0.48887768670488263, 0.7100565211778788, -1.180211018759006, 0.40357787691680996, -0.18176450555296522, -0.19923388484756513, 2.2707936648476434, 0.7134211445041823, -0.20914473971566427, 0.6731272521506116, -0.1712162713391917, -0.32409938623671136, 0.3231132918011072, -1.5336155761055157, 0.5025780232508699, -0.29693856159868626, 0.23987661690729795, 0.44290559204476504, -0.529833328173643, -0.029194069017488885, 1.2034809706627385, 0.4920550863252347, 1.3118142713736591, -0.012957419236584167, 0.9926476583889912, 1.2718468624411214, 2.0622297852705547, 1.9746120568742223, 0.7116292523754622, -0.4737056251190207, -0.5474136556886244, 0.6820687853788049, 0.1752813698701687, 0.03369271598512779, 0.534436508849568, -0.43959501846003035, -0.5781181336082649, 1.9012412703468982, -0.03727290144563984, 0.5574680225499314, 0.9559932227587079, -0.32636063943397453, -0.33839420843768, 0.33923148177384843, -0.017272371086671515, -0.7399021484764235, -1.165467022871023, -1.292106893654066, -1.784099308455661, -0.9785305487491726, 0.4780020587967749, -0.5248854157902065, -0.6125375405316861, 0.6759309903954257, 0.6041448312385654, -0.33039041832431093, -0.17339863721071497, -0.009843440355222733, 0.7997753502200071, -1.107214785996133, 0.498447288776335, 0.6794945513401383, -0.1382266500550088, 1.2781507015495341, 0.6254176748292696, 0.7886826509605261, -0.8181677561777155, -0.6384163425676622, -1.0479872434449466, -1.2177317666516922, -1.5111568383490466, 0.9615221253744407, 0.9680307972915704, 0.7370807455860703, 0.08595259442313354, -0.3819517739097434, 0.5814733207998918, -0.9305531186290832, 0.09422451520604969, 1.81821824919206, 0.06749656036457062, -0.6269712132943323, 0.28732203080938473, -0.34598621688533177, -0.04863017192128949, -0.3539736054969189, -1.2972990448743276, 1.6800575190759655, -0.3891493008112305, 1.345521828588874, 1.272967956040553, 3.3265035585717997]}, {\"histfunc\": \"count\", \"histnorm\": \"\", \"marker\": {\"color\": \"rgba(128, 0, 128, 1.0)\", \"line\": {\"color\": \"#4D5663\", \"width\": 1.3}}, \"name\": \"D\", \"opacity\": 0.8, \"orientation\": \"v\", \"type\": \"histogram\", \"x\": [-1.5319495460763377, -0.7823135218083629, -1.2093363017654826, 0.7797917356745605, 0.33983173967364444, -0.6668906877377361, -0.9240185127971479, -1.401096364281915, -0.2048781567578501, 1.1948511507781823, 1.9378710428122337, -0.19788163111016083, -0.9621305666501678, 0.5138660890036052, -1.143865652539835, -1.1982136890776176, 0.8292787619731817, 0.3295035520497889, 0.8222470222792261, -0.5121999795691015, -1.237290642027615, 0.11446894929464378, -1.505822965665104, -1.2565156539734794, -0.9237007926029537, -0.20485623833171945, -1.242963400226735, 0.46065343842511053, 0.8627455440540776, 0.37885281652310104, -0.404771823670305, 1.9530589976655945, -1.5658095281175592, -0.9899786783745753, -0.4138508787543901, 2.0771413723760905, 0.08921008719746723, -1.3556168492151528, -0.7678695095182647, -1.1128032731182662, -2.048881608126047, -0.26848514807393614, 1.229562428489407, -0.7531155606516615, -1.0141352555130447, -0.3574010751276007, 1.193569139394085, -0.1713953689270901, 0.5419494728333556, -0.5194810685746506, -0.16357195310254669, 0.7467042929422325, 0.383803866327178, -0.002594563791913918, -0.3032870044789301, 0.16558660457653496, -0.9419723485650384, -0.8099143888303659, 1.2205839875266769, -1.7007322354324552, -0.5497960766879818, -1.4017578932924981, -2.2045320929247545, 0.3986718611011956, -0.09064289146691248, 0.85543610620957, 1.1551676178843544, -0.41020533331384035, -0.8446806004273089, -0.47554568454257223, -0.06593091310501963, 0.29154657424817887, 1.8014650512475308, -0.42036587587693824, 0.5939056868343671, 0.12396213447308421, 0.5742018423253487, 0.6007861599895614, 0.6722461239448084, 0.4174574720090517, -0.9287455608677232, -0.040409801326219574, -0.5772027988901258, -0.6366786617000452, -1.474079529032982, 0.5301472217828153, -0.5618726312931238, 0.5743351632740945, -0.20108858944342017, 0.4951290430399495, -0.3437933242276682, 0.21337031294925046, -0.30421319297951926, 0.6185743763842435, 1.3426061469006845, -2.6898523405519335, -1.2997624793502054, -0.014491457910390242, -0.7531758443186563, 0.051972534063198135]}],                        {\"barmode\": \"overlay\", \"legend\": {\"bgcolor\": \"#F5F6F9\", \"font\": {\"color\": \"#4D5663\"}}, \"paper_bgcolor\": \"#F5F6F9\", \"plot_bgcolor\": \"#F5F6F9\", \"template\": {\"data\": {\"bar\": [{\"error_x\": {\"color\": \"#2a3f5f\"}, \"error_y\": {\"color\": \"#2a3f5f\"}, \"marker\": {\"line\": {\"color\": \"#E5ECF6\", \"width\": 0.5}}, \"type\": \"bar\"}], \"barpolar\": [{\"marker\": {\"line\": {\"color\": \"#E5ECF6\", \"width\": 0.5}}, \"type\": \"barpolar\"}], \"carpet\": [{\"aaxis\": {\"endlinecolor\": \"#2a3f5f\", \"gridcolor\": \"white\", \"linecolor\": \"white\", \"minorgridcolor\": \"white\", \"startlinecolor\": \"#2a3f5f\"}, \"baxis\": {\"endlinecolor\": \"#2a3f5f\", \"gridcolor\": \"white\", \"linecolor\": \"white\", \"minorgridcolor\": \"white\", \"startlinecolor\": \"#2a3f5f\"}, \"type\": \"carpet\"}], \"choropleth\": [{\"colorbar\": {\"outlinewidth\": 0, \"ticks\": \"\"}, \"type\": \"choropleth\"}], \"contour\": [{\"colorbar\": {\"outlinewidth\": 0, \"ticks\": \"\"}, \"colorscale\": [[0.0, \"#0d0887\"], [0.1111111111111111, \"#46039f\"], [0.2222222222222222, \"#7201a8\"], [0.3333333333333333, \"#9c179e\"], [0.4444444444444444, \"#bd3786\"], [0.5555555555555556, \"#d8576b\"], [0.6666666666666666, \"#ed7953\"], [0.7777777777777778, \"#fb9f3a\"], [0.8888888888888888, \"#fdca26\"], [1.0, \"#f0f921\"]], \"type\": \"contour\"}], \"contourcarpet\": [{\"colorbar\": {\"outlinewidth\": 0, \"ticks\": \"\"}, \"type\": \"contourcarpet\"}], \"heatmap\": [{\"colorbar\": {\"outlinewidth\": 0, \"ticks\": \"\"}, \"colorscale\": [[0.0, \"#0d0887\"], [0.1111111111111111, \"#46039f\"], [0.2222222222222222, \"#7201a8\"], [0.3333333333333333, \"#9c179e\"], [0.4444444444444444, \"#bd3786\"], [0.5555555555555556, \"#d8576b\"], [0.6666666666666666, \"#ed7953\"], [0.7777777777777778, \"#fb9f3a\"], [0.8888888888888888, \"#fdca26\"], [1.0, \"#f0f921\"]], \"type\": \"heatmap\"}], \"heatmapgl\": [{\"colorbar\": {\"outlinewidth\": 0, \"ticks\": \"\"}, \"colorscale\": [[0.0, \"#0d0887\"], [0.1111111111111111, \"#46039f\"], [0.2222222222222222, \"#7201a8\"], [0.3333333333333333, \"#9c179e\"], [0.4444444444444444, \"#bd3786\"], [0.5555555555555556, \"#d8576b\"], [0.6666666666666666, \"#ed7953\"], [0.7777777777777778, \"#fb9f3a\"], [0.8888888888888888, \"#fdca26\"], [1.0, \"#f0f921\"]], \"type\": \"heatmapgl\"}], \"histogram\": [{\"marker\": {\"colorbar\": {\"outlinewidth\": 0, \"ticks\": \"\"}}, \"type\": \"histogram\"}], \"histogram2d\": [{\"colorbar\": {\"outlinewidth\": 0, \"ticks\": \"\"}, \"colorscale\": [[0.0, \"#0d0887\"], [0.1111111111111111, \"#46039f\"], [0.2222222222222222, \"#7201a8\"], [0.3333333333333333, \"#9c179e\"], [0.4444444444444444, \"#bd3786\"], [0.5555555555555556, \"#d8576b\"], [0.6666666666666666, \"#ed7953\"], [0.7777777777777778, \"#fb9f3a\"], [0.8888888888888888, \"#fdca26\"], [1.0, \"#f0f921\"]], \"type\": \"histogram2d\"}], \"histogram2dcontour\": [{\"colorbar\": {\"outlinewidth\": 0, \"ticks\": \"\"}, \"colorscale\": [[0.0, \"#0d0887\"], [0.1111111111111111, \"#46039f\"], [0.2222222222222222, \"#7201a8\"], [0.3333333333333333, \"#9c179e\"], [0.4444444444444444, \"#bd3786\"], [0.5555555555555556, \"#d8576b\"], [0.6666666666666666, \"#ed7953\"], [0.7777777777777778, \"#fb9f3a\"], [0.8888888888888888, \"#fdca26\"], [1.0, \"#f0f921\"]], \"type\": \"histogram2dcontour\"}], \"mesh3d\": [{\"colorbar\": {\"outlinewidth\": 0, \"ticks\": \"\"}, \"type\": \"mesh3d\"}], \"parcoords\": [{\"line\": {\"colorbar\": {\"outlinewidth\": 0, \"ticks\": \"\"}}, \"type\": \"parcoords\"}], \"pie\": [{\"automargin\": true, \"type\": \"pie\"}], \"scatter\": [{\"marker\": {\"colorbar\": {\"outlinewidth\": 0, \"ticks\": \"\"}}, \"type\": \"scatter\"}], \"scatter3d\": [{\"line\": {\"colorbar\": {\"outlinewidth\": 0, \"ticks\": \"\"}}, \"marker\": {\"colorbar\": {\"outlinewidth\": 0, \"ticks\": \"\"}}, \"type\": \"scatter3d\"}], \"scattercarpet\": [{\"marker\": {\"colorbar\": {\"outlinewidth\": 0, \"ticks\": \"\"}}, \"type\": \"scattercarpet\"}], \"scattergeo\": [{\"marker\": {\"colorbar\": {\"outlinewidth\": 0, \"ticks\": \"\"}}, \"type\": \"scattergeo\"}], \"scattergl\": [{\"marker\": {\"colorbar\": {\"outlinewidth\": 0, \"ticks\": \"\"}}, \"type\": \"scattergl\"}], \"scattermapbox\": [{\"marker\": {\"colorbar\": {\"outlinewidth\": 0, \"ticks\": \"\"}}, \"type\": \"scattermapbox\"}], \"scatterpolar\": [{\"marker\": {\"colorbar\": {\"outlinewidth\": 0, \"ticks\": \"\"}}, \"type\": \"scatterpolar\"}], \"scatterpolargl\": [{\"marker\": {\"colorbar\": {\"outlinewidth\": 0, \"ticks\": \"\"}}, \"type\": \"scatterpolargl\"}], \"scatterternary\": [{\"marker\": {\"colorbar\": {\"outlinewidth\": 0, \"ticks\": \"\"}}, \"type\": \"scatterternary\"}], \"surface\": [{\"colorbar\": {\"outlinewidth\": 0, \"ticks\": \"\"}, \"colorscale\": [[0.0, \"#0d0887\"], [0.1111111111111111, \"#46039f\"], [0.2222222222222222, \"#7201a8\"], [0.3333333333333333, \"#9c179e\"], [0.4444444444444444, \"#bd3786\"], [0.5555555555555556, \"#d8576b\"], [0.6666666666666666, \"#ed7953\"], [0.7777777777777778, \"#fb9f3a\"], [0.8888888888888888, \"#fdca26\"], [1.0, \"#f0f921\"]], \"type\": \"surface\"}], \"table\": [{\"cells\": {\"fill\": {\"color\": \"#EBF0F8\"}, \"line\": {\"color\": \"white\"}}, \"header\": {\"fill\": {\"color\": \"#C8D4E3\"}, \"line\": {\"color\": \"white\"}}, \"type\": \"table\"}]}, \"layout\": {\"annotationdefaults\": {\"arrowcolor\": \"#2a3f5f\", \"arrowhead\": 0, \"arrowwidth\": 1}, \"autotypenumbers\": \"strict\", \"coloraxis\": {\"colorbar\": {\"outlinewidth\": 0, \"ticks\": \"\"}}, \"colorscale\": {\"diverging\": [[0, \"#8e0152\"], [0.1, \"#c51b7d\"], [0.2, \"#de77ae\"], [0.3, \"#f1b6da\"], [0.4, \"#fde0ef\"], [0.5, \"#f7f7f7\"], [0.6, \"#e6f5d0\"], [0.7, \"#b8e186\"], [0.8, \"#7fbc41\"], [0.9, \"#4d9221\"], [1, \"#276419\"]], \"sequential\": [[0.0, \"#0d0887\"], [0.1111111111111111, \"#46039f\"], [0.2222222222222222, \"#7201a8\"], [0.3333333333333333, \"#9c179e\"], [0.4444444444444444, \"#bd3786\"], [0.5555555555555556, \"#d8576b\"], [0.6666666666666666, \"#ed7953\"], [0.7777777777777778, \"#fb9f3a\"], [0.8888888888888888, \"#fdca26\"], [1.0, \"#f0f921\"]], \"sequentialminus\": [[0.0, \"#0d0887\"], [0.1111111111111111, \"#46039f\"], [0.2222222222222222, \"#7201a8\"], [0.3333333333333333, \"#9c179e\"], [0.4444444444444444, \"#bd3786\"], [0.5555555555555556, \"#d8576b\"], [0.6666666666666666, \"#ed7953\"], [0.7777777777777778, \"#fb9f3a\"], [0.8888888888888888, \"#fdca26\"], [1.0, \"#f0f921\"]]}, \"colorway\": [\"#636efa\", \"#EF553B\", \"#00cc96\", \"#ab63fa\", \"#FFA15A\", \"#19d3f3\", \"#FF6692\", \"#B6E880\", \"#FF97FF\", \"#FECB52\"], \"font\": {\"color\": \"#2a3f5f\"}, \"geo\": {\"bgcolor\": \"white\", \"lakecolor\": \"white\", \"landcolor\": \"#E5ECF6\", \"showlakes\": true, \"showland\": true, \"subunitcolor\": \"white\"}, \"hoverlabel\": {\"align\": \"left\"}, \"hovermode\": \"closest\", \"mapbox\": {\"style\": \"light\"}, \"paper_bgcolor\": \"white\", \"plot_bgcolor\": \"#E5ECF6\", \"polar\": {\"angularaxis\": {\"gridcolor\": \"white\", \"linecolor\": \"white\", \"ticks\": \"\"}, \"bgcolor\": \"#E5ECF6\", \"radialaxis\": {\"gridcolor\": \"white\", \"linecolor\": \"white\", \"ticks\": \"\"}}, \"scene\": {\"xaxis\": {\"backgroundcolor\": \"#E5ECF6\", \"gridcolor\": \"white\", \"gridwidth\": 2, \"linecolor\": \"white\", \"showbackground\": true, \"ticks\": \"\", \"zerolinecolor\": \"white\"}, \"yaxis\": {\"backgroundcolor\": \"#E5ECF6\", \"gridcolor\": \"white\", \"gridwidth\": 2, \"linecolor\": \"white\", \"showbackground\": true, \"ticks\": \"\", \"zerolinecolor\": \"white\"}, \"zaxis\": {\"backgroundcolor\": \"#E5ECF6\", \"gridcolor\": \"white\", \"gridwidth\": 2, \"linecolor\": \"white\", \"showbackground\": true, \"ticks\": \"\", \"zerolinecolor\": \"white\"}}, \"shapedefaults\": {\"line\": {\"color\": \"#2a3f5f\"}}, \"ternary\": {\"aaxis\": {\"gridcolor\": \"white\", \"linecolor\": \"white\", \"ticks\": \"\"}, \"baxis\": {\"gridcolor\": \"white\", \"linecolor\": \"white\", \"ticks\": \"\"}, \"bgcolor\": \"#E5ECF6\", \"caxis\": {\"gridcolor\": \"white\", \"linecolor\": \"white\", \"ticks\": \"\"}}, \"title\": {\"x\": 0.05}, \"xaxis\": {\"automargin\": true, \"gridcolor\": \"white\", \"linecolor\": \"white\", \"ticks\": \"\", \"title\": {\"standoff\": 15}, \"zerolinecolor\": \"white\", \"zerolinewidth\": 2}, \"yaxis\": {\"automargin\": true, \"gridcolor\": \"white\", \"linecolor\": \"white\", \"ticks\": \"\", \"title\": {\"standoff\": 15}, \"zerolinecolor\": \"white\", \"zerolinewidth\": 2}}}, \"title\": {\"font\": {\"color\": \"#4D5663\"}}, \"xaxis\": {\"gridcolor\": \"#E1E5ED\", \"showgrid\": true, \"tickfont\": {\"color\": \"#4D5663\"}, \"title\": {\"font\": {\"color\": \"#4D5663\"}, \"text\": \"\"}, \"zerolinecolor\": \"#E1E5ED\"}, \"yaxis\": {\"gridcolor\": \"#E1E5ED\", \"showgrid\": true, \"tickfont\": {\"color\": \"#4D5663\"}, \"title\": {\"font\": {\"color\": \"#4D5663\"}, \"text\": \"\"}, \"zerolinecolor\": \"#E1E5ED\"}},                        {\"showLink\": true, \"linkText\": \"Export to plot.ly\", \"plotlyServerURL\": \"https://plot.ly\", \"responsive\": true}                    ).then(function(){\n",
       "                            \n",
       "var gd = document.getElementById('9e5d2d88-e52a-42ff-9b6f-fcd4c8f04f6d');\n",
       "var x = new MutationObserver(function (mutations, observer) {{\n",
       "        var display = window.getComputedStyle(gd).display;\n",
       "        if (!display || display === 'none') {{\n",
       "            console.log([gd, 'removed!']);\n",
       "            Plotly.purge(gd);\n",
       "            observer.disconnect();\n",
       "        }}\n",
       "}});\n",
       "\n",
       "// Listen for the removal of the full notebook cells\n",
       "var notebookContainer = gd.closest('#notebook-container');\n",
       "if (notebookContainer) {{\n",
       "    x.observe(notebookContainer, {childList: true});\n",
       "}}\n",
       "\n",
       "// Listen for the clearing of the current output cell\n",
       "var outputEl = gd.closest('.output');\n",
       "if (outputEl) {{\n",
       "    x.observe(outputEl, {childList: true});\n",
       "}}\n",
       "\n",
       "                        })                };                });            </script>        </div>"
      ]
     },
     "metadata": {},
     "output_type": "display_data"
    }
   ],
   "source": [
    "df.iplot(kind='hist')"
   ]
  },
  {
   "cell_type": "code",
   "execution_count": 46,
   "metadata": {},
   "outputs": [
    {
     "name": "stderr",
     "output_type": "stream",
     "text": [
      "C:\\Users\\HP\\anaconda3\\lib\\site-packages\\cufflinks\\plotlytools.py:849: FutureWarning:\n",
      "\n",
      "The pandas.np module is deprecated and will be removed from pandas in a future version. Import numpy directly instead\n",
      "\n",
      "C:\\Users\\HP\\anaconda3\\lib\\site-packages\\cufflinks\\plotlytools.py:850: FutureWarning:\n",
      "\n",
      "The pandas.np module is deprecated and will be removed from pandas in a future version. Import numpy directly instead\n",
      "\n"
     ]
    },
    {
     "data": {
      "application/vnd.plotly.v1+json": {
       "config": {
        "linkText": "Export to plot.ly",
        "plotlyServerURL": "https://plot.ly",
        "showLink": true
       },
       "data": [
        {
         "line": {
          "color": "rgba(255, 153, 51, 1.0)",
          "dash": "solid",
          "shape": "linear",
          "width": 1.3
         },
         "mode": "lines",
         "name": "A",
         "text": "",
         "type": "scatter",
         "x": [
          0,
          1,
          2,
          3,
          4,
          5,
          6,
          7,
          8,
          9,
          10,
          11,
          12,
          13,
          14,
          15,
          16,
          17,
          18,
          19,
          20,
          21,
          22,
          23,
          24,
          25,
          26,
          27,
          28,
          29,
          30,
          31,
          32,
          33,
          34,
          35,
          36,
          37,
          38,
          39,
          40,
          41,
          42,
          43,
          44,
          45,
          46,
          47,
          48,
          49,
          50,
          51,
          52,
          53,
          54,
          55,
          56,
          57,
          58,
          59,
          60,
          61,
          62,
          63,
          64,
          65,
          66,
          67,
          68,
          69,
          70,
          71,
          72,
          73,
          74,
          75,
          76,
          77,
          78,
          79,
          80,
          81,
          82,
          83,
          84,
          85,
          86,
          87,
          88,
          89,
          90,
          91,
          92,
          93,
          94,
          95,
          96,
          97,
          98,
          99
         ],
         "y": [
          -0.14503484795852725,
          -3.0165964743780136,
          0.24392315292249664,
          0.2011504284420982,
          -1.954377685047049,
          0.018622857603898417,
          0.8617756539234976,
          -1.1789175288139595,
          0.09453158593071533,
          -0.8190086004558853,
          -0.5111915119844852,
          -0.37019437878534933,
          0.49406010167759457,
          0.7318957798065484,
          -0.6245807673201975,
          0.3860474439383816,
          0.4682472943605631,
          0.1627222638546957,
          -0.8365295450105019,
          -0.1484272992826551,
          -0.14699585388358868,
          -0.8989769017012104,
          3.375644491066588,
          0.8636351957100722,
          0.9764706586185982,
          1.8839025583510707,
          0.49039805334819536,
          1.1798805121748803,
          -0.08293830705260241,
          0.020189132289008475,
          -1.212888981610273,
          -0.9540852579325413,
          0.03227530808262174,
          -0.8518559637939185,
          0.9654680591995582,
          -1.0356822197978657,
          -0.8665007063675878,
          1.1028588348458925,
          -1.0335879734720794,
          -0.8709376829504009,
          1.6229341507509705,
          -0.0960647329416155,
          0.558693955982772,
          -0.47009300020518974,
          -0.098392235514167,
          1.184576665806727,
          0.01243576370376068,
          -0.10444812302065885,
          0.16465566602612397,
          -0.47601592047505115,
          -0.3524503064476507,
          -1.1142072718294294,
          -0.24775154136288996,
          0.6454080597490083,
          0.06799428384607312,
          -2.3458667879361808,
          0.0750307959732018,
          -0.02338014024049768,
          0.408278691353931,
          -1.3197647537174,
          -0.08369974574571107,
          0.028103212057242984,
          0.24146463374541377,
          -0.1314784283188998,
          -0.35399171541630814,
          0.9047121766469459,
          0.577691629229222,
          -0.9041627507100116,
          0.6679213458174991,
          0.21340226976686694,
          0.5187350887843667,
          1.0291096353357165,
          -0.31331510697347104,
          -0.569615681897244,
          -0.08158041488700205,
          0.4024168949117813,
          -0.37676734107072724,
          0.02441103137705158,
          0.4372970535384335,
          0.6141820169439471,
          1.190905549407557,
          0.5607483976603372,
          -2.33021436137407,
          0.5234829274135729,
          -0.6133704977202653,
          0.6259858344588582,
          -0.03941965499720579,
          -0.3826539928719661,
          -1.1626848852541085,
          -0.13538449249010662,
          -0.44734498015120816,
          -0.675527294767186,
          -0.27764693163851684,
          2.0007679905946723,
          -0.023422696390421664,
          1.0516904951894257,
          -0.6505394429961281,
          0.16981956995748015,
          0.8454912342091417,
          -0.3025957383637378
         ]
        },
        {
         "line": {
          "color": "rgba(55, 128, 191, 1.0)",
          "dash": "solid",
          "shape": "linear",
          "width": 1.3
         },
         "mode": "lines",
         "name": "B",
         "text": "",
         "type": "scatter",
         "x": [
          0,
          1,
          2,
          3,
          4,
          5,
          6,
          7,
          8,
          9,
          10,
          11,
          12,
          13,
          14,
          15,
          16,
          17,
          18,
          19,
          20,
          21,
          22,
          23,
          24,
          25,
          26,
          27,
          28,
          29,
          30,
          31,
          32,
          33,
          34,
          35,
          36,
          37,
          38,
          39,
          40,
          41,
          42,
          43,
          44,
          45,
          46,
          47,
          48,
          49,
          50,
          51,
          52,
          53,
          54,
          55,
          56,
          57,
          58,
          59,
          60,
          61,
          62,
          63,
          64,
          65,
          66,
          67,
          68,
          69,
          70,
          71,
          72,
          73,
          74,
          75,
          76,
          77,
          78,
          79,
          80,
          81,
          82,
          83,
          84,
          85,
          86,
          87,
          88,
          89,
          90,
          91,
          92,
          93,
          94,
          95,
          96,
          97,
          98,
          99
         ],
         "y": [
          -0.9532399160561278,
          -0.5868484365358092,
          -0.5322015045622156,
          -0.067966143001875,
          0.9486452867643311,
          -0.6629183797257413,
          -0.5337786235952177,
          -1.374005116607833,
          0.9538955464602282,
          0.9831229684062017,
          -0.7218794529268818,
          -1.738462406660161,
          0.8390413925664644,
          0.4716881828898347,
          1.840314344187763,
          0.7829064814901634,
          -0.29559972424111564,
          -0.4543075695792023,
          -0.24134848173579576,
          1.0620942076543174,
          0.8126293598752975,
          0.12771413630928588,
          0.6479158525379064,
          -1.3221014076081543,
          -0.6104132558623014,
          1.6009003090453902,
          0.9269141114311796,
          -0.09885623938144297,
          0.8712506984556516,
          -1.8373391727315502,
          -0.8095199640075892,
          0.5647221507466086,
          -0.33873776587617926,
          1.2770174534384262,
          -0.401058722431807,
          -0.3991026372035775,
          0.6954802542981,
          0.4657361921256589,
          -0.6115763656174145,
          -0.76790041556677,
          -0.8760445121497197,
          0.9385120394049317,
          0.12548592918841428,
          0.12853157804446833,
          -0.9198386416256834,
          -0.16736007077296486,
          -0.273108590084941,
          -1.038593836786086,
          -1.789678683700114,
          -0.08672543648003408,
          0.1791283495405397,
          0.19740149687421615,
          -1.8532304045831987,
          0.09418603272153049,
          -0.05406171658396121,
          1.1613967379069392,
          0.2908581391725514,
          0.9334829806606881,
          0.8759062521948778,
          0.01544050596120699,
          -2.1433853948711863,
          -0.6550694134265117,
          0.9450328060012705,
          -0.7318511174804488,
          -0.2760665477991691,
          1.832042341227804,
          0.7153981071725797,
          0.3097267840306819,
          0.5458716771237517,
          -0.27788252174846967,
          -2.56791567288503,
          1.0733981182897139,
          0.5539305528644727,
          -0.8875864930235106,
          -0.9215489395600035,
          -0.48052999506367167,
          0.734067673662595,
          0.7410495064840434,
          -0.4455153474458417,
          0.47171647604105243,
          2.2033238446375445,
          -0.13287462890628282,
          1.57108408511727,
          -0.2832152183269851,
          0.6604718888161459,
          -0.8097018520506656,
          -0.8998025213320278,
          2.2744708006020584,
          -1.2989964534559673,
          1.2567628834902713,
          0.9586268624499967,
          1.0292763836765124,
          0.23642372515301469,
          -0.6456930750549342,
          1.4959836369417008,
          -0.07036421252807842,
          -0.7362854978086856,
          -0.4795472607190941,
          1.6003974543998063,
          -0.3481208183712817
         ]
        },
        {
         "connectgaps": false,
         "fill": "tozeroy",
         "line": {
          "color": "green",
          "dash": "solid",
          "shape": "linear",
          "width": 0.5
         },
         "mode": "lines",
         "name": "Spread",
         "showlegend": false,
         "type": "scatter",
         "x": [
          0,
          1,
          2,
          3,
          4,
          5,
          6,
          7,
          8,
          9,
          10,
          11,
          12,
          13,
          14,
          15,
          16,
          17,
          18,
          19,
          20,
          21,
          22,
          23,
          24,
          25,
          26,
          27,
          28,
          29,
          30,
          31,
          32,
          33,
          34,
          35,
          36,
          37,
          38,
          39,
          40,
          41,
          42,
          43,
          44,
          45,
          46,
          47,
          48,
          49,
          50,
          51,
          52,
          53,
          54,
          55,
          56,
          57,
          58,
          59,
          60,
          61,
          62,
          63,
          64,
          65,
          66,
          67,
          68,
          69,
          70,
          71,
          72,
          73,
          74,
          75,
          76,
          77,
          78,
          79,
          80,
          81,
          82,
          83,
          84,
          85,
          86,
          87,
          88,
          89,
          90,
          91,
          92,
          93,
          94,
          95,
          96,
          97,
          98,
          99
         ],
         "xaxis": "x2",
         "y": [
          0.8082050680976005,
          "",
          0.7761246574847123,
          0.2691165714439732,
          "",
          0.6815412373296397,
          1.3955542775187153,
          0.19508758779387358,
          "",
          "",
          0.21068794094239662,
          1.3682680278748118,
          "",
          0.2602075969167137,
          "",
          "",
          0.7638470186016788,
          0.6170298334338981,
          "",
          "",
          "",
          "",
          2.727728638528682,
          2.1857366033182264,
          1.5868839144808997,
          0.2830022493056805,
          "",
          1.2787367515563233,
          "",
          1.8575283050205587,
          "",
          "",
          0.371013073958801,
          "",
          1.3665267816313653,
          "",
          "",
          0.6371226427202337,
          "",
          "",
          2.49897866290069,
          "",
          0.43320802679435777,
          "",
          0.8214464061115164,
          1.3519367365796917,
          0.2855443537887017,
          0.9341457137654272,
          1.954334349726238,
          "",
          "",
          "",
          1.6054788632203087,
          0.5512220270274778,
          0.12205600043003433,
          "",
          "",
          "",
          "",
          "",
          2.059685649125475,
          0.6831726254837547,
          "",
          0.6003726891615491,
          "",
          "",
          "",
          "",
          0.12204966869374734,
          0.4912847915153366,
          3.0866507616693966,
          "",
          "",
          0.3179708111262666,
          0.8399685246730014,
          0.8829468899754529,
          "",
          "",
          0.8828124009842753,
          0.1424655409028947,
          "",
          0.6936230265666201,
          "",
          0.806698145740558,
          "",
          1.4356876865095238,
          0.860382866334822,
          "",
          0.13631156820185875,
          "",
          "",
          "",
          "",
          2.6464610656496066,
          "",
          1.122054707717504,
          0.08574605481255748,
          0.6493668306765743,
          "",
          0.045525080007543905
         ],
         "yaxis": "y2"
        },
        {
         "connectgaps": false,
         "fill": "tozeroy",
         "line": {
          "color": "red",
          "dash": "solid",
          "shape": "linear",
          "width": 0.5
         },
         "mode": "lines",
         "name": "Spread",
         "showlegend": false,
         "type": "scatter",
         "x": [
          0,
          1,
          2,
          3,
          4,
          5,
          6,
          7,
          8,
          9,
          10,
          11,
          12,
          13,
          14,
          15,
          16,
          17,
          18,
          19,
          20,
          21,
          22,
          23,
          24,
          25,
          26,
          27,
          28,
          29,
          30,
          31,
          32,
          33,
          34,
          35,
          36,
          37,
          38,
          39,
          40,
          41,
          42,
          43,
          44,
          45,
          46,
          47,
          48,
          49,
          50,
          51,
          52,
          53,
          54,
          55,
          56,
          57,
          58,
          59,
          60,
          61,
          62,
          63,
          64,
          65,
          66,
          67,
          68,
          69,
          70,
          71,
          72,
          73,
          74,
          75,
          76,
          77,
          78,
          79,
          80,
          81,
          82,
          83,
          84,
          85,
          86,
          87,
          88,
          89,
          90,
          91,
          92,
          93,
          94,
          95,
          96,
          97,
          98,
          99
         ],
         "xaxis": "x2",
         "y": [
          "",
          -2.4297480378422045,
          "",
          "",
          -2.90302297181138,
          "",
          "",
          "",
          -0.8593639605295129,
          -1.802131568862087,
          "",
          "",
          -0.3449812908888698,
          "",
          -2.4648951115079605,
          -0.3968590375517818,
          "",
          "",
          -0.5951810632747061,
          -1.2105215069369726,
          -0.9596252137588862,
          -1.0266910380104963,
          "",
          "",
          "",
          "",
          -0.43651605808298427,
          "",
          -0.954189005508254,
          "",
          -0.40336901760268384,
          -1.5188074086791499,
          "",
          -2.1288734172323447,
          "",
          -0.6365795825942882,
          -1.5619809606656878,
          "",
          -0.42201160785466496,
          -0.10303726738363084,
          "",
          -1.034576772346547,
          "",
          -0.5986245782496581,
          "",
          "",
          "",
          "",
          "",
          -0.3892904839950171,
          -0.5315786559881903,
          -1.3116087687036455,
          "",
          "",
          "",
          -3.50726352584312,
          -0.2158273431993496,
          -0.9568631209011859,
          -0.4676275608409468,
          -1.335205259678607,
          "",
          "",
          -0.7035681722558567,
          "",
          -0.07792516761713902,
          -0.927330164580858,
          -0.13770647794335766,
          -1.2138895347406935,
          "",
          "",
          "",
          -0.044288482953997343,
          -0.8672456598379437,
          "",
          "",
          "",
          -1.1108350147333221,
          -0.7166384751069919,
          "",
          "",
          -1.0124182952299874,
          "",
          -3.90129844649134,
          "",
          -1.2738423865364112,
          "",
          "",
          -2.6571247934740247,
          "",
          -1.392147375980378,
          -1.405971842601205,
          -1.7048036784436984,
          -0.5140706567915315,
          "",
          -1.5194063333321224,
          "",
          "",
          "",
          -0.7549062201906646,
          ""
         ],
         "yaxis": "y2"
        }
       ],
       "layout": {
        "hovermode": "x",
        "legend": {
         "bgcolor": "#F5F6F9",
         "font": {
          "color": "#4D5663"
         }
        },
        "paper_bgcolor": "#F5F6F9",
        "plot_bgcolor": "#F5F6F9",
        "template": {
         "data": {
          "bar": [
           {
            "error_x": {
             "color": "#2a3f5f"
            },
            "error_y": {
             "color": "#2a3f5f"
            },
            "marker": {
             "line": {
              "color": "#E5ECF6",
              "width": 0.5
             }
            },
            "type": "bar"
           }
          ],
          "barpolar": [
           {
            "marker": {
             "line": {
              "color": "#E5ECF6",
              "width": 0.5
             }
            },
            "type": "barpolar"
           }
          ],
          "carpet": [
           {
            "aaxis": {
             "endlinecolor": "#2a3f5f",
             "gridcolor": "white",
             "linecolor": "white",
             "minorgridcolor": "white",
             "startlinecolor": "#2a3f5f"
            },
            "baxis": {
             "endlinecolor": "#2a3f5f",
             "gridcolor": "white",
             "linecolor": "white",
             "minorgridcolor": "white",
             "startlinecolor": "#2a3f5f"
            },
            "type": "carpet"
           }
          ],
          "choropleth": [
           {
            "colorbar": {
             "outlinewidth": 0,
             "ticks": ""
            },
            "type": "choropleth"
           }
          ],
          "contour": [
           {
            "colorbar": {
             "outlinewidth": 0,
             "ticks": ""
            },
            "colorscale": [
             [
              0,
              "#0d0887"
             ],
             [
              0.1111111111111111,
              "#46039f"
             ],
             [
              0.2222222222222222,
              "#7201a8"
             ],
             [
              0.3333333333333333,
              "#9c179e"
             ],
             [
              0.4444444444444444,
              "#bd3786"
             ],
             [
              0.5555555555555556,
              "#d8576b"
             ],
             [
              0.6666666666666666,
              "#ed7953"
             ],
             [
              0.7777777777777778,
              "#fb9f3a"
             ],
             [
              0.8888888888888888,
              "#fdca26"
             ],
             [
              1,
              "#f0f921"
             ]
            ],
            "type": "contour"
           }
          ],
          "contourcarpet": [
           {
            "colorbar": {
             "outlinewidth": 0,
             "ticks": ""
            },
            "type": "contourcarpet"
           }
          ],
          "heatmap": [
           {
            "colorbar": {
             "outlinewidth": 0,
             "ticks": ""
            },
            "colorscale": [
             [
              0,
              "#0d0887"
             ],
             [
              0.1111111111111111,
              "#46039f"
             ],
             [
              0.2222222222222222,
              "#7201a8"
             ],
             [
              0.3333333333333333,
              "#9c179e"
             ],
             [
              0.4444444444444444,
              "#bd3786"
             ],
             [
              0.5555555555555556,
              "#d8576b"
             ],
             [
              0.6666666666666666,
              "#ed7953"
             ],
             [
              0.7777777777777778,
              "#fb9f3a"
             ],
             [
              0.8888888888888888,
              "#fdca26"
             ],
             [
              1,
              "#f0f921"
             ]
            ],
            "type": "heatmap"
           }
          ],
          "heatmapgl": [
           {
            "colorbar": {
             "outlinewidth": 0,
             "ticks": ""
            },
            "colorscale": [
             [
              0,
              "#0d0887"
             ],
             [
              0.1111111111111111,
              "#46039f"
             ],
             [
              0.2222222222222222,
              "#7201a8"
             ],
             [
              0.3333333333333333,
              "#9c179e"
             ],
             [
              0.4444444444444444,
              "#bd3786"
             ],
             [
              0.5555555555555556,
              "#d8576b"
             ],
             [
              0.6666666666666666,
              "#ed7953"
             ],
             [
              0.7777777777777778,
              "#fb9f3a"
             ],
             [
              0.8888888888888888,
              "#fdca26"
             ],
             [
              1,
              "#f0f921"
             ]
            ],
            "type": "heatmapgl"
           }
          ],
          "histogram": [
           {
            "marker": {
             "colorbar": {
              "outlinewidth": 0,
              "ticks": ""
             }
            },
            "type": "histogram"
           }
          ],
          "histogram2d": [
           {
            "colorbar": {
             "outlinewidth": 0,
             "ticks": ""
            },
            "colorscale": [
             [
              0,
              "#0d0887"
             ],
             [
              0.1111111111111111,
              "#46039f"
             ],
             [
              0.2222222222222222,
              "#7201a8"
             ],
             [
              0.3333333333333333,
              "#9c179e"
             ],
             [
              0.4444444444444444,
              "#bd3786"
             ],
             [
              0.5555555555555556,
              "#d8576b"
             ],
             [
              0.6666666666666666,
              "#ed7953"
             ],
             [
              0.7777777777777778,
              "#fb9f3a"
             ],
             [
              0.8888888888888888,
              "#fdca26"
             ],
             [
              1,
              "#f0f921"
             ]
            ],
            "type": "histogram2d"
           }
          ],
          "histogram2dcontour": [
           {
            "colorbar": {
             "outlinewidth": 0,
             "ticks": ""
            },
            "colorscale": [
             [
              0,
              "#0d0887"
             ],
             [
              0.1111111111111111,
              "#46039f"
             ],
             [
              0.2222222222222222,
              "#7201a8"
             ],
             [
              0.3333333333333333,
              "#9c179e"
             ],
             [
              0.4444444444444444,
              "#bd3786"
             ],
             [
              0.5555555555555556,
              "#d8576b"
             ],
             [
              0.6666666666666666,
              "#ed7953"
             ],
             [
              0.7777777777777778,
              "#fb9f3a"
             ],
             [
              0.8888888888888888,
              "#fdca26"
             ],
             [
              1,
              "#f0f921"
             ]
            ],
            "type": "histogram2dcontour"
           }
          ],
          "mesh3d": [
           {
            "colorbar": {
             "outlinewidth": 0,
             "ticks": ""
            },
            "type": "mesh3d"
           }
          ],
          "parcoords": [
           {
            "line": {
             "colorbar": {
              "outlinewidth": 0,
              "ticks": ""
             }
            },
            "type": "parcoords"
           }
          ],
          "pie": [
           {
            "automargin": true,
            "type": "pie"
           }
          ],
          "scatter": [
           {
            "marker": {
             "colorbar": {
              "outlinewidth": 0,
              "ticks": ""
             }
            },
            "type": "scatter"
           }
          ],
          "scatter3d": [
           {
            "line": {
             "colorbar": {
              "outlinewidth": 0,
              "ticks": ""
             }
            },
            "marker": {
             "colorbar": {
              "outlinewidth": 0,
              "ticks": ""
             }
            },
            "type": "scatter3d"
           }
          ],
          "scattercarpet": [
           {
            "marker": {
             "colorbar": {
              "outlinewidth": 0,
              "ticks": ""
             }
            },
            "type": "scattercarpet"
           }
          ],
          "scattergeo": [
           {
            "marker": {
             "colorbar": {
              "outlinewidth": 0,
              "ticks": ""
             }
            },
            "type": "scattergeo"
           }
          ],
          "scattergl": [
           {
            "marker": {
             "colorbar": {
              "outlinewidth": 0,
              "ticks": ""
             }
            },
            "type": "scattergl"
           }
          ],
          "scattermapbox": [
           {
            "marker": {
             "colorbar": {
              "outlinewidth": 0,
              "ticks": ""
             }
            },
            "type": "scattermapbox"
           }
          ],
          "scatterpolar": [
           {
            "marker": {
             "colorbar": {
              "outlinewidth": 0,
              "ticks": ""
             }
            },
            "type": "scatterpolar"
           }
          ],
          "scatterpolargl": [
           {
            "marker": {
             "colorbar": {
              "outlinewidth": 0,
              "ticks": ""
             }
            },
            "type": "scatterpolargl"
           }
          ],
          "scatterternary": [
           {
            "marker": {
             "colorbar": {
              "outlinewidth": 0,
              "ticks": ""
             }
            },
            "type": "scatterternary"
           }
          ],
          "surface": [
           {
            "colorbar": {
             "outlinewidth": 0,
             "ticks": ""
            },
            "colorscale": [
             [
              0,
              "#0d0887"
             ],
             [
              0.1111111111111111,
              "#46039f"
             ],
             [
              0.2222222222222222,
              "#7201a8"
             ],
             [
              0.3333333333333333,
              "#9c179e"
             ],
             [
              0.4444444444444444,
              "#bd3786"
             ],
             [
              0.5555555555555556,
              "#d8576b"
             ],
             [
              0.6666666666666666,
              "#ed7953"
             ],
             [
              0.7777777777777778,
              "#fb9f3a"
             ],
             [
              0.8888888888888888,
              "#fdca26"
             ],
             [
              1,
              "#f0f921"
             ]
            ],
            "type": "surface"
           }
          ],
          "table": [
           {
            "cells": {
             "fill": {
              "color": "#EBF0F8"
             },
             "line": {
              "color": "white"
             }
            },
            "header": {
             "fill": {
              "color": "#C8D4E3"
             },
             "line": {
              "color": "white"
             }
            },
            "type": "table"
           }
          ]
         },
         "layout": {
          "annotationdefaults": {
           "arrowcolor": "#2a3f5f",
           "arrowhead": 0,
           "arrowwidth": 1
          },
          "autotypenumbers": "strict",
          "coloraxis": {
           "colorbar": {
            "outlinewidth": 0,
            "ticks": ""
           }
          },
          "colorscale": {
           "diverging": [
            [
             0,
             "#8e0152"
            ],
            [
             0.1,
             "#c51b7d"
            ],
            [
             0.2,
             "#de77ae"
            ],
            [
             0.3,
             "#f1b6da"
            ],
            [
             0.4,
             "#fde0ef"
            ],
            [
             0.5,
             "#f7f7f7"
            ],
            [
             0.6,
             "#e6f5d0"
            ],
            [
             0.7,
             "#b8e186"
            ],
            [
             0.8,
             "#7fbc41"
            ],
            [
             0.9,
             "#4d9221"
            ],
            [
             1,
             "#276419"
            ]
           ],
           "sequential": [
            [
             0,
             "#0d0887"
            ],
            [
             0.1111111111111111,
             "#46039f"
            ],
            [
             0.2222222222222222,
             "#7201a8"
            ],
            [
             0.3333333333333333,
             "#9c179e"
            ],
            [
             0.4444444444444444,
             "#bd3786"
            ],
            [
             0.5555555555555556,
             "#d8576b"
            ],
            [
             0.6666666666666666,
             "#ed7953"
            ],
            [
             0.7777777777777778,
             "#fb9f3a"
            ],
            [
             0.8888888888888888,
             "#fdca26"
            ],
            [
             1,
             "#f0f921"
            ]
           ],
           "sequentialminus": [
            [
             0,
             "#0d0887"
            ],
            [
             0.1111111111111111,
             "#46039f"
            ],
            [
             0.2222222222222222,
             "#7201a8"
            ],
            [
             0.3333333333333333,
             "#9c179e"
            ],
            [
             0.4444444444444444,
             "#bd3786"
            ],
            [
             0.5555555555555556,
             "#d8576b"
            ],
            [
             0.6666666666666666,
             "#ed7953"
            ],
            [
             0.7777777777777778,
             "#fb9f3a"
            ],
            [
             0.8888888888888888,
             "#fdca26"
            ],
            [
             1,
             "#f0f921"
            ]
           ]
          },
          "colorway": [
           "#636efa",
           "#EF553B",
           "#00cc96",
           "#ab63fa",
           "#FFA15A",
           "#19d3f3",
           "#FF6692",
           "#B6E880",
           "#FF97FF",
           "#FECB52"
          ],
          "font": {
           "color": "#2a3f5f"
          },
          "geo": {
           "bgcolor": "white",
           "lakecolor": "white",
           "landcolor": "#E5ECF6",
           "showlakes": true,
           "showland": true,
           "subunitcolor": "white"
          },
          "hoverlabel": {
           "align": "left"
          },
          "hovermode": "closest",
          "mapbox": {
           "style": "light"
          },
          "paper_bgcolor": "white",
          "plot_bgcolor": "#E5ECF6",
          "polar": {
           "angularaxis": {
            "gridcolor": "white",
            "linecolor": "white",
            "ticks": ""
           },
           "bgcolor": "#E5ECF6",
           "radialaxis": {
            "gridcolor": "white",
            "linecolor": "white",
            "ticks": ""
           }
          },
          "scene": {
           "xaxis": {
            "backgroundcolor": "#E5ECF6",
            "gridcolor": "white",
            "gridwidth": 2,
            "linecolor": "white",
            "showbackground": true,
            "ticks": "",
            "zerolinecolor": "white"
           },
           "yaxis": {
            "backgroundcolor": "#E5ECF6",
            "gridcolor": "white",
            "gridwidth": 2,
            "linecolor": "white",
            "showbackground": true,
            "ticks": "",
            "zerolinecolor": "white"
           },
           "zaxis": {
            "backgroundcolor": "#E5ECF6",
            "gridcolor": "white",
            "gridwidth": 2,
            "linecolor": "white",
            "showbackground": true,
            "ticks": "",
            "zerolinecolor": "white"
           }
          },
          "shapedefaults": {
           "line": {
            "color": "#2a3f5f"
           }
          },
          "ternary": {
           "aaxis": {
            "gridcolor": "white",
            "linecolor": "white",
            "ticks": ""
           },
           "baxis": {
            "gridcolor": "white",
            "linecolor": "white",
            "ticks": ""
           },
           "bgcolor": "#E5ECF6",
           "caxis": {
            "gridcolor": "white",
            "linecolor": "white",
            "ticks": ""
           }
          },
          "title": {
           "x": 0.05
          },
          "xaxis": {
           "automargin": true,
           "gridcolor": "white",
           "linecolor": "white",
           "ticks": "",
           "title": {
            "standoff": 15
           },
           "zerolinecolor": "white",
           "zerolinewidth": 2
          },
          "yaxis": {
           "automargin": true,
           "gridcolor": "white",
           "linecolor": "white",
           "ticks": "",
           "title": {
            "standoff": 15
           },
           "zerolinecolor": "white",
           "zerolinewidth": 2
          }
         }
        },
        "title": {
         "font": {
          "color": "#4D5663"
         }
        },
        "xaxis": {
         "gridcolor": "#E1E5ED",
         "showgrid": true,
         "tickfont": {
          "color": "#4D5663"
         },
         "title": {
          "font": {
           "color": "#4D5663"
          },
          "text": ""
         },
         "zerolinecolor": "#E1E5ED"
        },
        "xaxis2": {
         "anchor": "y2",
         "gridcolor": "#E1E5ED",
         "showgrid": true,
         "showticklabels": false,
         "tickfont": {
          "color": "#4D5663"
         },
         "title": {
          "font": {
           "color": "#4D5663"
          },
          "text": ""
         },
         "zerolinecolor": "#E1E5ED"
        },
        "yaxis": {
         "domain": [
          0.3,
          1
         ],
         "gridcolor": "#E1E5ED",
         "showgrid": true,
         "tickfont": {
          "color": "#4D5663"
         },
         "title": {
          "font": {
           "color": "#4D5663"
          },
          "text": ""
         },
         "zerolinecolor": "#E1E5ED"
        },
        "yaxis2": {
         "domain": [
          0,
          0.25
         ],
         "gridcolor": "#E1E5ED",
         "showgrid": true,
         "tickfont": {
          "color": "#4D5663"
         },
         "title": {
          "font": {
           "color": "#4D5663"
          },
          "text": "Spread"
         },
         "zerolinecolor": "#E1E5ED"
        }
       }
      },
      "text/html": [
       "<div>                            <div id=\"a47078c3-6df5-42fe-97d2-890d1a7b9885\" class=\"plotly-graph-div\" style=\"height:525px; width:100%;\"></div>            <script type=\"text/javascript\">                require([\"plotly\"], function(Plotly) {                    window.PLOTLYENV=window.PLOTLYENV || {};\n",
       "                    window.PLOTLYENV.BASE_URL='https://plot.ly';                                    if (document.getElementById(\"a47078c3-6df5-42fe-97d2-890d1a7b9885\")) {                    Plotly.newPlot(                        \"a47078c3-6df5-42fe-97d2-890d1a7b9885\",                        [{\"line\": {\"color\": \"rgba(255, 153, 51, 1.0)\", \"dash\": \"solid\", \"shape\": \"linear\", \"width\": 1.3}, \"mode\": \"lines\", \"name\": \"A\", \"text\": \"\", \"type\": \"scatter\", \"x\": [0, 1, 2, 3, 4, 5, 6, 7, 8, 9, 10, 11, 12, 13, 14, 15, 16, 17, 18, 19, 20, 21, 22, 23, 24, 25, 26, 27, 28, 29, 30, 31, 32, 33, 34, 35, 36, 37, 38, 39, 40, 41, 42, 43, 44, 45, 46, 47, 48, 49, 50, 51, 52, 53, 54, 55, 56, 57, 58, 59, 60, 61, 62, 63, 64, 65, 66, 67, 68, 69, 70, 71, 72, 73, 74, 75, 76, 77, 78, 79, 80, 81, 82, 83, 84, 85, 86, 87, 88, 89, 90, 91, 92, 93, 94, 95, 96, 97, 98, 99], \"y\": [-0.14503484795852725, -3.0165964743780136, 0.24392315292249664, 0.2011504284420982, -1.954377685047049, 0.018622857603898417, 0.8617756539234976, -1.1789175288139595, 0.09453158593071533, -0.8190086004558853, -0.5111915119844852, -0.37019437878534933, 0.49406010167759457, 0.7318957798065484, -0.6245807673201975, 0.3860474439383816, 0.4682472943605631, 0.1627222638546957, -0.8365295450105019, -0.1484272992826551, -0.14699585388358868, -0.8989769017012104, 3.375644491066588, 0.8636351957100722, 0.9764706586185982, 1.8839025583510707, 0.49039805334819536, 1.1798805121748803, -0.08293830705260241, 0.020189132289008475, -1.212888981610273, -0.9540852579325413, 0.03227530808262174, -0.8518559637939185, 0.9654680591995582, -1.0356822197978657, -0.8665007063675878, 1.1028588348458925, -1.0335879734720794, -0.8709376829504009, 1.6229341507509705, -0.0960647329416155, 0.558693955982772, -0.47009300020518974, -0.098392235514167, 1.184576665806727, 0.01243576370376068, -0.10444812302065885, 0.16465566602612397, -0.47601592047505115, -0.3524503064476507, -1.1142072718294294, -0.24775154136288996, 0.6454080597490083, 0.06799428384607312, -2.3458667879361808, 0.0750307959732018, -0.02338014024049768, 0.408278691353931, -1.3197647537174, -0.08369974574571107, 0.028103212057242984, 0.24146463374541377, -0.1314784283188998, -0.35399171541630814, 0.9047121766469459, 0.577691629229222, -0.9041627507100116, 0.6679213458174991, 0.21340226976686694, 0.5187350887843667, 1.0291096353357165, -0.31331510697347104, -0.569615681897244, -0.08158041488700205, 0.4024168949117813, -0.37676734107072724, 0.02441103137705158, 0.4372970535384335, 0.6141820169439471, 1.190905549407557, 0.5607483976603372, -2.33021436137407, 0.5234829274135729, -0.6133704977202653, 0.6259858344588582, -0.03941965499720579, -0.3826539928719661, -1.1626848852541085, -0.13538449249010662, -0.44734498015120816, -0.675527294767186, -0.27764693163851684, 2.0007679905946723, -0.023422696390421664, 1.0516904951894257, -0.6505394429961281, 0.16981956995748015, 0.8454912342091417, -0.3025957383637378]}, {\"line\": {\"color\": \"rgba(55, 128, 191, 1.0)\", \"dash\": \"solid\", \"shape\": \"linear\", \"width\": 1.3}, \"mode\": \"lines\", \"name\": \"B\", \"text\": \"\", \"type\": \"scatter\", \"x\": [0, 1, 2, 3, 4, 5, 6, 7, 8, 9, 10, 11, 12, 13, 14, 15, 16, 17, 18, 19, 20, 21, 22, 23, 24, 25, 26, 27, 28, 29, 30, 31, 32, 33, 34, 35, 36, 37, 38, 39, 40, 41, 42, 43, 44, 45, 46, 47, 48, 49, 50, 51, 52, 53, 54, 55, 56, 57, 58, 59, 60, 61, 62, 63, 64, 65, 66, 67, 68, 69, 70, 71, 72, 73, 74, 75, 76, 77, 78, 79, 80, 81, 82, 83, 84, 85, 86, 87, 88, 89, 90, 91, 92, 93, 94, 95, 96, 97, 98, 99], \"y\": [-0.9532399160561278, -0.5868484365358092, -0.5322015045622156, -0.067966143001875, 0.9486452867643311, -0.6629183797257413, -0.5337786235952177, -1.374005116607833, 0.9538955464602282, 0.9831229684062017, -0.7218794529268818, -1.738462406660161, 0.8390413925664644, 0.4716881828898347, 1.840314344187763, 0.7829064814901634, -0.29559972424111564, -0.4543075695792023, -0.24134848173579576, 1.0620942076543174, 0.8126293598752975, 0.12771413630928588, 0.6479158525379064, -1.3221014076081543, -0.6104132558623014, 1.6009003090453902, 0.9269141114311796, -0.09885623938144297, 0.8712506984556516, -1.8373391727315502, -0.8095199640075892, 0.5647221507466086, -0.33873776587617926, 1.2770174534384262, -0.401058722431807, -0.3991026372035775, 0.6954802542981, 0.4657361921256589, -0.6115763656174145, -0.76790041556677, -0.8760445121497197, 0.9385120394049317, 0.12548592918841428, 0.12853157804446833, -0.9198386416256834, -0.16736007077296486, -0.273108590084941, -1.038593836786086, -1.789678683700114, -0.08672543648003408, 0.1791283495405397, 0.19740149687421615, -1.8532304045831987, 0.09418603272153049, -0.05406171658396121, 1.1613967379069392, 0.2908581391725514, 0.9334829806606881, 0.8759062521948778, 0.01544050596120699, -2.1433853948711863, -0.6550694134265117, 0.9450328060012705, -0.7318511174804488, -0.2760665477991691, 1.832042341227804, 0.7153981071725797, 0.3097267840306819, 0.5458716771237517, -0.27788252174846967, -2.56791567288503, 1.0733981182897139, 0.5539305528644727, -0.8875864930235106, -0.9215489395600035, -0.48052999506367167, 0.734067673662595, 0.7410495064840434, -0.4455153474458417, 0.47171647604105243, 2.2033238446375445, -0.13287462890628282, 1.57108408511727, -0.2832152183269851, 0.6604718888161459, -0.8097018520506656, -0.8998025213320278, 2.2744708006020584, -1.2989964534559673, 1.2567628834902713, 0.9586268624499967, 1.0292763836765124, 0.23642372515301469, -0.6456930750549342, 1.4959836369417008, -0.07036421252807842, -0.7362854978086856, -0.4795472607190941, 1.6003974543998063, -0.3481208183712817]}, {\"connectgaps\": false, \"fill\": \"tozeroy\", \"line\": {\"color\": \"green\", \"dash\": \"solid\", \"shape\": \"linear\", \"width\": 0.5}, \"mode\": \"lines\", \"name\": \"Spread\", \"showlegend\": false, \"type\": \"scatter\", \"x\": [0, 1, 2, 3, 4, 5, 6, 7, 8, 9, 10, 11, 12, 13, 14, 15, 16, 17, 18, 19, 20, 21, 22, 23, 24, 25, 26, 27, 28, 29, 30, 31, 32, 33, 34, 35, 36, 37, 38, 39, 40, 41, 42, 43, 44, 45, 46, 47, 48, 49, 50, 51, 52, 53, 54, 55, 56, 57, 58, 59, 60, 61, 62, 63, 64, 65, 66, 67, 68, 69, 70, 71, 72, 73, 74, 75, 76, 77, 78, 79, 80, 81, 82, 83, 84, 85, 86, 87, 88, 89, 90, 91, 92, 93, 94, 95, 96, 97, 98, 99], \"xaxis\": \"x2\", \"y\": [0.8082050680976005, \"\", 0.7761246574847123, 0.2691165714439732, \"\", 0.6815412373296397, 1.3955542775187153, 0.19508758779387358, \"\", \"\", 0.21068794094239662, 1.3682680278748118, \"\", 0.2602075969167137, \"\", \"\", 0.7638470186016788, 0.6170298334338981, \"\", \"\", \"\", \"\", 2.727728638528682, 2.1857366033182264, 1.5868839144808997, 0.2830022493056805, \"\", 1.2787367515563233, \"\", 1.8575283050205587, \"\", \"\", 0.371013073958801, \"\", 1.3665267816313653, \"\", \"\", 0.6371226427202337, \"\", \"\", 2.49897866290069, \"\", 0.43320802679435777, \"\", 0.8214464061115164, 1.3519367365796917, 0.2855443537887017, 0.9341457137654272, 1.954334349726238, \"\", \"\", \"\", 1.6054788632203087, 0.5512220270274778, 0.12205600043003433, \"\", \"\", \"\", \"\", \"\", 2.059685649125475, 0.6831726254837547, \"\", 0.6003726891615491, \"\", \"\", \"\", \"\", 0.12204966869374734, 0.4912847915153366, 3.0866507616693966, \"\", \"\", 0.3179708111262666, 0.8399685246730014, 0.8829468899754529, \"\", \"\", 0.8828124009842753, 0.1424655409028947, \"\", 0.6936230265666201, \"\", 0.806698145740558, \"\", 1.4356876865095238, 0.860382866334822, \"\", 0.13631156820185875, \"\", \"\", \"\", \"\", 2.6464610656496066, \"\", 1.122054707717504, 0.08574605481255748, 0.6493668306765743, \"\", 0.045525080007543905], \"yaxis\": \"y2\"}, {\"connectgaps\": false, \"fill\": \"tozeroy\", \"line\": {\"color\": \"red\", \"dash\": \"solid\", \"shape\": \"linear\", \"width\": 0.5}, \"mode\": \"lines\", \"name\": \"Spread\", \"showlegend\": false, \"type\": \"scatter\", \"x\": [0, 1, 2, 3, 4, 5, 6, 7, 8, 9, 10, 11, 12, 13, 14, 15, 16, 17, 18, 19, 20, 21, 22, 23, 24, 25, 26, 27, 28, 29, 30, 31, 32, 33, 34, 35, 36, 37, 38, 39, 40, 41, 42, 43, 44, 45, 46, 47, 48, 49, 50, 51, 52, 53, 54, 55, 56, 57, 58, 59, 60, 61, 62, 63, 64, 65, 66, 67, 68, 69, 70, 71, 72, 73, 74, 75, 76, 77, 78, 79, 80, 81, 82, 83, 84, 85, 86, 87, 88, 89, 90, 91, 92, 93, 94, 95, 96, 97, 98, 99], \"xaxis\": \"x2\", \"y\": [\"\", -2.4297480378422045, \"\", \"\", -2.90302297181138, \"\", \"\", \"\", -0.8593639605295129, -1.802131568862087, \"\", \"\", -0.3449812908888698, \"\", -2.4648951115079605, -0.3968590375517818, \"\", \"\", -0.5951810632747061, -1.2105215069369726, -0.9596252137588862, -1.0266910380104963, \"\", \"\", \"\", \"\", -0.43651605808298427, \"\", -0.954189005508254, \"\", -0.40336901760268384, -1.5188074086791499, \"\", -2.1288734172323447, \"\", -0.6365795825942882, -1.5619809606656878, \"\", -0.42201160785466496, -0.10303726738363084, \"\", -1.034576772346547, \"\", -0.5986245782496581, \"\", \"\", \"\", \"\", \"\", -0.3892904839950171, -0.5315786559881903, -1.3116087687036455, \"\", \"\", \"\", -3.50726352584312, -0.2158273431993496, -0.9568631209011859, -0.4676275608409468, -1.335205259678607, \"\", \"\", -0.7035681722558567, \"\", -0.07792516761713902, -0.927330164580858, -0.13770647794335766, -1.2138895347406935, \"\", \"\", \"\", -0.044288482953997343, -0.8672456598379437, \"\", \"\", \"\", -1.1108350147333221, -0.7166384751069919, \"\", \"\", -1.0124182952299874, \"\", -3.90129844649134, \"\", -1.2738423865364112, \"\", \"\", -2.6571247934740247, \"\", -1.392147375980378, -1.405971842601205, -1.7048036784436984, -0.5140706567915315, \"\", -1.5194063333321224, \"\", \"\", \"\", -0.7549062201906646, \"\"], \"yaxis\": \"y2\"}],                        {\"hovermode\": \"x\", \"legend\": {\"bgcolor\": \"#F5F6F9\", \"font\": {\"color\": \"#4D5663\"}}, \"paper_bgcolor\": \"#F5F6F9\", \"plot_bgcolor\": \"#F5F6F9\", \"template\": {\"data\": {\"bar\": [{\"error_x\": {\"color\": \"#2a3f5f\"}, \"error_y\": {\"color\": \"#2a3f5f\"}, \"marker\": {\"line\": {\"color\": \"#E5ECF6\", \"width\": 0.5}}, \"type\": \"bar\"}], \"barpolar\": [{\"marker\": {\"line\": {\"color\": \"#E5ECF6\", \"width\": 0.5}}, \"type\": \"barpolar\"}], \"carpet\": [{\"aaxis\": {\"endlinecolor\": \"#2a3f5f\", \"gridcolor\": \"white\", \"linecolor\": \"white\", \"minorgridcolor\": \"white\", \"startlinecolor\": \"#2a3f5f\"}, \"baxis\": {\"endlinecolor\": \"#2a3f5f\", \"gridcolor\": \"white\", \"linecolor\": \"white\", \"minorgridcolor\": \"white\", \"startlinecolor\": \"#2a3f5f\"}, \"type\": \"carpet\"}], \"choropleth\": [{\"colorbar\": {\"outlinewidth\": 0, \"ticks\": \"\"}, \"type\": \"choropleth\"}], \"contour\": [{\"colorbar\": {\"outlinewidth\": 0, \"ticks\": \"\"}, \"colorscale\": [[0.0, \"#0d0887\"], [0.1111111111111111, \"#46039f\"], [0.2222222222222222, \"#7201a8\"], [0.3333333333333333, \"#9c179e\"], [0.4444444444444444, \"#bd3786\"], [0.5555555555555556, \"#d8576b\"], [0.6666666666666666, \"#ed7953\"], [0.7777777777777778, \"#fb9f3a\"], [0.8888888888888888, \"#fdca26\"], [1.0, \"#f0f921\"]], \"type\": \"contour\"}], \"contourcarpet\": [{\"colorbar\": {\"outlinewidth\": 0, \"ticks\": \"\"}, \"type\": \"contourcarpet\"}], \"heatmap\": [{\"colorbar\": {\"outlinewidth\": 0, \"ticks\": \"\"}, \"colorscale\": [[0.0, \"#0d0887\"], [0.1111111111111111, \"#46039f\"], [0.2222222222222222, \"#7201a8\"], [0.3333333333333333, \"#9c179e\"], [0.4444444444444444, \"#bd3786\"], [0.5555555555555556, \"#d8576b\"], [0.6666666666666666, \"#ed7953\"], [0.7777777777777778, \"#fb9f3a\"], [0.8888888888888888, \"#fdca26\"], [1.0, \"#f0f921\"]], \"type\": \"heatmap\"}], \"heatmapgl\": [{\"colorbar\": {\"outlinewidth\": 0, \"ticks\": \"\"}, \"colorscale\": [[0.0, \"#0d0887\"], [0.1111111111111111, \"#46039f\"], [0.2222222222222222, \"#7201a8\"], [0.3333333333333333, \"#9c179e\"], [0.4444444444444444, \"#bd3786\"], [0.5555555555555556, \"#d8576b\"], [0.6666666666666666, \"#ed7953\"], [0.7777777777777778, \"#fb9f3a\"], [0.8888888888888888, \"#fdca26\"], [1.0, \"#f0f921\"]], \"type\": \"heatmapgl\"}], \"histogram\": [{\"marker\": {\"colorbar\": {\"outlinewidth\": 0, \"ticks\": \"\"}}, \"type\": \"histogram\"}], \"histogram2d\": [{\"colorbar\": {\"outlinewidth\": 0, \"ticks\": \"\"}, \"colorscale\": [[0.0, \"#0d0887\"], [0.1111111111111111, \"#46039f\"], [0.2222222222222222, \"#7201a8\"], [0.3333333333333333, \"#9c179e\"], [0.4444444444444444, \"#bd3786\"], [0.5555555555555556, \"#d8576b\"], [0.6666666666666666, \"#ed7953\"], [0.7777777777777778, \"#fb9f3a\"], [0.8888888888888888, \"#fdca26\"], [1.0, \"#f0f921\"]], \"type\": \"histogram2d\"}], \"histogram2dcontour\": [{\"colorbar\": {\"outlinewidth\": 0, \"ticks\": \"\"}, \"colorscale\": [[0.0, \"#0d0887\"], [0.1111111111111111, \"#46039f\"], [0.2222222222222222, \"#7201a8\"], [0.3333333333333333, \"#9c179e\"], [0.4444444444444444, \"#bd3786\"], [0.5555555555555556, \"#d8576b\"], [0.6666666666666666, \"#ed7953\"], [0.7777777777777778, \"#fb9f3a\"], [0.8888888888888888, \"#fdca26\"], [1.0, \"#f0f921\"]], \"type\": \"histogram2dcontour\"}], \"mesh3d\": [{\"colorbar\": {\"outlinewidth\": 0, \"ticks\": \"\"}, \"type\": \"mesh3d\"}], \"parcoords\": [{\"line\": {\"colorbar\": {\"outlinewidth\": 0, \"ticks\": \"\"}}, \"type\": \"parcoords\"}], \"pie\": [{\"automargin\": true, \"type\": \"pie\"}], \"scatter\": [{\"marker\": {\"colorbar\": {\"outlinewidth\": 0, \"ticks\": \"\"}}, \"type\": \"scatter\"}], \"scatter3d\": [{\"line\": {\"colorbar\": {\"outlinewidth\": 0, \"ticks\": \"\"}}, \"marker\": {\"colorbar\": {\"outlinewidth\": 0, \"ticks\": \"\"}}, \"type\": \"scatter3d\"}], \"scattercarpet\": [{\"marker\": {\"colorbar\": {\"outlinewidth\": 0, \"ticks\": \"\"}}, \"type\": \"scattercarpet\"}], \"scattergeo\": [{\"marker\": {\"colorbar\": {\"outlinewidth\": 0, \"ticks\": \"\"}}, \"type\": \"scattergeo\"}], \"scattergl\": [{\"marker\": {\"colorbar\": {\"outlinewidth\": 0, \"ticks\": \"\"}}, \"type\": \"scattergl\"}], \"scattermapbox\": [{\"marker\": {\"colorbar\": {\"outlinewidth\": 0, \"ticks\": \"\"}}, \"type\": \"scattermapbox\"}], \"scatterpolar\": [{\"marker\": {\"colorbar\": {\"outlinewidth\": 0, \"ticks\": \"\"}}, \"type\": \"scatterpolar\"}], \"scatterpolargl\": [{\"marker\": {\"colorbar\": {\"outlinewidth\": 0, \"ticks\": \"\"}}, \"type\": \"scatterpolargl\"}], \"scatterternary\": [{\"marker\": {\"colorbar\": {\"outlinewidth\": 0, \"ticks\": \"\"}}, \"type\": \"scatterternary\"}], \"surface\": [{\"colorbar\": {\"outlinewidth\": 0, \"ticks\": \"\"}, \"colorscale\": [[0.0, \"#0d0887\"], [0.1111111111111111, \"#46039f\"], [0.2222222222222222, \"#7201a8\"], [0.3333333333333333, \"#9c179e\"], [0.4444444444444444, \"#bd3786\"], [0.5555555555555556, \"#d8576b\"], [0.6666666666666666, \"#ed7953\"], [0.7777777777777778, \"#fb9f3a\"], [0.8888888888888888, \"#fdca26\"], [1.0, \"#f0f921\"]], \"type\": \"surface\"}], \"table\": [{\"cells\": {\"fill\": {\"color\": \"#EBF0F8\"}, \"line\": {\"color\": \"white\"}}, \"header\": {\"fill\": {\"color\": \"#C8D4E3\"}, \"line\": {\"color\": \"white\"}}, \"type\": \"table\"}]}, \"layout\": {\"annotationdefaults\": {\"arrowcolor\": \"#2a3f5f\", \"arrowhead\": 0, \"arrowwidth\": 1}, \"autotypenumbers\": \"strict\", \"coloraxis\": {\"colorbar\": {\"outlinewidth\": 0, \"ticks\": \"\"}}, \"colorscale\": {\"diverging\": [[0, \"#8e0152\"], [0.1, \"#c51b7d\"], [0.2, \"#de77ae\"], [0.3, \"#f1b6da\"], [0.4, \"#fde0ef\"], [0.5, \"#f7f7f7\"], [0.6, \"#e6f5d0\"], [0.7, \"#b8e186\"], [0.8, \"#7fbc41\"], [0.9, \"#4d9221\"], [1, \"#276419\"]], \"sequential\": [[0.0, \"#0d0887\"], [0.1111111111111111, \"#46039f\"], [0.2222222222222222, \"#7201a8\"], [0.3333333333333333, \"#9c179e\"], [0.4444444444444444, \"#bd3786\"], [0.5555555555555556, \"#d8576b\"], [0.6666666666666666, \"#ed7953\"], [0.7777777777777778, \"#fb9f3a\"], [0.8888888888888888, \"#fdca26\"], [1.0, \"#f0f921\"]], \"sequentialminus\": [[0.0, \"#0d0887\"], [0.1111111111111111, \"#46039f\"], [0.2222222222222222, \"#7201a8\"], [0.3333333333333333, \"#9c179e\"], [0.4444444444444444, \"#bd3786\"], [0.5555555555555556, \"#d8576b\"], [0.6666666666666666, \"#ed7953\"], [0.7777777777777778, \"#fb9f3a\"], [0.8888888888888888, \"#fdca26\"], [1.0, \"#f0f921\"]]}, \"colorway\": [\"#636efa\", \"#EF553B\", \"#00cc96\", \"#ab63fa\", \"#FFA15A\", \"#19d3f3\", \"#FF6692\", \"#B6E880\", \"#FF97FF\", \"#FECB52\"], \"font\": {\"color\": \"#2a3f5f\"}, \"geo\": {\"bgcolor\": \"white\", \"lakecolor\": \"white\", \"landcolor\": \"#E5ECF6\", \"showlakes\": true, \"showland\": true, \"subunitcolor\": \"white\"}, \"hoverlabel\": {\"align\": \"left\"}, \"hovermode\": \"closest\", \"mapbox\": {\"style\": \"light\"}, \"paper_bgcolor\": \"white\", \"plot_bgcolor\": \"#E5ECF6\", \"polar\": {\"angularaxis\": {\"gridcolor\": \"white\", \"linecolor\": \"white\", \"ticks\": \"\"}, \"bgcolor\": \"#E5ECF6\", \"radialaxis\": {\"gridcolor\": \"white\", \"linecolor\": \"white\", \"ticks\": \"\"}}, \"scene\": {\"xaxis\": {\"backgroundcolor\": \"#E5ECF6\", \"gridcolor\": \"white\", \"gridwidth\": 2, \"linecolor\": \"white\", \"showbackground\": true, \"ticks\": \"\", \"zerolinecolor\": \"white\"}, \"yaxis\": {\"backgroundcolor\": \"#E5ECF6\", \"gridcolor\": \"white\", \"gridwidth\": 2, \"linecolor\": \"white\", \"showbackground\": true, \"ticks\": \"\", \"zerolinecolor\": \"white\"}, \"zaxis\": {\"backgroundcolor\": \"#E5ECF6\", \"gridcolor\": \"white\", \"gridwidth\": 2, \"linecolor\": \"white\", \"showbackground\": true, \"ticks\": \"\", \"zerolinecolor\": \"white\"}}, \"shapedefaults\": {\"line\": {\"color\": \"#2a3f5f\"}}, \"ternary\": {\"aaxis\": {\"gridcolor\": \"white\", \"linecolor\": \"white\", \"ticks\": \"\"}, \"baxis\": {\"gridcolor\": \"white\", \"linecolor\": \"white\", \"ticks\": \"\"}, \"bgcolor\": \"#E5ECF6\", \"caxis\": {\"gridcolor\": \"white\", \"linecolor\": \"white\", \"ticks\": \"\"}}, \"title\": {\"x\": 0.05}, \"xaxis\": {\"automargin\": true, \"gridcolor\": \"white\", \"linecolor\": \"white\", \"ticks\": \"\", \"title\": {\"standoff\": 15}, \"zerolinecolor\": \"white\", \"zerolinewidth\": 2}, \"yaxis\": {\"automargin\": true, \"gridcolor\": \"white\", \"linecolor\": \"white\", \"ticks\": \"\", \"title\": {\"standoff\": 15}, \"zerolinecolor\": \"white\", \"zerolinewidth\": 2}}}, \"title\": {\"font\": {\"color\": \"#4D5663\"}}, \"xaxis\": {\"gridcolor\": \"#E1E5ED\", \"showgrid\": true, \"tickfont\": {\"color\": \"#4D5663\"}, \"title\": {\"font\": {\"color\": \"#4D5663\"}, \"text\": \"\"}, \"zerolinecolor\": \"#E1E5ED\"}, \"xaxis2\": {\"anchor\": \"y2\", \"gridcolor\": \"#E1E5ED\", \"showgrid\": true, \"showticklabels\": false, \"tickfont\": {\"color\": \"#4D5663\"}, \"title\": {\"font\": {\"color\": \"#4D5663\"}, \"text\": \"\"}, \"zerolinecolor\": \"#E1E5ED\"}, \"yaxis\": {\"domain\": [0.3, 1], \"gridcolor\": \"#E1E5ED\", \"showgrid\": true, \"tickfont\": {\"color\": \"#4D5663\"}, \"title\": {\"font\": {\"color\": \"#4D5663\"}, \"text\": \"\"}, \"zerolinecolor\": \"#E1E5ED\"}, \"yaxis2\": {\"domain\": [0, 0.25], \"gridcolor\": \"#E1E5ED\", \"showgrid\": true, \"tickfont\": {\"color\": \"#4D5663\"}, \"title\": {\"font\": {\"color\": \"#4D5663\"}, \"text\": \"Spread\"}, \"zerolinecolor\": \"#E1E5ED\"}},                        {\"showLink\": true, \"linkText\": \"Export to plot.ly\", \"plotlyServerURL\": \"https://plot.ly\", \"responsive\": true}                    ).then(function(){\n",
       "                            \n",
       "var gd = document.getElementById('a47078c3-6df5-42fe-97d2-890d1a7b9885');\n",
       "var x = new MutationObserver(function (mutations, observer) {{\n",
       "        var display = window.getComputedStyle(gd).display;\n",
       "        if (!display || display === 'none') {{\n",
       "            console.log([gd, 'removed!']);\n",
       "            Plotly.purge(gd);\n",
       "            observer.disconnect();\n",
       "        }}\n",
       "}});\n",
       "\n",
       "// Listen for the removal of the full notebook cells\n",
       "var notebookContainer = gd.closest('#notebook-container');\n",
       "if (notebookContainer) {{\n",
       "    x.observe(notebookContainer, {childList: true});\n",
       "}}\n",
       "\n",
       "// Listen for the clearing of the current output cell\n",
       "var outputEl = gd.closest('.output');\n",
       "if (outputEl) {{\n",
       "    x.observe(outputEl, {childList: true});\n",
       "}}\n",
       "\n",
       "                        })                };                });            </script>        </div>"
      ]
     },
     "metadata": {},
     "output_type": "display_data"
    }
   ],
   "source": [
    "df[['A', 'B']].iplot(kind='spread')"
   ]
  },
  {
   "cell_type": "code",
   "execution_count": 48,
   "metadata": {},
   "outputs": [
    {
     "data": {
      "application/vnd.plotly.v1+json": {
       "config": {
        "linkText": "Export to plot.ly",
        "plotlyServerURL": "https://plot.ly",
        "showLink": true
       },
       "data": [
        {
         "marker": {
          "color": [
           "pink",
           "pink",
           "pink",
           "pink",
           "pink",
           "pink",
           "pink",
           "pink",
           "pink",
           "pink",
           "pink",
           "pink",
           "pink",
           "pink",
           "pink",
           "pink",
           "pink",
           "pink",
           "pink",
           "pink",
           "pink",
           "pink",
           "pink",
           "pink",
           "pink",
           "pink",
           "pink",
           "pink",
           "pink",
           "pink",
           "pink",
           "pink",
           "pink",
           "pink",
           "pink",
           "pink",
           "pink",
           "pink",
           "pink",
           "pink",
           "pink",
           "pink",
           "pink",
           "pink",
           "pink",
           "pink",
           "pink",
           "pink",
           "pink",
           "pink",
           "pink",
           "pink",
           "pink",
           "pink",
           "pink",
           "pink",
           "pink",
           "pink",
           "pink",
           "pink",
           "pink",
           "pink",
           "pink",
           "pink",
           "pink",
           "pink",
           "pink",
           "pink",
           "pink",
           "pink",
           "pink",
           "pink",
           "pink",
           "pink",
           "pink",
           "pink",
           "pink",
           "pink",
           "pink",
           "pink",
           "pink",
           "pink",
           "pink",
           "pink",
           "pink",
           "pink",
           "pink",
           "pink",
           "pink",
           "pink",
           "pink",
           "pink",
           "pink",
           "pink",
           "pink",
           "pink",
           "pink",
           "pink",
           "pink",
           "pink"
          ],
          "line": {
           "width": 1.3
          },
          "size": [
           79,
           50,
           42,
           59,
           29,
           75,
           12,
           68,
           60,
           64,
           30,
           59,
           48,
           48,
           92,
           64,
           48,
           64,
           48,
           46,
           57,
           24,
           61,
           46,
           56,
           59,
           42,
           51,
           73,
           60,
           75,
           51,
           69,
           74,
           89,
           87,
           64,
           43,
           42,
           64,
           55,
           52,
           61,
           44,
           41,
           86,
           51,
           62,
           69,
           46,
           45,
           58,
           51,
           38,
           30,
           28,
           19,
           34,
           60,
           42,
           40,
           64,
           62,
           46,
           48,
           51,
           66,
           32,
           60,
           64,
           49,
           75,
           63,
           66,
           37,
           40,
           33,
           30,
           24,
           69,
           69,
           65,
           53,
           45,
           62,
           35,
           53,
           84,
           53,
           40,
           57,
           45,
           51,
           45,
           28,
           82,
           44,
           76,
           74,
           112
          ],
          "symbol": "circle"
         },
         "mode": "markers",
         "text": "",
         "type": "scatter",
         "x": [
          -0.14503484795852725,
          -3.0165964743780136,
          0.24392315292249664,
          0.2011504284420982,
          -1.954377685047049,
          0.018622857603898417,
          0.8617756539234976,
          -1.1789175288139595,
          0.09453158593071533,
          -0.8190086004558853,
          -0.5111915119844852,
          -0.37019437878534933,
          0.49406010167759457,
          0.7318957798065484,
          -0.6245807673201975,
          0.3860474439383816,
          0.4682472943605631,
          0.1627222638546957,
          -0.8365295450105019,
          -0.1484272992826551,
          -0.14699585388358868,
          -0.8989769017012104,
          3.375644491066588,
          0.8636351957100722,
          0.9764706586185982,
          1.8839025583510707,
          0.49039805334819536,
          1.1798805121748803,
          -0.08293830705260241,
          0.020189132289008475,
          -1.212888981610273,
          -0.9540852579325413,
          0.03227530808262174,
          -0.8518559637939185,
          0.9654680591995582,
          -1.0356822197978657,
          -0.8665007063675878,
          1.1028588348458925,
          -1.0335879734720794,
          -0.8709376829504009,
          1.6229341507509705,
          -0.0960647329416155,
          0.558693955982772,
          -0.47009300020518974,
          -0.098392235514167,
          1.184576665806727,
          0.01243576370376068,
          -0.10444812302065885,
          0.16465566602612397,
          -0.47601592047505115,
          -0.3524503064476507,
          -1.1142072718294294,
          -0.24775154136288996,
          0.6454080597490083,
          0.06799428384607312,
          -2.3458667879361808,
          0.0750307959732018,
          -0.02338014024049768,
          0.408278691353931,
          -1.3197647537174,
          -0.08369974574571107,
          0.028103212057242984,
          0.24146463374541377,
          -0.1314784283188998,
          -0.35399171541630814,
          0.9047121766469459,
          0.577691629229222,
          -0.9041627507100116,
          0.6679213458174991,
          0.21340226976686694,
          0.5187350887843667,
          1.0291096353357165,
          -0.31331510697347104,
          -0.569615681897244,
          -0.08158041488700205,
          0.4024168949117813,
          -0.37676734107072724,
          0.02441103137705158,
          0.4372970535384335,
          0.6141820169439471,
          1.190905549407557,
          0.5607483976603372,
          -2.33021436137407,
          0.5234829274135729,
          -0.6133704977202653,
          0.6259858344588582,
          -0.03941965499720579,
          -0.3826539928719661,
          -1.1626848852541085,
          -0.13538449249010662,
          -0.44734498015120816,
          -0.675527294767186,
          -0.27764693163851684,
          2.0007679905946723,
          -0.023422696390421664,
          1.0516904951894257,
          -0.6505394429961281,
          0.16981956995748015,
          0.8454912342091417,
          -0.3025957383637378
         ],
         "y": [
          -0.9532399160561278,
          -0.5868484365358092,
          -0.5322015045622156,
          -0.067966143001875,
          0.9486452867643311,
          -0.6629183797257413,
          -0.5337786235952177,
          -1.374005116607833,
          0.9538955464602282,
          0.9831229684062017,
          -0.7218794529268818,
          -1.738462406660161,
          0.8390413925664644,
          0.4716881828898347,
          1.840314344187763,
          0.7829064814901634,
          -0.29559972424111564,
          -0.4543075695792023,
          -0.24134848173579576,
          1.0620942076543174,
          0.8126293598752975,
          0.12771413630928588,
          0.6479158525379064,
          -1.3221014076081543,
          -0.6104132558623014,
          1.6009003090453902,
          0.9269141114311796,
          -0.09885623938144297,
          0.8712506984556516,
          -1.8373391727315502,
          -0.8095199640075892,
          0.5647221507466086,
          -0.33873776587617926,
          1.2770174534384262,
          -0.401058722431807,
          -0.3991026372035775,
          0.6954802542981,
          0.4657361921256589,
          -0.6115763656174145,
          -0.76790041556677,
          -0.8760445121497197,
          0.9385120394049317,
          0.12548592918841428,
          0.12853157804446833,
          -0.9198386416256834,
          -0.16736007077296486,
          -0.273108590084941,
          -1.038593836786086,
          -1.789678683700114,
          -0.08672543648003408,
          0.1791283495405397,
          0.19740149687421615,
          -1.8532304045831987,
          0.09418603272153049,
          -0.05406171658396121,
          1.1613967379069392,
          0.2908581391725514,
          0.9334829806606881,
          0.8759062521948778,
          0.01544050596120699,
          -2.1433853948711863,
          -0.6550694134265117,
          0.9450328060012705,
          -0.7318511174804488,
          -0.2760665477991691,
          1.832042341227804,
          0.7153981071725797,
          0.3097267840306819,
          0.5458716771237517,
          -0.27788252174846967,
          -2.56791567288503,
          1.0733981182897139,
          0.5539305528644727,
          -0.8875864930235106,
          -0.9215489395600035,
          -0.48052999506367167,
          0.734067673662595,
          0.7410495064840434,
          -0.4455153474458417,
          0.47171647604105243,
          2.2033238446375445,
          -0.13287462890628282,
          1.57108408511727,
          -0.2832152183269851,
          0.6604718888161459,
          -0.8097018520506656,
          -0.8998025213320278,
          2.2744708006020584,
          -1.2989964534559673,
          1.2567628834902713,
          0.9586268624499967,
          1.0292763836765124,
          0.23642372515301469,
          -0.6456930750549342,
          1.4959836369417008,
          -0.07036421252807842,
          -0.7362854978086856,
          -0.4795472607190941,
          1.6003974543998063,
          -0.3481208183712817
         ]
        }
       ],
       "layout": {
        "legend": {
         "bgcolor": "#F5F6F9",
         "font": {
          "color": "#4D5663"
         }
        },
        "paper_bgcolor": "#F5F6F9",
        "plot_bgcolor": "#F5F6F9",
        "template": {
         "data": {
          "bar": [
           {
            "error_x": {
             "color": "#2a3f5f"
            },
            "error_y": {
             "color": "#2a3f5f"
            },
            "marker": {
             "line": {
              "color": "#E5ECF6",
              "width": 0.5
             }
            },
            "type": "bar"
           }
          ],
          "barpolar": [
           {
            "marker": {
             "line": {
              "color": "#E5ECF6",
              "width": 0.5
             }
            },
            "type": "barpolar"
           }
          ],
          "carpet": [
           {
            "aaxis": {
             "endlinecolor": "#2a3f5f",
             "gridcolor": "white",
             "linecolor": "white",
             "minorgridcolor": "white",
             "startlinecolor": "#2a3f5f"
            },
            "baxis": {
             "endlinecolor": "#2a3f5f",
             "gridcolor": "white",
             "linecolor": "white",
             "minorgridcolor": "white",
             "startlinecolor": "#2a3f5f"
            },
            "type": "carpet"
           }
          ],
          "choropleth": [
           {
            "colorbar": {
             "outlinewidth": 0,
             "ticks": ""
            },
            "type": "choropleth"
           }
          ],
          "contour": [
           {
            "colorbar": {
             "outlinewidth": 0,
             "ticks": ""
            },
            "colorscale": [
             [
              0,
              "#0d0887"
             ],
             [
              0.1111111111111111,
              "#46039f"
             ],
             [
              0.2222222222222222,
              "#7201a8"
             ],
             [
              0.3333333333333333,
              "#9c179e"
             ],
             [
              0.4444444444444444,
              "#bd3786"
             ],
             [
              0.5555555555555556,
              "#d8576b"
             ],
             [
              0.6666666666666666,
              "#ed7953"
             ],
             [
              0.7777777777777778,
              "#fb9f3a"
             ],
             [
              0.8888888888888888,
              "#fdca26"
             ],
             [
              1,
              "#f0f921"
             ]
            ],
            "type": "contour"
           }
          ],
          "contourcarpet": [
           {
            "colorbar": {
             "outlinewidth": 0,
             "ticks": ""
            },
            "type": "contourcarpet"
           }
          ],
          "heatmap": [
           {
            "colorbar": {
             "outlinewidth": 0,
             "ticks": ""
            },
            "colorscale": [
             [
              0,
              "#0d0887"
             ],
             [
              0.1111111111111111,
              "#46039f"
             ],
             [
              0.2222222222222222,
              "#7201a8"
             ],
             [
              0.3333333333333333,
              "#9c179e"
             ],
             [
              0.4444444444444444,
              "#bd3786"
             ],
             [
              0.5555555555555556,
              "#d8576b"
             ],
             [
              0.6666666666666666,
              "#ed7953"
             ],
             [
              0.7777777777777778,
              "#fb9f3a"
             ],
             [
              0.8888888888888888,
              "#fdca26"
             ],
             [
              1,
              "#f0f921"
             ]
            ],
            "type": "heatmap"
           }
          ],
          "heatmapgl": [
           {
            "colorbar": {
             "outlinewidth": 0,
             "ticks": ""
            },
            "colorscale": [
             [
              0,
              "#0d0887"
             ],
             [
              0.1111111111111111,
              "#46039f"
             ],
             [
              0.2222222222222222,
              "#7201a8"
             ],
             [
              0.3333333333333333,
              "#9c179e"
             ],
             [
              0.4444444444444444,
              "#bd3786"
             ],
             [
              0.5555555555555556,
              "#d8576b"
             ],
             [
              0.6666666666666666,
              "#ed7953"
             ],
             [
              0.7777777777777778,
              "#fb9f3a"
             ],
             [
              0.8888888888888888,
              "#fdca26"
             ],
             [
              1,
              "#f0f921"
             ]
            ],
            "type": "heatmapgl"
           }
          ],
          "histogram": [
           {
            "marker": {
             "colorbar": {
              "outlinewidth": 0,
              "ticks": ""
             }
            },
            "type": "histogram"
           }
          ],
          "histogram2d": [
           {
            "colorbar": {
             "outlinewidth": 0,
             "ticks": ""
            },
            "colorscale": [
             [
              0,
              "#0d0887"
             ],
             [
              0.1111111111111111,
              "#46039f"
             ],
             [
              0.2222222222222222,
              "#7201a8"
             ],
             [
              0.3333333333333333,
              "#9c179e"
             ],
             [
              0.4444444444444444,
              "#bd3786"
             ],
             [
              0.5555555555555556,
              "#d8576b"
             ],
             [
              0.6666666666666666,
              "#ed7953"
             ],
             [
              0.7777777777777778,
              "#fb9f3a"
             ],
             [
              0.8888888888888888,
              "#fdca26"
             ],
             [
              1,
              "#f0f921"
             ]
            ],
            "type": "histogram2d"
           }
          ],
          "histogram2dcontour": [
           {
            "colorbar": {
             "outlinewidth": 0,
             "ticks": ""
            },
            "colorscale": [
             [
              0,
              "#0d0887"
             ],
             [
              0.1111111111111111,
              "#46039f"
             ],
             [
              0.2222222222222222,
              "#7201a8"
             ],
             [
              0.3333333333333333,
              "#9c179e"
             ],
             [
              0.4444444444444444,
              "#bd3786"
             ],
             [
              0.5555555555555556,
              "#d8576b"
             ],
             [
              0.6666666666666666,
              "#ed7953"
             ],
             [
              0.7777777777777778,
              "#fb9f3a"
             ],
             [
              0.8888888888888888,
              "#fdca26"
             ],
             [
              1,
              "#f0f921"
             ]
            ],
            "type": "histogram2dcontour"
           }
          ],
          "mesh3d": [
           {
            "colorbar": {
             "outlinewidth": 0,
             "ticks": ""
            },
            "type": "mesh3d"
           }
          ],
          "parcoords": [
           {
            "line": {
             "colorbar": {
              "outlinewidth": 0,
              "ticks": ""
             }
            },
            "type": "parcoords"
           }
          ],
          "pie": [
           {
            "automargin": true,
            "type": "pie"
           }
          ],
          "scatter": [
           {
            "marker": {
             "colorbar": {
              "outlinewidth": 0,
              "ticks": ""
             }
            },
            "type": "scatter"
           }
          ],
          "scatter3d": [
           {
            "line": {
             "colorbar": {
              "outlinewidth": 0,
              "ticks": ""
             }
            },
            "marker": {
             "colorbar": {
              "outlinewidth": 0,
              "ticks": ""
             }
            },
            "type": "scatter3d"
           }
          ],
          "scattercarpet": [
           {
            "marker": {
             "colorbar": {
              "outlinewidth": 0,
              "ticks": ""
             }
            },
            "type": "scattercarpet"
           }
          ],
          "scattergeo": [
           {
            "marker": {
             "colorbar": {
              "outlinewidth": 0,
              "ticks": ""
             }
            },
            "type": "scattergeo"
           }
          ],
          "scattergl": [
           {
            "marker": {
             "colorbar": {
              "outlinewidth": 0,
              "ticks": ""
             }
            },
            "type": "scattergl"
           }
          ],
          "scattermapbox": [
           {
            "marker": {
             "colorbar": {
              "outlinewidth": 0,
              "ticks": ""
             }
            },
            "type": "scattermapbox"
           }
          ],
          "scatterpolar": [
           {
            "marker": {
             "colorbar": {
              "outlinewidth": 0,
              "ticks": ""
             }
            },
            "type": "scatterpolar"
           }
          ],
          "scatterpolargl": [
           {
            "marker": {
             "colorbar": {
              "outlinewidth": 0,
              "ticks": ""
             }
            },
            "type": "scatterpolargl"
           }
          ],
          "scatterternary": [
           {
            "marker": {
             "colorbar": {
              "outlinewidth": 0,
              "ticks": ""
             }
            },
            "type": "scatterternary"
           }
          ],
          "surface": [
           {
            "colorbar": {
             "outlinewidth": 0,
             "ticks": ""
            },
            "colorscale": [
             [
              0,
              "#0d0887"
             ],
             [
              0.1111111111111111,
              "#46039f"
             ],
             [
              0.2222222222222222,
              "#7201a8"
             ],
             [
              0.3333333333333333,
              "#9c179e"
             ],
             [
              0.4444444444444444,
              "#bd3786"
             ],
             [
              0.5555555555555556,
              "#d8576b"
             ],
             [
              0.6666666666666666,
              "#ed7953"
             ],
             [
              0.7777777777777778,
              "#fb9f3a"
             ],
             [
              0.8888888888888888,
              "#fdca26"
             ],
             [
              1,
              "#f0f921"
             ]
            ],
            "type": "surface"
           }
          ],
          "table": [
           {
            "cells": {
             "fill": {
              "color": "#EBF0F8"
             },
             "line": {
              "color": "white"
             }
            },
            "header": {
             "fill": {
              "color": "#C8D4E3"
             },
             "line": {
              "color": "white"
             }
            },
            "type": "table"
           }
          ]
         },
         "layout": {
          "annotationdefaults": {
           "arrowcolor": "#2a3f5f",
           "arrowhead": 0,
           "arrowwidth": 1
          },
          "autotypenumbers": "strict",
          "coloraxis": {
           "colorbar": {
            "outlinewidth": 0,
            "ticks": ""
           }
          },
          "colorscale": {
           "diverging": [
            [
             0,
             "#8e0152"
            ],
            [
             0.1,
             "#c51b7d"
            ],
            [
             0.2,
             "#de77ae"
            ],
            [
             0.3,
             "#f1b6da"
            ],
            [
             0.4,
             "#fde0ef"
            ],
            [
             0.5,
             "#f7f7f7"
            ],
            [
             0.6,
             "#e6f5d0"
            ],
            [
             0.7,
             "#b8e186"
            ],
            [
             0.8,
             "#7fbc41"
            ],
            [
             0.9,
             "#4d9221"
            ],
            [
             1,
             "#276419"
            ]
           ],
           "sequential": [
            [
             0,
             "#0d0887"
            ],
            [
             0.1111111111111111,
             "#46039f"
            ],
            [
             0.2222222222222222,
             "#7201a8"
            ],
            [
             0.3333333333333333,
             "#9c179e"
            ],
            [
             0.4444444444444444,
             "#bd3786"
            ],
            [
             0.5555555555555556,
             "#d8576b"
            ],
            [
             0.6666666666666666,
             "#ed7953"
            ],
            [
             0.7777777777777778,
             "#fb9f3a"
            ],
            [
             0.8888888888888888,
             "#fdca26"
            ],
            [
             1,
             "#f0f921"
            ]
           ],
           "sequentialminus": [
            [
             0,
             "#0d0887"
            ],
            [
             0.1111111111111111,
             "#46039f"
            ],
            [
             0.2222222222222222,
             "#7201a8"
            ],
            [
             0.3333333333333333,
             "#9c179e"
            ],
            [
             0.4444444444444444,
             "#bd3786"
            ],
            [
             0.5555555555555556,
             "#d8576b"
            ],
            [
             0.6666666666666666,
             "#ed7953"
            ],
            [
             0.7777777777777778,
             "#fb9f3a"
            ],
            [
             0.8888888888888888,
             "#fdca26"
            ],
            [
             1,
             "#f0f921"
            ]
           ]
          },
          "colorway": [
           "#636efa",
           "#EF553B",
           "#00cc96",
           "#ab63fa",
           "#FFA15A",
           "#19d3f3",
           "#FF6692",
           "#B6E880",
           "#FF97FF",
           "#FECB52"
          ],
          "font": {
           "color": "#2a3f5f"
          },
          "geo": {
           "bgcolor": "white",
           "lakecolor": "white",
           "landcolor": "#E5ECF6",
           "showlakes": true,
           "showland": true,
           "subunitcolor": "white"
          },
          "hoverlabel": {
           "align": "left"
          },
          "hovermode": "closest",
          "mapbox": {
           "style": "light"
          },
          "paper_bgcolor": "white",
          "plot_bgcolor": "#E5ECF6",
          "polar": {
           "angularaxis": {
            "gridcolor": "white",
            "linecolor": "white",
            "ticks": ""
           },
           "bgcolor": "#E5ECF6",
           "radialaxis": {
            "gridcolor": "white",
            "linecolor": "white",
            "ticks": ""
           }
          },
          "scene": {
           "xaxis": {
            "backgroundcolor": "#E5ECF6",
            "gridcolor": "white",
            "gridwidth": 2,
            "linecolor": "white",
            "showbackground": true,
            "ticks": "",
            "zerolinecolor": "white"
           },
           "yaxis": {
            "backgroundcolor": "#E5ECF6",
            "gridcolor": "white",
            "gridwidth": 2,
            "linecolor": "white",
            "showbackground": true,
            "ticks": "",
            "zerolinecolor": "white"
           },
           "zaxis": {
            "backgroundcolor": "#E5ECF6",
            "gridcolor": "white",
            "gridwidth": 2,
            "linecolor": "white",
            "showbackground": true,
            "ticks": "",
            "zerolinecolor": "white"
           }
          },
          "shapedefaults": {
           "line": {
            "color": "#2a3f5f"
           }
          },
          "ternary": {
           "aaxis": {
            "gridcolor": "white",
            "linecolor": "white",
            "ticks": ""
           },
           "baxis": {
            "gridcolor": "white",
            "linecolor": "white",
            "ticks": ""
           },
           "bgcolor": "#E5ECF6",
           "caxis": {
            "gridcolor": "white",
            "linecolor": "white",
            "ticks": ""
           }
          },
          "title": {
           "x": 0.05
          },
          "xaxis": {
           "automargin": true,
           "gridcolor": "white",
           "linecolor": "white",
           "ticks": "",
           "title": {
            "standoff": 15
           },
           "zerolinecolor": "white",
           "zerolinewidth": 2
          },
          "yaxis": {
           "automargin": true,
           "gridcolor": "white",
           "linecolor": "white",
           "ticks": "",
           "title": {
            "standoff": 15
           },
           "zerolinecolor": "white",
           "zerolinewidth": 2
          }
         }
        },
        "title": {
         "font": {
          "color": "#4D5663"
         }
        },
        "xaxis": {
         "gridcolor": "#E1E5ED",
         "showgrid": true,
         "tickfont": {
          "color": "#4D5663"
         },
         "title": {
          "font": {
           "color": "#4D5663"
          },
          "text": ""
         },
         "zerolinecolor": "#E1E5ED"
        },
        "yaxis": {
         "gridcolor": "#E1E5ED",
         "showgrid": true,
         "tickfont": {
          "color": "#4D5663"
         },
         "title": {
          "font": {
           "color": "#4D5663"
          },
          "text": ""
         },
         "zerolinecolor": "#E1E5ED"
        }
       }
      },
      "text/html": [
       "<div>                            <div id=\"cc4ed4a1-94b8-4845-821d-f5947769d8f4\" class=\"plotly-graph-div\" style=\"height:525px; width:100%;\"></div>            <script type=\"text/javascript\">                require([\"plotly\"], function(Plotly) {                    window.PLOTLYENV=window.PLOTLYENV || {};\n",
       "                    window.PLOTLYENV.BASE_URL='https://plot.ly';                                    if (document.getElementById(\"cc4ed4a1-94b8-4845-821d-f5947769d8f4\")) {                    Plotly.newPlot(                        \"cc4ed4a1-94b8-4845-821d-f5947769d8f4\",                        [{\"marker\": {\"color\": [\"pink\", \"pink\", \"pink\", \"pink\", \"pink\", \"pink\", \"pink\", \"pink\", \"pink\", \"pink\", \"pink\", \"pink\", \"pink\", \"pink\", \"pink\", \"pink\", \"pink\", \"pink\", \"pink\", \"pink\", \"pink\", \"pink\", \"pink\", \"pink\", \"pink\", \"pink\", \"pink\", \"pink\", \"pink\", \"pink\", \"pink\", \"pink\", \"pink\", \"pink\", \"pink\", \"pink\", \"pink\", \"pink\", \"pink\", \"pink\", \"pink\", \"pink\", \"pink\", \"pink\", \"pink\", \"pink\", \"pink\", \"pink\", \"pink\", \"pink\", \"pink\", \"pink\", \"pink\", \"pink\", \"pink\", \"pink\", \"pink\", \"pink\", \"pink\", \"pink\", \"pink\", \"pink\", \"pink\", \"pink\", \"pink\", \"pink\", \"pink\", \"pink\", \"pink\", \"pink\", \"pink\", \"pink\", \"pink\", \"pink\", \"pink\", \"pink\", \"pink\", \"pink\", \"pink\", \"pink\", \"pink\", \"pink\", \"pink\", \"pink\", \"pink\", \"pink\", \"pink\", \"pink\", \"pink\", \"pink\", \"pink\", \"pink\", \"pink\", \"pink\", \"pink\", \"pink\", \"pink\", \"pink\", \"pink\", \"pink\"], \"line\": {\"width\": 1.3}, \"size\": [79, 50, 42, 59, 29, 75, 12, 68, 60, 64, 30, 59, 48, 48, 92, 64, 48, 64, 48, 46, 57, 24, 61, 46, 56, 59, 42, 51, 73, 60, 75, 51, 69, 74, 89, 87, 64, 43, 42, 64, 55, 52, 61, 44, 41, 86, 51, 62, 69, 46, 45, 58, 51, 38, 30, 28, 19, 34, 60, 42, 40, 64, 62, 46, 48, 51, 66, 32, 60, 64, 49, 75, 63, 66, 37, 40, 33, 30, 24, 69, 69, 65, 53, 45, 62, 35, 53, 84, 53, 40, 57, 45, 51, 45, 28, 82, 44, 76, 74, 112], \"symbol\": \"circle\"}, \"mode\": \"markers\", \"text\": \"\", \"type\": \"scatter\", \"x\": [-0.14503484795852725, -3.0165964743780136, 0.24392315292249664, 0.2011504284420982, -1.954377685047049, 0.018622857603898417, 0.8617756539234976, -1.1789175288139595, 0.09453158593071533, -0.8190086004558853, -0.5111915119844852, -0.37019437878534933, 0.49406010167759457, 0.7318957798065484, -0.6245807673201975, 0.3860474439383816, 0.4682472943605631, 0.1627222638546957, -0.8365295450105019, -0.1484272992826551, -0.14699585388358868, -0.8989769017012104, 3.375644491066588, 0.8636351957100722, 0.9764706586185982, 1.8839025583510707, 0.49039805334819536, 1.1798805121748803, -0.08293830705260241, 0.020189132289008475, -1.212888981610273, -0.9540852579325413, 0.03227530808262174, -0.8518559637939185, 0.9654680591995582, -1.0356822197978657, -0.8665007063675878, 1.1028588348458925, -1.0335879734720794, -0.8709376829504009, 1.6229341507509705, -0.0960647329416155, 0.558693955982772, -0.47009300020518974, -0.098392235514167, 1.184576665806727, 0.01243576370376068, -0.10444812302065885, 0.16465566602612397, -0.47601592047505115, -0.3524503064476507, -1.1142072718294294, -0.24775154136288996, 0.6454080597490083, 0.06799428384607312, -2.3458667879361808, 0.0750307959732018, -0.02338014024049768, 0.408278691353931, -1.3197647537174, -0.08369974574571107, 0.028103212057242984, 0.24146463374541377, -0.1314784283188998, -0.35399171541630814, 0.9047121766469459, 0.577691629229222, -0.9041627507100116, 0.6679213458174991, 0.21340226976686694, 0.5187350887843667, 1.0291096353357165, -0.31331510697347104, -0.569615681897244, -0.08158041488700205, 0.4024168949117813, -0.37676734107072724, 0.02441103137705158, 0.4372970535384335, 0.6141820169439471, 1.190905549407557, 0.5607483976603372, -2.33021436137407, 0.5234829274135729, -0.6133704977202653, 0.6259858344588582, -0.03941965499720579, -0.3826539928719661, -1.1626848852541085, -0.13538449249010662, -0.44734498015120816, -0.675527294767186, -0.27764693163851684, 2.0007679905946723, -0.023422696390421664, 1.0516904951894257, -0.6505394429961281, 0.16981956995748015, 0.8454912342091417, -0.3025957383637378], \"y\": [-0.9532399160561278, -0.5868484365358092, -0.5322015045622156, -0.067966143001875, 0.9486452867643311, -0.6629183797257413, -0.5337786235952177, -1.374005116607833, 0.9538955464602282, 0.9831229684062017, -0.7218794529268818, -1.738462406660161, 0.8390413925664644, 0.4716881828898347, 1.840314344187763, 0.7829064814901634, -0.29559972424111564, -0.4543075695792023, -0.24134848173579576, 1.0620942076543174, 0.8126293598752975, 0.12771413630928588, 0.6479158525379064, -1.3221014076081543, -0.6104132558623014, 1.6009003090453902, 0.9269141114311796, -0.09885623938144297, 0.8712506984556516, -1.8373391727315502, -0.8095199640075892, 0.5647221507466086, -0.33873776587617926, 1.2770174534384262, -0.401058722431807, -0.3991026372035775, 0.6954802542981, 0.4657361921256589, -0.6115763656174145, -0.76790041556677, -0.8760445121497197, 0.9385120394049317, 0.12548592918841428, 0.12853157804446833, -0.9198386416256834, -0.16736007077296486, -0.273108590084941, -1.038593836786086, -1.789678683700114, -0.08672543648003408, 0.1791283495405397, 0.19740149687421615, -1.8532304045831987, 0.09418603272153049, -0.05406171658396121, 1.1613967379069392, 0.2908581391725514, 0.9334829806606881, 0.8759062521948778, 0.01544050596120699, -2.1433853948711863, -0.6550694134265117, 0.9450328060012705, -0.7318511174804488, -0.2760665477991691, 1.832042341227804, 0.7153981071725797, 0.3097267840306819, 0.5458716771237517, -0.27788252174846967, -2.56791567288503, 1.0733981182897139, 0.5539305528644727, -0.8875864930235106, -0.9215489395600035, -0.48052999506367167, 0.734067673662595, 0.7410495064840434, -0.4455153474458417, 0.47171647604105243, 2.2033238446375445, -0.13287462890628282, 1.57108408511727, -0.2832152183269851, 0.6604718888161459, -0.8097018520506656, -0.8998025213320278, 2.2744708006020584, -1.2989964534559673, 1.2567628834902713, 0.9586268624499967, 1.0292763836765124, 0.23642372515301469, -0.6456930750549342, 1.4959836369417008, -0.07036421252807842, -0.7362854978086856, -0.4795472607190941, 1.6003974543998063, -0.3481208183712817]}],                        {\"legend\": {\"bgcolor\": \"#F5F6F9\", \"font\": {\"color\": \"#4D5663\"}}, \"paper_bgcolor\": \"#F5F6F9\", \"plot_bgcolor\": \"#F5F6F9\", \"template\": {\"data\": {\"bar\": [{\"error_x\": {\"color\": \"#2a3f5f\"}, \"error_y\": {\"color\": \"#2a3f5f\"}, \"marker\": {\"line\": {\"color\": \"#E5ECF6\", \"width\": 0.5}}, \"type\": \"bar\"}], \"barpolar\": [{\"marker\": {\"line\": {\"color\": \"#E5ECF6\", \"width\": 0.5}}, \"type\": \"barpolar\"}], \"carpet\": [{\"aaxis\": {\"endlinecolor\": \"#2a3f5f\", \"gridcolor\": \"white\", \"linecolor\": \"white\", \"minorgridcolor\": \"white\", \"startlinecolor\": \"#2a3f5f\"}, \"baxis\": {\"endlinecolor\": \"#2a3f5f\", \"gridcolor\": \"white\", \"linecolor\": \"white\", \"minorgridcolor\": \"white\", \"startlinecolor\": \"#2a3f5f\"}, \"type\": \"carpet\"}], \"choropleth\": [{\"colorbar\": {\"outlinewidth\": 0, \"ticks\": \"\"}, \"type\": \"choropleth\"}], \"contour\": [{\"colorbar\": {\"outlinewidth\": 0, \"ticks\": \"\"}, \"colorscale\": [[0.0, \"#0d0887\"], [0.1111111111111111, \"#46039f\"], [0.2222222222222222, \"#7201a8\"], [0.3333333333333333, \"#9c179e\"], [0.4444444444444444, \"#bd3786\"], [0.5555555555555556, \"#d8576b\"], [0.6666666666666666, \"#ed7953\"], [0.7777777777777778, \"#fb9f3a\"], [0.8888888888888888, \"#fdca26\"], [1.0, \"#f0f921\"]], \"type\": \"contour\"}], \"contourcarpet\": [{\"colorbar\": {\"outlinewidth\": 0, \"ticks\": \"\"}, \"type\": \"contourcarpet\"}], \"heatmap\": [{\"colorbar\": {\"outlinewidth\": 0, \"ticks\": \"\"}, \"colorscale\": [[0.0, \"#0d0887\"], [0.1111111111111111, \"#46039f\"], [0.2222222222222222, \"#7201a8\"], [0.3333333333333333, \"#9c179e\"], [0.4444444444444444, \"#bd3786\"], [0.5555555555555556, \"#d8576b\"], [0.6666666666666666, \"#ed7953\"], [0.7777777777777778, \"#fb9f3a\"], [0.8888888888888888, \"#fdca26\"], [1.0, \"#f0f921\"]], \"type\": \"heatmap\"}], \"heatmapgl\": [{\"colorbar\": {\"outlinewidth\": 0, \"ticks\": \"\"}, \"colorscale\": [[0.0, \"#0d0887\"], [0.1111111111111111, \"#46039f\"], [0.2222222222222222, \"#7201a8\"], [0.3333333333333333, \"#9c179e\"], [0.4444444444444444, \"#bd3786\"], [0.5555555555555556, \"#d8576b\"], [0.6666666666666666, \"#ed7953\"], [0.7777777777777778, \"#fb9f3a\"], [0.8888888888888888, \"#fdca26\"], [1.0, \"#f0f921\"]], \"type\": \"heatmapgl\"}], \"histogram\": [{\"marker\": {\"colorbar\": {\"outlinewidth\": 0, \"ticks\": \"\"}}, \"type\": \"histogram\"}], \"histogram2d\": [{\"colorbar\": {\"outlinewidth\": 0, \"ticks\": \"\"}, \"colorscale\": [[0.0, \"#0d0887\"], [0.1111111111111111, \"#46039f\"], [0.2222222222222222, \"#7201a8\"], [0.3333333333333333, \"#9c179e\"], [0.4444444444444444, \"#bd3786\"], [0.5555555555555556, \"#d8576b\"], [0.6666666666666666, \"#ed7953\"], [0.7777777777777778, \"#fb9f3a\"], [0.8888888888888888, \"#fdca26\"], [1.0, \"#f0f921\"]], \"type\": \"histogram2d\"}], \"histogram2dcontour\": [{\"colorbar\": {\"outlinewidth\": 0, \"ticks\": \"\"}, \"colorscale\": [[0.0, \"#0d0887\"], [0.1111111111111111, \"#46039f\"], [0.2222222222222222, \"#7201a8\"], [0.3333333333333333, \"#9c179e\"], [0.4444444444444444, \"#bd3786\"], [0.5555555555555556, \"#d8576b\"], [0.6666666666666666, \"#ed7953\"], [0.7777777777777778, \"#fb9f3a\"], [0.8888888888888888, \"#fdca26\"], [1.0, \"#f0f921\"]], \"type\": \"histogram2dcontour\"}], \"mesh3d\": [{\"colorbar\": {\"outlinewidth\": 0, \"ticks\": \"\"}, \"type\": \"mesh3d\"}], \"parcoords\": [{\"line\": {\"colorbar\": {\"outlinewidth\": 0, \"ticks\": \"\"}}, \"type\": \"parcoords\"}], \"pie\": [{\"automargin\": true, \"type\": \"pie\"}], \"scatter\": [{\"marker\": {\"colorbar\": {\"outlinewidth\": 0, \"ticks\": \"\"}}, \"type\": \"scatter\"}], \"scatter3d\": [{\"line\": {\"colorbar\": {\"outlinewidth\": 0, \"ticks\": \"\"}}, \"marker\": {\"colorbar\": {\"outlinewidth\": 0, \"ticks\": \"\"}}, \"type\": \"scatter3d\"}], \"scattercarpet\": [{\"marker\": {\"colorbar\": {\"outlinewidth\": 0, \"ticks\": \"\"}}, \"type\": \"scattercarpet\"}], \"scattergeo\": [{\"marker\": {\"colorbar\": {\"outlinewidth\": 0, \"ticks\": \"\"}}, \"type\": \"scattergeo\"}], \"scattergl\": [{\"marker\": {\"colorbar\": {\"outlinewidth\": 0, \"ticks\": \"\"}}, \"type\": \"scattergl\"}], \"scattermapbox\": [{\"marker\": {\"colorbar\": {\"outlinewidth\": 0, \"ticks\": \"\"}}, \"type\": \"scattermapbox\"}], \"scatterpolar\": [{\"marker\": {\"colorbar\": {\"outlinewidth\": 0, \"ticks\": \"\"}}, \"type\": \"scatterpolar\"}], \"scatterpolargl\": [{\"marker\": {\"colorbar\": {\"outlinewidth\": 0, \"ticks\": \"\"}}, \"type\": \"scatterpolargl\"}], \"scatterternary\": [{\"marker\": {\"colorbar\": {\"outlinewidth\": 0, \"ticks\": \"\"}}, \"type\": \"scatterternary\"}], \"surface\": [{\"colorbar\": {\"outlinewidth\": 0, \"ticks\": \"\"}, \"colorscale\": [[0.0, \"#0d0887\"], [0.1111111111111111, \"#46039f\"], [0.2222222222222222, \"#7201a8\"], [0.3333333333333333, \"#9c179e\"], [0.4444444444444444, \"#bd3786\"], [0.5555555555555556, \"#d8576b\"], [0.6666666666666666, \"#ed7953\"], [0.7777777777777778, \"#fb9f3a\"], [0.8888888888888888, \"#fdca26\"], [1.0, \"#f0f921\"]], \"type\": \"surface\"}], \"table\": [{\"cells\": {\"fill\": {\"color\": \"#EBF0F8\"}, \"line\": {\"color\": \"white\"}}, \"header\": {\"fill\": {\"color\": \"#C8D4E3\"}, \"line\": {\"color\": \"white\"}}, \"type\": \"table\"}]}, \"layout\": {\"annotationdefaults\": {\"arrowcolor\": \"#2a3f5f\", \"arrowhead\": 0, \"arrowwidth\": 1}, \"autotypenumbers\": \"strict\", \"coloraxis\": {\"colorbar\": {\"outlinewidth\": 0, \"ticks\": \"\"}}, \"colorscale\": {\"diverging\": [[0, \"#8e0152\"], [0.1, \"#c51b7d\"], [0.2, \"#de77ae\"], [0.3, \"#f1b6da\"], [0.4, \"#fde0ef\"], [0.5, \"#f7f7f7\"], [0.6, \"#e6f5d0\"], [0.7, \"#b8e186\"], [0.8, \"#7fbc41\"], [0.9, \"#4d9221\"], [1, \"#276419\"]], \"sequential\": [[0.0, \"#0d0887\"], [0.1111111111111111, \"#46039f\"], [0.2222222222222222, \"#7201a8\"], [0.3333333333333333, \"#9c179e\"], [0.4444444444444444, \"#bd3786\"], [0.5555555555555556, \"#d8576b\"], [0.6666666666666666, \"#ed7953\"], [0.7777777777777778, \"#fb9f3a\"], [0.8888888888888888, \"#fdca26\"], [1.0, \"#f0f921\"]], \"sequentialminus\": [[0.0, \"#0d0887\"], [0.1111111111111111, \"#46039f\"], [0.2222222222222222, \"#7201a8\"], [0.3333333333333333, \"#9c179e\"], [0.4444444444444444, \"#bd3786\"], [0.5555555555555556, \"#d8576b\"], [0.6666666666666666, \"#ed7953\"], [0.7777777777777778, \"#fb9f3a\"], [0.8888888888888888, \"#fdca26\"], [1.0, \"#f0f921\"]]}, \"colorway\": [\"#636efa\", \"#EF553B\", \"#00cc96\", \"#ab63fa\", \"#FFA15A\", \"#19d3f3\", \"#FF6692\", \"#B6E880\", \"#FF97FF\", \"#FECB52\"], \"font\": {\"color\": \"#2a3f5f\"}, \"geo\": {\"bgcolor\": \"white\", \"lakecolor\": \"white\", \"landcolor\": \"#E5ECF6\", \"showlakes\": true, \"showland\": true, \"subunitcolor\": \"white\"}, \"hoverlabel\": {\"align\": \"left\"}, \"hovermode\": \"closest\", \"mapbox\": {\"style\": \"light\"}, \"paper_bgcolor\": \"white\", \"plot_bgcolor\": \"#E5ECF6\", \"polar\": {\"angularaxis\": {\"gridcolor\": \"white\", \"linecolor\": \"white\", \"ticks\": \"\"}, \"bgcolor\": \"#E5ECF6\", \"radialaxis\": {\"gridcolor\": \"white\", \"linecolor\": \"white\", \"ticks\": \"\"}}, \"scene\": {\"xaxis\": {\"backgroundcolor\": \"#E5ECF6\", \"gridcolor\": \"white\", \"gridwidth\": 2, \"linecolor\": \"white\", \"showbackground\": true, \"ticks\": \"\", \"zerolinecolor\": \"white\"}, \"yaxis\": {\"backgroundcolor\": \"#E5ECF6\", \"gridcolor\": \"white\", \"gridwidth\": 2, \"linecolor\": \"white\", \"showbackground\": true, \"ticks\": \"\", \"zerolinecolor\": \"white\"}, \"zaxis\": {\"backgroundcolor\": \"#E5ECF6\", \"gridcolor\": \"white\", \"gridwidth\": 2, \"linecolor\": \"white\", \"showbackground\": true, \"ticks\": \"\", \"zerolinecolor\": \"white\"}}, \"shapedefaults\": {\"line\": {\"color\": \"#2a3f5f\"}}, \"ternary\": {\"aaxis\": {\"gridcolor\": \"white\", \"linecolor\": \"white\", \"ticks\": \"\"}, \"baxis\": {\"gridcolor\": \"white\", \"linecolor\": \"white\", \"ticks\": \"\"}, \"bgcolor\": \"#E5ECF6\", \"caxis\": {\"gridcolor\": \"white\", \"linecolor\": \"white\", \"ticks\": \"\"}}, \"title\": {\"x\": 0.05}, \"xaxis\": {\"automargin\": true, \"gridcolor\": \"white\", \"linecolor\": \"white\", \"ticks\": \"\", \"title\": {\"standoff\": 15}, \"zerolinecolor\": \"white\", \"zerolinewidth\": 2}, \"yaxis\": {\"automargin\": true, \"gridcolor\": \"white\", \"linecolor\": \"white\", \"ticks\": \"\", \"title\": {\"standoff\": 15}, \"zerolinecolor\": \"white\", \"zerolinewidth\": 2}}}, \"title\": {\"font\": {\"color\": \"#4D5663\"}}, \"xaxis\": {\"gridcolor\": \"#E1E5ED\", \"showgrid\": true, \"tickfont\": {\"color\": \"#4D5663\"}, \"title\": {\"font\": {\"color\": \"#4D5663\"}, \"text\": \"\"}, \"zerolinecolor\": \"#E1E5ED\"}, \"yaxis\": {\"gridcolor\": \"#E1E5ED\", \"showgrid\": true, \"tickfont\": {\"color\": \"#4D5663\"}, \"title\": {\"font\": {\"color\": \"#4D5663\"}, \"text\": \"\"}, \"zerolinecolor\": \"#E1E5ED\"}},                        {\"showLink\": true, \"linkText\": \"Export to plot.ly\", \"plotlyServerURL\": \"https://plot.ly\", \"responsive\": true}                    ).then(function(){\n",
       "                            \n",
       "var gd = document.getElementById('cc4ed4a1-94b8-4845-821d-f5947769d8f4');\n",
       "var x = new MutationObserver(function (mutations, observer) {{\n",
       "        var display = window.getComputedStyle(gd).display;\n",
       "        if (!display || display === 'none') {{\n",
       "            console.log([gd, 'removed!']);\n",
       "            Plotly.purge(gd);\n",
       "            observer.disconnect();\n",
       "        }}\n",
       "}});\n",
       "\n",
       "// Listen for the removal of the full notebook cells\n",
       "var notebookContainer = gd.closest('#notebook-container');\n",
       "if (notebookContainer) {{\n",
       "    x.observe(notebookContainer, {childList: true});\n",
       "}}\n",
       "\n",
       "// Listen for the clearing of the current output cell\n",
       "var outputEl = gd.closest('.output');\n",
       "if (outputEl) {{\n",
       "    x.observe(outputEl, {childList: true});\n",
       "}}\n",
       "\n",
       "                        })                };                });            </script>        </div>"
      ]
     },
     "metadata": {},
     "output_type": "display_data"
    }
   ],
   "source": [
    "df.iplot(kind='bubble', x='A', y='B', size='C', color='pink')"
   ]
  },
  {
   "cell_type": "code",
   "execution_count": 49,
   "metadata": {},
   "outputs": [
    {
     "data": {
      "application/vnd.plotly.v1+json": {
       "config": {
        "linkText": "Export to plot.ly",
        "plotlyServerURL": "https://plot.ly",
        "showLink": true
       },
       "data": [
        {
         "histfunc": "count",
         "histnorm": "",
         "marker": {
          "color": "rgba(255, 153, 51, 1.0)",
          "line": {
           "color": "#4D5663",
           "width": 1.3
          }
         },
         "name": "A",
         "nbinsx": 10,
         "opacity": 0.8,
         "orientation": "v",
         "type": "histogram",
         "x": [
          -0.14503484795852725,
          -3.0165964743780136,
          0.24392315292249664,
          0.2011504284420982,
          -1.954377685047049,
          0.018622857603898417,
          0.8617756539234976,
          -1.1789175288139595,
          0.09453158593071533,
          -0.8190086004558853,
          -0.5111915119844852,
          -0.37019437878534933,
          0.49406010167759457,
          0.7318957798065484,
          -0.6245807673201975,
          0.3860474439383816,
          0.4682472943605631,
          0.1627222638546957,
          -0.8365295450105019,
          -0.1484272992826551,
          -0.14699585388358868,
          -0.8989769017012104,
          3.375644491066588,
          0.8636351957100722,
          0.9764706586185982,
          1.8839025583510707,
          0.49039805334819536,
          1.1798805121748803,
          -0.08293830705260241,
          0.020189132289008475,
          -1.212888981610273,
          -0.9540852579325413,
          0.03227530808262174,
          -0.8518559637939185,
          0.9654680591995582,
          -1.0356822197978657,
          -0.8665007063675878,
          1.1028588348458925,
          -1.0335879734720794,
          -0.8709376829504009,
          1.6229341507509705,
          -0.0960647329416155,
          0.558693955982772,
          -0.47009300020518974,
          -0.098392235514167,
          1.184576665806727,
          0.01243576370376068,
          -0.10444812302065885,
          0.16465566602612397,
          -0.47601592047505115,
          -0.3524503064476507,
          -1.1142072718294294,
          -0.24775154136288996,
          0.6454080597490083,
          0.06799428384607312,
          -2.3458667879361808,
          0.0750307959732018,
          -0.02338014024049768,
          0.408278691353931,
          -1.3197647537174,
          -0.08369974574571107,
          0.028103212057242984,
          0.24146463374541377,
          -0.1314784283188998,
          -0.35399171541630814,
          0.9047121766469459,
          0.577691629229222,
          -0.9041627507100116,
          0.6679213458174991,
          0.21340226976686694,
          0.5187350887843667,
          1.0291096353357165,
          -0.31331510697347104,
          -0.569615681897244,
          -0.08158041488700205,
          0.4024168949117813,
          -0.37676734107072724,
          0.02441103137705158,
          0.4372970535384335,
          0.6141820169439471,
          1.190905549407557,
          0.5607483976603372,
          -2.33021436137407,
          0.5234829274135729,
          -0.6133704977202653,
          0.6259858344588582,
          -0.03941965499720579,
          -0.3826539928719661,
          -1.1626848852541085,
          -0.13538449249010662,
          -0.44734498015120816,
          -0.675527294767186,
          -0.27764693163851684,
          2.0007679905946723,
          -0.023422696390421664,
          1.0516904951894257,
          -0.6505394429961281,
          0.16981956995748015,
          0.8454912342091417,
          -0.3025957383637378
         ],
         "xaxis": "x",
         "yaxis": "y"
        },
        {
         "line": {
          "color": "rgba(128, 128, 128, 1.0)",
          "dash": "solid",
          "shape": "linear",
          "width": 1.3
         },
         "marker": {
          "size": 2,
          "symbol": "circle"
         },
         "mode": "markers",
         "name": "A",
         "text": "",
         "type": "scatter",
         "x": [
          -0.9532399160561278,
          -0.5868484365358092,
          -0.5322015045622156,
          -0.067966143001875,
          0.9486452867643311,
          -0.6629183797257413,
          -0.5337786235952177,
          -1.374005116607833,
          0.9538955464602282,
          0.9831229684062017,
          -0.7218794529268818,
          -1.738462406660161,
          0.8390413925664644,
          0.4716881828898347,
          1.840314344187763,
          0.7829064814901634,
          -0.29559972424111564,
          -0.4543075695792023,
          -0.24134848173579576,
          1.0620942076543174,
          0.8126293598752975,
          0.12771413630928588,
          0.6479158525379064,
          -1.3221014076081543,
          -0.6104132558623014,
          1.6009003090453902,
          0.9269141114311796,
          -0.09885623938144297,
          0.8712506984556516,
          -1.8373391727315502,
          -0.8095199640075892,
          0.5647221507466086,
          -0.33873776587617926,
          1.2770174534384262,
          -0.401058722431807,
          -0.3991026372035775,
          0.6954802542981,
          0.4657361921256589,
          -0.6115763656174145,
          -0.76790041556677,
          -0.8760445121497197,
          0.9385120394049317,
          0.12548592918841428,
          0.12853157804446833,
          -0.9198386416256834,
          -0.16736007077296486,
          -0.273108590084941,
          -1.038593836786086,
          -1.789678683700114,
          -0.08672543648003408,
          0.1791283495405397,
          0.19740149687421615,
          -1.8532304045831987,
          0.09418603272153049,
          -0.05406171658396121,
          1.1613967379069392,
          0.2908581391725514,
          0.9334829806606881,
          0.8759062521948778,
          0.01544050596120699,
          -2.1433853948711863,
          -0.6550694134265117,
          0.9450328060012705,
          -0.7318511174804488,
          -0.2760665477991691,
          1.832042341227804,
          0.7153981071725797,
          0.3097267840306819,
          0.5458716771237517,
          -0.27788252174846967,
          -2.56791567288503,
          1.0733981182897139,
          0.5539305528644727,
          -0.8875864930235106,
          -0.9215489395600035,
          -0.48052999506367167,
          0.734067673662595,
          0.7410495064840434,
          -0.4455153474458417,
          0.47171647604105243,
          2.2033238446375445,
          -0.13287462890628282,
          1.57108408511727,
          -0.2832152183269851,
          0.6604718888161459,
          -0.8097018520506656,
          -0.8998025213320278,
          2.2744708006020584,
          -1.2989964534559673,
          1.2567628834902713,
          0.9586268624499967,
          1.0292763836765124,
          0.23642372515301469,
          -0.6456930750549342,
          1.4959836369417008,
          -0.07036421252807842,
          -0.7362854978086856,
          -0.4795472607190941,
          1.6003974543998063,
          -0.3481208183712817
         ],
         "xaxis": "x2",
         "y": [
          -0.14503484795852725,
          -3.0165964743780136,
          0.24392315292249664,
          0.2011504284420982,
          -1.954377685047049,
          0.018622857603898417,
          0.8617756539234976,
          -1.1789175288139595,
          0.09453158593071533,
          -0.8190086004558853,
          -0.5111915119844852,
          -0.37019437878534933,
          0.49406010167759457,
          0.7318957798065484,
          -0.6245807673201975,
          0.3860474439383816,
          0.4682472943605631,
          0.1627222638546957,
          -0.8365295450105019,
          -0.1484272992826551,
          -0.14699585388358868,
          -0.8989769017012104,
          3.375644491066588,
          0.8636351957100722,
          0.9764706586185982,
          1.8839025583510707,
          0.49039805334819536,
          1.1798805121748803,
          -0.08293830705260241,
          0.020189132289008475,
          -1.212888981610273,
          -0.9540852579325413,
          0.03227530808262174,
          -0.8518559637939185,
          0.9654680591995582,
          -1.0356822197978657,
          -0.8665007063675878,
          1.1028588348458925,
          -1.0335879734720794,
          -0.8709376829504009,
          1.6229341507509705,
          -0.0960647329416155,
          0.558693955982772,
          -0.47009300020518974,
          -0.098392235514167,
          1.184576665806727,
          0.01243576370376068,
          -0.10444812302065885,
          0.16465566602612397,
          -0.47601592047505115,
          -0.3524503064476507,
          -1.1142072718294294,
          -0.24775154136288996,
          0.6454080597490083,
          0.06799428384607312,
          -2.3458667879361808,
          0.0750307959732018,
          -0.02338014024049768,
          0.408278691353931,
          -1.3197647537174,
          -0.08369974574571107,
          0.028103212057242984,
          0.24146463374541377,
          -0.1314784283188998,
          -0.35399171541630814,
          0.9047121766469459,
          0.577691629229222,
          -0.9041627507100116,
          0.6679213458174991,
          0.21340226976686694,
          0.5187350887843667,
          1.0291096353357165,
          -0.31331510697347104,
          -0.569615681897244,
          -0.08158041488700205,
          0.4024168949117813,
          -0.37676734107072724,
          0.02441103137705158,
          0.4372970535384335,
          0.6141820169439471,
          1.190905549407557,
          0.5607483976603372,
          -2.33021436137407,
          0.5234829274135729,
          -0.6133704977202653,
          0.6259858344588582,
          -0.03941965499720579,
          -0.3826539928719661,
          -1.1626848852541085,
          -0.13538449249010662,
          -0.44734498015120816,
          -0.675527294767186,
          -0.27764693163851684,
          2.0007679905946723,
          -0.023422696390421664,
          1.0516904951894257,
          -0.6505394429961281,
          0.16981956995748015,
          0.8454912342091417,
          -0.3025957383637378
         ],
         "yaxis": "y2"
        },
        {
         "line": {
          "color": "rgba(128, 128, 128, 1.0)",
          "dash": "solid",
          "shape": "linear",
          "width": 1.3
         },
         "marker": {
          "size": 2,
          "symbol": "circle"
         },
         "mode": "markers",
         "name": "A",
         "text": "",
         "type": "scatter",
         "x": [
          1.4983864779909448,
          -0.0683974342124604,
          -0.5337891463858248,
          0.44154354919874567,
          -1.2318152574431034,
          1.2985630040366611,
          -2.218451919669104,
          0.9332677474881452,
          0.48887768670488263,
          0.7100565211778788,
          -1.180211018759006,
          0.40357787691680996,
          -0.18176450555296522,
          -0.19923388484756513,
          2.2707936648476434,
          0.7134211445041823,
          -0.20914473971566427,
          0.6731272521506116,
          -0.1712162713391917,
          -0.32409938623671136,
          0.3231132918011072,
          -1.5336155761055157,
          0.5025780232508699,
          -0.29693856159868626,
          0.23987661690729795,
          0.44290559204476504,
          -0.529833328173643,
          -0.029194069017488885,
          1.2034809706627385,
          0.4920550863252347,
          1.3118142713736591,
          -0.012957419236584167,
          0.9926476583889912,
          1.2718468624411214,
          2.0622297852705547,
          1.9746120568742223,
          0.7116292523754622,
          -0.4737056251190207,
          -0.5474136556886244,
          0.6820687853788049,
          0.1752813698701687,
          0.03369271598512779,
          0.534436508849568,
          -0.43959501846003035,
          -0.5781181336082649,
          1.9012412703468982,
          -0.03727290144563984,
          0.5574680225499314,
          0.9559932227587079,
          -0.32636063943397453,
          -0.33839420843768,
          0.33923148177384843,
          -0.017272371086671515,
          -0.7399021484764235,
          -1.165467022871023,
          -1.292106893654066,
          -1.784099308455661,
          -0.9785305487491726,
          0.4780020587967749,
          -0.5248854157902065,
          -0.6125375405316861,
          0.6759309903954257,
          0.6041448312385654,
          -0.33039041832431093,
          -0.17339863721071497,
          -0.009843440355222733,
          0.7997753502200071,
          -1.107214785996133,
          0.498447288776335,
          0.6794945513401383,
          -0.1382266500550088,
          1.2781507015495341,
          0.6254176748292696,
          0.7886826509605261,
          -0.8181677561777155,
          -0.6384163425676622,
          -1.0479872434449466,
          -1.2177317666516922,
          -1.5111568383490466,
          0.9615221253744407,
          0.9680307972915704,
          0.7370807455860703,
          0.08595259442313354,
          -0.3819517739097434,
          0.5814733207998918,
          -0.9305531186290832,
          0.09422451520604969,
          1.81821824919206,
          0.06749656036457062,
          -0.6269712132943323,
          0.28732203080938473,
          -0.34598621688533177,
          -0.04863017192128949,
          -0.3539736054969189,
          -1.2972990448743276,
          1.6800575190759655,
          -0.3891493008112305,
          1.345521828588874,
          1.272967956040553,
          3.3265035585717997
         ],
         "xaxis": "x3",
         "y": [
          -0.14503484795852725,
          -3.0165964743780136,
          0.24392315292249664,
          0.2011504284420982,
          -1.954377685047049,
          0.018622857603898417,
          0.8617756539234976,
          -1.1789175288139595,
          0.09453158593071533,
          -0.8190086004558853,
          -0.5111915119844852,
          -0.37019437878534933,
          0.49406010167759457,
          0.7318957798065484,
          -0.6245807673201975,
          0.3860474439383816,
          0.4682472943605631,
          0.1627222638546957,
          -0.8365295450105019,
          -0.1484272992826551,
          -0.14699585388358868,
          -0.8989769017012104,
          3.375644491066588,
          0.8636351957100722,
          0.9764706586185982,
          1.8839025583510707,
          0.49039805334819536,
          1.1798805121748803,
          -0.08293830705260241,
          0.020189132289008475,
          -1.212888981610273,
          -0.9540852579325413,
          0.03227530808262174,
          -0.8518559637939185,
          0.9654680591995582,
          -1.0356822197978657,
          -0.8665007063675878,
          1.1028588348458925,
          -1.0335879734720794,
          -0.8709376829504009,
          1.6229341507509705,
          -0.0960647329416155,
          0.558693955982772,
          -0.47009300020518974,
          -0.098392235514167,
          1.184576665806727,
          0.01243576370376068,
          -0.10444812302065885,
          0.16465566602612397,
          -0.47601592047505115,
          -0.3524503064476507,
          -1.1142072718294294,
          -0.24775154136288996,
          0.6454080597490083,
          0.06799428384607312,
          -2.3458667879361808,
          0.0750307959732018,
          -0.02338014024049768,
          0.408278691353931,
          -1.3197647537174,
          -0.08369974574571107,
          0.028103212057242984,
          0.24146463374541377,
          -0.1314784283188998,
          -0.35399171541630814,
          0.9047121766469459,
          0.577691629229222,
          -0.9041627507100116,
          0.6679213458174991,
          0.21340226976686694,
          0.5187350887843667,
          1.0291096353357165,
          -0.31331510697347104,
          -0.569615681897244,
          -0.08158041488700205,
          0.4024168949117813,
          -0.37676734107072724,
          0.02441103137705158,
          0.4372970535384335,
          0.6141820169439471,
          1.190905549407557,
          0.5607483976603372,
          -2.33021436137407,
          0.5234829274135729,
          -0.6133704977202653,
          0.6259858344588582,
          -0.03941965499720579,
          -0.3826539928719661,
          -1.1626848852541085,
          -0.13538449249010662,
          -0.44734498015120816,
          -0.675527294767186,
          -0.27764693163851684,
          2.0007679905946723,
          -0.023422696390421664,
          1.0516904951894257,
          -0.6505394429961281,
          0.16981956995748015,
          0.8454912342091417,
          -0.3025957383637378
         ],
         "yaxis": "y3"
        },
        {
         "line": {
          "color": "rgba(128, 128, 128, 1.0)",
          "dash": "solid",
          "shape": "linear",
          "width": 1.3
         },
         "marker": {
          "size": 2,
          "symbol": "circle"
         },
         "mode": "markers",
         "name": "A",
         "text": "",
         "type": "scatter",
         "x": [
          -1.5319495460763377,
          -0.7823135218083629,
          -1.2093363017654826,
          0.7797917356745605,
          0.33983173967364444,
          -0.6668906877377361,
          -0.9240185127971479,
          -1.401096364281915,
          -0.2048781567578501,
          1.1948511507781823,
          1.9378710428122337,
          -0.19788163111016083,
          -0.9621305666501678,
          0.5138660890036052,
          -1.143865652539835,
          -1.1982136890776176,
          0.8292787619731817,
          0.3295035520497889,
          0.8222470222792261,
          -0.5121999795691015,
          -1.237290642027615,
          0.11446894929464378,
          -1.505822965665104,
          -1.2565156539734794,
          -0.9237007926029537,
          -0.20485623833171945,
          -1.242963400226735,
          0.46065343842511053,
          0.8627455440540776,
          0.37885281652310104,
          -0.404771823670305,
          1.9530589976655945,
          -1.5658095281175592,
          -0.9899786783745753,
          -0.4138508787543901,
          2.0771413723760905,
          0.08921008719746723,
          -1.3556168492151528,
          -0.7678695095182647,
          -1.1128032731182662,
          -2.048881608126047,
          -0.26848514807393614,
          1.229562428489407,
          -0.7531155606516615,
          -1.0141352555130447,
          -0.3574010751276007,
          1.193569139394085,
          -0.1713953689270901,
          0.5419494728333556,
          -0.5194810685746506,
          -0.16357195310254669,
          0.7467042929422325,
          0.383803866327178,
          -0.002594563791913918,
          -0.3032870044789301,
          0.16558660457653496,
          -0.9419723485650384,
          -0.8099143888303659,
          1.2205839875266769,
          -1.7007322354324552,
          -0.5497960766879818,
          -1.4017578932924981,
          -2.2045320929247545,
          0.3986718611011956,
          -0.09064289146691248,
          0.85543610620957,
          1.1551676178843544,
          -0.41020533331384035,
          -0.8446806004273089,
          -0.47554568454257223,
          -0.06593091310501963,
          0.29154657424817887,
          1.8014650512475308,
          -0.42036587587693824,
          0.5939056868343671,
          0.12396213447308421,
          0.5742018423253487,
          0.6007861599895614,
          0.6722461239448084,
          0.4174574720090517,
          -0.9287455608677232,
          -0.040409801326219574,
          -0.5772027988901258,
          -0.6366786617000452,
          -1.474079529032982,
          0.5301472217828153,
          -0.5618726312931238,
          0.5743351632740945,
          -0.20108858944342017,
          0.4951290430399495,
          -0.3437933242276682,
          0.21337031294925046,
          -0.30421319297951926,
          0.6185743763842435,
          1.3426061469006845,
          -2.6898523405519335,
          -1.2997624793502054,
          -0.014491457910390242,
          -0.7531758443186563,
          0.051972534063198135
         ],
         "xaxis": "x4",
         "y": [
          -0.14503484795852725,
          -3.0165964743780136,
          0.24392315292249664,
          0.2011504284420982,
          -1.954377685047049,
          0.018622857603898417,
          0.8617756539234976,
          -1.1789175288139595,
          0.09453158593071533,
          -0.8190086004558853,
          -0.5111915119844852,
          -0.37019437878534933,
          0.49406010167759457,
          0.7318957798065484,
          -0.6245807673201975,
          0.3860474439383816,
          0.4682472943605631,
          0.1627222638546957,
          -0.8365295450105019,
          -0.1484272992826551,
          -0.14699585388358868,
          -0.8989769017012104,
          3.375644491066588,
          0.8636351957100722,
          0.9764706586185982,
          1.8839025583510707,
          0.49039805334819536,
          1.1798805121748803,
          -0.08293830705260241,
          0.020189132289008475,
          -1.212888981610273,
          -0.9540852579325413,
          0.03227530808262174,
          -0.8518559637939185,
          0.9654680591995582,
          -1.0356822197978657,
          -0.8665007063675878,
          1.1028588348458925,
          -1.0335879734720794,
          -0.8709376829504009,
          1.6229341507509705,
          -0.0960647329416155,
          0.558693955982772,
          -0.47009300020518974,
          -0.098392235514167,
          1.184576665806727,
          0.01243576370376068,
          -0.10444812302065885,
          0.16465566602612397,
          -0.47601592047505115,
          -0.3524503064476507,
          -1.1142072718294294,
          -0.24775154136288996,
          0.6454080597490083,
          0.06799428384607312,
          -2.3458667879361808,
          0.0750307959732018,
          -0.02338014024049768,
          0.408278691353931,
          -1.3197647537174,
          -0.08369974574571107,
          0.028103212057242984,
          0.24146463374541377,
          -0.1314784283188998,
          -0.35399171541630814,
          0.9047121766469459,
          0.577691629229222,
          -0.9041627507100116,
          0.6679213458174991,
          0.21340226976686694,
          0.5187350887843667,
          1.0291096353357165,
          -0.31331510697347104,
          -0.569615681897244,
          -0.08158041488700205,
          0.4024168949117813,
          -0.37676734107072724,
          0.02441103137705158,
          0.4372970535384335,
          0.6141820169439471,
          1.190905549407557,
          0.5607483976603372,
          -2.33021436137407,
          0.5234829274135729,
          -0.6133704977202653,
          0.6259858344588582,
          -0.03941965499720579,
          -0.3826539928719661,
          -1.1626848852541085,
          -0.13538449249010662,
          -0.44734498015120816,
          -0.675527294767186,
          -0.27764693163851684,
          2.0007679905946723,
          -0.023422696390421664,
          1.0516904951894257,
          -0.6505394429961281,
          0.16981956995748015,
          0.8454912342091417,
          -0.3025957383637378
         ],
         "yaxis": "y4"
        },
        {
         "line": {
          "color": "rgba(128, 128, 128, 1.0)",
          "dash": "solid",
          "shape": "linear",
          "width": 1.3
         },
         "marker": {
          "size": 2,
          "symbol": "circle"
         },
         "mode": "markers",
         "name": "B",
         "text": "",
         "type": "scatter",
         "x": [
          -0.14503484795852725,
          -3.0165964743780136,
          0.24392315292249664,
          0.2011504284420982,
          -1.954377685047049,
          0.018622857603898417,
          0.8617756539234976,
          -1.1789175288139595,
          0.09453158593071533,
          -0.8190086004558853,
          -0.5111915119844852,
          -0.37019437878534933,
          0.49406010167759457,
          0.7318957798065484,
          -0.6245807673201975,
          0.3860474439383816,
          0.4682472943605631,
          0.1627222638546957,
          -0.8365295450105019,
          -0.1484272992826551,
          -0.14699585388358868,
          -0.8989769017012104,
          3.375644491066588,
          0.8636351957100722,
          0.9764706586185982,
          1.8839025583510707,
          0.49039805334819536,
          1.1798805121748803,
          -0.08293830705260241,
          0.020189132289008475,
          -1.212888981610273,
          -0.9540852579325413,
          0.03227530808262174,
          -0.8518559637939185,
          0.9654680591995582,
          -1.0356822197978657,
          -0.8665007063675878,
          1.1028588348458925,
          -1.0335879734720794,
          -0.8709376829504009,
          1.6229341507509705,
          -0.0960647329416155,
          0.558693955982772,
          -0.47009300020518974,
          -0.098392235514167,
          1.184576665806727,
          0.01243576370376068,
          -0.10444812302065885,
          0.16465566602612397,
          -0.47601592047505115,
          -0.3524503064476507,
          -1.1142072718294294,
          -0.24775154136288996,
          0.6454080597490083,
          0.06799428384607312,
          -2.3458667879361808,
          0.0750307959732018,
          -0.02338014024049768,
          0.408278691353931,
          -1.3197647537174,
          -0.08369974574571107,
          0.028103212057242984,
          0.24146463374541377,
          -0.1314784283188998,
          -0.35399171541630814,
          0.9047121766469459,
          0.577691629229222,
          -0.9041627507100116,
          0.6679213458174991,
          0.21340226976686694,
          0.5187350887843667,
          1.0291096353357165,
          -0.31331510697347104,
          -0.569615681897244,
          -0.08158041488700205,
          0.4024168949117813,
          -0.37676734107072724,
          0.02441103137705158,
          0.4372970535384335,
          0.6141820169439471,
          1.190905549407557,
          0.5607483976603372,
          -2.33021436137407,
          0.5234829274135729,
          -0.6133704977202653,
          0.6259858344588582,
          -0.03941965499720579,
          -0.3826539928719661,
          -1.1626848852541085,
          -0.13538449249010662,
          -0.44734498015120816,
          -0.675527294767186,
          -0.27764693163851684,
          2.0007679905946723,
          -0.023422696390421664,
          1.0516904951894257,
          -0.6505394429961281,
          0.16981956995748015,
          0.8454912342091417,
          -0.3025957383637378
         ],
         "xaxis": "x5",
         "y": [
          -0.9532399160561278,
          -0.5868484365358092,
          -0.5322015045622156,
          -0.067966143001875,
          0.9486452867643311,
          -0.6629183797257413,
          -0.5337786235952177,
          -1.374005116607833,
          0.9538955464602282,
          0.9831229684062017,
          -0.7218794529268818,
          -1.738462406660161,
          0.8390413925664644,
          0.4716881828898347,
          1.840314344187763,
          0.7829064814901634,
          -0.29559972424111564,
          -0.4543075695792023,
          -0.24134848173579576,
          1.0620942076543174,
          0.8126293598752975,
          0.12771413630928588,
          0.6479158525379064,
          -1.3221014076081543,
          -0.6104132558623014,
          1.6009003090453902,
          0.9269141114311796,
          -0.09885623938144297,
          0.8712506984556516,
          -1.8373391727315502,
          -0.8095199640075892,
          0.5647221507466086,
          -0.33873776587617926,
          1.2770174534384262,
          -0.401058722431807,
          -0.3991026372035775,
          0.6954802542981,
          0.4657361921256589,
          -0.6115763656174145,
          -0.76790041556677,
          -0.8760445121497197,
          0.9385120394049317,
          0.12548592918841428,
          0.12853157804446833,
          -0.9198386416256834,
          -0.16736007077296486,
          -0.273108590084941,
          -1.038593836786086,
          -1.789678683700114,
          -0.08672543648003408,
          0.1791283495405397,
          0.19740149687421615,
          -1.8532304045831987,
          0.09418603272153049,
          -0.05406171658396121,
          1.1613967379069392,
          0.2908581391725514,
          0.9334829806606881,
          0.8759062521948778,
          0.01544050596120699,
          -2.1433853948711863,
          -0.6550694134265117,
          0.9450328060012705,
          -0.7318511174804488,
          -0.2760665477991691,
          1.832042341227804,
          0.7153981071725797,
          0.3097267840306819,
          0.5458716771237517,
          -0.27788252174846967,
          -2.56791567288503,
          1.0733981182897139,
          0.5539305528644727,
          -0.8875864930235106,
          -0.9215489395600035,
          -0.48052999506367167,
          0.734067673662595,
          0.7410495064840434,
          -0.4455153474458417,
          0.47171647604105243,
          2.2033238446375445,
          -0.13287462890628282,
          1.57108408511727,
          -0.2832152183269851,
          0.6604718888161459,
          -0.8097018520506656,
          -0.8998025213320278,
          2.2744708006020584,
          -1.2989964534559673,
          1.2567628834902713,
          0.9586268624499967,
          1.0292763836765124,
          0.23642372515301469,
          -0.6456930750549342,
          1.4959836369417008,
          -0.07036421252807842,
          -0.7362854978086856,
          -0.4795472607190941,
          1.6003974543998063,
          -0.3481208183712817
         ],
         "yaxis": "y5"
        },
        {
         "histfunc": "count",
         "histnorm": "",
         "marker": {
          "color": "rgba(55, 128, 191, 1.0)",
          "line": {
           "color": "#4D5663",
           "width": 1.3
          }
         },
         "name": "B",
         "nbinsx": 10,
         "opacity": 0.8,
         "orientation": "v",
         "type": "histogram",
         "x": [
          -0.9532399160561278,
          -0.5868484365358092,
          -0.5322015045622156,
          -0.067966143001875,
          0.9486452867643311,
          -0.6629183797257413,
          -0.5337786235952177,
          -1.374005116607833,
          0.9538955464602282,
          0.9831229684062017,
          -0.7218794529268818,
          -1.738462406660161,
          0.8390413925664644,
          0.4716881828898347,
          1.840314344187763,
          0.7829064814901634,
          -0.29559972424111564,
          -0.4543075695792023,
          -0.24134848173579576,
          1.0620942076543174,
          0.8126293598752975,
          0.12771413630928588,
          0.6479158525379064,
          -1.3221014076081543,
          -0.6104132558623014,
          1.6009003090453902,
          0.9269141114311796,
          -0.09885623938144297,
          0.8712506984556516,
          -1.8373391727315502,
          -0.8095199640075892,
          0.5647221507466086,
          -0.33873776587617926,
          1.2770174534384262,
          -0.401058722431807,
          -0.3991026372035775,
          0.6954802542981,
          0.4657361921256589,
          -0.6115763656174145,
          -0.76790041556677,
          -0.8760445121497197,
          0.9385120394049317,
          0.12548592918841428,
          0.12853157804446833,
          -0.9198386416256834,
          -0.16736007077296486,
          -0.273108590084941,
          -1.038593836786086,
          -1.789678683700114,
          -0.08672543648003408,
          0.1791283495405397,
          0.19740149687421615,
          -1.8532304045831987,
          0.09418603272153049,
          -0.05406171658396121,
          1.1613967379069392,
          0.2908581391725514,
          0.9334829806606881,
          0.8759062521948778,
          0.01544050596120699,
          -2.1433853948711863,
          -0.6550694134265117,
          0.9450328060012705,
          -0.7318511174804488,
          -0.2760665477991691,
          1.832042341227804,
          0.7153981071725797,
          0.3097267840306819,
          0.5458716771237517,
          -0.27788252174846967,
          -2.56791567288503,
          1.0733981182897139,
          0.5539305528644727,
          -0.8875864930235106,
          -0.9215489395600035,
          -0.48052999506367167,
          0.734067673662595,
          0.7410495064840434,
          -0.4455153474458417,
          0.47171647604105243,
          2.2033238446375445,
          -0.13287462890628282,
          1.57108408511727,
          -0.2832152183269851,
          0.6604718888161459,
          -0.8097018520506656,
          -0.8998025213320278,
          2.2744708006020584,
          -1.2989964534559673,
          1.2567628834902713,
          0.9586268624499967,
          1.0292763836765124,
          0.23642372515301469,
          -0.6456930750549342,
          1.4959836369417008,
          -0.07036421252807842,
          -0.7362854978086856,
          -0.4795472607190941,
          1.6003974543998063,
          -0.3481208183712817
         ],
         "xaxis": "x6",
         "yaxis": "y6"
        },
        {
         "line": {
          "color": "rgba(128, 128, 128, 1.0)",
          "dash": "solid",
          "shape": "linear",
          "width": 1.3
         },
         "marker": {
          "size": 2,
          "symbol": "circle"
         },
         "mode": "markers",
         "name": "B",
         "text": "",
         "type": "scatter",
         "x": [
          1.4983864779909448,
          -0.0683974342124604,
          -0.5337891463858248,
          0.44154354919874567,
          -1.2318152574431034,
          1.2985630040366611,
          -2.218451919669104,
          0.9332677474881452,
          0.48887768670488263,
          0.7100565211778788,
          -1.180211018759006,
          0.40357787691680996,
          -0.18176450555296522,
          -0.19923388484756513,
          2.2707936648476434,
          0.7134211445041823,
          -0.20914473971566427,
          0.6731272521506116,
          -0.1712162713391917,
          -0.32409938623671136,
          0.3231132918011072,
          -1.5336155761055157,
          0.5025780232508699,
          -0.29693856159868626,
          0.23987661690729795,
          0.44290559204476504,
          -0.529833328173643,
          -0.029194069017488885,
          1.2034809706627385,
          0.4920550863252347,
          1.3118142713736591,
          -0.012957419236584167,
          0.9926476583889912,
          1.2718468624411214,
          2.0622297852705547,
          1.9746120568742223,
          0.7116292523754622,
          -0.4737056251190207,
          -0.5474136556886244,
          0.6820687853788049,
          0.1752813698701687,
          0.03369271598512779,
          0.534436508849568,
          -0.43959501846003035,
          -0.5781181336082649,
          1.9012412703468982,
          -0.03727290144563984,
          0.5574680225499314,
          0.9559932227587079,
          -0.32636063943397453,
          -0.33839420843768,
          0.33923148177384843,
          -0.017272371086671515,
          -0.7399021484764235,
          -1.165467022871023,
          -1.292106893654066,
          -1.784099308455661,
          -0.9785305487491726,
          0.4780020587967749,
          -0.5248854157902065,
          -0.6125375405316861,
          0.6759309903954257,
          0.6041448312385654,
          -0.33039041832431093,
          -0.17339863721071497,
          -0.009843440355222733,
          0.7997753502200071,
          -1.107214785996133,
          0.498447288776335,
          0.6794945513401383,
          -0.1382266500550088,
          1.2781507015495341,
          0.6254176748292696,
          0.7886826509605261,
          -0.8181677561777155,
          -0.6384163425676622,
          -1.0479872434449466,
          -1.2177317666516922,
          -1.5111568383490466,
          0.9615221253744407,
          0.9680307972915704,
          0.7370807455860703,
          0.08595259442313354,
          -0.3819517739097434,
          0.5814733207998918,
          -0.9305531186290832,
          0.09422451520604969,
          1.81821824919206,
          0.06749656036457062,
          -0.6269712132943323,
          0.28732203080938473,
          -0.34598621688533177,
          -0.04863017192128949,
          -0.3539736054969189,
          -1.2972990448743276,
          1.6800575190759655,
          -0.3891493008112305,
          1.345521828588874,
          1.272967956040553,
          3.3265035585717997
         ],
         "xaxis": "x7",
         "y": [
          -0.9532399160561278,
          -0.5868484365358092,
          -0.5322015045622156,
          -0.067966143001875,
          0.9486452867643311,
          -0.6629183797257413,
          -0.5337786235952177,
          -1.374005116607833,
          0.9538955464602282,
          0.9831229684062017,
          -0.7218794529268818,
          -1.738462406660161,
          0.8390413925664644,
          0.4716881828898347,
          1.840314344187763,
          0.7829064814901634,
          -0.29559972424111564,
          -0.4543075695792023,
          -0.24134848173579576,
          1.0620942076543174,
          0.8126293598752975,
          0.12771413630928588,
          0.6479158525379064,
          -1.3221014076081543,
          -0.6104132558623014,
          1.6009003090453902,
          0.9269141114311796,
          -0.09885623938144297,
          0.8712506984556516,
          -1.8373391727315502,
          -0.8095199640075892,
          0.5647221507466086,
          -0.33873776587617926,
          1.2770174534384262,
          -0.401058722431807,
          -0.3991026372035775,
          0.6954802542981,
          0.4657361921256589,
          -0.6115763656174145,
          -0.76790041556677,
          -0.8760445121497197,
          0.9385120394049317,
          0.12548592918841428,
          0.12853157804446833,
          -0.9198386416256834,
          -0.16736007077296486,
          -0.273108590084941,
          -1.038593836786086,
          -1.789678683700114,
          -0.08672543648003408,
          0.1791283495405397,
          0.19740149687421615,
          -1.8532304045831987,
          0.09418603272153049,
          -0.05406171658396121,
          1.1613967379069392,
          0.2908581391725514,
          0.9334829806606881,
          0.8759062521948778,
          0.01544050596120699,
          -2.1433853948711863,
          -0.6550694134265117,
          0.9450328060012705,
          -0.7318511174804488,
          -0.2760665477991691,
          1.832042341227804,
          0.7153981071725797,
          0.3097267840306819,
          0.5458716771237517,
          -0.27788252174846967,
          -2.56791567288503,
          1.0733981182897139,
          0.5539305528644727,
          -0.8875864930235106,
          -0.9215489395600035,
          -0.48052999506367167,
          0.734067673662595,
          0.7410495064840434,
          -0.4455153474458417,
          0.47171647604105243,
          2.2033238446375445,
          -0.13287462890628282,
          1.57108408511727,
          -0.2832152183269851,
          0.6604718888161459,
          -0.8097018520506656,
          -0.8998025213320278,
          2.2744708006020584,
          -1.2989964534559673,
          1.2567628834902713,
          0.9586268624499967,
          1.0292763836765124,
          0.23642372515301469,
          -0.6456930750549342,
          1.4959836369417008,
          -0.07036421252807842,
          -0.7362854978086856,
          -0.4795472607190941,
          1.6003974543998063,
          -0.3481208183712817
         ],
         "yaxis": "y7"
        },
        {
         "line": {
          "color": "rgba(128, 128, 128, 1.0)",
          "dash": "solid",
          "shape": "linear",
          "width": 1.3
         },
         "marker": {
          "size": 2,
          "symbol": "circle"
         },
         "mode": "markers",
         "name": "B",
         "text": "",
         "type": "scatter",
         "x": [
          -1.5319495460763377,
          -0.7823135218083629,
          -1.2093363017654826,
          0.7797917356745605,
          0.33983173967364444,
          -0.6668906877377361,
          -0.9240185127971479,
          -1.401096364281915,
          -0.2048781567578501,
          1.1948511507781823,
          1.9378710428122337,
          -0.19788163111016083,
          -0.9621305666501678,
          0.5138660890036052,
          -1.143865652539835,
          -1.1982136890776176,
          0.8292787619731817,
          0.3295035520497889,
          0.8222470222792261,
          -0.5121999795691015,
          -1.237290642027615,
          0.11446894929464378,
          -1.505822965665104,
          -1.2565156539734794,
          -0.9237007926029537,
          -0.20485623833171945,
          -1.242963400226735,
          0.46065343842511053,
          0.8627455440540776,
          0.37885281652310104,
          -0.404771823670305,
          1.9530589976655945,
          -1.5658095281175592,
          -0.9899786783745753,
          -0.4138508787543901,
          2.0771413723760905,
          0.08921008719746723,
          -1.3556168492151528,
          -0.7678695095182647,
          -1.1128032731182662,
          -2.048881608126047,
          -0.26848514807393614,
          1.229562428489407,
          -0.7531155606516615,
          -1.0141352555130447,
          -0.3574010751276007,
          1.193569139394085,
          -0.1713953689270901,
          0.5419494728333556,
          -0.5194810685746506,
          -0.16357195310254669,
          0.7467042929422325,
          0.383803866327178,
          -0.002594563791913918,
          -0.3032870044789301,
          0.16558660457653496,
          -0.9419723485650384,
          -0.8099143888303659,
          1.2205839875266769,
          -1.7007322354324552,
          -0.5497960766879818,
          -1.4017578932924981,
          -2.2045320929247545,
          0.3986718611011956,
          -0.09064289146691248,
          0.85543610620957,
          1.1551676178843544,
          -0.41020533331384035,
          -0.8446806004273089,
          -0.47554568454257223,
          -0.06593091310501963,
          0.29154657424817887,
          1.8014650512475308,
          -0.42036587587693824,
          0.5939056868343671,
          0.12396213447308421,
          0.5742018423253487,
          0.6007861599895614,
          0.6722461239448084,
          0.4174574720090517,
          -0.9287455608677232,
          -0.040409801326219574,
          -0.5772027988901258,
          -0.6366786617000452,
          -1.474079529032982,
          0.5301472217828153,
          -0.5618726312931238,
          0.5743351632740945,
          -0.20108858944342017,
          0.4951290430399495,
          -0.3437933242276682,
          0.21337031294925046,
          -0.30421319297951926,
          0.6185743763842435,
          1.3426061469006845,
          -2.6898523405519335,
          -1.2997624793502054,
          -0.014491457910390242,
          -0.7531758443186563,
          0.051972534063198135
         ],
         "xaxis": "x8",
         "y": [
          -0.9532399160561278,
          -0.5868484365358092,
          -0.5322015045622156,
          -0.067966143001875,
          0.9486452867643311,
          -0.6629183797257413,
          -0.5337786235952177,
          -1.374005116607833,
          0.9538955464602282,
          0.9831229684062017,
          -0.7218794529268818,
          -1.738462406660161,
          0.8390413925664644,
          0.4716881828898347,
          1.840314344187763,
          0.7829064814901634,
          -0.29559972424111564,
          -0.4543075695792023,
          -0.24134848173579576,
          1.0620942076543174,
          0.8126293598752975,
          0.12771413630928588,
          0.6479158525379064,
          -1.3221014076081543,
          -0.6104132558623014,
          1.6009003090453902,
          0.9269141114311796,
          -0.09885623938144297,
          0.8712506984556516,
          -1.8373391727315502,
          -0.8095199640075892,
          0.5647221507466086,
          -0.33873776587617926,
          1.2770174534384262,
          -0.401058722431807,
          -0.3991026372035775,
          0.6954802542981,
          0.4657361921256589,
          -0.6115763656174145,
          -0.76790041556677,
          -0.8760445121497197,
          0.9385120394049317,
          0.12548592918841428,
          0.12853157804446833,
          -0.9198386416256834,
          -0.16736007077296486,
          -0.273108590084941,
          -1.038593836786086,
          -1.789678683700114,
          -0.08672543648003408,
          0.1791283495405397,
          0.19740149687421615,
          -1.8532304045831987,
          0.09418603272153049,
          -0.05406171658396121,
          1.1613967379069392,
          0.2908581391725514,
          0.9334829806606881,
          0.8759062521948778,
          0.01544050596120699,
          -2.1433853948711863,
          -0.6550694134265117,
          0.9450328060012705,
          -0.7318511174804488,
          -0.2760665477991691,
          1.832042341227804,
          0.7153981071725797,
          0.3097267840306819,
          0.5458716771237517,
          -0.27788252174846967,
          -2.56791567288503,
          1.0733981182897139,
          0.5539305528644727,
          -0.8875864930235106,
          -0.9215489395600035,
          -0.48052999506367167,
          0.734067673662595,
          0.7410495064840434,
          -0.4455153474458417,
          0.47171647604105243,
          2.2033238446375445,
          -0.13287462890628282,
          1.57108408511727,
          -0.2832152183269851,
          0.6604718888161459,
          -0.8097018520506656,
          -0.8998025213320278,
          2.2744708006020584,
          -1.2989964534559673,
          1.2567628834902713,
          0.9586268624499967,
          1.0292763836765124,
          0.23642372515301469,
          -0.6456930750549342,
          1.4959836369417008,
          -0.07036421252807842,
          -0.7362854978086856,
          -0.4795472607190941,
          1.6003974543998063,
          -0.3481208183712817
         ],
         "yaxis": "y8"
        },
        {
         "line": {
          "color": "rgba(128, 128, 128, 1.0)",
          "dash": "solid",
          "shape": "linear",
          "width": 1.3
         },
         "marker": {
          "size": 2,
          "symbol": "circle"
         },
         "mode": "markers",
         "name": "C",
         "text": "",
         "type": "scatter",
         "x": [
          -0.14503484795852725,
          -3.0165964743780136,
          0.24392315292249664,
          0.2011504284420982,
          -1.954377685047049,
          0.018622857603898417,
          0.8617756539234976,
          -1.1789175288139595,
          0.09453158593071533,
          -0.8190086004558853,
          -0.5111915119844852,
          -0.37019437878534933,
          0.49406010167759457,
          0.7318957798065484,
          -0.6245807673201975,
          0.3860474439383816,
          0.4682472943605631,
          0.1627222638546957,
          -0.8365295450105019,
          -0.1484272992826551,
          -0.14699585388358868,
          -0.8989769017012104,
          3.375644491066588,
          0.8636351957100722,
          0.9764706586185982,
          1.8839025583510707,
          0.49039805334819536,
          1.1798805121748803,
          -0.08293830705260241,
          0.020189132289008475,
          -1.212888981610273,
          -0.9540852579325413,
          0.03227530808262174,
          -0.8518559637939185,
          0.9654680591995582,
          -1.0356822197978657,
          -0.8665007063675878,
          1.1028588348458925,
          -1.0335879734720794,
          -0.8709376829504009,
          1.6229341507509705,
          -0.0960647329416155,
          0.558693955982772,
          -0.47009300020518974,
          -0.098392235514167,
          1.184576665806727,
          0.01243576370376068,
          -0.10444812302065885,
          0.16465566602612397,
          -0.47601592047505115,
          -0.3524503064476507,
          -1.1142072718294294,
          -0.24775154136288996,
          0.6454080597490083,
          0.06799428384607312,
          -2.3458667879361808,
          0.0750307959732018,
          -0.02338014024049768,
          0.408278691353931,
          -1.3197647537174,
          -0.08369974574571107,
          0.028103212057242984,
          0.24146463374541377,
          -0.1314784283188998,
          -0.35399171541630814,
          0.9047121766469459,
          0.577691629229222,
          -0.9041627507100116,
          0.6679213458174991,
          0.21340226976686694,
          0.5187350887843667,
          1.0291096353357165,
          -0.31331510697347104,
          -0.569615681897244,
          -0.08158041488700205,
          0.4024168949117813,
          -0.37676734107072724,
          0.02441103137705158,
          0.4372970535384335,
          0.6141820169439471,
          1.190905549407557,
          0.5607483976603372,
          -2.33021436137407,
          0.5234829274135729,
          -0.6133704977202653,
          0.6259858344588582,
          -0.03941965499720579,
          -0.3826539928719661,
          -1.1626848852541085,
          -0.13538449249010662,
          -0.44734498015120816,
          -0.675527294767186,
          -0.27764693163851684,
          2.0007679905946723,
          -0.023422696390421664,
          1.0516904951894257,
          -0.6505394429961281,
          0.16981956995748015,
          0.8454912342091417,
          -0.3025957383637378
         ],
         "xaxis": "x9",
         "y": [
          1.4983864779909448,
          -0.0683974342124604,
          -0.5337891463858248,
          0.44154354919874567,
          -1.2318152574431034,
          1.2985630040366611,
          -2.218451919669104,
          0.9332677474881452,
          0.48887768670488263,
          0.7100565211778788,
          -1.180211018759006,
          0.40357787691680996,
          -0.18176450555296522,
          -0.19923388484756513,
          2.2707936648476434,
          0.7134211445041823,
          -0.20914473971566427,
          0.6731272521506116,
          -0.1712162713391917,
          -0.32409938623671136,
          0.3231132918011072,
          -1.5336155761055157,
          0.5025780232508699,
          -0.29693856159868626,
          0.23987661690729795,
          0.44290559204476504,
          -0.529833328173643,
          -0.029194069017488885,
          1.2034809706627385,
          0.4920550863252347,
          1.3118142713736591,
          -0.012957419236584167,
          0.9926476583889912,
          1.2718468624411214,
          2.0622297852705547,
          1.9746120568742223,
          0.7116292523754622,
          -0.4737056251190207,
          -0.5474136556886244,
          0.6820687853788049,
          0.1752813698701687,
          0.03369271598512779,
          0.534436508849568,
          -0.43959501846003035,
          -0.5781181336082649,
          1.9012412703468982,
          -0.03727290144563984,
          0.5574680225499314,
          0.9559932227587079,
          -0.32636063943397453,
          -0.33839420843768,
          0.33923148177384843,
          -0.017272371086671515,
          -0.7399021484764235,
          -1.165467022871023,
          -1.292106893654066,
          -1.784099308455661,
          -0.9785305487491726,
          0.4780020587967749,
          -0.5248854157902065,
          -0.6125375405316861,
          0.6759309903954257,
          0.6041448312385654,
          -0.33039041832431093,
          -0.17339863721071497,
          -0.009843440355222733,
          0.7997753502200071,
          -1.107214785996133,
          0.498447288776335,
          0.6794945513401383,
          -0.1382266500550088,
          1.2781507015495341,
          0.6254176748292696,
          0.7886826509605261,
          -0.8181677561777155,
          -0.6384163425676622,
          -1.0479872434449466,
          -1.2177317666516922,
          -1.5111568383490466,
          0.9615221253744407,
          0.9680307972915704,
          0.7370807455860703,
          0.08595259442313354,
          -0.3819517739097434,
          0.5814733207998918,
          -0.9305531186290832,
          0.09422451520604969,
          1.81821824919206,
          0.06749656036457062,
          -0.6269712132943323,
          0.28732203080938473,
          -0.34598621688533177,
          -0.04863017192128949,
          -0.3539736054969189,
          -1.2972990448743276,
          1.6800575190759655,
          -0.3891493008112305,
          1.345521828588874,
          1.272967956040553,
          3.3265035585717997
         ],
         "yaxis": "y9"
        },
        {
         "line": {
          "color": "rgba(128, 128, 128, 1.0)",
          "dash": "solid",
          "shape": "linear",
          "width": 1.3
         },
         "marker": {
          "size": 2,
          "symbol": "circle"
         },
         "mode": "markers",
         "name": "C",
         "text": "",
         "type": "scatter",
         "x": [
          -0.9532399160561278,
          -0.5868484365358092,
          -0.5322015045622156,
          -0.067966143001875,
          0.9486452867643311,
          -0.6629183797257413,
          -0.5337786235952177,
          -1.374005116607833,
          0.9538955464602282,
          0.9831229684062017,
          -0.7218794529268818,
          -1.738462406660161,
          0.8390413925664644,
          0.4716881828898347,
          1.840314344187763,
          0.7829064814901634,
          -0.29559972424111564,
          -0.4543075695792023,
          -0.24134848173579576,
          1.0620942076543174,
          0.8126293598752975,
          0.12771413630928588,
          0.6479158525379064,
          -1.3221014076081543,
          -0.6104132558623014,
          1.6009003090453902,
          0.9269141114311796,
          -0.09885623938144297,
          0.8712506984556516,
          -1.8373391727315502,
          -0.8095199640075892,
          0.5647221507466086,
          -0.33873776587617926,
          1.2770174534384262,
          -0.401058722431807,
          -0.3991026372035775,
          0.6954802542981,
          0.4657361921256589,
          -0.6115763656174145,
          -0.76790041556677,
          -0.8760445121497197,
          0.9385120394049317,
          0.12548592918841428,
          0.12853157804446833,
          -0.9198386416256834,
          -0.16736007077296486,
          -0.273108590084941,
          -1.038593836786086,
          -1.789678683700114,
          -0.08672543648003408,
          0.1791283495405397,
          0.19740149687421615,
          -1.8532304045831987,
          0.09418603272153049,
          -0.05406171658396121,
          1.1613967379069392,
          0.2908581391725514,
          0.9334829806606881,
          0.8759062521948778,
          0.01544050596120699,
          -2.1433853948711863,
          -0.6550694134265117,
          0.9450328060012705,
          -0.7318511174804488,
          -0.2760665477991691,
          1.832042341227804,
          0.7153981071725797,
          0.3097267840306819,
          0.5458716771237517,
          -0.27788252174846967,
          -2.56791567288503,
          1.0733981182897139,
          0.5539305528644727,
          -0.8875864930235106,
          -0.9215489395600035,
          -0.48052999506367167,
          0.734067673662595,
          0.7410495064840434,
          -0.4455153474458417,
          0.47171647604105243,
          2.2033238446375445,
          -0.13287462890628282,
          1.57108408511727,
          -0.2832152183269851,
          0.6604718888161459,
          -0.8097018520506656,
          -0.8998025213320278,
          2.2744708006020584,
          -1.2989964534559673,
          1.2567628834902713,
          0.9586268624499967,
          1.0292763836765124,
          0.23642372515301469,
          -0.6456930750549342,
          1.4959836369417008,
          -0.07036421252807842,
          -0.7362854978086856,
          -0.4795472607190941,
          1.6003974543998063,
          -0.3481208183712817
         ],
         "xaxis": "x10",
         "y": [
          1.4983864779909448,
          -0.0683974342124604,
          -0.5337891463858248,
          0.44154354919874567,
          -1.2318152574431034,
          1.2985630040366611,
          -2.218451919669104,
          0.9332677474881452,
          0.48887768670488263,
          0.7100565211778788,
          -1.180211018759006,
          0.40357787691680996,
          -0.18176450555296522,
          -0.19923388484756513,
          2.2707936648476434,
          0.7134211445041823,
          -0.20914473971566427,
          0.6731272521506116,
          -0.1712162713391917,
          -0.32409938623671136,
          0.3231132918011072,
          -1.5336155761055157,
          0.5025780232508699,
          -0.29693856159868626,
          0.23987661690729795,
          0.44290559204476504,
          -0.529833328173643,
          -0.029194069017488885,
          1.2034809706627385,
          0.4920550863252347,
          1.3118142713736591,
          -0.012957419236584167,
          0.9926476583889912,
          1.2718468624411214,
          2.0622297852705547,
          1.9746120568742223,
          0.7116292523754622,
          -0.4737056251190207,
          -0.5474136556886244,
          0.6820687853788049,
          0.1752813698701687,
          0.03369271598512779,
          0.534436508849568,
          -0.43959501846003035,
          -0.5781181336082649,
          1.9012412703468982,
          -0.03727290144563984,
          0.5574680225499314,
          0.9559932227587079,
          -0.32636063943397453,
          -0.33839420843768,
          0.33923148177384843,
          -0.017272371086671515,
          -0.7399021484764235,
          -1.165467022871023,
          -1.292106893654066,
          -1.784099308455661,
          -0.9785305487491726,
          0.4780020587967749,
          -0.5248854157902065,
          -0.6125375405316861,
          0.6759309903954257,
          0.6041448312385654,
          -0.33039041832431093,
          -0.17339863721071497,
          -0.009843440355222733,
          0.7997753502200071,
          -1.107214785996133,
          0.498447288776335,
          0.6794945513401383,
          -0.1382266500550088,
          1.2781507015495341,
          0.6254176748292696,
          0.7886826509605261,
          -0.8181677561777155,
          -0.6384163425676622,
          -1.0479872434449466,
          -1.2177317666516922,
          -1.5111568383490466,
          0.9615221253744407,
          0.9680307972915704,
          0.7370807455860703,
          0.08595259442313354,
          -0.3819517739097434,
          0.5814733207998918,
          -0.9305531186290832,
          0.09422451520604969,
          1.81821824919206,
          0.06749656036457062,
          -0.6269712132943323,
          0.28732203080938473,
          -0.34598621688533177,
          -0.04863017192128949,
          -0.3539736054969189,
          -1.2972990448743276,
          1.6800575190759655,
          -0.3891493008112305,
          1.345521828588874,
          1.272967956040553,
          3.3265035585717997
         ],
         "yaxis": "y10"
        },
        {
         "histfunc": "count",
         "histnorm": "",
         "marker": {
          "color": "rgba(50, 171, 96, 1.0)",
          "line": {
           "color": "#4D5663",
           "width": 1.3
          }
         },
         "name": "C",
         "nbinsx": 10,
         "opacity": 0.8,
         "orientation": "v",
         "type": "histogram",
         "x": [
          1.4983864779909448,
          -0.0683974342124604,
          -0.5337891463858248,
          0.44154354919874567,
          -1.2318152574431034,
          1.2985630040366611,
          -2.218451919669104,
          0.9332677474881452,
          0.48887768670488263,
          0.7100565211778788,
          -1.180211018759006,
          0.40357787691680996,
          -0.18176450555296522,
          -0.19923388484756513,
          2.2707936648476434,
          0.7134211445041823,
          -0.20914473971566427,
          0.6731272521506116,
          -0.1712162713391917,
          -0.32409938623671136,
          0.3231132918011072,
          -1.5336155761055157,
          0.5025780232508699,
          -0.29693856159868626,
          0.23987661690729795,
          0.44290559204476504,
          -0.529833328173643,
          -0.029194069017488885,
          1.2034809706627385,
          0.4920550863252347,
          1.3118142713736591,
          -0.012957419236584167,
          0.9926476583889912,
          1.2718468624411214,
          2.0622297852705547,
          1.9746120568742223,
          0.7116292523754622,
          -0.4737056251190207,
          -0.5474136556886244,
          0.6820687853788049,
          0.1752813698701687,
          0.03369271598512779,
          0.534436508849568,
          -0.43959501846003035,
          -0.5781181336082649,
          1.9012412703468982,
          -0.03727290144563984,
          0.5574680225499314,
          0.9559932227587079,
          -0.32636063943397453,
          -0.33839420843768,
          0.33923148177384843,
          -0.017272371086671515,
          -0.7399021484764235,
          -1.165467022871023,
          -1.292106893654066,
          -1.784099308455661,
          -0.9785305487491726,
          0.4780020587967749,
          -0.5248854157902065,
          -0.6125375405316861,
          0.6759309903954257,
          0.6041448312385654,
          -0.33039041832431093,
          -0.17339863721071497,
          -0.009843440355222733,
          0.7997753502200071,
          -1.107214785996133,
          0.498447288776335,
          0.6794945513401383,
          -0.1382266500550088,
          1.2781507015495341,
          0.6254176748292696,
          0.7886826509605261,
          -0.8181677561777155,
          -0.6384163425676622,
          -1.0479872434449466,
          -1.2177317666516922,
          -1.5111568383490466,
          0.9615221253744407,
          0.9680307972915704,
          0.7370807455860703,
          0.08595259442313354,
          -0.3819517739097434,
          0.5814733207998918,
          -0.9305531186290832,
          0.09422451520604969,
          1.81821824919206,
          0.06749656036457062,
          -0.6269712132943323,
          0.28732203080938473,
          -0.34598621688533177,
          -0.04863017192128949,
          -0.3539736054969189,
          -1.2972990448743276,
          1.6800575190759655,
          -0.3891493008112305,
          1.345521828588874,
          1.272967956040553,
          3.3265035585717997
         ],
         "xaxis": "x11",
         "yaxis": "y11"
        },
        {
         "line": {
          "color": "rgba(128, 128, 128, 1.0)",
          "dash": "solid",
          "shape": "linear",
          "width": 1.3
         },
         "marker": {
          "size": 2,
          "symbol": "circle"
         },
         "mode": "markers",
         "name": "C",
         "text": "",
         "type": "scatter",
         "x": [
          -1.5319495460763377,
          -0.7823135218083629,
          -1.2093363017654826,
          0.7797917356745605,
          0.33983173967364444,
          -0.6668906877377361,
          -0.9240185127971479,
          -1.401096364281915,
          -0.2048781567578501,
          1.1948511507781823,
          1.9378710428122337,
          -0.19788163111016083,
          -0.9621305666501678,
          0.5138660890036052,
          -1.143865652539835,
          -1.1982136890776176,
          0.8292787619731817,
          0.3295035520497889,
          0.8222470222792261,
          -0.5121999795691015,
          -1.237290642027615,
          0.11446894929464378,
          -1.505822965665104,
          -1.2565156539734794,
          -0.9237007926029537,
          -0.20485623833171945,
          -1.242963400226735,
          0.46065343842511053,
          0.8627455440540776,
          0.37885281652310104,
          -0.404771823670305,
          1.9530589976655945,
          -1.5658095281175592,
          -0.9899786783745753,
          -0.4138508787543901,
          2.0771413723760905,
          0.08921008719746723,
          -1.3556168492151528,
          -0.7678695095182647,
          -1.1128032731182662,
          -2.048881608126047,
          -0.26848514807393614,
          1.229562428489407,
          -0.7531155606516615,
          -1.0141352555130447,
          -0.3574010751276007,
          1.193569139394085,
          -0.1713953689270901,
          0.5419494728333556,
          -0.5194810685746506,
          -0.16357195310254669,
          0.7467042929422325,
          0.383803866327178,
          -0.002594563791913918,
          -0.3032870044789301,
          0.16558660457653496,
          -0.9419723485650384,
          -0.8099143888303659,
          1.2205839875266769,
          -1.7007322354324552,
          -0.5497960766879818,
          -1.4017578932924981,
          -2.2045320929247545,
          0.3986718611011956,
          -0.09064289146691248,
          0.85543610620957,
          1.1551676178843544,
          -0.41020533331384035,
          -0.8446806004273089,
          -0.47554568454257223,
          -0.06593091310501963,
          0.29154657424817887,
          1.8014650512475308,
          -0.42036587587693824,
          0.5939056868343671,
          0.12396213447308421,
          0.5742018423253487,
          0.6007861599895614,
          0.6722461239448084,
          0.4174574720090517,
          -0.9287455608677232,
          -0.040409801326219574,
          -0.5772027988901258,
          -0.6366786617000452,
          -1.474079529032982,
          0.5301472217828153,
          -0.5618726312931238,
          0.5743351632740945,
          -0.20108858944342017,
          0.4951290430399495,
          -0.3437933242276682,
          0.21337031294925046,
          -0.30421319297951926,
          0.6185743763842435,
          1.3426061469006845,
          -2.6898523405519335,
          -1.2997624793502054,
          -0.014491457910390242,
          -0.7531758443186563,
          0.051972534063198135
         ],
         "xaxis": "x12",
         "y": [
          1.4983864779909448,
          -0.0683974342124604,
          -0.5337891463858248,
          0.44154354919874567,
          -1.2318152574431034,
          1.2985630040366611,
          -2.218451919669104,
          0.9332677474881452,
          0.48887768670488263,
          0.7100565211778788,
          -1.180211018759006,
          0.40357787691680996,
          -0.18176450555296522,
          -0.19923388484756513,
          2.2707936648476434,
          0.7134211445041823,
          -0.20914473971566427,
          0.6731272521506116,
          -0.1712162713391917,
          -0.32409938623671136,
          0.3231132918011072,
          -1.5336155761055157,
          0.5025780232508699,
          -0.29693856159868626,
          0.23987661690729795,
          0.44290559204476504,
          -0.529833328173643,
          -0.029194069017488885,
          1.2034809706627385,
          0.4920550863252347,
          1.3118142713736591,
          -0.012957419236584167,
          0.9926476583889912,
          1.2718468624411214,
          2.0622297852705547,
          1.9746120568742223,
          0.7116292523754622,
          -0.4737056251190207,
          -0.5474136556886244,
          0.6820687853788049,
          0.1752813698701687,
          0.03369271598512779,
          0.534436508849568,
          -0.43959501846003035,
          -0.5781181336082649,
          1.9012412703468982,
          -0.03727290144563984,
          0.5574680225499314,
          0.9559932227587079,
          -0.32636063943397453,
          -0.33839420843768,
          0.33923148177384843,
          -0.017272371086671515,
          -0.7399021484764235,
          -1.165467022871023,
          -1.292106893654066,
          -1.784099308455661,
          -0.9785305487491726,
          0.4780020587967749,
          -0.5248854157902065,
          -0.6125375405316861,
          0.6759309903954257,
          0.6041448312385654,
          -0.33039041832431093,
          -0.17339863721071497,
          -0.009843440355222733,
          0.7997753502200071,
          -1.107214785996133,
          0.498447288776335,
          0.6794945513401383,
          -0.1382266500550088,
          1.2781507015495341,
          0.6254176748292696,
          0.7886826509605261,
          -0.8181677561777155,
          -0.6384163425676622,
          -1.0479872434449466,
          -1.2177317666516922,
          -1.5111568383490466,
          0.9615221253744407,
          0.9680307972915704,
          0.7370807455860703,
          0.08595259442313354,
          -0.3819517739097434,
          0.5814733207998918,
          -0.9305531186290832,
          0.09422451520604969,
          1.81821824919206,
          0.06749656036457062,
          -0.6269712132943323,
          0.28732203080938473,
          -0.34598621688533177,
          -0.04863017192128949,
          -0.3539736054969189,
          -1.2972990448743276,
          1.6800575190759655,
          -0.3891493008112305,
          1.345521828588874,
          1.272967956040553,
          3.3265035585717997
         ],
         "yaxis": "y12"
        },
        {
         "line": {
          "color": "rgba(128, 128, 128, 1.0)",
          "dash": "solid",
          "shape": "linear",
          "width": 1.3
         },
         "marker": {
          "size": 2,
          "symbol": "circle"
         },
         "mode": "markers",
         "name": "D",
         "text": "",
         "type": "scatter",
         "x": [
          -0.14503484795852725,
          -3.0165964743780136,
          0.24392315292249664,
          0.2011504284420982,
          -1.954377685047049,
          0.018622857603898417,
          0.8617756539234976,
          -1.1789175288139595,
          0.09453158593071533,
          -0.8190086004558853,
          -0.5111915119844852,
          -0.37019437878534933,
          0.49406010167759457,
          0.7318957798065484,
          -0.6245807673201975,
          0.3860474439383816,
          0.4682472943605631,
          0.1627222638546957,
          -0.8365295450105019,
          -0.1484272992826551,
          -0.14699585388358868,
          -0.8989769017012104,
          3.375644491066588,
          0.8636351957100722,
          0.9764706586185982,
          1.8839025583510707,
          0.49039805334819536,
          1.1798805121748803,
          -0.08293830705260241,
          0.020189132289008475,
          -1.212888981610273,
          -0.9540852579325413,
          0.03227530808262174,
          -0.8518559637939185,
          0.9654680591995582,
          -1.0356822197978657,
          -0.8665007063675878,
          1.1028588348458925,
          -1.0335879734720794,
          -0.8709376829504009,
          1.6229341507509705,
          -0.0960647329416155,
          0.558693955982772,
          -0.47009300020518974,
          -0.098392235514167,
          1.184576665806727,
          0.01243576370376068,
          -0.10444812302065885,
          0.16465566602612397,
          -0.47601592047505115,
          -0.3524503064476507,
          -1.1142072718294294,
          -0.24775154136288996,
          0.6454080597490083,
          0.06799428384607312,
          -2.3458667879361808,
          0.0750307959732018,
          -0.02338014024049768,
          0.408278691353931,
          -1.3197647537174,
          -0.08369974574571107,
          0.028103212057242984,
          0.24146463374541377,
          -0.1314784283188998,
          -0.35399171541630814,
          0.9047121766469459,
          0.577691629229222,
          -0.9041627507100116,
          0.6679213458174991,
          0.21340226976686694,
          0.5187350887843667,
          1.0291096353357165,
          -0.31331510697347104,
          -0.569615681897244,
          -0.08158041488700205,
          0.4024168949117813,
          -0.37676734107072724,
          0.02441103137705158,
          0.4372970535384335,
          0.6141820169439471,
          1.190905549407557,
          0.5607483976603372,
          -2.33021436137407,
          0.5234829274135729,
          -0.6133704977202653,
          0.6259858344588582,
          -0.03941965499720579,
          -0.3826539928719661,
          -1.1626848852541085,
          -0.13538449249010662,
          -0.44734498015120816,
          -0.675527294767186,
          -0.27764693163851684,
          2.0007679905946723,
          -0.023422696390421664,
          1.0516904951894257,
          -0.6505394429961281,
          0.16981956995748015,
          0.8454912342091417,
          -0.3025957383637378
         ],
         "xaxis": "x13",
         "y": [
          -1.5319495460763377,
          -0.7823135218083629,
          -1.2093363017654826,
          0.7797917356745605,
          0.33983173967364444,
          -0.6668906877377361,
          -0.9240185127971479,
          -1.401096364281915,
          -0.2048781567578501,
          1.1948511507781823,
          1.9378710428122337,
          -0.19788163111016083,
          -0.9621305666501678,
          0.5138660890036052,
          -1.143865652539835,
          -1.1982136890776176,
          0.8292787619731817,
          0.3295035520497889,
          0.8222470222792261,
          -0.5121999795691015,
          -1.237290642027615,
          0.11446894929464378,
          -1.505822965665104,
          -1.2565156539734794,
          -0.9237007926029537,
          -0.20485623833171945,
          -1.242963400226735,
          0.46065343842511053,
          0.8627455440540776,
          0.37885281652310104,
          -0.404771823670305,
          1.9530589976655945,
          -1.5658095281175592,
          -0.9899786783745753,
          -0.4138508787543901,
          2.0771413723760905,
          0.08921008719746723,
          -1.3556168492151528,
          -0.7678695095182647,
          -1.1128032731182662,
          -2.048881608126047,
          -0.26848514807393614,
          1.229562428489407,
          -0.7531155606516615,
          -1.0141352555130447,
          -0.3574010751276007,
          1.193569139394085,
          -0.1713953689270901,
          0.5419494728333556,
          -0.5194810685746506,
          -0.16357195310254669,
          0.7467042929422325,
          0.383803866327178,
          -0.002594563791913918,
          -0.3032870044789301,
          0.16558660457653496,
          -0.9419723485650384,
          -0.8099143888303659,
          1.2205839875266769,
          -1.7007322354324552,
          -0.5497960766879818,
          -1.4017578932924981,
          -2.2045320929247545,
          0.3986718611011956,
          -0.09064289146691248,
          0.85543610620957,
          1.1551676178843544,
          -0.41020533331384035,
          -0.8446806004273089,
          -0.47554568454257223,
          -0.06593091310501963,
          0.29154657424817887,
          1.8014650512475308,
          -0.42036587587693824,
          0.5939056868343671,
          0.12396213447308421,
          0.5742018423253487,
          0.6007861599895614,
          0.6722461239448084,
          0.4174574720090517,
          -0.9287455608677232,
          -0.040409801326219574,
          -0.5772027988901258,
          -0.6366786617000452,
          -1.474079529032982,
          0.5301472217828153,
          -0.5618726312931238,
          0.5743351632740945,
          -0.20108858944342017,
          0.4951290430399495,
          -0.3437933242276682,
          0.21337031294925046,
          -0.30421319297951926,
          0.6185743763842435,
          1.3426061469006845,
          -2.6898523405519335,
          -1.2997624793502054,
          -0.014491457910390242,
          -0.7531758443186563,
          0.051972534063198135
         ],
         "yaxis": "y13"
        },
        {
         "line": {
          "color": "rgba(128, 128, 128, 1.0)",
          "dash": "solid",
          "shape": "linear",
          "width": 1.3
         },
         "marker": {
          "size": 2,
          "symbol": "circle"
         },
         "mode": "markers",
         "name": "D",
         "text": "",
         "type": "scatter",
         "x": [
          -0.9532399160561278,
          -0.5868484365358092,
          -0.5322015045622156,
          -0.067966143001875,
          0.9486452867643311,
          -0.6629183797257413,
          -0.5337786235952177,
          -1.374005116607833,
          0.9538955464602282,
          0.9831229684062017,
          -0.7218794529268818,
          -1.738462406660161,
          0.8390413925664644,
          0.4716881828898347,
          1.840314344187763,
          0.7829064814901634,
          -0.29559972424111564,
          -0.4543075695792023,
          -0.24134848173579576,
          1.0620942076543174,
          0.8126293598752975,
          0.12771413630928588,
          0.6479158525379064,
          -1.3221014076081543,
          -0.6104132558623014,
          1.6009003090453902,
          0.9269141114311796,
          -0.09885623938144297,
          0.8712506984556516,
          -1.8373391727315502,
          -0.8095199640075892,
          0.5647221507466086,
          -0.33873776587617926,
          1.2770174534384262,
          -0.401058722431807,
          -0.3991026372035775,
          0.6954802542981,
          0.4657361921256589,
          -0.6115763656174145,
          -0.76790041556677,
          -0.8760445121497197,
          0.9385120394049317,
          0.12548592918841428,
          0.12853157804446833,
          -0.9198386416256834,
          -0.16736007077296486,
          -0.273108590084941,
          -1.038593836786086,
          -1.789678683700114,
          -0.08672543648003408,
          0.1791283495405397,
          0.19740149687421615,
          -1.8532304045831987,
          0.09418603272153049,
          -0.05406171658396121,
          1.1613967379069392,
          0.2908581391725514,
          0.9334829806606881,
          0.8759062521948778,
          0.01544050596120699,
          -2.1433853948711863,
          -0.6550694134265117,
          0.9450328060012705,
          -0.7318511174804488,
          -0.2760665477991691,
          1.832042341227804,
          0.7153981071725797,
          0.3097267840306819,
          0.5458716771237517,
          -0.27788252174846967,
          -2.56791567288503,
          1.0733981182897139,
          0.5539305528644727,
          -0.8875864930235106,
          -0.9215489395600035,
          -0.48052999506367167,
          0.734067673662595,
          0.7410495064840434,
          -0.4455153474458417,
          0.47171647604105243,
          2.2033238446375445,
          -0.13287462890628282,
          1.57108408511727,
          -0.2832152183269851,
          0.6604718888161459,
          -0.8097018520506656,
          -0.8998025213320278,
          2.2744708006020584,
          -1.2989964534559673,
          1.2567628834902713,
          0.9586268624499967,
          1.0292763836765124,
          0.23642372515301469,
          -0.6456930750549342,
          1.4959836369417008,
          -0.07036421252807842,
          -0.7362854978086856,
          -0.4795472607190941,
          1.6003974543998063,
          -0.3481208183712817
         ],
         "xaxis": "x14",
         "y": [
          -1.5319495460763377,
          -0.7823135218083629,
          -1.2093363017654826,
          0.7797917356745605,
          0.33983173967364444,
          -0.6668906877377361,
          -0.9240185127971479,
          -1.401096364281915,
          -0.2048781567578501,
          1.1948511507781823,
          1.9378710428122337,
          -0.19788163111016083,
          -0.9621305666501678,
          0.5138660890036052,
          -1.143865652539835,
          -1.1982136890776176,
          0.8292787619731817,
          0.3295035520497889,
          0.8222470222792261,
          -0.5121999795691015,
          -1.237290642027615,
          0.11446894929464378,
          -1.505822965665104,
          -1.2565156539734794,
          -0.9237007926029537,
          -0.20485623833171945,
          -1.242963400226735,
          0.46065343842511053,
          0.8627455440540776,
          0.37885281652310104,
          -0.404771823670305,
          1.9530589976655945,
          -1.5658095281175592,
          -0.9899786783745753,
          -0.4138508787543901,
          2.0771413723760905,
          0.08921008719746723,
          -1.3556168492151528,
          -0.7678695095182647,
          -1.1128032731182662,
          -2.048881608126047,
          -0.26848514807393614,
          1.229562428489407,
          -0.7531155606516615,
          -1.0141352555130447,
          -0.3574010751276007,
          1.193569139394085,
          -0.1713953689270901,
          0.5419494728333556,
          -0.5194810685746506,
          -0.16357195310254669,
          0.7467042929422325,
          0.383803866327178,
          -0.002594563791913918,
          -0.3032870044789301,
          0.16558660457653496,
          -0.9419723485650384,
          -0.8099143888303659,
          1.2205839875266769,
          -1.7007322354324552,
          -0.5497960766879818,
          -1.4017578932924981,
          -2.2045320929247545,
          0.3986718611011956,
          -0.09064289146691248,
          0.85543610620957,
          1.1551676178843544,
          -0.41020533331384035,
          -0.8446806004273089,
          -0.47554568454257223,
          -0.06593091310501963,
          0.29154657424817887,
          1.8014650512475308,
          -0.42036587587693824,
          0.5939056868343671,
          0.12396213447308421,
          0.5742018423253487,
          0.6007861599895614,
          0.6722461239448084,
          0.4174574720090517,
          -0.9287455608677232,
          -0.040409801326219574,
          -0.5772027988901258,
          -0.6366786617000452,
          -1.474079529032982,
          0.5301472217828153,
          -0.5618726312931238,
          0.5743351632740945,
          -0.20108858944342017,
          0.4951290430399495,
          -0.3437933242276682,
          0.21337031294925046,
          -0.30421319297951926,
          0.6185743763842435,
          1.3426061469006845,
          -2.6898523405519335,
          -1.2997624793502054,
          -0.014491457910390242,
          -0.7531758443186563,
          0.051972534063198135
         ],
         "yaxis": "y14"
        },
        {
         "line": {
          "color": "rgba(128, 128, 128, 1.0)",
          "dash": "solid",
          "shape": "linear",
          "width": 1.3
         },
         "marker": {
          "size": 2,
          "symbol": "circle"
         },
         "mode": "markers",
         "name": "D",
         "text": "",
         "type": "scatter",
         "x": [
          1.4983864779909448,
          -0.0683974342124604,
          -0.5337891463858248,
          0.44154354919874567,
          -1.2318152574431034,
          1.2985630040366611,
          -2.218451919669104,
          0.9332677474881452,
          0.48887768670488263,
          0.7100565211778788,
          -1.180211018759006,
          0.40357787691680996,
          -0.18176450555296522,
          -0.19923388484756513,
          2.2707936648476434,
          0.7134211445041823,
          -0.20914473971566427,
          0.6731272521506116,
          -0.1712162713391917,
          -0.32409938623671136,
          0.3231132918011072,
          -1.5336155761055157,
          0.5025780232508699,
          -0.29693856159868626,
          0.23987661690729795,
          0.44290559204476504,
          -0.529833328173643,
          -0.029194069017488885,
          1.2034809706627385,
          0.4920550863252347,
          1.3118142713736591,
          -0.012957419236584167,
          0.9926476583889912,
          1.2718468624411214,
          2.0622297852705547,
          1.9746120568742223,
          0.7116292523754622,
          -0.4737056251190207,
          -0.5474136556886244,
          0.6820687853788049,
          0.1752813698701687,
          0.03369271598512779,
          0.534436508849568,
          -0.43959501846003035,
          -0.5781181336082649,
          1.9012412703468982,
          -0.03727290144563984,
          0.5574680225499314,
          0.9559932227587079,
          -0.32636063943397453,
          -0.33839420843768,
          0.33923148177384843,
          -0.017272371086671515,
          -0.7399021484764235,
          -1.165467022871023,
          -1.292106893654066,
          -1.784099308455661,
          -0.9785305487491726,
          0.4780020587967749,
          -0.5248854157902065,
          -0.6125375405316861,
          0.6759309903954257,
          0.6041448312385654,
          -0.33039041832431093,
          -0.17339863721071497,
          -0.009843440355222733,
          0.7997753502200071,
          -1.107214785996133,
          0.498447288776335,
          0.6794945513401383,
          -0.1382266500550088,
          1.2781507015495341,
          0.6254176748292696,
          0.7886826509605261,
          -0.8181677561777155,
          -0.6384163425676622,
          -1.0479872434449466,
          -1.2177317666516922,
          -1.5111568383490466,
          0.9615221253744407,
          0.9680307972915704,
          0.7370807455860703,
          0.08595259442313354,
          -0.3819517739097434,
          0.5814733207998918,
          -0.9305531186290832,
          0.09422451520604969,
          1.81821824919206,
          0.06749656036457062,
          -0.6269712132943323,
          0.28732203080938473,
          -0.34598621688533177,
          -0.04863017192128949,
          -0.3539736054969189,
          -1.2972990448743276,
          1.6800575190759655,
          -0.3891493008112305,
          1.345521828588874,
          1.272967956040553,
          3.3265035585717997
         ],
         "xaxis": "x15",
         "y": [
          -1.5319495460763377,
          -0.7823135218083629,
          -1.2093363017654826,
          0.7797917356745605,
          0.33983173967364444,
          -0.6668906877377361,
          -0.9240185127971479,
          -1.401096364281915,
          -0.2048781567578501,
          1.1948511507781823,
          1.9378710428122337,
          -0.19788163111016083,
          -0.9621305666501678,
          0.5138660890036052,
          -1.143865652539835,
          -1.1982136890776176,
          0.8292787619731817,
          0.3295035520497889,
          0.8222470222792261,
          -0.5121999795691015,
          -1.237290642027615,
          0.11446894929464378,
          -1.505822965665104,
          -1.2565156539734794,
          -0.9237007926029537,
          -0.20485623833171945,
          -1.242963400226735,
          0.46065343842511053,
          0.8627455440540776,
          0.37885281652310104,
          -0.404771823670305,
          1.9530589976655945,
          -1.5658095281175592,
          -0.9899786783745753,
          -0.4138508787543901,
          2.0771413723760905,
          0.08921008719746723,
          -1.3556168492151528,
          -0.7678695095182647,
          -1.1128032731182662,
          -2.048881608126047,
          -0.26848514807393614,
          1.229562428489407,
          -0.7531155606516615,
          -1.0141352555130447,
          -0.3574010751276007,
          1.193569139394085,
          -0.1713953689270901,
          0.5419494728333556,
          -0.5194810685746506,
          -0.16357195310254669,
          0.7467042929422325,
          0.383803866327178,
          -0.002594563791913918,
          -0.3032870044789301,
          0.16558660457653496,
          -0.9419723485650384,
          -0.8099143888303659,
          1.2205839875266769,
          -1.7007322354324552,
          -0.5497960766879818,
          -1.4017578932924981,
          -2.2045320929247545,
          0.3986718611011956,
          -0.09064289146691248,
          0.85543610620957,
          1.1551676178843544,
          -0.41020533331384035,
          -0.8446806004273089,
          -0.47554568454257223,
          -0.06593091310501963,
          0.29154657424817887,
          1.8014650512475308,
          -0.42036587587693824,
          0.5939056868343671,
          0.12396213447308421,
          0.5742018423253487,
          0.6007861599895614,
          0.6722461239448084,
          0.4174574720090517,
          -0.9287455608677232,
          -0.040409801326219574,
          -0.5772027988901258,
          -0.6366786617000452,
          -1.474079529032982,
          0.5301472217828153,
          -0.5618726312931238,
          0.5743351632740945,
          -0.20108858944342017,
          0.4951290430399495,
          -0.3437933242276682,
          0.21337031294925046,
          -0.30421319297951926,
          0.6185743763842435,
          1.3426061469006845,
          -2.6898523405519335,
          -1.2997624793502054,
          -0.014491457910390242,
          -0.7531758443186563,
          0.051972534063198135
         ],
         "yaxis": "y15"
        },
        {
         "histfunc": "count",
         "histnorm": "",
         "marker": {
          "color": "rgba(128, 0, 128, 1.0)",
          "line": {
           "color": "#4D5663",
           "width": 1.3
          }
         },
         "name": "D",
         "nbinsx": 10,
         "opacity": 0.8,
         "orientation": "v",
         "type": "histogram",
         "x": [
          -1.5319495460763377,
          -0.7823135218083629,
          -1.2093363017654826,
          0.7797917356745605,
          0.33983173967364444,
          -0.6668906877377361,
          -0.9240185127971479,
          -1.401096364281915,
          -0.2048781567578501,
          1.1948511507781823,
          1.9378710428122337,
          -0.19788163111016083,
          -0.9621305666501678,
          0.5138660890036052,
          -1.143865652539835,
          -1.1982136890776176,
          0.8292787619731817,
          0.3295035520497889,
          0.8222470222792261,
          -0.5121999795691015,
          -1.237290642027615,
          0.11446894929464378,
          -1.505822965665104,
          -1.2565156539734794,
          -0.9237007926029537,
          -0.20485623833171945,
          -1.242963400226735,
          0.46065343842511053,
          0.8627455440540776,
          0.37885281652310104,
          -0.404771823670305,
          1.9530589976655945,
          -1.5658095281175592,
          -0.9899786783745753,
          -0.4138508787543901,
          2.0771413723760905,
          0.08921008719746723,
          -1.3556168492151528,
          -0.7678695095182647,
          -1.1128032731182662,
          -2.048881608126047,
          -0.26848514807393614,
          1.229562428489407,
          -0.7531155606516615,
          -1.0141352555130447,
          -0.3574010751276007,
          1.193569139394085,
          -0.1713953689270901,
          0.5419494728333556,
          -0.5194810685746506,
          -0.16357195310254669,
          0.7467042929422325,
          0.383803866327178,
          -0.002594563791913918,
          -0.3032870044789301,
          0.16558660457653496,
          -0.9419723485650384,
          -0.8099143888303659,
          1.2205839875266769,
          -1.7007322354324552,
          -0.5497960766879818,
          -1.4017578932924981,
          -2.2045320929247545,
          0.3986718611011956,
          -0.09064289146691248,
          0.85543610620957,
          1.1551676178843544,
          -0.41020533331384035,
          -0.8446806004273089,
          -0.47554568454257223,
          -0.06593091310501963,
          0.29154657424817887,
          1.8014650512475308,
          -0.42036587587693824,
          0.5939056868343671,
          0.12396213447308421,
          0.5742018423253487,
          0.6007861599895614,
          0.6722461239448084,
          0.4174574720090517,
          -0.9287455608677232,
          -0.040409801326219574,
          -0.5772027988901258,
          -0.6366786617000452,
          -1.474079529032982,
          0.5301472217828153,
          -0.5618726312931238,
          0.5743351632740945,
          -0.20108858944342017,
          0.4951290430399495,
          -0.3437933242276682,
          0.21337031294925046,
          -0.30421319297951926,
          0.6185743763842435,
          1.3426061469006845,
          -2.6898523405519335,
          -1.2997624793502054,
          -0.014491457910390242,
          -0.7531758443186563,
          0.051972534063198135
         ],
         "xaxis": "x16",
         "yaxis": "y16"
        }
       ],
       "layout": {
        "bargap": 0.02,
        "legend": {
         "bgcolor": "#F5F6F9",
         "font": {
          "color": "#4D5663"
         }
        },
        "paper_bgcolor": "#F5F6F9",
        "plot_bgcolor": "#F5F6F9",
        "showlegend": false,
        "template": {
         "data": {
          "bar": [
           {
            "error_x": {
             "color": "#2a3f5f"
            },
            "error_y": {
             "color": "#2a3f5f"
            },
            "marker": {
             "line": {
              "color": "#E5ECF6",
              "width": 0.5
             }
            },
            "type": "bar"
           }
          ],
          "barpolar": [
           {
            "marker": {
             "line": {
              "color": "#E5ECF6",
              "width": 0.5
             }
            },
            "type": "barpolar"
           }
          ],
          "carpet": [
           {
            "aaxis": {
             "endlinecolor": "#2a3f5f",
             "gridcolor": "white",
             "linecolor": "white",
             "minorgridcolor": "white",
             "startlinecolor": "#2a3f5f"
            },
            "baxis": {
             "endlinecolor": "#2a3f5f",
             "gridcolor": "white",
             "linecolor": "white",
             "minorgridcolor": "white",
             "startlinecolor": "#2a3f5f"
            },
            "type": "carpet"
           }
          ],
          "choropleth": [
           {
            "colorbar": {
             "outlinewidth": 0,
             "ticks": ""
            },
            "type": "choropleth"
           }
          ],
          "contour": [
           {
            "colorbar": {
             "outlinewidth": 0,
             "ticks": ""
            },
            "colorscale": [
             [
              0,
              "#0d0887"
             ],
             [
              0.1111111111111111,
              "#46039f"
             ],
             [
              0.2222222222222222,
              "#7201a8"
             ],
             [
              0.3333333333333333,
              "#9c179e"
             ],
             [
              0.4444444444444444,
              "#bd3786"
             ],
             [
              0.5555555555555556,
              "#d8576b"
             ],
             [
              0.6666666666666666,
              "#ed7953"
             ],
             [
              0.7777777777777778,
              "#fb9f3a"
             ],
             [
              0.8888888888888888,
              "#fdca26"
             ],
             [
              1,
              "#f0f921"
             ]
            ],
            "type": "contour"
           }
          ],
          "contourcarpet": [
           {
            "colorbar": {
             "outlinewidth": 0,
             "ticks": ""
            },
            "type": "contourcarpet"
           }
          ],
          "heatmap": [
           {
            "colorbar": {
             "outlinewidth": 0,
             "ticks": ""
            },
            "colorscale": [
             [
              0,
              "#0d0887"
             ],
             [
              0.1111111111111111,
              "#46039f"
             ],
             [
              0.2222222222222222,
              "#7201a8"
             ],
             [
              0.3333333333333333,
              "#9c179e"
             ],
             [
              0.4444444444444444,
              "#bd3786"
             ],
             [
              0.5555555555555556,
              "#d8576b"
             ],
             [
              0.6666666666666666,
              "#ed7953"
             ],
             [
              0.7777777777777778,
              "#fb9f3a"
             ],
             [
              0.8888888888888888,
              "#fdca26"
             ],
             [
              1,
              "#f0f921"
             ]
            ],
            "type": "heatmap"
           }
          ],
          "heatmapgl": [
           {
            "colorbar": {
             "outlinewidth": 0,
             "ticks": ""
            },
            "colorscale": [
             [
              0,
              "#0d0887"
             ],
             [
              0.1111111111111111,
              "#46039f"
             ],
             [
              0.2222222222222222,
              "#7201a8"
             ],
             [
              0.3333333333333333,
              "#9c179e"
             ],
             [
              0.4444444444444444,
              "#bd3786"
             ],
             [
              0.5555555555555556,
              "#d8576b"
             ],
             [
              0.6666666666666666,
              "#ed7953"
             ],
             [
              0.7777777777777778,
              "#fb9f3a"
             ],
             [
              0.8888888888888888,
              "#fdca26"
             ],
             [
              1,
              "#f0f921"
             ]
            ],
            "type": "heatmapgl"
           }
          ],
          "histogram": [
           {
            "marker": {
             "colorbar": {
              "outlinewidth": 0,
              "ticks": ""
             }
            },
            "type": "histogram"
           }
          ],
          "histogram2d": [
           {
            "colorbar": {
             "outlinewidth": 0,
             "ticks": ""
            },
            "colorscale": [
             [
              0,
              "#0d0887"
             ],
             [
              0.1111111111111111,
              "#46039f"
             ],
             [
              0.2222222222222222,
              "#7201a8"
             ],
             [
              0.3333333333333333,
              "#9c179e"
             ],
             [
              0.4444444444444444,
              "#bd3786"
             ],
             [
              0.5555555555555556,
              "#d8576b"
             ],
             [
              0.6666666666666666,
              "#ed7953"
             ],
             [
              0.7777777777777778,
              "#fb9f3a"
             ],
             [
              0.8888888888888888,
              "#fdca26"
             ],
             [
              1,
              "#f0f921"
             ]
            ],
            "type": "histogram2d"
           }
          ],
          "histogram2dcontour": [
           {
            "colorbar": {
             "outlinewidth": 0,
             "ticks": ""
            },
            "colorscale": [
             [
              0,
              "#0d0887"
             ],
             [
              0.1111111111111111,
              "#46039f"
             ],
             [
              0.2222222222222222,
              "#7201a8"
             ],
             [
              0.3333333333333333,
              "#9c179e"
             ],
             [
              0.4444444444444444,
              "#bd3786"
             ],
             [
              0.5555555555555556,
              "#d8576b"
             ],
             [
              0.6666666666666666,
              "#ed7953"
             ],
             [
              0.7777777777777778,
              "#fb9f3a"
             ],
             [
              0.8888888888888888,
              "#fdca26"
             ],
             [
              1,
              "#f0f921"
             ]
            ],
            "type": "histogram2dcontour"
           }
          ],
          "mesh3d": [
           {
            "colorbar": {
             "outlinewidth": 0,
             "ticks": ""
            },
            "type": "mesh3d"
           }
          ],
          "parcoords": [
           {
            "line": {
             "colorbar": {
              "outlinewidth": 0,
              "ticks": ""
             }
            },
            "type": "parcoords"
           }
          ],
          "pie": [
           {
            "automargin": true,
            "type": "pie"
           }
          ],
          "scatter": [
           {
            "marker": {
             "colorbar": {
              "outlinewidth": 0,
              "ticks": ""
             }
            },
            "type": "scatter"
           }
          ],
          "scatter3d": [
           {
            "line": {
             "colorbar": {
              "outlinewidth": 0,
              "ticks": ""
             }
            },
            "marker": {
             "colorbar": {
              "outlinewidth": 0,
              "ticks": ""
             }
            },
            "type": "scatter3d"
           }
          ],
          "scattercarpet": [
           {
            "marker": {
             "colorbar": {
              "outlinewidth": 0,
              "ticks": ""
             }
            },
            "type": "scattercarpet"
           }
          ],
          "scattergeo": [
           {
            "marker": {
             "colorbar": {
              "outlinewidth": 0,
              "ticks": ""
             }
            },
            "type": "scattergeo"
           }
          ],
          "scattergl": [
           {
            "marker": {
             "colorbar": {
              "outlinewidth": 0,
              "ticks": ""
             }
            },
            "type": "scattergl"
           }
          ],
          "scattermapbox": [
           {
            "marker": {
             "colorbar": {
              "outlinewidth": 0,
              "ticks": ""
             }
            },
            "type": "scattermapbox"
           }
          ],
          "scatterpolar": [
           {
            "marker": {
             "colorbar": {
              "outlinewidth": 0,
              "ticks": ""
             }
            },
            "type": "scatterpolar"
           }
          ],
          "scatterpolargl": [
           {
            "marker": {
             "colorbar": {
              "outlinewidth": 0,
              "ticks": ""
             }
            },
            "type": "scatterpolargl"
           }
          ],
          "scatterternary": [
           {
            "marker": {
             "colorbar": {
              "outlinewidth": 0,
              "ticks": ""
             }
            },
            "type": "scatterternary"
           }
          ],
          "surface": [
           {
            "colorbar": {
             "outlinewidth": 0,
             "ticks": ""
            },
            "colorscale": [
             [
              0,
              "#0d0887"
             ],
             [
              0.1111111111111111,
              "#46039f"
             ],
             [
              0.2222222222222222,
              "#7201a8"
             ],
             [
              0.3333333333333333,
              "#9c179e"
             ],
             [
              0.4444444444444444,
              "#bd3786"
             ],
             [
              0.5555555555555556,
              "#d8576b"
             ],
             [
              0.6666666666666666,
              "#ed7953"
             ],
             [
              0.7777777777777778,
              "#fb9f3a"
             ],
             [
              0.8888888888888888,
              "#fdca26"
             ],
             [
              1,
              "#f0f921"
             ]
            ],
            "type": "surface"
           }
          ],
          "table": [
           {
            "cells": {
             "fill": {
              "color": "#EBF0F8"
             },
             "line": {
              "color": "white"
             }
            },
            "header": {
             "fill": {
              "color": "#C8D4E3"
             },
             "line": {
              "color": "white"
             }
            },
            "type": "table"
           }
          ]
         },
         "layout": {
          "annotationdefaults": {
           "arrowcolor": "#2a3f5f",
           "arrowhead": 0,
           "arrowwidth": 1
          },
          "autotypenumbers": "strict",
          "coloraxis": {
           "colorbar": {
            "outlinewidth": 0,
            "ticks": ""
           }
          },
          "colorscale": {
           "diverging": [
            [
             0,
             "#8e0152"
            ],
            [
             0.1,
             "#c51b7d"
            ],
            [
             0.2,
             "#de77ae"
            ],
            [
             0.3,
             "#f1b6da"
            ],
            [
             0.4,
             "#fde0ef"
            ],
            [
             0.5,
             "#f7f7f7"
            ],
            [
             0.6,
             "#e6f5d0"
            ],
            [
             0.7,
             "#b8e186"
            ],
            [
             0.8,
             "#7fbc41"
            ],
            [
             0.9,
             "#4d9221"
            ],
            [
             1,
             "#276419"
            ]
           ],
           "sequential": [
            [
             0,
             "#0d0887"
            ],
            [
             0.1111111111111111,
             "#46039f"
            ],
            [
             0.2222222222222222,
             "#7201a8"
            ],
            [
             0.3333333333333333,
             "#9c179e"
            ],
            [
             0.4444444444444444,
             "#bd3786"
            ],
            [
             0.5555555555555556,
             "#d8576b"
            ],
            [
             0.6666666666666666,
             "#ed7953"
            ],
            [
             0.7777777777777778,
             "#fb9f3a"
            ],
            [
             0.8888888888888888,
             "#fdca26"
            ],
            [
             1,
             "#f0f921"
            ]
           ],
           "sequentialminus": [
            [
             0,
             "#0d0887"
            ],
            [
             0.1111111111111111,
             "#46039f"
            ],
            [
             0.2222222222222222,
             "#7201a8"
            ],
            [
             0.3333333333333333,
             "#9c179e"
            ],
            [
             0.4444444444444444,
             "#bd3786"
            ],
            [
             0.5555555555555556,
             "#d8576b"
            ],
            [
             0.6666666666666666,
             "#ed7953"
            ],
            [
             0.7777777777777778,
             "#fb9f3a"
            ],
            [
             0.8888888888888888,
             "#fdca26"
            ],
            [
             1,
             "#f0f921"
            ]
           ]
          },
          "colorway": [
           "#636efa",
           "#EF553B",
           "#00cc96",
           "#ab63fa",
           "#FFA15A",
           "#19d3f3",
           "#FF6692",
           "#B6E880",
           "#FF97FF",
           "#FECB52"
          ],
          "font": {
           "color": "#2a3f5f"
          },
          "geo": {
           "bgcolor": "white",
           "lakecolor": "white",
           "landcolor": "#E5ECF6",
           "showlakes": true,
           "showland": true,
           "subunitcolor": "white"
          },
          "hoverlabel": {
           "align": "left"
          },
          "hovermode": "closest",
          "mapbox": {
           "style": "light"
          },
          "paper_bgcolor": "white",
          "plot_bgcolor": "#E5ECF6",
          "polar": {
           "angularaxis": {
            "gridcolor": "white",
            "linecolor": "white",
            "ticks": ""
           },
           "bgcolor": "#E5ECF6",
           "radialaxis": {
            "gridcolor": "white",
            "linecolor": "white",
            "ticks": ""
           }
          },
          "scene": {
           "xaxis": {
            "backgroundcolor": "#E5ECF6",
            "gridcolor": "white",
            "gridwidth": 2,
            "linecolor": "white",
            "showbackground": true,
            "ticks": "",
            "zerolinecolor": "white"
           },
           "yaxis": {
            "backgroundcolor": "#E5ECF6",
            "gridcolor": "white",
            "gridwidth": 2,
            "linecolor": "white",
            "showbackground": true,
            "ticks": "",
            "zerolinecolor": "white"
           },
           "zaxis": {
            "backgroundcolor": "#E5ECF6",
            "gridcolor": "white",
            "gridwidth": 2,
            "linecolor": "white",
            "showbackground": true,
            "ticks": "",
            "zerolinecolor": "white"
           }
          },
          "shapedefaults": {
           "line": {
            "color": "#2a3f5f"
           }
          },
          "ternary": {
           "aaxis": {
            "gridcolor": "white",
            "linecolor": "white",
            "ticks": ""
           },
           "baxis": {
            "gridcolor": "white",
            "linecolor": "white",
            "ticks": ""
           },
           "bgcolor": "#E5ECF6",
           "caxis": {
            "gridcolor": "white",
            "linecolor": "white",
            "ticks": ""
           }
          },
          "title": {
           "x": 0.05
          },
          "xaxis": {
           "automargin": true,
           "gridcolor": "white",
           "linecolor": "white",
           "ticks": "",
           "title": {
            "standoff": 15
           },
           "zerolinecolor": "white",
           "zerolinewidth": 2
          },
          "yaxis": {
           "automargin": true,
           "gridcolor": "white",
           "linecolor": "white",
           "ticks": "",
           "title": {
            "standoff": 15
           },
           "zerolinecolor": "white",
           "zerolinewidth": 2
          }
         }
        },
        "title": {
         "font": {
          "color": "#4D5663"
         }
        },
        "xaxis": {
         "anchor": "y",
         "domain": [
          0,
          0.2125
         ],
         "gridcolor": "#E1E5ED",
         "showgrid": false,
         "tickfont": {
          "color": "#4D5663"
         },
         "title": {
          "font": {
           "color": "#4D5663"
          },
          "text": ""
         },
         "zerolinecolor": "#E1E5ED"
        },
        "xaxis10": {
         "anchor": "y10",
         "domain": [
          0.2625,
          0.475
         ],
         "gridcolor": "#E1E5ED",
         "showgrid": false,
         "tickfont": {
          "color": "#4D5663"
         },
         "title": {
          "font": {
           "color": "#4D5663"
          },
          "text": ""
         },
         "zerolinecolor": "#E1E5ED"
        },
        "xaxis11": {
         "anchor": "y11",
         "domain": [
          0.525,
          0.7375
         ],
         "gridcolor": "#E1E5ED",
         "showgrid": false,
         "tickfont": {
          "color": "#4D5663"
         },
         "title": {
          "font": {
           "color": "#4D5663"
          },
          "text": ""
         },
         "zerolinecolor": "#E1E5ED"
        },
        "xaxis12": {
         "anchor": "y12",
         "domain": [
          0.7875,
          1
         ],
         "gridcolor": "#E1E5ED",
         "showgrid": false,
         "tickfont": {
          "color": "#4D5663"
         },
         "title": {
          "font": {
           "color": "#4D5663"
          },
          "text": ""
         },
         "zerolinecolor": "#E1E5ED"
        },
        "xaxis13": {
         "anchor": "y13",
         "domain": [
          0,
          0.2125
         ],
         "gridcolor": "#E1E5ED",
         "showgrid": false,
         "tickfont": {
          "color": "#4D5663"
         },
         "title": {
          "font": {
           "color": "#4D5663"
          },
          "text": ""
         },
         "zerolinecolor": "#E1E5ED"
        },
        "xaxis14": {
         "anchor": "y14",
         "domain": [
          0.2625,
          0.475
         ],
         "gridcolor": "#E1E5ED",
         "showgrid": false,
         "tickfont": {
          "color": "#4D5663"
         },
         "title": {
          "font": {
           "color": "#4D5663"
          },
          "text": ""
         },
         "zerolinecolor": "#E1E5ED"
        },
        "xaxis15": {
         "anchor": "y15",
         "domain": [
          0.525,
          0.7375
         ],
         "gridcolor": "#E1E5ED",
         "showgrid": false,
         "tickfont": {
          "color": "#4D5663"
         },
         "title": {
          "font": {
           "color": "#4D5663"
          },
          "text": ""
         },
         "zerolinecolor": "#E1E5ED"
        },
        "xaxis16": {
         "anchor": "y16",
         "domain": [
          0.7875,
          1
         ],
         "gridcolor": "#E1E5ED",
         "showgrid": false,
         "tickfont": {
          "color": "#4D5663"
         },
         "title": {
          "font": {
           "color": "#4D5663"
          },
          "text": ""
         },
         "zerolinecolor": "#E1E5ED"
        },
        "xaxis2": {
         "anchor": "y2",
         "domain": [
          0.2625,
          0.475
         ],
         "gridcolor": "#E1E5ED",
         "showgrid": false,
         "tickfont": {
          "color": "#4D5663"
         },
         "title": {
          "font": {
           "color": "#4D5663"
          },
          "text": ""
         },
         "zerolinecolor": "#E1E5ED"
        },
        "xaxis3": {
         "anchor": "y3",
         "domain": [
          0.525,
          0.7375
         ],
         "gridcolor": "#E1E5ED",
         "showgrid": false,
         "tickfont": {
          "color": "#4D5663"
         },
         "title": {
          "font": {
           "color": "#4D5663"
          },
          "text": ""
         },
         "zerolinecolor": "#E1E5ED"
        },
        "xaxis4": {
         "anchor": "y4",
         "domain": [
          0.7875,
          1
         ],
         "gridcolor": "#E1E5ED",
         "showgrid": false,
         "tickfont": {
          "color": "#4D5663"
         },
         "title": {
          "font": {
           "color": "#4D5663"
          },
          "text": ""
         },
         "zerolinecolor": "#E1E5ED"
        },
        "xaxis5": {
         "anchor": "y5",
         "domain": [
          0,
          0.2125
         ],
         "gridcolor": "#E1E5ED",
         "showgrid": false,
         "tickfont": {
          "color": "#4D5663"
         },
         "title": {
          "font": {
           "color": "#4D5663"
          },
          "text": ""
         },
         "zerolinecolor": "#E1E5ED"
        },
        "xaxis6": {
         "anchor": "y6",
         "domain": [
          0.2625,
          0.475
         ],
         "gridcolor": "#E1E5ED",
         "showgrid": false,
         "tickfont": {
          "color": "#4D5663"
         },
         "title": {
          "font": {
           "color": "#4D5663"
          },
          "text": ""
         },
         "zerolinecolor": "#E1E5ED"
        },
        "xaxis7": {
         "anchor": "y7",
         "domain": [
          0.525,
          0.7375
         ],
         "gridcolor": "#E1E5ED",
         "showgrid": false,
         "tickfont": {
          "color": "#4D5663"
         },
         "title": {
          "font": {
           "color": "#4D5663"
          },
          "text": ""
         },
         "zerolinecolor": "#E1E5ED"
        },
        "xaxis8": {
         "anchor": "y8",
         "domain": [
          0.7875,
          1
         ],
         "gridcolor": "#E1E5ED",
         "showgrid": false,
         "tickfont": {
          "color": "#4D5663"
         },
         "title": {
          "font": {
           "color": "#4D5663"
          },
          "text": ""
         },
         "zerolinecolor": "#E1E5ED"
        },
        "xaxis9": {
         "anchor": "y9",
         "domain": [
          0,
          0.2125
         ],
         "gridcolor": "#E1E5ED",
         "showgrid": false,
         "tickfont": {
          "color": "#4D5663"
         },
         "title": {
          "font": {
           "color": "#4D5663"
          },
          "text": ""
         },
         "zerolinecolor": "#E1E5ED"
        },
        "yaxis": {
         "anchor": "x",
         "domain": [
          0.8025,
          1
         ],
         "gridcolor": "#E1E5ED",
         "showgrid": false,
         "tickfont": {
          "color": "#4D5663"
         },
         "title": {
          "font": {
           "color": "#4D5663"
          },
          "text": ""
         },
         "zerolinecolor": "#E1E5ED"
        },
        "yaxis10": {
         "anchor": "x10",
         "domain": [
          0.2675,
          0.465
         ],
         "gridcolor": "#E1E5ED",
         "showgrid": false,
         "tickfont": {
          "color": "#4D5663"
         },
         "title": {
          "font": {
           "color": "#4D5663"
          },
          "text": ""
         },
         "zerolinecolor": "#E1E5ED"
        },
        "yaxis11": {
         "anchor": "x11",
         "domain": [
          0.2675,
          0.465
         ],
         "gridcolor": "#E1E5ED",
         "showgrid": false,
         "tickfont": {
          "color": "#4D5663"
         },
         "title": {
          "font": {
           "color": "#4D5663"
          },
          "text": ""
         },
         "zerolinecolor": "#E1E5ED"
        },
        "yaxis12": {
         "anchor": "x12",
         "domain": [
          0.2675,
          0.465
         ],
         "gridcolor": "#E1E5ED",
         "showgrid": false,
         "tickfont": {
          "color": "#4D5663"
         },
         "title": {
          "font": {
           "color": "#4D5663"
          },
          "text": ""
         },
         "zerolinecolor": "#E1E5ED"
        },
        "yaxis13": {
         "anchor": "x13",
         "domain": [
          0,
          0.1975
         ],
         "gridcolor": "#E1E5ED",
         "showgrid": false,
         "tickfont": {
          "color": "#4D5663"
         },
         "title": {
          "font": {
           "color": "#4D5663"
          },
          "text": ""
         },
         "zerolinecolor": "#E1E5ED"
        },
        "yaxis14": {
         "anchor": "x14",
         "domain": [
          0,
          0.1975
         ],
         "gridcolor": "#E1E5ED",
         "showgrid": false,
         "tickfont": {
          "color": "#4D5663"
         },
         "title": {
          "font": {
           "color": "#4D5663"
          },
          "text": ""
         },
         "zerolinecolor": "#E1E5ED"
        },
        "yaxis15": {
         "anchor": "x15",
         "domain": [
          0,
          0.1975
         ],
         "gridcolor": "#E1E5ED",
         "showgrid": false,
         "tickfont": {
          "color": "#4D5663"
         },
         "title": {
          "font": {
           "color": "#4D5663"
          },
          "text": ""
         },
         "zerolinecolor": "#E1E5ED"
        },
        "yaxis16": {
         "anchor": "x16",
         "domain": [
          0,
          0.1975
         ],
         "gridcolor": "#E1E5ED",
         "showgrid": false,
         "tickfont": {
          "color": "#4D5663"
         },
         "title": {
          "font": {
           "color": "#4D5663"
          },
          "text": ""
         },
         "zerolinecolor": "#E1E5ED"
        },
        "yaxis2": {
         "anchor": "x2",
         "domain": [
          0.8025,
          1
         ],
         "gridcolor": "#E1E5ED",
         "showgrid": false,
         "tickfont": {
          "color": "#4D5663"
         },
         "title": {
          "font": {
           "color": "#4D5663"
          },
          "text": ""
         },
         "zerolinecolor": "#E1E5ED"
        },
        "yaxis3": {
         "anchor": "x3",
         "domain": [
          0.8025,
          1
         ],
         "gridcolor": "#E1E5ED",
         "showgrid": false,
         "tickfont": {
          "color": "#4D5663"
         },
         "title": {
          "font": {
           "color": "#4D5663"
          },
          "text": ""
         },
         "zerolinecolor": "#E1E5ED"
        },
        "yaxis4": {
         "anchor": "x4",
         "domain": [
          0.8025,
          1
         ],
         "gridcolor": "#E1E5ED",
         "showgrid": false,
         "tickfont": {
          "color": "#4D5663"
         },
         "title": {
          "font": {
           "color": "#4D5663"
          },
          "text": ""
         },
         "zerolinecolor": "#E1E5ED"
        },
        "yaxis5": {
         "anchor": "x5",
         "domain": [
          0.535,
          0.7325
         ],
         "gridcolor": "#E1E5ED",
         "showgrid": false,
         "tickfont": {
          "color": "#4D5663"
         },
         "title": {
          "font": {
           "color": "#4D5663"
          },
          "text": ""
         },
         "zerolinecolor": "#E1E5ED"
        },
        "yaxis6": {
         "anchor": "x6",
         "domain": [
          0.535,
          0.7325
         ],
         "gridcolor": "#E1E5ED",
         "showgrid": false,
         "tickfont": {
          "color": "#4D5663"
         },
         "title": {
          "font": {
           "color": "#4D5663"
          },
          "text": ""
         },
         "zerolinecolor": "#E1E5ED"
        },
        "yaxis7": {
         "anchor": "x7",
         "domain": [
          0.535,
          0.7325
         ],
         "gridcolor": "#E1E5ED",
         "showgrid": false,
         "tickfont": {
          "color": "#4D5663"
         },
         "title": {
          "font": {
           "color": "#4D5663"
          },
          "text": ""
         },
         "zerolinecolor": "#E1E5ED"
        },
        "yaxis8": {
         "anchor": "x8",
         "domain": [
          0.535,
          0.7325
         ],
         "gridcolor": "#E1E5ED",
         "showgrid": false,
         "tickfont": {
          "color": "#4D5663"
         },
         "title": {
          "font": {
           "color": "#4D5663"
          },
          "text": ""
         },
         "zerolinecolor": "#E1E5ED"
        },
        "yaxis9": {
         "anchor": "x9",
         "domain": [
          0.2675,
          0.465
         ],
         "gridcolor": "#E1E5ED",
         "showgrid": false,
         "tickfont": {
          "color": "#4D5663"
         },
         "title": {
          "font": {
           "color": "#4D5663"
          },
          "text": ""
         },
         "zerolinecolor": "#E1E5ED"
        }
       }
      },
      "text/html": [
       "<div>                            <div id=\"c1c8dc86-00ae-4e5e-8828-13b35841476d\" class=\"plotly-graph-div\" style=\"height:525px; width:100%;\"></div>            <script type=\"text/javascript\">                require([\"plotly\"], function(Plotly) {                    window.PLOTLYENV=window.PLOTLYENV || {};\n",
       "                    window.PLOTLYENV.BASE_URL='https://plot.ly';                                    if (document.getElementById(\"c1c8dc86-00ae-4e5e-8828-13b35841476d\")) {                    Plotly.newPlot(                        \"c1c8dc86-00ae-4e5e-8828-13b35841476d\",                        [{\"histfunc\": \"count\", \"histnorm\": \"\", \"marker\": {\"color\": \"rgba(255, 153, 51, 1.0)\", \"line\": {\"color\": \"#4D5663\", \"width\": 1.3}}, \"name\": \"A\", \"nbinsx\": 10, \"opacity\": 0.8, \"orientation\": \"v\", \"type\": \"histogram\", \"x\": [-0.14503484795852725, -3.0165964743780136, 0.24392315292249664, 0.2011504284420982, -1.954377685047049, 0.018622857603898417, 0.8617756539234976, -1.1789175288139595, 0.09453158593071533, -0.8190086004558853, -0.5111915119844852, -0.37019437878534933, 0.49406010167759457, 0.7318957798065484, -0.6245807673201975, 0.3860474439383816, 0.4682472943605631, 0.1627222638546957, -0.8365295450105019, -0.1484272992826551, -0.14699585388358868, -0.8989769017012104, 3.375644491066588, 0.8636351957100722, 0.9764706586185982, 1.8839025583510707, 0.49039805334819536, 1.1798805121748803, -0.08293830705260241, 0.020189132289008475, -1.212888981610273, -0.9540852579325413, 0.03227530808262174, -0.8518559637939185, 0.9654680591995582, -1.0356822197978657, -0.8665007063675878, 1.1028588348458925, -1.0335879734720794, -0.8709376829504009, 1.6229341507509705, -0.0960647329416155, 0.558693955982772, -0.47009300020518974, -0.098392235514167, 1.184576665806727, 0.01243576370376068, -0.10444812302065885, 0.16465566602612397, -0.47601592047505115, -0.3524503064476507, -1.1142072718294294, -0.24775154136288996, 0.6454080597490083, 0.06799428384607312, -2.3458667879361808, 0.0750307959732018, -0.02338014024049768, 0.408278691353931, -1.3197647537174, -0.08369974574571107, 0.028103212057242984, 0.24146463374541377, -0.1314784283188998, -0.35399171541630814, 0.9047121766469459, 0.577691629229222, -0.9041627507100116, 0.6679213458174991, 0.21340226976686694, 0.5187350887843667, 1.0291096353357165, -0.31331510697347104, -0.569615681897244, -0.08158041488700205, 0.4024168949117813, -0.37676734107072724, 0.02441103137705158, 0.4372970535384335, 0.6141820169439471, 1.190905549407557, 0.5607483976603372, -2.33021436137407, 0.5234829274135729, -0.6133704977202653, 0.6259858344588582, -0.03941965499720579, -0.3826539928719661, -1.1626848852541085, -0.13538449249010662, -0.44734498015120816, -0.675527294767186, -0.27764693163851684, 2.0007679905946723, -0.023422696390421664, 1.0516904951894257, -0.6505394429961281, 0.16981956995748015, 0.8454912342091417, -0.3025957383637378], \"xaxis\": \"x\", \"yaxis\": \"y\"}, {\"line\": {\"color\": \"rgba(128, 128, 128, 1.0)\", \"dash\": \"solid\", \"shape\": \"linear\", \"width\": 1.3}, \"marker\": {\"size\": 2, \"symbol\": \"circle\"}, \"mode\": \"markers\", \"name\": \"A\", \"text\": \"\", \"type\": \"scatter\", \"x\": [-0.9532399160561278, -0.5868484365358092, -0.5322015045622156, -0.067966143001875, 0.9486452867643311, -0.6629183797257413, -0.5337786235952177, -1.374005116607833, 0.9538955464602282, 0.9831229684062017, -0.7218794529268818, -1.738462406660161, 0.8390413925664644, 0.4716881828898347, 1.840314344187763, 0.7829064814901634, -0.29559972424111564, -0.4543075695792023, -0.24134848173579576, 1.0620942076543174, 0.8126293598752975, 0.12771413630928588, 0.6479158525379064, -1.3221014076081543, -0.6104132558623014, 1.6009003090453902, 0.9269141114311796, -0.09885623938144297, 0.8712506984556516, -1.8373391727315502, -0.8095199640075892, 0.5647221507466086, -0.33873776587617926, 1.2770174534384262, -0.401058722431807, -0.3991026372035775, 0.6954802542981, 0.4657361921256589, -0.6115763656174145, -0.76790041556677, -0.8760445121497197, 0.9385120394049317, 0.12548592918841428, 0.12853157804446833, -0.9198386416256834, -0.16736007077296486, -0.273108590084941, -1.038593836786086, -1.789678683700114, -0.08672543648003408, 0.1791283495405397, 0.19740149687421615, -1.8532304045831987, 0.09418603272153049, -0.05406171658396121, 1.1613967379069392, 0.2908581391725514, 0.9334829806606881, 0.8759062521948778, 0.01544050596120699, -2.1433853948711863, -0.6550694134265117, 0.9450328060012705, -0.7318511174804488, -0.2760665477991691, 1.832042341227804, 0.7153981071725797, 0.3097267840306819, 0.5458716771237517, -0.27788252174846967, -2.56791567288503, 1.0733981182897139, 0.5539305528644727, -0.8875864930235106, -0.9215489395600035, -0.48052999506367167, 0.734067673662595, 0.7410495064840434, -0.4455153474458417, 0.47171647604105243, 2.2033238446375445, -0.13287462890628282, 1.57108408511727, -0.2832152183269851, 0.6604718888161459, -0.8097018520506656, -0.8998025213320278, 2.2744708006020584, -1.2989964534559673, 1.2567628834902713, 0.9586268624499967, 1.0292763836765124, 0.23642372515301469, -0.6456930750549342, 1.4959836369417008, -0.07036421252807842, -0.7362854978086856, -0.4795472607190941, 1.6003974543998063, -0.3481208183712817], \"xaxis\": \"x2\", \"y\": [-0.14503484795852725, -3.0165964743780136, 0.24392315292249664, 0.2011504284420982, -1.954377685047049, 0.018622857603898417, 0.8617756539234976, -1.1789175288139595, 0.09453158593071533, -0.8190086004558853, -0.5111915119844852, -0.37019437878534933, 0.49406010167759457, 0.7318957798065484, -0.6245807673201975, 0.3860474439383816, 0.4682472943605631, 0.1627222638546957, -0.8365295450105019, -0.1484272992826551, -0.14699585388358868, -0.8989769017012104, 3.375644491066588, 0.8636351957100722, 0.9764706586185982, 1.8839025583510707, 0.49039805334819536, 1.1798805121748803, -0.08293830705260241, 0.020189132289008475, -1.212888981610273, -0.9540852579325413, 0.03227530808262174, -0.8518559637939185, 0.9654680591995582, -1.0356822197978657, -0.8665007063675878, 1.1028588348458925, -1.0335879734720794, -0.8709376829504009, 1.6229341507509705, -0.0960647329416155, 0.558693955982772, -0.47009300020518974, -0.098392235514167, 1.184576665806727, 0.01243576370376068, -0.10444812302065885, 0.16465566602612397, -0.47601592047505115, -0.3524503064476507, -1.1142072718294294, -0.24775154136288996, 0.6454080597490083, 0.06799428384607312, -2.3458667879361808, 0.0750307959732018, -0.02338014024049768, 0.408278691353931, -1.3197647537174, -0.08369974574571107, 0.028103212057242984, 0.24146463374541377, -0.1314784283188998, -0.35399171541630814, 0.9047121766469459, 0.577691629229222, -0.9041627507100116, 0.6679213458174991, 0.21340226976686694, 0.5187350887843667, 1.0291096353357165, -0.31331510697347104, -0.569615681897244, -0.08158041488700205, 0.4024168949117813, -0.37676734107072724, 0.02441103137705158, 0.4372970535384335, 0.6141820169439471, 1.190905549407557, 0.5607483976603372, -2.33021436137407, 0.5234829274135729, -0.6133704977202653, 0.6259858344588582, -0.03941965499720579, -0.3826539928719661, -1.1626848852541085, -0.13538449249010662, -0.44734498015120816, -0.675527294767186, -0.27764693163851684, 2.0007679905946723, -0.023422696390421664, 1.0516904951894257, -0.6505394429961281, 0.16981956995748015, 0.8454912342091417, -0.3025957383637378], \"yaxis\": \"y2\"}, {\"line\": {\"color\": \"rgba(128, 128, 128, 1.0)\", \"dash\": \"solid\", \"shape\": \"linear\", \"width\": 1.3}, \"marker\": {\"size\": 2, \"symbol\": \"circle\"}, \"mode\": \"markers\", \"name\": \"A\", \"text\": \"\", \"type\": \"scatter\", \"x\": [1.4983864779909448, -0.0683974342124604, -0.5337891463858248, 0.44154354919874567, -1.2318152574431034, 1.2985630040366611, -2.218451919669104, 0.9332677474881452, 0.48887768670488263, 0.7100565211778788, -1.180211018759006, 0.40357787691680996, -0.18176450555296522, -0.19923388484756513, 2.2707936648476434, 0.7134211445041823, -0.20914473971566427, 0.6731272521506116, -0.1712162713391917, -0.32409938623671136, 0.3231132918011072, -1.5336155761055157, 0.5025780232508699, -0.29693856159868626, 0.23987661690729795, 0.44290559204476504, -0.529833328173643, -0.029194069017488885, 1.2034809706627385, 0.4920550863252347, 1.3118142713736591, -0.012957419236584167, 0.9926476583889912, 1.2718468624411214, 2.0622297852705547, 1.9746120568742223, 0.7116292523754622, -0.4737056251190207, -0.5474136556886244, 0.6820687853788049, 0.1752813698701687, 0.03369271598512779, 0.534436508849568, -0.43959501846003035, -0.5781181336082649, 1.9012412703468982, -0.03727290144563984, 0.5574680225499314, 0.9559932227587079, -0.32636063943397453, -0.33839420843768, 0.33923148177384843, -0.017272371086671515, -0.7399021484764235, -1.165467022871023, -1.292106893654066, -1.784099308455661, -0.9785305487491726, 0.4780020587967749, -0.5248854157902065, -0.6125375405316861, 0.6759309903954257, 0.6041448312385654, -0.33039041832431093, -0.17339863721071497, -0.009843440355222733, 0.7997753502200071, -1.107214785996133, 0.498447288776335, 0.6794945513401383, -0.1382266500550088, 1.2781507015495341, 0.6254176748292696, 0.7886826509605261, -0.8181677561777155, -0.6384163425676622, -1.0479872434449466, -1.2177317666516922, -1.5111568383490466, 0.9615221253744407, 0.9680307972915704, 0.7370807455860703, 0.08595259442313354, -0.3819517739097434, 0.5814733207998918, -0.9305531186290832, 0.09422451520604969, 1.81821824919206, 0.06749656036457062, -0.6269712132943323, 0.28732203080938473, -0.34598621688533177, -0.04863017192128949, -0.3539736054969189, -1.2972990448743276, 1.6800575190759655, -0.3891493008112305, 1.345521828588874, 1.272967956040553, 3.3265035585717997], \"xaxis\": \"x3\", \"y\": [-0.14503484795852725, -3.0165964743780136, 0.24392315292249664, 0.2011504284420982, -1.954377685047049, 0.018622857603898417, 0.8617756539234976, -1.1789175288139595, 0.09453158593071533, -0.8190086004558853, -0.5111915119844852, -0.37019437878534933, 0.49406010167759457, 0.7318957798065484, -0.6245807673201975, 0.3860474439383816, 0.4682472943605631, 0.1627222638546957, -0.8365295450105019, -0.1484272992826551, -0.14699585388358868, -0.8989769017012104, 3.375644491066588, 0.8636351957100722, 0.9764706586185982, 1.8839025583510707, 0.49039805334819536, 1.1798805121748803, -0.08293830705260241, 0.020189132289008475, -1.212888981610273, -0.9540852579325413, 0.03227530808262174, -0.8518559637939185, 0.9654680591995582, -1.0356822197978657, -0.8665007063675878, 1.1028588348458925, -1.0335879734720794, -0.8709376829504009, 1.6229341507509705, -0.0960647329416155, 0.558693955982772, -0.47009300020518974, -0.098392235514167, 1.184576665806727, 0.01243576370376068, -0.10444812302065885, 0.16465566602612397, -0.47601592047505115, -0.3524503064476507, -1.1142072718294294, -0.24775154136288996, 0.6454080597490083, 0.06799428384607312, -2.3458667879361808, 0.0750307959732018, -0.02338014024049768, 0.408278691353931, -1.3197647537174, -0.08369974574571107, 0.028103212057242984, 0.24146463374541377, -0.1314784283188998, -0.35399171541630814, 0.9047121766469459, 0.577691629229222, -0.9041627507100116, 0.6679213458174991, 0.21340226976686694, 0.5187350887843667, 1.0291096353357165, -0.31331510697347104, -0.569615681897244, -0.08158041488700205, 0.4024168949117813, -0.37676734107072724, 0.02441103137705158, 0.4372970535384335, 0.6141820169439471, 1.190905549407557, 0.5607483976603372, -2.33021436137407, 0.5234829274135729, -0.6133704977202653, 0.6259858344588582, -0.03941965499720579, -0.3826539928719661, -1.1626848852541085, -0.13538449249010662, -0.44734498015120816, -0.675527294767186, -0.27764693163851684, 2.0007679905946723, -0.023422696390421664, 1.0516904951894257, -0.6505394429961281, 0.16981956995748015, 0.8454912342091417, -0.3025957383637378], \"yaxis\": \"y3\"}, {\"line\": {\"color\": \"rgba(128, 128, 128, 1.0)\", \"dash\": \"solid\", \"shape\": \"linear\", \"width\": 1.3}, \"marker\": {\"size\": 2, \"symbol\": \"circle\"}, \"mode\": \"markers\", \"name\": \"A\", \"text\": \"\", \"type\": \"scatter\", \"x\": [-1.5319495460763377, -0.7823135218083629, -1.2093363017654826, 0.7797917356745605, 0.33983173967364444, -0.6668906877377361, -0.9240185127971479, -1.401096364281915, -0.2048781567578501, 1.1948511507781823, 1.9378710428122337, -0.19788163111016083, -0.9621305666501678, 0.5138660890036052, -1.143865652539835, -1.1982136890776176, 0.8292787619731817, 0.3295035520497889, 0.8222470222792261, -0.5121999795691015, -1.237290642027615, 0.11446894929464378, -1.505822965665104, -1.2565156539734794, -0.9237007926029537, -0.20485623833171945, -1.242963400226735, 0.46065343842511053, 0.8627455440540776, 0.37885281652310104, -0.404771823670305, 1.9530589976655945, -1.5658095281175592, -0.9899786783745753, -0.4138508787543901, 2.0771413723760905, 0.08921008719746723, -1.3556168492151528, -0.7678695095182647, -1.1128032731182662, -2.048881608126047, -0.26848514807393614, 1.229562428489407, -0.7531155606516615, -1.0141352555130447, -0.3574010751276007, 1.193569139394085, -0.1713953689270901, 0.5419494728333556, -0.5194810685746506, -0.16357195310254669, 0.7467042929422325, 0.383803866327178, -0.002594563791913918, -0.3032870044789301, 0.16558660457653496, -0.9419723485650384, -0.8099143888303659, 1.2205839875266769, -1.7007322354324552, -0.5497960766879818, -1.4017578932924981, -2.2045320929247545, 0.3986718611011956, -0.09064289146691248, 0.85543610620957, 1.1551676178843544, -0.41020533331384035, -0.8446806004273089, -0.47554568454257223, -0.06593091310501963, 0.29154657424817887, 1.8014650512475308, -0.42036587587693824, 0.5939056868343671, 0.12396213447308421, 0.5742018423253487, 0.6007861599895614, 0.6722461239448084, 0.4174574720090517, -0.9287455608677232, -0.040409801326219574, -0.5772027988901258, -0.6366786617000452, -1.474079529032982, 0.5301472217828153, -0.5618726312931238, 0.5743351632740945, -0.20108858944342017, 0.4951290430399495, -0.3437933242276682, 0.21337031294925046, -0.30421319297951926, 0.6185743763842435, 1.3426061469006845, -2.6898523405519335, -1.2997624793502054, -0.014491457910390242, -0.7531758443186563, 0.051972534063198135], \"xaxis\": \"x4\", \"y\": [-0.14503484795852725, -3.0165964743780136, 0.24392315292249664, 0.2011504284420982, -1.954377685047049, 0.018622857603898417, 0.8617756539234976, -1.1789175288139595, 0.09453158593071533, -0.8190086004558853, -0.5111915119844852, -0.37019437878534933, 0.49406010167759457, 0.7318957798065484, -0.6245807673201975, 0.3860474439383816, 0.4682472943605631, 0.1627222638546957, -0.8365295450105019, -0.1484272992826551, -0.14699585388358868, -0.8989769017012104, 3.375644491066588, 0.8636351957100722, 0.9764706586185982, 1.8839025583510707, 0.49039805334819536, 1.1798805121748803, -0.08293830705260241, 0.020189132289008475, -1.212888981610273, -0.9540852579325413, 0.03227530808262174, -0.8518559637939185, 0.9654680591995582, -1.0356822197978657, -0.8665007063675878, 1.1028588348458925, -1.0335879734720794, -0.8709376829504009, 1.6229341507509705, -0.0960647329416155, 0.558693955982772, -0.47009300020518974, -0.098392235514167, 1.184576665806727, 0.01243576370376068, -0.10444812302065885, 0.16465566602612397, -0.47601592047505115, -0.3524503064476507, -1.1142072718294294, -0.24775154136288996, 0.6454080597490083, 0.06799428384607312, -2.3458667879361808, 0.0750307959732018, -0.02338014024049768, 0.408278691353931, -1.3197647537174, -0.08369974574571107, 0.028103212057242984, 0.24146463374541377, -0.1314784283188998, -0.35399171541630814, 0.9047121766469459, 0.577691629229222, -0.9041627507100116, 0.6679213458174991, 0.21340226976686694, 0.5187350887843667, 1.0291096353357165, -0.31331510697347104, -0.569615681897244, -0.08158041488700205, 0.4024168949117813, -0.37676734107072724, 0.02441103137705158, 0.4372970535384335, 0.6141820169439471, 1.190905549407557, 0.5607483976603372, -2.33021436137407, 0.5234829274135729, -0.6133704977202653, 0.6259858344588582, -0.03941965499720579, -0.3826539928719661, -1.1626848852541085, -0.13538449249010662, -0.44734498015120816, -0.675527294767186, -0.27764693163851684, 2.0007679905946723, -0.023422696390421664, 1.0516904951894257, -0.6505394429961281, 0.16981956995748015, 0.8454912342091417, -0.3025957383637378], \"yaxis\": \"y4\"}, {\"line\": {\"color\": \"rgba(128, 128, 128, 1.0)\", \"dash\": \"solid\", \"shape\": \"linear\", \"width\": 1.3}, \"marker\": {\"size\": 2, \"symbol\": \"circle\"}, \"mode\": \"markers\", \"name\": \"B\", \"text\": \"\", \"type\": \"scatter\", \"x\": [-0.14503484795852725, -3.0165964743780136, 0.24392315292249664, 0.2011504284420982, -1.954377685047049, 0.018622857603898417, 0.8617756539234976, -1.1789175288139595, 0.09453158593071533, -0.8190086004558853, -0.5111915119844852, -0.37019437878534933, 0.49406010167759457, 0.7318957798065484, -0.6245807673201975, 0.3860474439383816, 0.4682472943605631, 0.1627222638546957, -0.8365295450105019, -0.1484272992826551, -0.14699585388358868, -0.8989769017012104, 3.375644491066588, 0.8636351957100722, 0.9764706586185982, 1.8839025583510707, 0.49039805334819536, 1.1798805121748803, -0.08293830705260241, 0.020189132289008475, -1.212888981610273, -0.9540852579325413, 0.03227530808262174, -0.8518559637939185, 0.9654680591995582, -1.0356822197978657, -0.8665007063675878, 1.1028588348458925, -1.0335879734720794, -0.8709376829504009, 1.6229341507509705, -0.0960647329416155, 0.558693955982772, -0.47009300020518974, -0.098392235514167, 1.184576665806727, 0.01243576370376068, -0.10444812302065885, 0.16465566602612397, -0.47601592047505115, -0.3524503064476507, -1.1142072718294294, -0.24775154136288996, 0.6454080597490083, 0.06799428384607312, -2.3458667879361808, 0.0750307959732018, -0.02338014024049768, 0.408278691353931, -1.3197647537174, -0.08369974574571107, 0.028103212057242984, 0.24146463374541377, -0.1314784283188998, -0.35399171541630814, 0.9047121766469459, 0.577691629229222, -0.9041627507100116, 0.6679213458174991, 0.21340226976686694, 0.5187350887843667, 1.0291096353357165, -0.31331510697347104, -0.569615681897244, -0.08158041488700205, 0.4024168949117813, -0.37676734107072724, 0.02441103137705158, 0.4372970535384335, 0.6141820169439471, 1.190905549407557, 0.5607483976603372, -2.33021436137407, 0.5234829274135729, -0.6133704977202653, 0.6259858344588582, -0.03941965499720579, -0.3826539928719661, -1.1626848852541085, -0.13538449249010662, -0.44734498015120816, -0.675527294767186, -0.27764693163851684, 2.0007679905946723, -0.023422696390421664, 1.0516904951894257, -0.6505394429961281, 0.16981956995748015, 0.8454912342091417, -0.3025957383637378], \"xaxis\": \"x5\", \"y\": [-0.9532399160561278, -0.5868484365358092, -0.5322015045622156, -0.067966143001875, 0.9486452867643311, -0.6629183797257413, -0.5337786235952177, -1.374005116607833, 0.9538955464602282, 0.9831229684062017, -0.7218794529268818, -1.738462406660161, 0.8390413925664644, 0.4716881828898347, 1.840314344187763, 0.7829064814901634, -0.29559972424111564, -0.4543075695792023, -0.24134848173579576, 1.0620942076543174, 0.8126293598752975, 0.12771413630928588, 0.6479158525379064, -1.3221014076081543, -0.6104132558623014, 1.6009003090453902, 0.9269141114311796, -0.09885623938144297, 0.8712506984556516, -1.8373391727315502, -0.8095199640075892, 0.5647221507466086, -0.33873776587617926, 1.2770174534384262, -0.401058722431807, -0.3991026372035775, 0.6954802542981, 0.4657361921256589, -0.6115763656174145, -0.76790041556677, -0.8760445121497197, 0.9385120394049317, 0.12548592918841428, 0.12853157804446833, -0.9198386416256834, -0.16736007077296486, -0.273108590084941, -1.038593836786086, -1.789678683700114, -0.08672543648003408, 0.1791283495405397, 0.19740149687421615, -1.8532304045831987, 0.09418603272153049, -0.05406171658396121, 1.1613967379069392, 0.2908581391725514, 0.9334829806606881, 0.8759062521948778, 0.01544050596120699, -2.1433853948711863, -0.6550694134265117, 0.9450328060012705, -0.7318511174804488, -0.2760665477991691, 1.832042341227804, 0.7153981071725797, 0.3097267840306819, 0.5458716771237517, -0.27788252174846967, -2.56791567288503, 1.0733981182897139, 0.5539305528644727, -0.8875864930235106, -0.9215489395600035, -0.48052999506367167, 0.734067673662595, 0.7410495064840434, -0.4455153474458417, 0.47171647604105243, 2.2033238446375445, -0.13287462890628282, 1.57108408511727, -0.2832152183269851, 0.6604718888161459, -0.8097018520506656, -0.8998025213320278, 2.2744708006020584, -1.2989964534559673, 1.2567628834902713, 0.9586268624499967, 1.0292763836765124, 0.23642372515301469, -0.6456930750549342, 1.4959836369417008, -0.07036421252807842, -0.7362854978086856, -0.4795472607190941, 1.6003974543998063, -0.3481208183712817], \"yaxis\": \"y5\"}, {\"histfunc\": \"count\", \"histnorm\": \"\", \"marker\": {\"color\": \"rgba(55, 128, 191, 1.0)\", \"line\": {\"color\": \"#4D5663\", \"width\": 1.3}}, \"name\": \"B\", \"nbinsx\": 10, \"opacity\": 0.8, \"orientation\": \"v\", \"type\": \"histogram\", \"x\": [-0.9532399160561278, -0.5868484365358092, -0.5322015045622156, -0.067966143001875, 0.9486452867643311, -0.6629183797257413, -0.5337786235952177, -1.374005116607833, 0.9538955464602282, 0.9831229684062017, -0.7218794529268818, -1.738462406660161, 0.8390413925664644, 0.4716881828898347, 1.840314344187763, 0.7829064814901634, -0.29559972424111564, -0.4543075695792023, -0.24134848173579576, 1.0620942076543174, 0.8126293598752975, 0.12771413630928588, 0.6479158525379064, -1.3221014076081543, -0.6104132558623014, 1.6009003090453902, 0.9269141114311796, -0.09885623938144297, 0.8712506984556516, -1.8373391727315502, -0.8095199640075892, 0.5647221507466086, -0.33873776587617926, 1.2770174534384262, -0.401058722431807, -0.3991026372035775, 0.6954802542981, 0.4657361921256589, -0.6115763656174145, -0.76790041556677, -0.8760445121497197, 0.9385120394049317, 0.12548592918841428, 0.12853157804446833, -0.9198386416256834, -0.16736007077296486, -0.273108590084941, -1.038593836786086, -1.789678683700114, -0.08672543648003408, 0.1791283495405397, 0.19740149687421615, -1.8532304045831987, 0.09418603272153049, -0.05406171658396121, 1.1613967379069392, 0.2908581391725514, 0.9334829806606881, 0.8759062521948778, 0.01544050596120699, -2.1433853948711863, -0.6550694134265117, 0.9450328060012705, -0.7318511174804488, -0.2760665477991691, 1.832042341227804, 0.7153981071725797, 0.3097267840306819, 0.5458716771237517, -0.27788252174846967, -2.56791567288503, 1.0733981182897139, 0.5539305528644727, -0.8875864930235106, -0.9215489395600035, -0.48052999506367167, 0.734067673662595, 0.7410495064840434, -0.4455153474458417, 0.47171647604105243, 2.2033238446375445, -0.13287462890628282, 1.57108408511727, -0.2832152183269851, 0.6604718888161459, -0.8097018520506656, -0.8998025213320278, 2.2744708006020584, -1.2989964534559673, 1.2567628834902713, 0.9586268624499967, 1.0292763836765124, 0.23642372515301469, -0.6456930750549342, 1.4959836369417008, -0.07036421252807842, -0.7362854978086856, -0.4795472607190941, 1.6003974543998063, -0.3481208183712817], \"xaxis\": \"x6\", \"yaxis\": \"y6\"}, {\"line\": {\"color\": \"rgba(128, 128, 128, 1.0)\", \"dash\": \"solid\", \"shape\": \"linear\", \"width\": 1.3}, \"marker\": {\"size\": 2, \"symbol\": \"circle\"}, \"mode\": \"markers\", \"name\": \"B\", \"text\": \"\", \"type\": \"scatter\", \"x\": [1.4983864779909448, -0.0683974342124604, -0.5337891463858248, 0.44154354919874567, -1.2318152574431034, 1.2985630040366611, -2.218451919669104, 0.9332677474881452, 0.48887768670488263, 0.7100565211778788, -1.180211018759006, 0.40357787691680996, -0.18176450555296522, -0.19923388484756513, 2.2707936648476434, 0.7134211445041823, -0.20914473971566427, 0.6731272521506116, -0.1712162713391917, -0.32409938623671136, 0.3231132918011072, -1.5336155761055157, 0.5025780232508699, -0.29693856159868626, 0.23987661690729795, 0.44290559204476504, -0.529833328173643, -0.029194069017488885, 1.2034809706627385, 0.4920550863252347, 1.3118142713736591, -0.012957419236584167, 0.9926476583889912, 1.2718468624411214, 2.0622297852705547, 1.9746120568742223, 0.7116292523754622, -0.4737056251190207, -0.5474136556886244, 0.6820687853788049, 0.1752813698701687, 0.03369271598512779, 0.534436508849568, -0.43959501846003035, -0.5781181336082649, 1.9012412703468982, -0.03727290144563984, 0.5574680225499314, 0.9559932227587079, -0.32636063943397453, -0.33839420843768, 0.33923148177384843, -0.017272371086671515, -0.7399021484764235, -1.165467022871023, -1.292106893654066, -1.784099308455661, -0.9785305487491726, 0.4780020587967749, -0.5248854157902065, -0.6125375405316861, 0.6759309903954257, 0.6041448312385654, -0.33039041832431093, -0.17339863721071497, -0.009843440355222733, 0.7997753502200071, -1.107214785996133, 0.498447288776335, 0.6794945513401383, -0.1382266500550088, 1.2781507015495341, 0.6254176748292696, 0.7886826509605261, -0.8181677561777155, -0.6384163425676622, -1.0479872434449466, -1.2177317666516922, -1.5111568383490466, 0.9615221253744407, 0.9680307972915704, 0.7370807455860703, 0.08595259442313354, -0.3819517739097434, 0.5814733207998918, -0.9305531186290832, 0.09422451520604969, 1.81821824919206, 0.06749656036457062, -0.6269712132943323, 0.28732203080938473, -0.34598621688533177, -0.04863017192128949, -0.3539736054969189, -1.2972990448743276, 1.6800575190759655, -0.3891493008112305, 1.345521828588874, 1.272967956040553, 3.3265035585717997], \"xaxis\": \"x7\", \"y\": [-0.9532399160561278, -0.5868484365358092, -0.5322015045622156, -0.067966143001875, 0.9486452867643311, -0.6629183797257413, -0.5337786235952177, -1.374005116607833, 0.9538955464602282, 0.9831229684062017, -0.7218794529268818, -1.738462406660161, 0.8390413925664644, 0.4716881828898347, 1.840314344187763, 0.7829064814901634, -0.29559972424111564, -0.4543075695792023, -0.24134848173579576, 1.0620942076543174, 0.8126293598752975, 0.12771413630928588, 0.6479158525379064, -1.3221014076081543, -0.6104132558623014, 1.6009003090453902, 0.9269141114311796, -0.09885623938144297, 0.8712506984556516, -1.8373391727315502, -0.8095199640075892, 0.5647221507466086, -0.33873776587617926, 1.2770174534384262, -0.401058722431807, -0.3991026372035775, 0.6954802542981, 0.4657361921256589, -0.6115763656174145, -0.76790041556677, -0.8760445121497197, 0.9385120394049317, 0.12548592918841428, 0.12853157804446833, -0.9198386416256834, -0.16736007077296486, -0.273108590084941, -1.038593836786086, -1.789678683700114, -0.08672543648003408, 0.1791283495405397, 0.19740149687421615, -1.8532304045831987, 0.09418603272153049, -0.05406171658396121, 1.1613967379069392, 0.2908581391725514, 0.9334829806606881, 0.8759062521948778, 0.01544050596120699, -2.1433853948711863, -0.6550694134265117, 0.9450328060012705, -0.7318511174804488, -0.2760665477991691, 1.832042341227804, 0.7153981071725797, 0.3097267840306819, 0.5458716771237517, -0.27788252174846967, -2.56791567288503, 1.0733981182897139, 0.5539305528644727, -0.8875864930235106, -0.9215489395600035, -0.48052999506367167, 0.734067673662595, 0.7410495064840434, -0.4455153474458417, 0.47171647604105243, 2.2033238446375445, -0.13287462890628282, 1.57108408511727, -0.2832152183269851, 0.6604718888161459, -0.8097018520506656, -0.8998025213320278, 2.2744708006020584, -1.2989964534559673, 1.2567628834902713, 0.9586268624499967, 1.0292763836765124, 0.23642372515301469, -0.6456930750549342, 1.4959836369417008, -0.07036421252807842, -0.7362854978086856, -0.4795472607190941, 1.6003974543998063, -0.3481208183712817], \"yaxis\": \"y7\"}, {\"line\": {\"color\": \"rgba(128, 128, 128, 1.0)\", \"dash\": \"solid\", \"shape\": \"linear\", \"width\": 1.3}, \"marker\": {\"size\": 2, \"symbol\": \"circle\"}, \"mode\": \"markers\", \"name\": \"B\", \"text\": \"\", \"type\": \"scatter\", \"x\": [-1.5319495460763377, -0.7823135218083629, -1.2093363017654826, 0.7797917356745605, 0.33983173967364444, -0.6668906877377361, -0.9240185127971479, -1.401096364281915, -0.2048781567578501, 1.1948511507781823, 1.9378710428122337, -0.19788163111016083, -0.9621305666501678, 0.5138660890036052, -1.143865652539835, -1.1982136890776176, 0.8292787619731817, 0.3295035520497889, 0.8222470222792261, -0.5121999795691015, -1.237290642027615, 0.11446894929464378, -1.505822965665104, -1.2565156539734794, -0.9237007926029537, -0.20485623833171945, -1.242963400226735, 0.46065343842511053, 0.8627455440540776, 0.37885281652310104, -0.404771823670305, 1.9530589976655945, -1.5658095281175592, -0.9899786783745753, -0.4138508787543901, 2.0771413723760905, 0.08921008719746723, -1.3556168492151528, -0.7678695095182647, -1.1128032731182662, -2.048881608126047, -0.26848514807393614, 1.229562428489407, -0.7531155606516615, -1.0141352555130447, -0.3574010751276007, 1.193569139394085, -0.1713953689270901, 0.5419494728333556, -0.5194810685746506, -0.16357195310254669, 0.7467042929422325, 0.383803866327178, -0.002594563791913918, -0.3032870044789301, 0.16558660457653496, -0.9419723485650384, -0.8099143888303659, 1.2205839875266769, -1.7007322354324552, -0.5497960766879818, -1.4017578932924981, -2.2045320929247545, 0.3986718611011956, -0.09064289146691248, 0.85543610620957, 1.1551676178843544, -0.41020533331384035, -0.8446806004273089, -0.47554568454257223, -0.06593091310501963, 0.29154657424817887, 1.8014650512475308, -0.42036587587693824, 0.5939056868343671, 0.12396213447308421, 0.5742018423253487, 0.6007861599895614, 0.6722461239448084, 0.4174574720090517, -0.9287455608677232, -0.040409801326219574, -0.5772027988901258, -0.6366786617000452, -1.474079529032982, 0.5301472217828153, -0.5618726312931238, 0.5743351632740945, -0.20108858944342017, 0.4951290430399495, -0.3437933242276682, 0.21337031294925046, -0.30421319297951926, 0.6185743763842435, 1.3426061469006845, -2.6898523405519335, -1.2997624793502054, -0.014491457910390242, -0.7531758443186563, 0.051972534063198135], \"xaxis\": \"x8\", \"y\": [-0.9532399160561278, -0.5868484365358092, -0.5322015045622156, -0.067966143001875, 0.9486452867643311, -0.6629183797257413, -0.5337786235952177, -1.374005116607833, 0.9538955464602282, 0.9831229684062017, -0.7218794529268818, -1.738462406660161, 0.8390413925664644, 0.4716881828898347, 1.840314344187763, 0.7829064814901634, -0.29559972424111564, -0.4543075695792023, -0.24134848173579576, 1.0620942076543174, 0.8126293598752975, 0.12771413630928588, 0.6479158525379064, -1.3221014076081543, -0.6104132558623014, 1.6009003090453902, 0.9269141114311796, -0.09885623938144297, 0.8712506984556516, -1.8373391727315502, -0.8095199640075892, 0.5647221507466086, -0.33873776587617926, 1.2770174534384262, -0.401058722431807, -0.3991026372035775, 0.6954802542981, 0.4657361921256589, -0.6115763656174145, -0.76790041556677, -0.8760445121497197, 0.9385120394049317, 0.12548592918841428, 0.12853157804446833, -0.9198386416256834, -0.16736007077296486, -0.273108590084941, -1.038593836786086, -1.789678683700114, -0.08672543648003408, 0.1791283495405397, 0.19740149687421615, -1.8532304045831987, 0.09418603272153049, -0.05406171658396121, 1.1613967379069392, 0.2908581391725514, 0.9334829806606881, 0.8759062521948778, 0.01544050596120699, -2.1433853948711863, -0.6550694134265117, 0.9450328060012705, -0.7318511174804488, -0.2760665477991691, 1.832042341227804, 0.7153981071725797, 0.3097267840306819, 0.5458716771237517, -0.27788252174846967, -2.56791567288503, 1.0733981182897139, 0.5539305528644727, -0.8875864930235106, -0.9215489395600035, -0.48052999506367167, 0.734067673662595, 0.7410495064840434, -0.4455153474458417, 0.47171647604105243, 2.2033238446375445, -0.13287462890628282, 1.57108408511727, -0.2832152183269851, 0.6604718888161459, -0.8097018520506656, -0.8998025213320278, 2.2744708006020584, -1.2989964534559673, 1.2567628834902713, 0.9586268624499967, 1.0292763836765124, 0.23642372515301469, -0.6456930750549342, 1.4959836369417008, -0.07036421252807842, -0.7362854978086856, -0.4795472607190941, 1.6003974543998063, -0.3481208183712817], \"yaxis\": \"y8\"}, {\"line\": {\"color\": \"rgba(128, 128, 128, 1.0)\", \"dash\": \"solid\", \"shape\": \"linear\", \"width\": 1.3}, \"marker\": {\"size\": 2, \"symbol\": \"circle\"}, \"mode\": \"markers\", \"name\": \"C\", \"text\": \"\", \"type\": \"scatter\", \"x\": [-0.14503484795852725, -3.0165964743780136, 0.24392315292249664, 0.2011504284420982, -1.954377685047049, 0.018622857603898417, 0.8617756539234976, -1.1789175288139595, 0.09453158593071533, -0.8190086004558853, -0.5111915119844852, -0.37019437878534933, 0.49406010167759457, 0.7318957798065484, -0.6245807673201975, 0.3860474439383816, 0.4682472943605631, 0.1627222638546957, -0.8365295450105019, -0.1484272992826551, -0.14699585388358868, -0.8989769017012104, 3.375644491066588, 0.8636351957100722, 0.9764706586185982, 1.8839025583510707, 0.49039805334819536, 1.1798805121748803, -0.08293830705260241, 0.020189132289008475, -1.212888981610273, -0.9540852579325413, 0.03227530808262174, -0.8518559637939185, 0.9654680591995582, -1.0356822197978657, -0.8665007063675878, 1.1028588348458925, -1.0335879734720794, -0.8709376829504009, 1.6229341507509705, -0.0960647329416155, 0.558693955982772, -0.47009300020518974, -0.098392235514167, 1.184576665806727, 0.01243576370376068, -0.10444812302065885, 0.16465566602612397, -0.47601592047505115, -0.3524503064476507, -1.1142072718294294, -0.24775154136288996, 0.6454080597490083, 0.06799428384607312, -2.3458667879361808, 0.0750307959732018, -0.02338014024049768, 0.408278691353931, -1.3197647537174, -0.08369974574571107, 0.028103212057242984, 0.24146463374541377, -0.1314784283188998, -0.35399171541630814, 0.9047121766469459, 0.577691629229222, -0.9041627507100116, 0.6679213458174991, 0.21340226976686694, 0.5187350887843667, 1.0291096353357165, -0.31331510697347104, -0.569615681897244, -0.08158041488700205, 0.4024168949117813, -0.37676734107072724, 0.02441103137705158, 0.4372970535384335, 0.6141820169439471, 1.190905549407557, 0.5607483976603372, -2.33021436137407, 0.5234829274135729, -0.6133704977202653, 0.6259858344588582, -0.03941965499720579, -0.3826539928719661, -1.1626848852541085, -0.13538449249010662, -0.44734498015120816, -0.675527294767186, -0.27764693163851684, 2.0007679905946723, -0.023422696390421664, 1.0516904951894257, -0.6505394429961281, 0.16981956995748015, 0.8454912342091417, -0.3025957383637378], \"xaxis\": \"x9\", \"y\": [1.4983864779909448, -0.0683974342124604, -0.5337891463858248, 0.44154354919874567, -1.2318152574431034, 1.2985630040366611, -2.218451919669104, 0.9332677474881452, 0.48887768670488263, 0.7100565211778788, -1.180211018759006, 0.40357787691680996, -0.18176450555296522, -0.19923388484756513, 2.2707936648476434, 0.7134211445041823, -0.20914473971566427, 0.6731272521506116, -0.1712162713391917, -0.32409938623671136, 0.3231132918011072, -1.5336155761055157, 0.5025780232508699, -0.29693856159868626, 0.23987661690729795, 0.44290559204476504, -0.529833328173643, -0.029194069017488885, 1.2034809706627385, 0.4920550863252347, 1.3118142713736591, -0.012957419236584167, 0.9926476583889912, 1.2718468624411214, 2.0622297852705547, 1.9746120568742223, 0.7116292523754622, -0.4737056251190207, -0.5474136556886244, 0.6820687853788049, 0.1752813698701687, 0.03369271598512779, 0.534436508849568, -0.43959501846003035, -0.5781181336082649, 1.9012412703468982, -0.03727290144563984, 0.5574680225499314, 0.9559932227587079, -0.32636063943397453, -0.33839420843768, 0.33923148177384843, -0.017272371086671515, -0.7399021484764235, -1.165467022871023, -1.292106893654066, -1.784099308455661, -0.9785305487491726, 0.4780020587967749, -0.5248854157902065, -0.6125375405316861, 0.6759309903954257, 0.6041448312385654, -0.33039041832431093, -0.17339863721071497, -0.009843440355222733, 0.7997753502200071, -1.107214785996133, 0.498447288776335, 0.6794945513401383, -0.1382266500550088, 1.2781507015495341, 0.6254176748292696, 0.7886826509605261, -0.8181677561777155, -0.6384163425676622, -1.0479872434449466, -1.2177317666516922, -1.5111568383490466, 0.9615221253744407, 0.9680307972915704, 0.7370807455860703, 0.08595259442313354, -0.3819517739097434, 0.5814733207998918, -0.9305531186290832, 0.09422451520604969, 1.81821824919206, 0.06749656036457062, -0.6269712132943323, 0.28732203080938473, -0.34598621688533177, -0.04863017192128949, -0.3539736054969189, -1.2972990448743276, 1.6800575190759655, -0.3891493008112305, 1.345521828588874, 1.272967956040553, 3.3265035585717997], \"yaxis\": \"y9\"}, {\"line\": {\"color\": \"rgba(128, 128, 128, 1.0)\", \"dash\": \"solid\", \"shape\": \"linear\", \"width\": 1.3}, \"marker\": {\"size\": 2, \"symbol\": \"circle\"}, \"mode\": \"markers\", \"name\": \"C\", \"text\": \"\", \"type\": \"scatter\", \"x\": [-0.9532399160561278, -0.5868484365358092, -0.5322015045622156, -0.067966143001875, 0.9486452867643311, -0.6629183797257413, -0.5337786235952177, -1.374005116607833, 0.9538955464602282, 0.9831229684062017, -0.7218794529268818, -1.738462406660161, 0.8390413925664644, 0.4716881828898347, 1.840314344187763, 0.7829064814901634, -0.29559972424111564, -0.4543075695792023, -0.24134848173579576, 1.0620942076543174, 0.8126293598752975, 0.12771413630928588, 0.6479158525379064, -1.3221014076081543, -0.6104132558623014, 1.6009003090453902, 0.9269141114311796, -0.09885623938144297, 0.8712506984556516, -1.8373391727315502, -0.8095199640075892, 0.5647221507466086, -0.33873776587617926, 1.2770174534384262, -0.401058722431807, -0.3991026372035775, 0.6954802542981, 0.4657361921256589, -0.6115763656174145, -0.76790041556677, -0.8760445121497197, 0.9385120394049317, 0.12548592918841428, 0.12853157804446833, -0.9198386416256834, -0.16736007077296486, -0.273108590084941, -1.038593836786086, -1.789678683700114, -0.08672543648003408, 0.1791283495405397, 0.19740149687421615, -1.8532304045831987, 0.09418603272153049, -0.05406171658396121, 1.1613967379069392, 0.2908581391725514, 0.9334829806606881, 0.8759062521948778, 0.01544050596120699, -2.1433853948711863, -0.6550694134265117, 0.9450328060012705, -0.7318511174804488, -0.2760665477991691, 1.832042341227804, 0.7153981071725797, 0.3097267840306819, 0.5458716771237517, -0.27788252174846967, -2.56791567288503, 1.0733981182897139, 0.5539305528644727, -0.8875864930235106, -0.9215489395600035, -0.48052999506367167, 0.734067673662595, 0.7410495064840434, -0.4455153474458417, 0.47171647604105243, 2.2033238446375445, -0.13287462890628282, 1.57108408511727, -0.2832152183269851, 0.6604718888161459, -0.8097018520506656, -0.8998025213320278, 2.2744708006020584, -1.2989964534559673, 1.2567628834902713, 0.9586268624499967, 1.0292763836765124, 0.23642372515301469, -0.6456930750549342, 1.4959836369417008, -0.07036421252807842, -0.7362854978086856, -0.4795472607190941, 1.6003974543998063, -0.3481208183712817], \"xaxis\": \"x10\", \"y\": [1.4983864779909448, -0.0683974342124604, -0.5337891463858248, 0.44154354919874567, -1.2318152574431034, 1.2985630040366611, -2.218451919669104, 0.9332677474881452, 0.48887768670488263, 0.7100565211778788, -1.180211018759006, 0.40357787691680996, -0.18176450555296522, -0.19923388484756513, 2.2707936648476434, 0.7134211445041823, -0.20914473971566427, 0.6731272521506116, -0.1712162713391917, -0.32409938623671136, 0.3231132918011072, -1.5336155761055157, 0.5025780232508699, -0.29693856159868626, 0.23987661690729795, 0.44290559204476504, -0.529833328173643, -0.029194069017488885, 1.2034809706627385, 0.4920550863252347, 1.3118142713736591, -0.012957419236584167, 0.9926476583889912, 1.2718468624411214, 2.0622297852705547, 1.9746120568742223, 0.7116292523754622, -0.4737056251190207, -0.5474136556886244, 0.6820687853788049, 0.1752813698701687, 0.03369271598512779, 0.534436508849568, -0.43959501846003035, -0.5781181336082649, 1.9012412703468982, -0.03727290144563984, 0.5574680225499314, 0.9559932227587079, -0.32636063943397453, -0.33839420843768, 0.33923148177384843, -0.017272371086671515, -0.7399021484764235, -1.165467022871023, -1.292106893654066, -1.784099308455661, -0.9785305487491726, 0.4780020587967749, -0.5248854157902065, -0.6125375405316861, 0.6759309903954257, 0.6041448312385654, -0.33039041832431093, -0.17339863721071497, -0.009843440355222733, 0.7997753502200071, -1.107214785996133, 0.498447288776335, 0.6794945513401383, -0.1382266500550088, 1.2781507015495341, 0.6254176748292696, 0.7886826509605261, -0.8181677561777155, -0.6384163425676622, -1.0479872434449466, -1.2177317666516922, -1.5111568383490466, 0.9615221253744407, 0.9680307972915704, 0.7370807455860703, 0.08595259442313354, -0.3819517739097434, 0.5814733207998918, -0.9305531186290832, 0.09422451520604969, 1.81821824919206, 0.06749656036457062, -0.6269712132943323, 0.28732203080938473, -0.34598621688533177, -0.04863017192128949, -0.3539736054969189, -1.2972990448743276, 1.6800575190759655, -0.3891493008112305, 1.345521828588874, 1.272967956040553, 3.3265035585717997], \"yaxis\": \"y10\"}, {\"histfunc\": \"count\", \"histnorm\": \"\", \"marker\": {\"color\": \"rgba(50, 171, 96, 1.0)\", \"line\": {\"color\": \"#4D5663\", \"width\": 1.3}}, \"name\": \"C\", \"nbinsx\": 10, \"opacity\": 0.8, \"orientation\": \"v\", \"type\": \"histogram\", \"x\": [1.4983864779909448, -0.0683974342124604, -0.5337891463858248, 0.44154354919874567, -1.2318152574431034, 1.2985630040366611, -2.218451919669104, 0.9332677474881452, 0.48887768670488263, 0.7100565211778788, -1.180211018759006, 0.40357787691680996, -0.18176450555296522, -0.19923388484756513, 2.2707936648476434, 0.7134211445041823, -0.20914473971566427, 0.6731272521506116, -0.1712162713391917, -0.32409938623671136, 0.3231132918011072, -1.5336155761055157, 0.5025780232508699, -0.29693856159868626, 0.23987661690729795, 0.44290559204476504, -0.529833328173643, -0.029194069017488885, 1.2034809706627385, 0.4920550863252347, 1.3118142713736591, -0.012957419236584167, 0.9926476583889912, 1.2718468624411214, 2.0622297852705547, 1.9746120568742223, 0.7116292523754622, -0.4737056251190207, -0.5474136556886244, 0.6820687853788049, 0.1752813698701687, 0.03369271598512779, 0.534436508849568, -0.43959501846003035, -0.5781181336082649, 1.9012412703468982, -0.03727290144563984, 0.5574680225499314, 0.9559932227587079, -0.32636063943397453, -0.33839420843768, 0.33923148177384843, -0.017272371086671515, -0.7399021484764235, -1.165467022871023, -1.292106893654066, -1.784099308455661, -0.9785305487491726, 0.4780020587967749, -0.5248854157902065, -0.6125375405316861, 0.6759309903954257, 0.6041448312385654, -0.33039041832431093, -0.17339863721071497, -0.009843440355222733, 0.7997753502200071, -1.107214785996133, 0.498447288776335, 0.6794945513401383, -0.1382266500550088, 1.2781507015495341, 0.6254176748292696, 0.7886826509605261, -0.8181677561777155, -0.6384163425676622, -1.0479872434449466, -1.2177317666516922, -1.5111568383490466, 0.9615221253744407, 0.9680307972915704, 0.7370807455860703, 0.08595259442313354, -0.3819517739097434, 0.5814733207998918, -0.9305531186290832, 0.09422451520604969, 1.81821824919206, 0.06749656036457062, -0.6269712132943323, 0.28732203080938473, -0.34598621688533177, -0.04863017192128949, -0.3539736054969189, -1.2972990448743276, 1.6800575190759655, -0.3891493008112305, 1.345521828588874, 1.272967956040553, 3.3265035585717997], \"xaxis\": \"x11\", \"yaxis\": \"y11\"}, {\"line\": {\"color\": \"rgba(128, 128, 128, 1.0)\", \"dash\": \"solid\", \"shape\": \"linear\", \"width\": 1.3}, \"marker\": {\"size\": 2, \"symbol\": \"circle\"}, \"mode\": \"markers\", \"name\": \"C\", \"text\": \"\", \"type\": \"scatter\", \"x\": [-1.5319495460763377, -0.7823135218083629, -1.2093363017654826, 0.7797917356745605, 0.33983173967364444, -0.6668906877377361, -0.9240185127971479, -1.401096364281915, -0.2048781567578501, 1.1948511507781823, 1.9378710428122337, -0.19788163111016083, -0.9621305666501678, 0.5138660890036052, -1.143865652539835, -1.1982136890776176, 0.8292787619731817, 0.3295035520497889, 0.8222470222792261, -0.5121999795691015, -1.237290642027615, 0.11446894929464378, -1.505822965665104, -1.2565156539734794, -0.9237007926029537, -0.20485623833171945, -1.242963400226735, 0.46065343842511053, 0.8627455440540776, 0.37885281652310104, -0.404771823670305, 1.9530589976655945, -1.5658095281175592, -0.9899786783745753, -0.4138508787543901, 2.0771413723760905, 0.08921008719746723, -1.3556168492151528, -0.7678695095182647, -1.1128032731182662, -2.048881608126047, -0.26848514807393614, 1.229562428489407, -0.7531155606516615, -1.0141352555130447, -0.3574010751276007, 1.193569139394085, -0.1713953689270901, 0.5419494728333556, -0.5194810685746506, -0.16357195310254669, 0.7467042929422325, 0.383803866327178, -0.002594563791913918, -0.3032870044789301, 0.16558660457653496, -0.9419723485650384, -0.8099143888303659, 1.2205839875266769, -1.7007322354324552, -0.5497960766879818, -1.4017578932924981, -2.2045320929247545, 0.3986718611011956, -0.09064289146691248, 0.85543610620957, 1.1551676178843544, -0.41020533331384035, -0.8446806004273089, -0.47554568454257223, -0.06593091310501963, 0.29154657424817887, 1.8014650512475308, -0.42036587587693824, 0.5939056868343671, 0.12396213447308421, 0.5742018423253487, 0.6007861599895614, 0.6722461239448084, 0.4174574720090517, -0.9287455608677232, -0.040409801326219574, -0.5772027988901258, -0.6366786617000452, -1.474079529032982, 0.5301472217828153, -0.5618726312931238, 0.5743351632740945, -0.20108858944342017, 0.4951290430399495, -0.3437933242276682, 0.21337031294925046, -0.30421319297951926, 0.6185743763842435, 1.3426061469006845, -2.6898523405519335, -1.2997624793502054, -0.014491457910390242, -0.7531758443186563, 0.051972534063198135], \"xaxis\": \"x12\", \"y\": [1.4983864779909448, -0.0683974342124604, -0.5337891463858248, 0.44154354919874567, -1.2318152574431034, 1.2985630040366611, -2.218451919669104, 0.9332677474881452, 0.48887768670488263, 0.7100565211778788, -1.180211018759006, 0.40357787691680996, -0.18176450555296522, -0.19923388484756513, 2.2707936648476434, 0.7134211445041823, -0.20914473971566427, 0.6731272521506116, -0.1712162713391917, -0.32409938623671136, 0.3231132918011072, -1.5336155761055157, 0.5025780232508699, -0.29693856159868626, 0.23987661690729795, 0.44290559204476504, -0.529833328173643, -0.029194069017488885, 1.2034809706627385, 0.4920550863252347, 1.3118142713736591, -0.012957419236584167, 0.9926476583889912, 1.2718468624411214, 2.0622297852705547, 1.9746120568742223, 0.7116292523754622, -0.4737056251190207, -0.5474136556886244, 0.6820687853788049, 0.1752813698701687, 0.03369271598512779, 0.534436508849568, -0.43959501846003035, -0.5781181336082649, 1.9012412703468982, -0.03727290144563984, 0.5574680225499314, 0.9559932227587079, -0.32636063943397453, -0.33839420843768, 0.33923148177384843, -0.017272371086671515, -0.7399021484764235, -1.165467022871023, -1.292106893654066, -1.784099308455661, -0.9785305487491726, 0.4780020587967749, -0.5248854157902065, -0.6125375405316861, 0.6759309903954257, 0.6041448312385654, -0.33039041832431093, -0.17339863721071497, -0.009843440355222733, 0.7997753502200071, -1.107214785996133, 0.498447288776335, 0.6794945513401383, -0.1382266500550088, 1.2781507015495341, 0.6254176748292696, 0.7886826509605261, -0.8181677561777155, -0.6384163425676622, -1.0479872434449466, -1.2177317666516922, -1.5111568383490466, 0.9615221253744407, 0.9680307972915704, 0.7370807455860703, 0.08595259442313354, -0.3819517739097434, 0.5814733207998918, -0.9305531186290832, 0.09422451520604969, 1.81821824919206, 0.06749656036457062, -0.6269712132943323, 0.28732203080938473, -0.34598621688533177, -0.04863017192128949, -0.3539736054969189, -1.2972990448743276, 1.6800575190759655, -0.3891493008112305, 1.345521828588874, 1.272967956040553, 3.3265035585717997], \"yaxis\": \"y12\"}, {\"line\": {\"color\": \"rgba(128, 128, 128, 1.0)\", \"dash\": \"solid\", \"shape\": \"linear\", \"width\": 1.3}, \"marker\": {\"size\": 2, \"symbol\": \"circle\"}, \"mode\": \"markers\", \"name\": \"D\", \"text\": \"\", \"type\": \"scatter\", \"x\": [-0.14503484795852725, -3.0165964743780136, 0.24392315292249664, 0.2011504284420982, -1.954377685047049, 0.018622857603898417, 0.8617756539234976, -1.1789175288139595, 0.09453158593071533, -0.8190086004558853, -0.5111915119844852, -0.37019437878534933, 0.49406010167759457, 0.7318957798065484, -0.6245807673201975, 0.3860474439383816, 0.4682472943605631, 0.1627222638546957, -0.8365295450105019, -0.1484272992826551, -0.14699585388358868, -0.8989769017012104, 3.375644491066588, 0.8636351957100722, 0.9764706586185982, 1.8839025583510707, 0.49039805334819536, 1.1798805121748803, -0.08293830705260241, 0.020189132289008475, -1.212888981610273, -0.9540852579325413, 0.03227530808262174, -0.8518559637939185, 0.9654680591995582, -1.0356822197978657, -0.8665007063675878, 1.1028588348458925, -1.0335879734720794, -0.8709376829504009, 1.6229341507509705, -0.0960647329416155, 0.558693955982772, -0.47009300020518974, -0.098392235514167, 1.184576665806727, 0.01243576370376068, -0.10444812302065885, 0.16465566602612397, -0.47601592047505115, -0.3524503064476507, -1.1142072718294294, -0.24775154136288996, 0.6454080597490083, 0.06799428384607312, -2.3458667879361808, 0.0750307959732018, -0.02338014024049768, 0.408278691353931, -1.3197647537174, -0.08369974574571107, 0.028103212057242984, 0.24146463374541377, -0.1314784283188998, -0.35399171541630814, 0.9047121766469459, 0.577691629229222, -0.9041627507100116, 0.6679213458174991, 0.21340226976686694, 0.5187350887843667, 1.0291096353357165, -0.31331510697347104, -0.569615681897244, -0.08158041488700205, 0.4024168949117813, -0.37676734107072724, 0.02441103137705158, 0.4372970535384335, 0.6141820169439471, 1.190905549407557, 0.5607483976603372, -2.33021436137407, 0.5234829274135729, -0.6133704977202653, 0.6259858344588582, -0.03941965499720579, -0.3826539928719661, -1.1626848852541085, -0.13538449249010662, -0.44734498015120816, -0.675527294767186, -0.27764693163851684, 2.0007679905946723, -0.023422696390421664, 1.0516904951894257, -0.6505394429961281, 0.16981956995748015, 0.8454912342091417, -0.3025957383637378], \"xaxis\": \"x13\", \"y\": [-1.5319495460763377, -0.7823135218083629, -1.2093363017654826, 0.7797917356745605, 0.33983173967364444, -0.6668906877377361, -0.9240185127971479, -1.401096364281915, -0.2048781567578501, 1.1948511507781823, 1.9378710428122337, -0.19788163111016083, -0.9621305666501678, 0.5138660890036052, -1.143865652539835, -1.1982136890776176, 0.8292787619731817, 0.3295035520497889, 0.8222470222792261, -0.5121999795691015, -1.237290642027615, 0.11446894929464378, -1.505822965665104, -1.2565156539734794, -0.9237007926029537, -0.20485623833171945, -1.242963400226735, 0.46065343842511053, 0.8627455440540776, 0.37885281652310104, -0.404771823670305, 1.9530589976655945, -1.5658095281175592, -0.9899786783745753, -0.4138508787543901, 2.0771413723760905, 0.08921008719746723, -1.3556168492151528, -0.7678695095182647, -1.1128032731182662, -2.048881608126047, -0.26848514807393614, 1.229562428489407, -0.7531155606516615, -1.0141352555130447, -0.3574010751276007, 1.193569139394085, -0.1713953689270901, 0.5419494728333556, -0.5194810685746506, -0.16357195310254669, 0.7467042929422325, 0.383803866327178, -0.002594563791913918, -0.3032870044789301, 0.16558660457653496, -0.9419723485650384, -0.8099143888303659, 1.2205839875266769, -1.7007322354324552, -0.5497960766879818, -1.4017578932924981, -2.2045320929247545, 0.3986718611011956, -0.09064289146691248, 0.85543610620957, 1.1551676178843544, -0.41020533331384035, -0.8446806004273089, -0.47554568454257223, -0.06593091310501963, 0.29154657424817887, 1.8014650512475308, -0.42036587587693824, 0.5939056868343671, 0.12396213447308421, 0.5742018423253487, 0.6007861599895614, 0.6722461239448084, 0.4174574720090517, -0.9287455608677232, -0.040409801326219574, -0.5772027988901258, -0.6366786617000452, -1.474079529032982, 0.5301472217828153, -0.5618726312931238, 0.5743351632740945, -0.20108858944342017, 0.4951290430399495, -0.3437933242276682, 0.21337031294925046, -0.30421319297951926, 0.6185743763842435, 1.3426061469006845, -2.6898523405519335, -1.2997624793502054, -0.014491457910390242, -0.7531758443186563, 0.051972534063198135], \"yaxis\": \"y13\"}, {\"line\": {\"color\": \"rgba(128, 128, 128, 1.0)\", \"dash\": \"solid\", \"shape\": \"linear\", \"width\": 1.3}, \"marker\": {\"size\": 2, \"symbol\": \"circle\"}, \"mode\": \"markers\", \"name\": \"D\", \"text\": \"\", \"type\": \"scatter\", \"x\": [-0.9532399160561278, -0.5868484365358092, -0.5322015045622156, -0.067966143001875, 0.9486452867643311, -0.6629183797257413, -0.5337786235952177, -1.374005116607833, 0.9538955464602282, 0.9831229684062017, -0.7218794529268818, -1.738462406660161, 0.8390413925664644, 0.4716881828898347, 1.840314344187763, 0.7829064814901634, -0.29559972424111564, -0.4543075695792023, -0.24134848173579576, 1.0620942076543174, 0.8126293598752975, 0.12771413630928588, 0.6479158525379064, -1.3221014076081543, -0.6104132558623014, 1.6009003090453902, 0.9269141114311796, -0.09885623938144297, 0.8712506984556516, -1.8373391727315502, -0.8095199640075892, 0.5647221507466086, -0.33873776587617926, 1.2770174534384262, -0.401058722431807, -0.3991026372035775, 0.6954802542981, 0.4657361921256589, -0.6115763656174145, -0.76790041556677, -0.8760445121497197, 0.9385120394049317, 0.12548592918841428, 0.12853157804446833, -0.9198386416256834, -0.16736007077296486, -0.273108590084941, -1.038593836786086, -1.789678683700114, -0.08672543648003408, 0.1791283495405397, 0.19740149687421615, -1.8532304045831987, 0.09418603272153049, -0.05406171658396121, 1.1613967379069392, 0.2908581391725514, 0.9334829806606881, 0.8759062521948778, 0.01544050596120699, -2.1433853948711863, -0.6550694134265117, 0.9450328060012705, -0.7318511174804488, -0.2760665477991691, 1.832042341227804, 0.7153981071725797, 0.3097267840306819, 0.5458716771237517, -0.27788252174846967, -2.56791567288503, 1.0733981182897139, 0.5539305528644727, -0.8875864930235106, -0.9215489395600035, -0.48052999506367167, 0.734067673662595, 0.7410495064840434, -0.4455153474458417, 0.47171647604105243, 2.2033238446375445, -0.13287462890628282, 1.57108408511727, -0.2832152183269851, 0.6604718888161459, -0.8097018520506656, -0.8998025213320278, 2.2744708006020584, -1.2989964534559673, 1.2567628834902713, 0.9586268624499967, 1.0292763836765124, 0.23642372515301469, -0.6456930750549342, 1.4959836369417008, -0.07036421252807842, -0.7362854978086856, -0.4795472607190941, 1.6003974543998063, -0.3481208183712817], \"xaxis\": \"x14\", \"y\": [-1.5319495460763377, -0.7823135218083629, -1.2093363017654826, 0.7797917356745605, 0.33983173967364444, -0.6668906877377361, -0.9240185127971479, -1.401096364281915, -0.2048781567578501, 1.1948511507781823, 1.9378710428122337, -0.19788163111016083, -0.9621305666501678, 0.5138660890036052, -1.143865652539835, -1.1982136890776176, 0.8292787619731817, 0.3295035520497889, 0.8222470222792261, -0.5121999795691015, -1.237290642027615, 0.11446894929464378, -1.505822965665104, -1.2565156539734794, -0.9237007926029537, -0.20485623833171945, -1.242963400226735, 0.46065343842511053, 0.8627455440540776, 0.37885281652310104, -0.404771823670305, 1.9530589976655945, -1.5658095281175592, -0.9899786783745753, -0.4138508787543901, 2.0771413723760905, 0.08921008719746723, -1.3556168492151528, -0.7678695095182647, -1.1128032731182662, -2.048881608126047, -0.26848514807393614, 1.229562428489407, -0.7531155606516615, -1.0141352555130447, -0.3574010751276007, 1.193569139394085, -0.1713953689270901, 0.5419494728333556, -0.5194810685746506, -0.16357195310254669, 0.7467042929422325, 0.383803866327178, -0.002594563791913918, -0.3032870044789301, 0.16558660457653496, -0.9419723485650384, -0.8099143888303659, 1.2205839875266769, -1.7007322354324552, -0.5497960766879818, -1.4017578932924981, -2.2045320929247545, 0.3986718611011956, -0.09064289146691248, 0.85543610620957, 1.1551676178843544, -0.41020533331384035, -0.8446806004273089, -0.47554568454257223, -0.06593091310501963, 0.29154657424817887, 1.8014650512475308, -0.42036587587693824, 0.5939056868343671, 0.12396213447308421, 0.5742018423253487, 0.6007861599895614, 0.6722461239448084, 0.4174574720090517, -0.9287455608677232, -0.040409801326219574, -0.5772027988901258, -0.6366786617000452, -1.474079529032982, 0.5301472217828153, -0.5618726312931238, 0.5743351632740945, -0.20108858944342017, 0.4951290430399495, -0.3437933242276682, 0.21337031294925046, -0.30421319297951926, 0.6185743763842435, 1.3426061469006845, -2.6898523405519335, -1.2997624793502054, -0.014491457910390242, -0.7531758443186563, 0.051972534063198135], \"yaxis\": \"y14\"}, {\"line\": {\"color\": \"rgba(128, 128, 128, 1.0)\", \"dash\": \"solid\", \"shape\": \"linear\", \"width\": 1.3}, \"marker\": {\"size\": 2, \"symbol\": \"circle\"}, \"mode\": \"markers\", \"name\": \"D\", \"text\": \"\", \"type\": \"scatter\", \"x\": [1.4983864779909448, -0.0683974342124604, -0.5337891463858248, 0.44154354919874567, -1.2318152574431034, 1.2985630040366611, -2.218451919669104, 0.9332677474881452, 0.48887768670488263, 0.7100565211778788, -1.180211018759006, 0.40357787691680996, -0.18176450555296522, -0.19923388484756513, 2.2707936648476434, 0.7134211445041823, -0.20914473971566427, 0.6731272521506116, -0.1712162713391917, -0.32409938623671136, 0.3231132918011072, -1.5336155761055157, 0.5025780232508699, -0.29693856159868626, 0.23987661690729795, 0.44290559204476504, -0.529833328173643, -0.029194069017488885, 1.2034809706627385, 0.4920550863252347, 1.3118142713736591, -0.012957419236584167, 0.9926476583889912, 1.2718468624411214, 2.0622297852705547, 1.9746120568742223, 0.7116292523754622, -0.4737056251190207, -0.5474136556886244, 0.6820687853788049, 0.1752813698701687, 0.03369271598512779, 0.534436508849568, -0.43959501846003035, -0.5781181336082649, 1.9012412703468982, -0.03727290144563984, 0.5574680225499314, 0.9559932227587079, -0.32636063943397453, -0.33839420843768, 0.33923148177384843, -0.017272371086671515, -0.7399021484764235, -1.165467022871023, -1.292106893654066, -1.784099308455661, -0.9785305487491726, 0.4780020587967749, -0.5248854157902065, -0.6125375405316861, 0.6759309903954257, 0.6041448312385654, -0.33039041832431093, -0.17339863721071497, -0.009843440355222733, 0.7997753502200071, -1.107214785996133, 0.498447288776335, 0.6794945513401383, -0.1382266500550088, 1.2781507015495341, 0.6254176748292696, 0.7886826509605261, -0.8181677561777155, -0.6384163425676622, -1.0479872434449466, -1.2177317666516922, -1.5111568383490466, 0.9615221253744407, 0.9680307972915704, 0.7370807455860703, 0.08595259442313354, -0.3819517739097434, 0.5814733207998918, -0.9305531186290832, 0.09422451520604969, 1.81821824919206, 0.06749656036457062, -0.6269712132943323, 0.28732203080938473, -0.34598621688533177, -0.04863017192128949, -0.3539736054969189, -1.2972990448743276, 1.6800575190759655, -0.3891493008112305, 1.345521828588874, 1.272967956040553, 3.3265035585717997], \"xaxis\": \"x15\", \"y\": [-1.5319495460763377, -0.7823135218083629, -1.2093363017654826, 0.7797917356745605, 0.33983173967364444, -0.6668906877377361, -0.9240185127971479, -1.401096364281915, -0.2048781567578501, 1.1948511507781823, 1.9378710428122337, -0.19788163111016083, -0.9621305666501678, 0.5138660890036052, -1.143865652539835, -1.1982136890776176, 0.8292787619731817, 0.3295035520497889, 0.8222470222792261, -0.5121999795691015, -1.237290642027615, 0.11446894929464378, -1.505822965665104, -1.2565156539734794, -0.9237007926029537, -0.20485623833171945, -1.242963400226735, 0.46065343842511053, 0.8627455440540776, 0.37885281652310104, -0.404771823670305, 1.9530589976655945, -1.5658095281175592, -0.9899786783745753, -0.4138508787543901, 2.0771413723760905, 0.08921008719746723, -1.3556168492151528, -0.7678695095182647, -1.1128032731182662, -2.048881608126047, -0.26848514807393614, 1.229562428489407, -0.7531155606516615, -1.0141352555130447, -0.3574010751276007, 1.193569139394085, -0.1713953689270901, 0.5419494728333556, -0.5194810685746506, -0.16357195310254669, 0.7467042929422325, 0.383803866327178, -0.002594563791913918, -0.3032870044789301, 0.16558660457653496, -0.9419723485650384, -0.8099143888303659, 1.2205839875266769, -1.7007322354324552, -0.5497960766879818, -1.4017578932924981, -2.2045320929247545, 0.3986718611011956, -0.09064289146691248, 0.85543610620957, 1.1551676178843544, -0.41020533331384035, -0.8446806004273089, -0.47554568454257223, -0.06593091310501963, 0.29154657424817887, 1.8014650512475308, -0.42036587587693824, 0.5939056868343671, 0.12396213447308421, 0.5742018423253487, 0.6007861599895614, 0.6722461239448084, 0.4174574720090517, -0.9287455608677232, -0.040409801326219574, -0.5772027988901258, -0.6366786617000452, -1.474079529032982, 0.5301472217828153, -0.5618726312931238, 0.5743351632740945, -0.20108858944342017, 0.4951290430399495, -0.3437933242276682, 0.21337031294925046, -0.30421319297951926, 0.6185743763842435, 1.3426061469006845, -2.6898523405519335, -1.2997624793502054, -0.014491457910390242, -0.7531758443186563, 0.051972534063198135], \"yaxis\": \"y15\"}, {\"histfunc\": \"count\", \"histnorm\": \"\", \"marker\": {\"color\": \"rgba(128, 0, 128, 1.0)\", \"line\": {\"color\": \"#4D5663\", \"width\": 1.3}}, \"name\": \"D\", \"nbinsx\": 10, \"opacity\": 0.8, \"orientation\": \"v\", \"type\": \"histogram\", \"x\": [-1.5319495460763377, -0.7823135218083629, -1.2093363017654826, 0.7797917356745605, 0.33983173967364444, -0.6668906877377361, -0.9240185127971479, -1.401096364281915, -0.2048781567578501, 1.1948511507781823, 1.9378710428122337, -0.19788163111016083, -0.9621305666501678, 0.5138660890036052, -1.143865652539835, -1.1982136890776176, 0.8292787619731817, 0.3295035520497889, 0.8222470222792261, -0.5121999795691015, -1.237290642027615, 0.11446894929464378, -1.505822965665104, -1.2565156539734794, -0.9237007926029537, -0.20485623833171945, -1.242963400226735, 0.46065343842511053, 0.8627455440540776, 0.37885281652310104, -0.404771823670305, 1.9530589976655945, -1.5658095281175592, -0.9899786783745753, -0.4138508787543901, 2.0771413723760905, 0.08921008719746723, -1.3556168492151528, -0.7678695095182647, -1.1128032731182662, -2.048881608126047, -0.26848514807393614, 1.229562428489407, -0.7531155606516615, -1.0141352555130447, -0.3574010751276007, 1.193569139394085, -0.1713953689270901, 0.5419494728333556, -0.5194810685746506, -0.16357195310254669, 0.7467042929422325, 0.383803866327178, -0.002594563791913918, -0.3032870044789301, 0.16558660457653496, -0.9419723485650384, -0.8099143888303659, 1.2205839875266769, -1.7007322354324552, -0.5497960766879818, -1.4017578932924981, -2.2045320929247545, 0.3986718611011956, -0.09064289146691248, 0.85543610620957, 1.1551676178843544, -0.41020533331384035, -0.8446806004273089, -0.47554568454257223, -0.06593091310501963, 0.29154657424817887, 1.8014650512475308, -0.42036587587693824, 0.5939056868343671, 0.12396213447308421, 0.5742018423253487, 0.6007861599895614, 0.6722461239448084, 0.4174574720090517, -0.9287455608677232, -0.040409801326219574, -0.5772027988901258, -0.6366786617000452, -1.474079529032982, 0.5301472217828153, -0.5618726312931238, 0.5743351632740945, -0.20108858944342017, 0.4951290430399495, -0.3437933242276682, 0.21337031294925046, -0.30421319297951926, 0.6185743763842435, 1.3426061469006845, -2.6898523405519335, -1.2997624793502054, -0.014491457910390242, -0.7531758443186563, 0.051972534063198135], \"xaxis\": \"x16\", \"yaxis\": \"y16\"}],                        {\"bargap\": 0.02, \"legend\": {\"bgcolor\": \"#F5F6F9\", \"font\": {\"color\": \"#4D5663\"}}, \"paper_bgcolor\": \"#F5F6F9\", \"plot_bgcolor\": \"#F5F6F9\", \"showlegend\": false, \"template\": {\"data\": {\"bar\": [{\"error_x\": {\"color\": \"#2a3f5f\"}, \"error_y\": {\"color\": \"#2a3f5f\"}, \"marker\": {\"line\": {\"color\": \"#E5ECF6\", \"width\": 0.5}}, \"type\": \"bar\"}], \"barpolar\": [{\"marker\": {\"line\": {\"color\": \"#E5ECF6\", \"width\": 0.5}}, \"type\": \"barpolar\"}], \"carpet\": [{\"aaxis\": {\"endlinecolor\": \"#2a3f5f\", \"gridcolor\": \"white\", \"linecolor\": \"white\", \"minorgridcolor\": \"white\", \"startlinecolor\": \"#2a3f5f\"}, \"baxis\": {\"endlinecolor\": \"#2a3f5f\", \"gridcolor\": \"white\", \"linecolor\": \"white\", \"minorgridcolor\": \"white\", \"startlinecolor\": \"#2a3f5f\"}, \"type\": \"carpet\"}], \"choropleth\": [{\"colorbar\": {\"outlinewidth\": 0, \"ticks\": \"\"}, \"type\": \"choropleth\"}], \"contour\": [{\"colorbar\": {\"outlinewidth\": 0, \"ticks\": \"\"}, \"colorscale\": [[0.0, \"#0d0887\"], [0.1111111111111111, \"#46039f\"], [0.2222222222222222, \"#7201a8\"], [0.3333333333333333, \"#9c179e\"], [0.4444444444444444, \"#bd3786\"], [0.5555555555555556, \"#d8576b\"], [0.6666666666666666, \"#ed7953\"], [0.7777777777777778, \"#fb9f3a\"], [0.8888888888888888, \"#fdca26\"], [1.0, \"#f0f921\"]], \"type\": \"contour\"}], \"contourcarpet\": [{\"colorbar\": {\"outlinewidth\": 0, \"ticks\": \"\"}, \"type\": \"contourcarpet\"}], \"heatmap\": [{\"colorbar\": {\"outlinewidth\": 0, \"ticks\": \"\"}, \"colorscale\": [[0.0, \"#0d0887\"], [0.1111111111111111, \"#46039f\"], [0.2222222222222222, \"#7201a8\"], [0.3333333333333333, \"#9c179e\"], [0.4444444444444444, \"#bd3786\"], [0.5555555555555556, \"#d8576b\"], [0.6666666666666666, \"#ed7953\"], [0.7777777777777778, \"#fb9f3a\"], [0.8888888888888888, \"#fdca26\"], [1.0, \"#f0f921\"]], \"type\": \"heatmap\"}], \"heatmapgl\": [{\"colorbar\": {\"outlinewidth\": 0, \"ticks\": \"\"}, \"colorscale\": [[0.0, \"#0d0887\"], [0.1111111111111111, \"#46039f\"], [0.2222222222222222, \"#7201a8\"], [0.3333333333333333, \"#9c179e\"], [0.4444444444444444, \"#bd3786\"], [0.5555555555555556, \"#d8576b\"], [0.6666666666666666, \"#ed7953\"], [0.7777777777777778, \"#fb9f3a\"], [0.8888888888888888, \"#fdca26\"], [1.0, \"#f0f921\"]], \"type\": \"heatmapgl\"}], \"histogram\": [{\"marker\": {\"colorbar\": {\"outlinewidth\": 0, \"ticks\": \"\"}}, \"type\": \"histogram\"}], \"histogram2d\": [{\"colorbar\": {\"outlinewidth\": 0, \"ticks\": \"\"}, \"colorscale\": [[0.0, \"#0d0887\"], [0.1111111111111111, \"#46039f\"], [0.2222222222222222, \"#7201a8\"], [0.3333333333333333, \"#9c179e\"], [0.4444444444444444, \"#bd3786\"], [0.5555555555555556, \"#d8576b\"], [0.6666666666666666, \"#ed7953\"], [0.7777777777777778, \"#fb9f3a\"], [0.8888888888888888, \"#fdca26\"], [1.0, \"#f0f921\"]], \"type\": \"histogram2d\"}], \"histogram2dcontour\": [{\"colorbar\": {\"outlinewidth\": 0, \"ticks\": \"\"}, \"colorscale\": [[0.0, \"#0d0887\"], [0.1111111111111111, \"#46039f\"], [0.2222222222222222, \"#7201a8\"], [0.3333333333333333, \"#9c179e\"], [0.4444444444444444, \"#bd3786\"], [0.5555555555555556, \"#d8576b\"], [0.6666666666666666, \"#ed7953\"], [0.7777777777777778, \"#fb9f3a\"], [0.8888888888888888, \"#fdca26\"], [1.0, \"#f0f921\"]], \"type\": \"histogram2dcontour\"}], \"mesh3d\": [{\"colorbar\": {\"outlinewidth\": 0, \"ticks\": \"\"}, \"type\": \"mesh3d\"}], \"parcoords\": [{\"line\": {\"colorbar\": {\"outlinewidth\": 0, \"ticks\": \"\"}}, \"type\": \"parcoords\"}], \"pie\": [{\"automargin\": true, \"type\": \"pie\"}], \"scatter\": [{\"marker\": {\"colorbar\": {\"outlinewidth\": 0, \"ticks\": \"\"}}, \"type\": \"scatter\"}], \"scatter3d\": [{\"line\": {\"colorbar\": {\"outlinewidth\": 0, \"ticks\": \"\"}}, \"marker\": {\"colorbar\": {\"outlinewidth\": 0, \"ticks\": \"\"}}, \"type\": \"scatter3d\"}], \"scattercarpet\": [{\"marker\": {\"colorbar\": {\"outlinewidth\": 0, \"ticks\": \"\"}}, \"type\": \"scattercarpet\"}], \"scattergeo\": [{\"marker\": {\"colorbar\": {\"outlinewidth\": 0, \"ticks\": \"\"}}, \"type\": \"scattergeo\"}], \"scattergl\": [{\"marker\": {\"colorbar\": {\"outlinewidth\": 0, \"ticks\": \"\"}}, \"type\": \"scattergl\"}], \"scattermapbox\": [{\"marker\": {\"colorbar\": {\"outlinewidth\": 0, \"ticks\": \"\"}}, \"type\": \"scattermapbox\"}], \"scatterpolar\": [{\"marker\": {\"colorbar\": {\"outlinewidth\": 0, \"ticks\": \"\"}}, \"type\": \"scatterpolar\"}], \"scatterpolargl\": [{\"marker\": {\"colorbar\": {\"outlinewidth\": 0, \"ticks\": \"\"}}, \"type\": \"scatterpolargl\"}], \"scatterternary\": [{\"marker\": {\"colorbar\": {\"outlinewidth\": 0, \"ticks\": \"\"}}, \"type\": \"scatterternary\"}], \"surface\": [{\"colorbar\": {\"outlinewidth\": 0, \"ticks\": \"\"}, \"colorscale\": [[0.0, \"#0d0887\"], [0.1111111111111111, \"#46039f\"], [0.2222222222222222, \"#7201a8\"], [0.3333333333333333, \"#9c179e\"], [0.4444444444444444, \"#bd3786\"], [0.5555555555555556, \"#d8576b\"], [0.6666666666666666, \"#ed7953\"], [0.7777777777777778, \"#fb9f3a\"], [0.8888888888888888, \"#fdca26\"], [1.0, \"#f0f921\"]], \"type\": \"surface\"}], \"table\": [{\"cells\": {\"fill\": {\"color\": \"#EBF0F8\"}, \"line\": {\"color\": \"white\"}}, \"header\": {\"fill\": {\"color\": \"#C8D4E3\"}, \"line\": {\"color\": \"white\"}}, \"type\": \"table\"}]}, \"layout\": {\"annotationdefaults\": {\"arrowcolor\": \"#2a3f5f\", \"arrowhead\": 0, \"arrowwidth\": 1}, \"autotypenumbers\": \"strict\", \"coloraxis\": {\"colorbar\": {\"outlinewidth\": 0, \"ticks\": \"\"}}, \"colorscale\": {\"diverging\": [[0, \"#8e0152\"], [0.1, \"#c51b7d\"], [0.2, \"#de77ae\"], [0.3, \"#f1b6da\"], [0.4, \"#fde0ef\"], [0.5, \"#f7f7f7\"], [0.6, \"#e6f5d0\"], [0.7, \"#b8e186\"], [0.8, \"#7fbc41\"], [0.9, \"#4d9221\"], [1, \"#276419\"]], \"sequential\": [[0.0, \"#0d0887\"], [0.1111111111111111, \"#46039f\"], [0.2222222222222222, \"#7201a8\"], [0.3333333333333333, \"#9c179e\"], [0.4444444444444444, \"#bd3786\"], [0.5555555555555556, \"#d8576b\"], [0.6666666666666666, \"#ed7953\"], [0.7777777777777778, \"#fb9f3a\"], [0.8888888888888888, \"#fdca26\"], [1.0, \"#f0f921\"]], \"sequentialminus\": [[0.0, \"#0d0887\"], [0.1111111111111111, \"#46039f\"], [0.2222222222222222, \"#7201a8\"], [0.3333333333333333, \"#9c179e\"], [0.4444444444444444, \"#bd3786\"], [0.5555555555555556, \"#d8576b\"], [0.6666666666666666, \"#ed7953\"], [0.7777777777777778, \"#fb9f3a\"], [0.8888888888888888, \"#fdca26\"], [1.0, \"#f0f921\"]]}, \"colorway\": [\"#636efa\", \"#EF553B\", \"#00cc96\", \"#ab63fa\", \"#FFA15A\", \"#19d3f3\", \"#FF6692\", \"#B6E880\", \"#FF97FF\", \"#FECB52\"], \"font\": {\"color\": \"#2a3f5f\"}, \"geo\": {\"bgcolor\": \"white\", \"lakecolor\": \"white\", \"landcolor\": \"#E5ECF6\", \"showlakes\": true, \"showland\": true, \"subunitcolor\": \"white\"}, \"hoverlabel\": {\"align\": \"left\"}, \"hovermode\": \"closest\", \"mapbox\": {\"style\": \"light\"}, \"paper_bgcolor\": \"white\", \"plot_bgcolor\": \"#E5ECF6\", \"polar\": {\"angularaxis\": {\"gridcolor\": \"white\", \"linecolor\": \"white\", \"ticks\": \"\"}, \"bgcolor\": \"#E5ECF6\", \"radialaxis\": {\"gridcolor\": \"white\", \"linecolor\": \"white\", \"ticks\": \"\"}}, \"scene\": {\"xaxis\": {\"backgroundcolor\": \"#E5ECF6\", \"gridcolor\": \"white\", \"gridwidth\": 2, \"linecolor\": \"white\", \"showbackground\": true, \"ticks\": \"\", \"zerolinecolor\": \"white\"}, \"yaxis\": {\"backgroundcolor\": \"#E5ECF6\", \"gridcolor\": \"white\", \"gridwidth\": 2, \"linecolor\": \"white\", \"showbackground\": true, \"ticks\": \"\", \"zerolinecolor\": \"white\"}, \"zaxis\": {\"backgroundcolor\": \"#E5ECF6\", \"gridcolor\": \"white\", \"gridwidth\": 2, \"linecolor\": \"white\", \"showbackground\": true, \"ticks\": \"\", \"zerolinecolor\": \"white\"}}, \"shapedefaults\": {\"line\": {\"color\": \"#2a3f5f\"}}, \"ternary\": {\"aaxis\": {\"gridcolor\": \"white\", \"linecolor\": \"white\", \"ticks\": \"\"}, \"baxis\": {\"gridcolor\": \"white\", \"linecolor\": \"white\", \"ticks\": \"\"}, \"bgcolor\": \"#E5ECF6\", \"caxis\": {\"gridcolor\": \"white\", \"linecolor\": \"white\", \"ticks\": \"\"}}, \"title\": {\"x\": 0.05}, \"xaxis\": {\"automargin\": true, \"gridcolor\": \"white\", \"linecolor\": \"white\", \"ticks\": \"\", \"title\": {\"standoff\": 15}, \"zerolinecolor\": \"white\", \"zerolinewidth\": 2}, \"yaxis\": {\"automargin\": true, \"gridcolor\": \"white\", \"linecolor\": \"white\", \"ticks\": \"\", \"title\": {\"standoff\": 15}, \"zerolinecolor\": \"white\", \"zerolinewidth\": 2}}}, \"title\": {\"font\": {\"color\": \"#4D5663\"}}, \"xaxis\": {\"anchor\": \"y\", \"domain\": [0.0, 0.2125], \"gridcolor\": \"#E1E5ED\", \"showgrid\": false, \"tickfont\": {\"color\": \"#4D5663\"}, \"title\": {\"font\": {\"color\": \"#4D5663\"}, \"text\": \"\"}, \"zerolinecolor\": \"#E1E5ED\"}, \"xaxis10\": {\"anchor\": \"y10\", \"domain\": [0.2625, 0.475], \"gridcolor\": \"#E1E5ED\", \"showgrid\": false, \"tickfont\": {\"color\": \"#4D5663\"}, \"title\": {\"font\": {\"color\": \"#4D5663\"}, \"text\": \"\"}, \"zerolinecolor\": \"#E1E5ED\"}, \"xaxis11\": {\"anchor\": \"y11\", \"domain\": [0.525, 0.7375], \"gridcolor\": \"#E1E5ED\", \"showgrid\": false, \"tickfont\": {\"color\": \"#4D5663\"}, \"title\": {\"font\": {\"color\": \"#4D5663\"}, \"text\": \"\"}, \"zerolinecolor\": \"#E1E5ED\"}, \"xaxis12\": {\"anchor\": \"y12\", \"domain\": [0.7875, 1.0], \"gridcolor\": \"#E1E5ED\", \"showgrid\": false, \"tickfont\": {\"color\": \"#4D5663\"}, \"title\": {\"font\": {\"color\": \"#4D5663\"}, \"text\": \"\"}, \"zerolinecolor\": \"#E1E5ED\"}, \"xaxis13\": {\"anchor\": \"y13\", \"domain\": [0.0, 0.2125], \"gridcolor\": \"#E1E5ED\", \"showgrid\": false, \"tickfont\": {\"color\": \"#4D5663\"}, \"title\": {\"font\": {\"color\": \"#4D5663\"}, \"text\": \"\"}, \"zerolinecolor\": \"#E1E5ED\"}, \"xaxis14\": {\"anchor\": \"y14\", \"domain\": [0.2625, 0.475], \"gridcolor\": \"#E1E5ED\", \"showgrid\": false, \"tickfont\": {\"color\": \"#4D5663\"}, \"title\": {\"font\": {\"color\": \"#4D5663\"}, \"text\": \"\"}, \"zerolinecolor\": \"#E1E5ED\"}, \"xaxis15\": {\"anchor\": \"y15\", \"domain\": [0.525, 0.7375], \"gridcolor\": \"#E1E5ED\", \"showgrid\": false, \"tickfont\": {\"color\": \"#4D5663\"}, \"title\": {\"font\": {\"color\": \"#4D5663\"}, \"text\": \"\"}, \"zerolinecolor\": \"#E1E5ED\"}, \"xaxis16\": {\"anchor\": \"y16\", \"domain\": [0.7875, 1.0], \"gridcolor\": \"#E1E5ED\", \"showgrid\": false, \"tickfont\": {\"color\": \"#4D5663\"}, \"title\": {\"font\": {\"color\": \"#4D5663\"}, \"text\": \"\"}, \"zerolinecolor\": \"#E1E5ED\"}, \"xaxis2\": {\"anchor\": \"y2\", \"domain\": [0.2625, 0.475], \"gridcolor\": \"#E1E5ED\", \"showgrid\": false, \"tickfont\": {\"color\": \"#4D5663\"}, \"title\": {\"font\": {\"color\": \"#4D5663\"}, \"text\": \"\"}, \"zerolinecolor\": \"#E1E5ED\"}, \"xaxis3\": {\"anchor\": \"y3\", \"domain\": [0.525, 0.7375], \"gridcolor\": \"#E1E5ED\", \"showgrid\": false, \"tickfont\": {\"color\": \"#4D5663\"}, \"title\": {\"font\": {\"color\": \"#4D5663\"}, \"text\": \"\"}, \"zerolinecolor\": \"#E1E5ED\"}, \"xaxis4\": {\"anchor\": \"y4\", \"domain\": [0.7875, 1.0], \"gridcolor\": \"#E1E5ED\", \"showgrid\": false, \"tickfont\": {\"color\": \"#4D5663\"}, \"title\": {\"font\": {\"color\": \"#4D5663\"}, \"text\": \"\"}, \"zerolinecolor\": \"#E1E5ED\"}, \"xaxis5\": {\"anchor\": \"y5\", \"domain\": [0.0, 0.2125], \"gridcolor\": \"#E1E5ED\", \"showgrid\": false, \"tickfont\": {\"color\": \"#4D5663\"}, \"title\": {\"font\": {\"color\": \"#4D5663\"}, \"text\": \"\"}, \"zerolinecolor\": \"#E1E5ED\"}, \"xaxis6\": {\"anchor\": \"y6\", \"domain\": [0.2625, 0.475], \"gridcolor\": \"#E1E5ED\", \"showgrid\": false, \"tickfont\": {\"color\": \"#4D5663\"}, \"title\": {\"font\": {\"color\": \"#4D5663\"}, \"text\": \"\"}, \"zerolinecolor\": \"#E1E5ED\"}, \"xaxis7\": {\"anchor\": \"y7\", \"domain\": [0.525, 0.7375], \"gridcolor\": \"#E1E5ED\", \"showgrid\": false, \"tickfont\": {\"color\": \"#4D5663\"}, \"title\": {\"font\": {\"color\": \"#4D5663\"}, \"text\": \"\"}, \"zerolinecolor\": \"#E1E5ED\"}, \"xaxis8\": {\"anchor\": \"y8\", \"domain\": [0.7875, 1.0], \"gridcolor\": \"#E1E5ED\", \"showgrid\": false, \"tickfont\": {\"color\": \"#4D5663\"}, \"title\": {\"font\": {\"color\": \"#4D5663\"}, \"text\": \"\"}, \"zerolinecolor\": \"#E1E5ED\"}, \"xaxis9\": {\"anchor\": \"y9\", \"domain\": [0.0, 0.2125], \"gridcolor\": \"#E1E5ED\", \"showgrid\": false, \"tickfont\": {\"color\": \"#4D5663\"}, \"title\": {\"font\": {\"color\": \"#4D5663\"}, \"text\": \"\"}, \"zerolinecolor\": \"#E1E5ED\"}, \"yaxis\": {\"anchor\": \"x\", \"domain\": [0.8025, 1.0], \"gridcolor\": \"#E1E5ED\", \"showgrid\": false, \"tickfont\": {\"color\": \"#4D5663\"}, \"title\": {\"font\": {\"color\": \"#4D5663\"}, \"text\": \"\"}, \"zerolinecolor\": \"#E1E5ED\"}, \"yaxis10\": {\"anchor\": \"x10\", \"domain\": [0.2675, 0.465], \"gridcolor\": \"#E1E5ED\", \"showgrid\": false, \"tickfont\": {\"color\": \"#4D5663\"}, \"title\": {\"font\": {\"color\": \"#4D5663\"}, \"text\": \"\"}, \"zerolinecolor\": \"#E1E5ED\"}, \"yaxis11\": {\"anchor\": \"x11\", \"domain\": [0.2675, 0.465], \"gridcolor\": \"#E1E5ED\", \"showgrid\": false, \"tickfont\": {\"color\": \"#4D5663\"}, \"title\": {\"font\": {\"color\": \"#4D5663\"}, \"text\": \"\"}, \"zerolinecolor\": \"#E1E5ED\"}, \"yaxis12\": {\"anchor\": \"x12\", \"domain\": [0.2675, 0.465], \"gridcolor\": \"#E1E5ED\", \"showgrid\": false, \"tickfont\": {\"color\": \"#4D5663\"}, \"title\": {\"font\": {\"color\": \"#4D5663\"}, \"text\": \"\"}, \"zerolinecolor\": \"#E1E5ED\"}, \"yaxis13\": {\"anchor\": \"x13\", \"domain\": [0.0, 0.1975], \"gridcolor\": \"#E1E5ED\", \"showgrid\": false, \"tickfont\": {\"color\": \"#4D5663\"}, \"title\": {\"font\": {\"color\": \"#4D5663\"}, \"text\": \"\"}, \"zerolinecolor\": \"#E1E5ED\"}, \"yaxis14\": {\"anchor\": \"x14\", \"domain\": [0.0, 0.1975], \"gridcolor\": \"#E1E5ED\", \"showgrid\": false, \"tickfont\": {\"color\": \"#4D5663\"}, \"title\": {\"font\": {\"color\": \"#4D5663\"}, \"text\": \"\"}, \"zerolinecolor\": \"#E1E5ED\"}, \"yaxis15\": {\"anchor\": \"x15\", \"domain\": [0.0, 0.1975], \"gridcolor\": \"#E1E5ED\", \"showgrid\": false, \"tickfont\": {\"color\": \"#4D5663\"}, \"title\": {\"font\": {\"color\": \"#4D5663\"}, \"text\": \"\"}, \"zerolinecolor\": \"#E1E5ED\"}, \"yaxis16\": {\"anchor\": \"x16\", \"domain\": [0.0, 0.1975], \"gridcolor\": \"#E1E5ED\", \"showgrid\": false, \"tickfont\": {\"color\": \"#4D5663\"}, \"title\": {\"font\": {\"color\": \"#4D5663\"}, \"text\": \"\"}, \"zerolinecolor\": \"#E1E5ED\"}, \"yaxis2\": {\"anchor\": \"x2\", \"domain\": [0.8025, 1.0], \"gridcolor\": \"#E1E5ED\", \"showgrid\": false, \"tickfont\": {\"color\": \"#4D5663\"}, \"title\": {\"font\": {\"color\": \"#4D5663\"}, \"text\": \"\"}, \"zerolinecolor\": \"#E1E5ED\"}, \"yaxis3\": {\"anchor\": \"x3\", \"domain\": [0.8025, 1.0], \"gridcolor\": \"#E1E5ED\", \"showgrid\": false, \"tickfont\": {\"color\": \"#4D5663\"}, \"title\": {\"font\": {\"color\": \"#4D5663\"}, \"text\": \"\"}, \"zerolinecolor\": \"#E1E5ED\"}, \"yaxis4\": {\"anchor\": \"x4\", \"domain\": [0.8025, 1.0], \"gridcolor\": \"#E1E5ED\", \"showgrid\": false, \"tickfont\": {\"color\": \"#4D5663\"}, \"title\": {\"font\": {\"color\": \"#4D5663\"}, \"text\": \"\"}, \"zerolinecolor\": \"#E1E5ED\"}, \"yaxis5\": {\"anchor\": \"x5\", \"domain\": [0.535, 0.7325], \"gridcolor\": \"#E1E5ED\", \"showgrid\": false, \"tickfont\": {\"color\": \"#4D5663\"}, \"title\": {\"font\": {\"color\": \"#4D5663\"}, \"text\": \"\"}, \"zerolinecolor\": \"#E1E5ED\"}, \"yaxis6\": {\"anchor\": \"x6\", \"domain\": [0.535, 0.7325], \"gridcolor\": \"#E1E5ED\", \"showgrid\": false, \"tickfont\": {\"color\": \"#4D5663\"}, \"title\": {\"font\": {\"color\": \"#4D5663\"}, \"text\": \"\"}, \"zerolinecolor\": \"#E1E5ED\"}, \"yaxis7\": {\"anchor\": \"x7\", \"domain\": [0.535, 0.7325], \"gridcolor\": \"#E1E5ED\", \"showgrid\": false, \"tickfont\": {\"color\": \"#4D5663\"}, \"title\": {\"font\": {\"color\": \"#4D5663\"}, \"text\": \"\"}, \"zerolinecolor\": \"#E1E5ED\"}, \"yaxis8\": {\"anchor\": \"x8\", \"domain\": [0.535, 0.7325], \"gridcolor\": \"#E1E5ED\", \"showgrid\": false, \"tickfont\": {\"color\": \"#4D5663\"}, \"title\": {\"font\": {\"color\": \"#4D5663\"}, \"text\": \"\"}, \"zerolinecolor\": \"#E1E5ED\"}, \"yaxis9\": {\"anchor\": \"x9\", \"domain\": [0.2675, 0.465], \"gridcolor\": \"#E1E5ED\", \"showgrid\": false, \"tickfont\": {\"color\": \"#4D5663\"}, \"title\": {\"font\": {\"color\": \"#4D5663\"}, \"text\": \"\"}, \"zerolinecolor\": \"#E1E5ED\"}},                        {\"showLink\": true, \"linkText\": \"Export to plot.ly\", \"plotlyServerURL\": \"https://plot.ly\", \"responsive\": true}                    ).then(function(){\n",
       "                            \n",
       "var gd = document.getElementById('c1c8dc86-00ae-4e5e-8828-13b35841476d');\n",
       "var x = new MutationObserver(function (mutations, observer) {{\n",
       "        var display = window.getComputedStyle(gd).display;\n",
       "        if (!display || display === 'none') {{\n",
       "            console.log([gd, 'removed!']);\n",
       "            Plotly.purge(gd);\n",
       "            observer.disconnect();\n",
       "        }}\n",
       "}});\n",
       "\n",
       "// Listen for the removal of the full notebook cells\n",
       "var notebookContainer = gd.closest('#notebook-container');\n",
       "if (notebookContainer) {{\n",
       "    x.observe(notebookContainer, {childList: true});\n",
       "}}\n",
       "\n",
       "// Listen for the clearing of the current output cell\n",
       "var outputEl = gd.closest('.output');\n",
       "if (outputEl) {{\n",
       "    x.observe(outputEl, {childList: true});\n",
       "}}\n",
       "\n",
       "                        })                };                });            </script>        </div>"
      ]
     },
     "metadata": {},
     "output_type": "display_data"
    }
   ],
   "source": [
    "df.scatter_matrix()"
   ]
  },
  {
   "cell_type": "code",
   "execution_count": null,
   "metadata": {},
   "outputs": [],
   "source": []
  }
 ],
 "metadata": {
  "kernelspec": {
   "display_name": "Python 3",
   "language": "python",
   "name": "python3"
  },
  "language_info": {
   "codemirror_mode": {
    "name": "ipython",
    "version": 3
   },
   "file_extension": ".py",
   "mimetype": "text/x-python",
   "name": "python",
   "nbconvert_exporter": "python",
   "pygments_lexer": "ipython3",
   "version": "3.8.5"
  }
 },
 "nbformat": 4,
 "nbformat_minor": 4
}
